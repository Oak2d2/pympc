{
 "cells": [
  {
   "cell_type": "code",
   "execution_count": 1,
   "metadata": {},
   "outputs": [],
   "source": [
    "# notebook settings\n",
    "%load_ext autoreload\n",
    "%autoreload 2\n",
    "\n",
    "# external imports\n",
    "import numpy as np\n",
    "import matplotlib.pyplot as plt\n",
    "from scipy.linalg import block_diag\n",
    "from itertools import product\n",
    "\n",
    "# internal imports\n",
    "from pympc.geometry.polyhedron import Polyhedron"
   ]
  },
  {
   "cell_type": "code",
   "execution_count": 10,
   "metadata": {
    "collapsed": true
   },
   "outputs": [],
   "source": [
    "c_list_1 = [\n",
    "    np.array([2.,2.]),\n",
    "    np.array([8.,2.])\n",
    "]\n",
    "r_list_1 = [\n",
    "    np.array([2.,2.]),\n",
    "    np.array([2.,2.]),\n",
    "]\n",
    "c_list_2 = [\n",
    "    np.array([5.,-1.]),\n",
    "    np.array([4.5,3.])\n",
    "]\n",
    "r_list_2 = [\n",
    "    np.array([2.,2.]),\n",
    "    np.array([1.,1.]),\n",
    "]"
   ]
  },
  {
   "cell_type": "code",
   "execution_count": 11,
   "metadata": {
    "collapsed": true
   },
   "outputs": [],
   "source": [
    "def cubes(c_list, r_list):\n",
    "    return [Polyhedron.from_bounds(c_list[i]-r_list[i], c_list[i]+r_list[i]) for i in range(len(c_list))]"
   ]
  },
  {
   "cell_type": "code",
   "execution_count": 12,
   "metadata": {
    "collapsed": true
   },
   "outputs": [],
   "source": [
    "def convex_hull(polytopes):\n",
    "    n = len(polytopes)\n",
    "    nx = polytopes[0].A.shape[1]\n",
    "    A = np.vstack((\n",
    "        np.hstack([np.eye(nx)] + [-np.eye(nx)]*n + [np.zeros((nx, n))]),\n",
    "        np.hstack([-np.eye(nx)] + [np.eye(nx)]*n + [np.zeros((nx, n))]),\n",
    "        np.hstack((np.zeros((1, nx*(n+1))), np.ones((1, n)))),\n",
    "        np.hstack((np.zeros((1, nx*(n+1))), -np.ones((1, n)))),\n",
    "        np.hstack((\n",
    "            np.zeros((sum([polytopes[i].A.shape[0] for i in range(n)]),nx)),\n",
    "            block_diag(*[polytopes[i].A for i in range(n)]),\n",
    "            block_diag(*[-np.vstack(polytopes[i].b) for i in range(n)])\n",
    "        ))\n",
    "    ))\n",
    "    b = np.concatenate((\n",
    "        np.zeros(2*nx),\n",
    "        np.ones(1),\n",
    "        -np.ones(1),\n",
    "        np.zeros(sum([polytopes[i].A.shape[0] for i in range(n)]))\n",
    "    ))\n",
    "    return Polyhedron(A,b)"
   ]
  },
  {
   "cell_type": "code",
   "execution_count": 13,
   "metadata": {
    "collapsed": true
   },
   "outputs": [],
   "source": [
    "cubes_1 = cubes(c_list_1, r_list_1)\n",
    "cubes_2 = cubes(c_list_2, r_list_2)"
   ]
  },
  {
   "cell_type": "code",
   "execution_count": 14,
   "metadata": {
    "collapsed": true
   },
   "outputs": [],
   "source": [
    "ch_1 = convex_hull(cubes_1)\n",
    "ch_2 = convex_hull(cubes_2)\n",
    "ch_1_fs = ch_1.project_to([0,1])\n",
    "ch_2_fs = ch_2.project_to([0,1])\n",
    "ch_loose = ch_1_fs.intersection(ch_2_fs)"
   ]
  },
  {
   "cell_type": "code",
   "execution_count": 15,
   "metadata": {
    "collapsed": true
   },
   "outputs": [],
   "source": [
    "intersections = [c1.intersection(c2) for (c1, c2) in product(cubes_1, cubes_2)]\n",
    "intersections = [cube for cube in intersections if not cube.empty]\n",
    "# c_list_intrs = [c.center for c in intersections]\n",
    "# r_list_intrs = [c.radius for c in intersections]\n",
    "ch_fs = convex_hull(intersections)\n",
    "ch_tight = ch_fs.project_to([0,1])"
   ]
  },
  {
   "cell_type": "code",
   "execution_count": 16,
   "metadata": {
    "collapsed": true
   },
   "outputs": [],
   "source": [
    "nx = 2\n",
    "n = len(c_list_1)\n",
    "ch_cut = Polyhedron(np.empty((0, nx + nx*n*n + n*n)), np.empty(0))\n",
    "ch_cut.add_inequality(ch_1.A, ch_1.b, indices=range(nx + nx*n + n))\n",
    "ch_cut.add_inequality(ch_2.A, ch_2.b, indices=range(nx) + range(nx + nx*n + n, nx + nx*n*n + n*n))\n",
    "ch_cut.add_inequality(np.array([[1.,1.]]), np.ones(1), indices=[7,13])\n",
    "ch_cut_fs = ch_cut.project_to([0,1])"
   ]
  },
  {
   "cell_type": "code",
   "execution_count": 17,
   "metadata": {},
   "outputs": [
    {
     "data": {
      "image/png": "[encoded data removed]",
      "text/plain": [
       "<Figure size 432x288 with 1 Axes>"
      ]
     },
     "metadata": {},
     "output_type": "display_data"
    }
   ],
   "source": [
    "for c in cubes_1:\n",
    "    c.plot(facecolor='b')\n",
    "for c in cubes_2:\n",
    "    c.plot(facecolor='r')\n",
    "ch_loose.plot(alpha=.8, facecolor='w')\n",
    "ch_cut_fs.plot(alpha=.6, facecolor='c')\n",
    "ch_tight.plot(alpha=.4, facecolor='g')"
   ]
  }
 ],
 "metadata": {
  "kernelspec": {
   "display_name": "Python 2",
   "language": "python",
   "name": "python2"
  },
  "language_info": {
   "codemirror_mode": {
    "name": "ipython",
    "version": 2
   },
   "file_extension": ".py",
   "mimetype": "text/x-python",
   "name": "python",
   "nbconvert_exporter": "python",
   "pygments_lexer": "ipython2",
   "version": "2.7.15"
  }
 },
 "nbformat": 4,
 "nbformat_minor": 2
}
