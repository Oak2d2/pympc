{
 "cells": [
  {
   "cell_type": "code",
   "execution_count": 1,
   "metadata": {},
   "outputs": [],
   "source": [
    "# external imports\n",
    "import numpy as np\n",
    "import gurobipy as grb"
   ]
  },
  {
   "cell_type": "code",
   "execution_count": 20,
   "metadata": {},
   "outputs": [],
   "source": [
    "def add_variables(model, n, lb=None, **kwargs):\n",
    "    \"\"\"\n",
    "    Adds n variables to the Gurobi model.\n",
    "    By default Gurobi sets the lower bouns to zero, here the default is -infinity.\n",
    "\n",
    "    Arguments\n",
    "    ----------\n",
    "    model : instance of gurobipy.Model\n",
    "        Mathematical program.\n",
    "    n : int\n",
    "        Number of optimization variables to be added to the program.\n",
    "    lb : list of floats\n",
    "        Lower bound on the optimization variables.\n",
    "\n",
    "    Returns\n",
    "    ----------\n",
    "    x_np : numpy.ndarray\n",
    "        Optimization variables added to the program, organized in a numpy array.\n",
    "    \"\"\"\n",
    "\n",
    "    # reset the lower bound from 0 to -infinity\n",
    "    if lb is None:\n",
    "        lb = [-grb.GRB.INFINITY] * n\n",
    "\n",
    "    # create optimization variables and organize numpy array\n",
    "    x = model.addVars(n, lb=lb, **kwargs)\n",
    "    x_np = np.array([xi for xi in x.values()])\n",
    "\n",
    "    # update model to be sure that new variables are immediately visible\n",
    "    model.update()\n",
    "\n",
    "    return x_np"
   ]
  },
  {
   "cell_type": "code",
   "execution_count": 29,
   "metadata": {},
   "outputs": [],
   "source": [
    "def add_linear_inequality(model, x, y):\n",
    "    \"\"\"\n",
    "    Adds the linear inequality x <= y to the Gurobi model.\n",
    "\n",
    "    Arguments\n",
    "    ----------\n",
    "    x : numpy array of gurobipy.LinExpr\n",
    "        Left hand side of the inequality.\n",
    "    y : numpy array of gurobipy.LinExpr\n",
    "        Right hand side of the inequality.\n",
    "\n",
    "    Returns\n",
    "    ----------\n",
    "    x_np : numpy.ndarray\n",
    "        Optimization variables added to the program, organized in a numpy array.\n",
    "    \"\"\"\n",
    "    assert x.size == y.size\n",
    "    c = [model.addConstr(x[k] - y[k] <= 0.) for k in range(x.size)] # sometimes x is a vector of floats: gurobi raises errors if variables are not in the lhs\n",
    "\n",
    "    # update model to be sure that new variables are immediately visible\n",
    "    model.update()\n",
    "\n",
    "    return c"
   ]
  },
  {
   "cell_type": "code",
   "execution_count": 30,
   "metadata": {},
   "outputs": [],
   "source": [
    "model = grb.Model()\n",
    "x = add_variables(model, 3)\n",
    "c = add_linear_inequality(model, np.eye(3).dot(x), np.zeros(3))"
   ]
  },
  {
   "cell_type": "code",
   "execution_count": 31,
   "metadata": {},
   "outputs": [
    {
     "data": {
      "text/plain": [
       "[<gurobi.Constr R0>, <gurobi.Constr R1>, <gurobi.Constr R2>]"
      ]
     },
     "execution_count": 31,
     "metadata": {},
     "output_type": "execute_result"
    }
   ],
   "source": [
    "c"
   ]
  },
  {
   "cell_type": "code",
   "execution_count": null,
   "metadata": {},
   "outputs": [],
   "source": []
  }
 ],
 "metadata": {
  "kernelspec": {
   "display_name": "Python 2",
   "language": "python",
   "name": "python2"
  },
  "language_info": {
   "codemirror_mode": {
    "name": "ipython",
    "version": 2
   },
   "file_extension": ".py",
   "mimetype": "text/x-python",
   "name": "python",
   "nbconvert_exporter": "python",
   "pygments_lexer": "ipython2",
   "version": "2.7.15"
  }
 },
 "nbformat": 4,
 "nbformat_minor": 2
}
