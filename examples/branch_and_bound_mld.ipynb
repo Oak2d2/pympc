{
 "cells": [
  {
   "cell_type": "code",
   "execution_count": 1,
   "metadata": {},
   "outputs": [],
   "source": [
    "# notebook settings\n",
    "%load_ext autoreload\n",
    "%autoreload 2\n",
    "\n",
    "# external imports\n",
    "import numpy as np\n",
    "import sympy as sp\n",
    "import matplotlib.pyplot as plt\n",
    "\n",
    "# internal imports\n",
    "from pympc.control.hybrid_benchmark.mixed_logical_dynamical_system import MixedLogicalDynamicalSystem\n",
    "from pympc.control.hybrid_benchmark.controller_mld import HybridModelPredictiveController\n",
    "from pympc.plot import plot_input_sequence, plot_state_trajectory, plot_output_trajectory"
   ]
  },
  {
   "cell_type": "code",
   "execution_count": 2,
   "metadata": {},
   "outputs": [],
   "source": [
    "# system numeric parameters\n",
    "mc = 1.\n",
    "mp = 1.\n",
    "l = 1.\n",
    "d = 1.\n",
    "k = 100.\n",
    "g = 10.\n",
    "h = .05\n",
    "\n",
    "# state bounds\n",
    "x_max = np.array([d, np.pi/6., 7., 5.])\n",
    "x_min = - x_max\n",
    "\n",
    "# input domain\n",
    "u_max = np.array([20.])\n",
    "u_min = - u_max"
   ]
  },
  {
   "cell_type": "code",
   "execution_count": 3,
   "metadata": {},
   "outputs": [],
   "source": [
    "# symbolic states\n",
    "x = sp.Matrix(sp.symbols('q t qd td'))\n",
    "\n",
    "# symbolic continuous inputs\n",
    "u = sp.Matrix([sp.symbols('u')])\n",
    "\n",
    "# symbolic binary inputs\n",
    "ub = sp.zeros(0,1)\n",
    "\n",
    "# symbolic forces (left, right)\n",
    "f = sp.Matrix(sp.symbols('fl fr'))\n",
    "\n",
    "# symbolic auxiliary binaries (left, right)\n",
    "b = sp.Matrix(sp.symbols('bl br'))\n",
    "\n",
    "# dynamics\n",
    "x_next = sp.Matrix([\n",
    "    x[0] + h*x[2],\n",
    "    x[1] + h*x[3],\n",
    "    x[2] + h*((g*mp)/mc*x[1] + u[0]/mc),\n",
    "    x[3] + h*(g*(mc+mp)/(l*mc)*x[1] + u[0]/(l*mc) - f[0]/(l*mp) + f[1]/(l*mp))\n",
    "])"
   ]
  },
  {
   "cell_type": "code",
   "execution_count": 4,
   "metadata": {},
   "outputs": [],
   "source": [
    "# state bounds\n",
    "state_upper_bound = x - x_max.reshape(x_max.size, 1)\n",
    "state_lower_bound = x_min.reshape(x_min.size, 1) - x\n",
    "\n",
    "# input bounds\n",
    "input_upper_bound = u - u_max.reshape(u_max.size, 1)\n",
    "input_lower_bound = u_min.reshape(u_min.size, 1) - u\n",
    "\n",
    "# contact left wall (big-M method)\n",
    "# positive penetration: - d - x[0] + l*x[1]\n",
    "left_force = sp.Matrix([\n",
    "    - f[0],\n",
    "    k*(- d - x[0] + l*x[1]) - f[0],\n",
    "    f[0] - b[0]*k*(- d - x_min[0] + l*x_max[1]),\n",
    "    f[0] - k*(- d - x[0] + l*x[1]) + (1. - b[0])*k*(- d - x_max[0] + l*x_min[1])\n",
    "])\n",
    "\n",
    "# contact right wall (big-M method)\n",
    "# positive penetration: x[0] - l*x[1] - d\n",
    "right_force = sp.Matrix([\n",
    "    - f[1],\n",
    "    k*(x[0] - l*x[1] - d) - f[1],\n",
    "    f[1] - b[1]*k*(x_max[0] - l*x_min[1] - d),\n",
    "    f[1] - k*(x[0] - l*x[1] - d) + (1. - b[1])*k*(x_min[0] - l*x_max[1] - d)\n",
    "])\n",
    "\n",
    "# gather constraints\n",
    "constraints = sp.Matrix([\n",
    "    state_upper_bound,\n",
    "    state_lower_bound,\n",
    "    input_upper_bound,\n",
    "    input_lower_bound,\n",
    "    left_force,\n",
    "    right_force\n",
    "])"
   ]
  },
  {
   "cell_type": "code",
   "execution_count": 5,
   "metadata": {},
   "outputs": [],
   "source": [
    "# construct MLD system\n",
    "variables = {'x':x, 'uc':u, 'ub':ub, 'sc':f, 'sb':b}\n",
    "MLD = MixedLogicalDynamicalSystem.from_symbolic(variables, x_next, constraints)"
   ]
  },
  {
   "cell_type": "code",
   "execution_count": 43,
   "metadata": {},
   "outputs": [],
   "source": [
    "# controller parameters\n",
    "N = 50\n",
    "weight_matrices = {}\n",
    "weight_matrices['Q'] = 10.*np.eye(MLD.nx)*h/2.\n",
    "weight_matrices['R'] = .1*np.eye(MLD.nuc)*h/2.\n",
    "weight_matrices['P'] = weight_matrices['Q']\n",
    "\n",
    "# hybrid controller\n",
    "controller = HybridModelPredictiveController(MLD, N, weight_matrices)"
   ]
  },
  {
   "cell_type": "code",
   "execution_count": 44,
   "metadata": {},
   "outputs": [],
   "source": [
    "x0 = np.array([0., 0., 2.5, 0.])"
   ]
  },
  {
   "cell_type": "code",
   "execution_count": 46,
   "metadata": {},
   "outputs": [
    {
     "name": "stdout",
     "output_type": "stream",
     "text": [
      "|     Updates    |     Time (s)   |    Nodes (#)   |   Lower bound  |   Upper bound  |\n",
      " ---------------- ---------------- ---------------- ---------------- ----------------\n",
      "  Root node        0.082            1                4.508            inf             \n",
      "                   3.100            52               26.425           inf             \n",
      "                   6.111            104              35.928           inf             \n",
      "                   9.129            154              48.412           inf             \n",
      "                   12.180           205              59.148           inf             \n",
      "                   15.229           257              62.899           inf             \n",
      "                   18.241           307              63.515           inf             \n",
      "  New incumbent    19.207           324              63.516           63.516          \n",
      "  Solution found   19.273           325              63.516           63.516          \n",
      "\n",
      "Explored 325 nodes in 19.273 seconds: optimal solution found with objective 63.516.\n"
     ]
    }
   ],
   "source": [
    "sol, leaves = controller.feedforward(x0, tree_file_name='tau_eq_0')"
   ]
  },
  {
   "cell_type": "code",
   "execution_count": 52,
   "metadata": {},
   "outputs": [
    {
     "name": "stdout",
     "output_type": "stream",
     "text": [
      "[ 0.01624345 -0.00611756 -0.00528172 -0.01072969]\n"
     ]
    }
   ],
   "source": [
    "np.random.seed(1)\n",
    "e_max = 0.01\n",
    "e_0 = e_max * np.random.randn(MLD.nx)\n",
    "x_1 = sol['primal']['x'][1] + e_0\n",
    "print e_0"
   ]
  },
  {
   "cell_type": "code",
   "execution_count": 53,
   "metadata": {},
   "outputs": [],
   "source": [
    "stage_variables = {\n",
    "    'x_0' : sol['primal']['x'][0],\n",
    "    'uc_0' : sol['primal']['uc'][0],\n",
    "    'ub_0' : sol['primal']['ub'][0],\n",
    "    'sc_0' : sol['primal']['sc'][0],\n",
    "    'sb_0' : sol['primal']['sb'][0],\n",
    "    'e_0' : e_0\n",
    "}\n",
    "warm_start = controller.construct_warm_start(leaves, stage_variables)"
   ]
  },
  {
   "cell_type": "code",
   "execution_count": 54,
   "metadata": {},
   "outputs": [
    {
     "name": "stdout",
     "output_type": "stream",
     "text": [
      "Loaded warm start with 161 nodes. Lower bound provided by the warm start is 49.869.\n",
      "|     Updates    |     Time (s)   |    Nodes (#)   |   Lower bound  |   Upper bound  |\n",
      " ---------------- ---------------- ---------------- ---------------- ----------------\n",
      "  Root node        0.095            1                50.177           inf             \n",
      "                   3.146            45               64.946           inf             \n",
      "                   6.187            91               65.282           inf             \n",
      "                   9.207            134              65.477           inf             \n",
      "                   12.271           180              65.699           inf             \n",
      "  New incumbent    14.699           216              65.773           65.773          \n",
      "  Solution found   14.779           217              65.773           65.773          \n",
      "\n",
      "Explored 217 nodes in 14.779 seconds: optimal solution found with objective 65.773.\n"
     ]
    }
   ],
   "source": [
    "sol_1_ws, leaves_1_ws = controller.feedforward(x_1, tree_file_name='tau_eq_0_ws', warm_start=warm_start)"
   ]
  },
  {
   "cell_type": "code",
   "execution_count": 55,
   "metadata": {},
   "outputs": [
    {
     "name": "stdout",
     "output_type": "stream",
     "text": [
      "|     Updates    |     Time (s)   |    Nodes (#)   |   Lower bound  |   Upper bound  |\n",
      " ---------------- ---------------- ---------------- ---------------- ----------------\n",
      "  Root node        0.085            1                10.551           inf             \n",
      "                   3.153            44               26.049           inf             \n",
      "                   6.198            90               32.687           inf             \n",
      "                   9.238            134              41.265           inf             \n",
      "                   12.295           176              51.610           inf             \n",
      "                   15.352           220              60.685           inf             \n",
      "                   18.396           265              64.193           inf             \n",
      "                   21.425           310              65.164           inf             \n",
      "                   24.452           351              65.371           inf             \n",
      "                   27.530           396              65.538           inf             \n",
      "                   30.531           440              65.699           inf             \n",
      "                   33.568           485              65.763           inf             \n",
      "  New incumbent    35.424           512              65.773           65.773          \n",
      "  Solution found   35.490           513              65.773           65.773          \n",
      "\n",
      "Explored 513 nodes in 35.490 seconds: optimal solution found with objective 65.773.\n"
     ]
    }
   ],
   "source": [
    "sol_1, leaves_1 = controller.feedforward(x_1, tree_file_name='tau_eq_1')"
   ]
  },
  {
   "cell_type": "code",
   "execution_count": 17,
   "metadata": {},
   "outputs": [
    {
     "data": {
      "image/png": "[encoded data removed]",
      "text/plain": [
       "<Figure size 432x288 with 4 Axes>"
      ]
     },
     "metadata": {
      "needs_background": "light"
     },
     "output_type": "display_data"
    }
   ],
   "source": [
    "plot_input_sequence(sol['primal']['uc'], h, (u_min, u_max))\n",
    "plt.savefig('input.pdf')\n",
    "plot_state_trajectory(sol['primal']['x'], h, (x_min, x_max))\n",
    "plt.savefig('state.pdf')"
   ]
  },
  {
   "cell_type": "code",
   "execution_count": null,
   "metadata": {},
   "outputs": [],
   "source": [
    "plot_input_sequence(sol['primal']['sc'], h)\n",
    "# plt.savefig('forces.pdf')"
   ]
  },
  {
   "cell_type": "code",
   "execution_count": null,
   "metadata": {},
   "outputs": [],
   "source": [
    "plot_input_sequence(sol['primal']['sb'], h)\n",
    "# plt.savefig('binaries.pdf')"
   ]
  },
  {
   "cell_type": "code",
   "execution_count": null,
   "metadata": {},
   "outputs": [],
   "source": [
    "# output (horizontal position of the tip of the pole)\n",
    "C = np.array([[1., -l, 0., 0.]])\n",
    "y_min = np.array([-d])\n",
    "y_max = np.array([d])\n",
    "plot_output_trajectory(C, sol['primal']['x'], h, (y_min, y_max))\n",
    "plt.savefig('output.pdf')"
   ]
  },
  {
   "cell_type": "code",
   "execution_count": null,
   "metadata": {},
   "outputs": [],
   "source": []
  },
  {
   "cell_type": "code",
   "execution_count": null,
   "metadata": {},
   "outputs": [],
   "source": [
    "from collections import OrderedDict\n",
    "ident = OrderedDict([(('s', 0, 0), 0.0), (('s', 0, 1), 0.0)])"
   ]
  },
  {
   "cell_type": "code",
   "execution_count": null,
   "metadata": {},
   "outputs": [],
   "source": [
    "sol = controller.solve_relaxation(x0, ident)[3]"
   ]
  },
  {
   "cell_type": "code",
   "execution_count": null,
   "metadata": {},
   "outputs": [],
   "source": [
    "sol['primal']['sb_0']"
   ]
  },
  {
   "cell_type": "code",
   "execution_count": null,
   "metadata": {},
   "outputs": [],
   "source": [
    "min(np.concatenate([sol[3]['dual']['lb_s_'+str(t)] for t in range(N)]))"
   ]
  },
  {
   "cell_type": "code",
   "execution_count": null,
   "metadata": {},
   "outputs": [],
   "source": [
    "# print np.max(np.concatenate([v for v in sol['dual'].values()]))"
   ]
  },
  {
   "cell_type": "code",
   "execution_count": null,
   "metadata": {},
   "outputs": [],
   "source": [
    "[sol['dual']['lb_s_%d'%t] for t in range(N)]\n",
    "[np.concatenate((sol['dual']['lb_u_%d'%t], sol['dual']['lb_s_%d'%t])) for t in range(N)]"
   ]
  },
  {
   "cell_type": "code",
   "execution_count": null,
   "metadata": {},
   "outputs": [],
   "source": [
    "import time\n",
    "import meshcat\n",
    "import meshcat.geometry as g\n",
    "import meshcat.transformations as tf"
   ]
  },
  {
   "cell_type": "code",
   "execution_count": null,
   "metadata": {},
   "outputs": [],
   "source": [
    "vis = meshcat.Visualizer()"
   ]
  },
  {
   "cell_type": "code",
   "execution_count": null,
   "metadata": {},
   "outputs": [],
   "source": [
    "# cart-pole\n",
    "cart_pole = vis[\"cart_pole\"]\n",
    "\n",
    "# cart\n",
    "cart = cart_pole[\"cart\"]\n",
    "cart.set_object(g.Box([.3*l, .3*l, .3*l]), g.MeshLambertMaterial(color=0xff2222))\n",
    "\n",
    "# pivot\n",
    "pivot = cart[\"pivot\"]\n",
    "pivot.set_transform(tf.rotation_matrix(np.pi/2, [1, 0., 0.]))\n",
    "\n",
    "# pole\n",
    "pole = pivot[\"pole\"]\n",
    "pole.set_object(g.Box([.05*l, l, .05*l]), g.MeshLambertMaterial(color=0x2222ff))\n",
    "pole.set_transform(tf.translation_matrix([0., .5, 0.]))\n",
    "\n",
    "# left wall\n",
    "left_wall = vis[\"left_wall\"]\n",
    "left_wall.set_object(g.Box([l, .05*l, l]), g.MeshLambertMaterial(color=0x22ff22))\n",
    "left_wall.set_transform(tf.translation_matrix([0., -d, l]))\n",
    "\n",
    "# right wall\n",
    "right_wall = vis[\"right_wall\"]\n",
    "right_wall.set_object(g.Box([l, .05*l, l]), g.MeshLambertMaterial(color=0x22ff22))\n",
    "right_wall.set_transform(tf.translation_matrix([0., d, l]))"
   ]
  },
  {
   "cell_type": "code",
   "execution_count": null,
   "metadata": {},
   "outputs": [],
   "source": [
    "# visualization function\n",
    "def visualize_cart_pole(x):\n",
    "    cart.set_transform(tf.translation_matrix([0, x[0], 0]))\n",
    "    pivot.set_transform(tf.rotation_matrix(x[1] + np.pi/2, [1, 0, 0]))\n",
    "vis.jupyter_cell()"
   ]
  },
  {
   "cell_type": "code",
   "execution_count": null,
   "metadata": {},
   "outputs": [],
   "source": [
    "# animation\n",
    "for t in range(N):\n",
    "    visualize_cart_pole(sol['primal']['x'][t])\n",
    "    time.sleep(h)"
   ]
  },
  {
   "cell_type": "code",
   "execution_count": null,
   "metadata": {},
   "outputs": [],
   "source": []
  }
 ],
 "metadata": {
  "kernelspec": {
   "display_name": "Python 2",
   "language": "python",
   "name": "python2"
  },
  "language_info": {
   "codemirror_mode": {
    "name": "ipython",
    "version": 2
   },
   "file_extension": ".py",
   "mimetype": "text/x-python",
   "name": "python",
   "nbconvert_exporter": "python",
   "pygments_lexer": "ipython2",
   "version": "2.7.15"
  }
 },
 "nbformat": 4,
 "nbformat_minor": 2
}
