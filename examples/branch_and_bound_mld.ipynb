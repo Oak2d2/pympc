{
 "cells": [
  {
   "cell_type": "code",
   "execution_count": null,
   "metadata": {},
   "outputs": [],
   "source": [
    "# notebook settings\n",
    "%load_ext autoreload\n",
    "%autoreload 2\n",
    "\n",
    "# external imports\n",
    "import numpy as np\n",
    "import sympy as sp\n",
    "import matplotlib.pyplot as plt\n",
    "\n",
    "# internal imports\n",
    "from pympc.control.hybrid_benchmark.mixed_logical_dynamical_system import MixedLogicalDynamicalSystem\n",
    "from pympc.control.hybrid_benchmark.controller_mld import HybridModelPredictiveController\n",
    "from pympc.plot import plot_input_sequence, plot_state_trajectory, plot_output_trajectory"
   ]
  },
  {
   "cell_type": "code",
   "execution_count": null,
   "metadata": {},
   "outputs": [],
   "source": [
    "# system numeric parameters\n",
    "mc = 1.\n",
    "mp = 1.\n",
    "l = 1.\n",
    "d = 1.\n",
    "k = 100.\n",
    "g = 10.\n",
    "h = .05\n",
    "\n",
    "# state bounds\n",
    "x_max = np.array([d, np.pi/6., 7., 5.])\n",
    "x_min = - x_max\n",
    "\n",
    "# input domain\n",
    "u_max = np.array([20.])\n",
    "u_min = - u_max"
   ]
  },
  {
   "cell_type": "code",
   "execution_count": null,
   "metadata": {},
   "outputs": [],
   "source": [
    "# symbolic states\n",
    "x = sp.Matrix(sp.symbols('q t qd td'))\n",
    "\n",
    "# symbolic continuous inputs\n",
    "u = sp.Matrix([sp.symbols('u')])\n",
    "\n",
    "# symbolic binary inputs\n",
    "ub = sp.zeros(0,1)\n",
    "\n",
    "# symbolic forces (left, right)\n",
    "f = sp.Matrix(sp.symbols('fl fr'))\n",
    "\n",
    "# symbolic auxiliary binaries (left, right)\n",
    "b = sp.Matrix(sp.symbols('bl br'))\n",
    "\n",
    "# dynamics\n",
    "x_next = sp.Matrix([\n",
    "    x[0] + h*x[2],\n",
    "    x[1] + h*x[3],\n",
    "    x[2] + h*((g*mp)/mc*x[1] + u[0]/mc),\n",
    "    x[3] + h*(g*(mc+mp)/(l*mc)*x[1] + u[0]/(l*mc) - f[0]/(l*mp) + f[1]/(l*mp))\n",
    "])"
   ]
  },
  {
   "cell_type": "code",
   "execution_count": null,
   "metadata": {},
   "outputs": [],
   "source": [
    "# state bounds\n",
    "state_upper_bound = x - x_max.reshape(x_max.size, 1)\n",
    "state_lower_bound = x_min.reshape(x_min.size, 1) - x\n",
    "\n",
    "# input bounds\n",
    "input_upper_bound = u - u_max.reshape(u_max.size, 1)\n",
    "input_lower_bound = u_min.reshape(u_min.size, 1) - u\n",
    "\n",
    "# contact left wall (big-M method)\n",
    "# positive penetration: - d - x[0] + l*x[1]\n",
    "left_force = sp.Matrix([\n",
    "    - f[0],\n",
    "    k*(- d - x[0] + l*x[1]) - f[0],\n",
    "    f[0] - b[0]*k*(- d - x_min[0] + l*x_max[1]),\n",
    "    f[0] - k*(- d - x[0] + l*x[1]) + (1. - b[0])*k*(- d - x_max[0] + l*x_min[1])\n",
    "])\n",
    "\n",
    "# contact right wall (big-M method)\n",
    "# positive penetration: x[0] - l*x[1] - d\n",
    "right_force = sp.Matrix([\n",
    "    - f[1],\n",
    "    k*(x[0] - l*x[1] - d) - f[1],\n",
    "    f[1] - b[1]*k*(x_max[0] - l*x_min[1] - d),\n",
    "    f[1] - k*(x[0] - l*x[1] - d) + (1. - b[1])*k*(x_min[0] - l*x_max[1] - d)\n",
    "])\n",
    "\n",
    "# gather constraints\n",
    "constraints = sp.Matrix([\n",
    "    state_upper_bound,\n",
    "    state_lower_bound,\n",
    "    input_upper_bound,\n",
    "    input_lower_bound,\n",
    "    left_force,\n",
    "    right_force\n",
    "])"
   ]
  },
  {
   "cell_type": "code",
   "execution_count": null,
   "metadata": {},
   "outputs": [],
   "source": [
    "# construct MLD system\n",
    "variables = {'x':x, 'uc':u, 'ub':ub, 'sc':f, 'sb':b}\n",
    "MLD = MixedLogicalDynamicalSystem.from_symbolic(variables, x_next, constraints)"
   ]
  },
  {
   "cell_type": "code",
   "execution_count": null,
   "metadata": {},
   "outputs": [],
   "source": [
    "# controller parameters\n",
    "N = 20\n",
    "Q = 10.*np.eye(MLD.nx)*h/2.\n",
    "R = .1*np.eye(MLD.nuc)*h/2.\n",
    "P = Q\n",
    "\n",
    "# hybrid controller\n",
    "controller = HybridModelPredictiveController(MLD, N, P, Q, R)"
   ]
  },
  {
   "cell_type": "code",
   "execution_count": null,
   "metadata": {},
   "outputs": [],
   "source": [
    "x0 = np.array([0., 0., 2.5, 0.])"
   ]
  },
  {
   "cell_type": "code",
   "execution_count": null,
   "metadata": {},
   "outputs": [],
   "source": [
    "sol, leaves = controller.feedforward(x0, tree_file_name='tau_eq_0')"
   ]
  },
  {
   "cell_type": "code",
   "execution_count": null,
   "metadata": {},
   "outputs": [],
   "source": [
    "len(leaves)"
   ]
  },
  {
   "cell_type": "code",
   "execution_count": null,
   "metadata": {},
   "outputs": [],
   "source": [
    "np.random.seed(1)\n",
    "e_max = 0.16\n",
    "e = e_max * np.random.randn(MLD.nx)\n",
    "print e"
   ]
  },
  {
   "cell_type": "code",
   "execution_count": null,
   "metadata": {},
   "outputs": [],
   "source": [
    "uc_0 = sol['primal']['uc'][0]\n",
    "ub_0 = sol['primal']['ub'][0]\n",
    "sc_0 = sol['primal']['sc'][0]\n",
    "sb_0 = sol['primal']['sb'][0]\n",
    "warm_start = controller.generate_warm_start(leaves, x0, uc_0, ub_0, sc_0, sb_0, e)"
   ]
  },
  {
   "cell_type": "code",
   "execution_count": null,
   "metadata": {},
   "outputs": [],
   "source": [
    "len(warm_start)"
   ]
  },
  {
   "cell_type": "code",
   "execution_count": null,
   "metadata": {},
   "outputs": [],
   "source": [
    "x1 = sol['primal']['x'][1] + e\n",
    "sol_1, leaves_1 = controller.feedforward(x1, tree_file_name='tau_1_e1_016', warm_start=warm_start)"
   ]
  },
  {
   "cell_type": "code",
   "execution_count": null,
   "metadata": {},
   "outputs": [],
   "source": [
    "plot_input_sequence(sol['primal']['uc'], h, (u_min, u_max))\n",
    "plt.savefig('input.pdf')\n",
    "plot_state_trajectory(sol['primal']['x'], h, (x_min, x_max))\n",
    "plt.savefig('state.pdf')"
   ]
  },
  {
   "cell_type": "code",
   "execution_count": null,
   "metadata": {},
   "outputs": [],
   "source": [
    "plot_input_sequence(sol['primal']['sc'], h)\n",
    "# plt.savefig('forces.pdf')"
   ]
  },
  {
   "cell_type": "code",
   "execution_count": null,
   "metadata": {},
   "outputs": [],
   "source": [
    "plot_input_sequence(sol['primal']['sb'], h)\n",
    "# plt.savefig('binaries.pdf')"
   ]
  },
  {
   "cell_type": "code",
   "execution_count": null,
   "metadata": {},
   "outputs": [],
   "source": [
    "# output (horizontal position of the tip of the pole)\n",
    "C = np.array([[1., -l, 0., 0.]])\n",
    "y_min = np.array([-d])\n",
    "y_max = np.array([d])\n",
    "plot_output_trajectory(C, sol['primal']['x'], h, (y_min, y_max))\n",
    "plt.savefig('output.pdf')"
   ]
  },
  {
   "cell_type": "code",
   "execution_count": null,
   "metadata": {},
   "outputs": [],
   "source": []
  },
  {
   "cell_type": "code",
   "execution_count": null,
   "metadata": {},
   "outputs": [],
   "source": [
    "from collections import OrderedDict\n",
    "ident = OrderedDict([(('s', 0, 0), 0.0), (('s', 0, 1), 0.0)])"
   ]
  },
  {
   "cell_type": "code",
   "execution_count": null,
   "metadata": {},
   "outputs": [],
   "source": [
    "sol = controller.solve_relaxation(x0, ident)[3]"
   ]
  },
  {
   "cell_type": "code",
   "execution_count": null,
   "metadata": {},
   "outputs": [],
   "source": [
    "sol['primal']['sb_0']"
   ]
  },
  {
   "cell_type": "code",
   "execution_count": null,
   "metadata": {},
   "outputs": [],
   "source": [
    "min(np.concatenate([sol[3]['dual']['lb_s_'+str(t)] for t in range(N)]))"
   ]
  },
  {
   "cell_type": "code",
   "execution_count": null,
   "metadata": {},
   "outputs": [],
   "source": [
    "# print np.max(np.concatenate([v for v in sol['dual'].values()]))"
   ]
  },
  {
   "cell_type": "code",
   "execution_count": null,
   "metadata": {},
   "outputs": [],
   "source": [
    "[sol['dual']['lb_s_%d'%t] for t in range(N)]\n",
    "[np.concatenate((sol['dual']['lb_u_%d'%t], sol['dual']['lb_s_%d'%t])) for t in range(N)]"
   ]
  },
  {
   "cell_type": "code",
   "execution_count": null,
   "metadata": {},
   "outputs": [],
   "source": [
    "import time\n",
    "import meshcat\n",
    "import meshcat.geometry as g\n",
    "import meshcat.transformations as tf"
   ]
  },
  {
   "cell_type": "code",
   "execution_count": null,
   "metadata": {},
   "outputs": [],
   "source": [
    "vis = meshcat.Visualizer()"
   ]
  },
  {
   "cell_type": "code",
   "execution_count": null,
   "metadata": {},
   "outputs": [],
   "source": [
    "# cart-pole\n",
    "cart_pole = vis[\"cart_pole\"]\n",
    "\n",
    "# cart\n",
    "cart = cart_pole[\"cart\"]\n",
    "cart.set_object(g.Box([.3*l, .3*l, .3*l]), g.MeshLambertMaterial(color=0xff2222))\n",
    "\n",
    "# pivot\n",
    "pivot = cart[\"pivot\"]\n",
    "pivot.set_transform(tf.rotation_matrix(np.pi/2, [1, 0., 0.]))\n",
    "\n",
    "# pole\n",
    "pole = pivot[\"pole\"]\n",
    "pole.set_object(g.Box([.05*l, l, .05*l]), g.MeshLambertMaterial(color=0x2222ff))\n",
    "pole.set_transform(tf.translation_matrix([0., .5, 0.]))\n",
    "\n",
    "# left wall\n",
    "left_wall = vis[\"left_wall\"]\n",
    "left_wall.set_object(g.Box([l, .05*l, l]), g.MeshLambertMaterial(color=0x22ff22))\n",
    "left_wall.set_transform(tf.translation_matrix([0., -d, l]))\n",
    "\n",
    "# right wall\n",
    "right_wall = vis[\"right_wall\"]\n",
    "right_wall.set_object(g.Box([l, .05*l, l]), g.MeshLambertMaterial(color=0x22ff22))\n",
    "right_wall.set_transform(tf.translation_matrix([0., d, l]))"
   ]
  },
  {
   "cell_type": "code",
   "execution_count": null,
   "metadata": {},
   "outputs": [],
   "source": [
    "# visualization function\n",
    "def visualize_cart_pole(x):\n",
    "    cart.set_transform(tf.translation_matrix([0, x[0], 0]))\n",
    "    pivot.set_transform(tf.rotation_matrix(x[1] + np.pi/2, [1, 0, 0]))\n",
    "vis.jupyter_cell()"
   ]
  },
  {
   "cell_type": "code",
   "execution_count": null,
   "metadata": {},
   "outputs": [],
   "source": [
    "# animation\n",
    "for t in range(N):\n",
    "    visualize_cart_pole(sol['primal']['x'][t])\n",
    "    time.sleep(h)"
   ]
  },
  {
   "cell_type": "code",
   "execution_count": null,
   "metadata": {},
   "outputs": [],
   "source": []
  }
 ],
 "metadata": {
  "kernelspec": {
   "display_name": "Python 2",
   "language": "python",
   "name": "python2"
  },
  "language_info": {
   "codemirror_mode": {
    "name": "ipython",
    "version": 2
   },
   "file_extension": ".py",
   "mimetype": "text/x-python",
   "name": "python",
   "nbconvert_exporter": "python",
   "pygments_lexer": "ipython2",
   "version": "2.7.15"
  }
 },
 "nbformat": 4,
 "nbformat_minor": 2
}
