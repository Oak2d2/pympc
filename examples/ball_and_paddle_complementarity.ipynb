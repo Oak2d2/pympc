{
 "cells": [
  {
   "cell_type": "code",
   "execution_count": 1,
   "metadata": {},
   "outputs": [],
   "source": [
    "# notebook settings\n",
    "%load_ext autoreload\n",
    "%autoreload 2\n",
    "\n",
    "# external imports\n",
    "import numpy as np\n",
    "import sympy as sp\n",
    "import matplotlib as mpl\n",
    "import matplotlib.pyplot as plt\n",
    "from copy import copy\n",
    "from math import floor\n",
    "\n",
    "# internal imports\n",
    "from pympc.geometry.polyhedron import Polyhedron\n",
    "from pympc.dynamics.discrete_time_systems import LinearSystem, AffineSystem, PieceWiseAffineSystem\n",
    "from pympc.control.hybrid_benchmark.controllers import HybridModelPredictiveController\n",
    "from pympc.plot import plot_input_sequence, plot_state_trajectory, plot_output_trajectory\n",
    "from pympc.control.hybrid_benchmark.utils import get_constraint_set, remove_redundant_inequalities_fast, convex_hull_method_fast"
   ]
  },
  {
   "cell_type": "markdown",
   "metadata": {},
   "source": [
    "# Problem set-up"
   ]
  },
  {
   "cell_type": "code",
   "execution_count": 2,
   "metadata": {},
   "outputs": [],
   "source": [
    "# numeric parameters of the system\n",
    "m = 1.\n",
    "r = .1\n",
    "I = .4*m*r**2.\n",
    "d = .5\n",
    "mu = .2\n",
    "g = 10.\n",
    "h = .02"
   ]
  },
  {
   "cell_type": "code",
   "execution_count": 3,
   "metadata": {},
   "outputs": [],
   "source": [
    "# symbolic state\n",
    "xb, yb, tb = sp.symbols('xb yb tb') # position of the ball\n",
    "xp, yp = sp.symbols('xp yp') # position of the paddle\n",
    "xdb, ydb, tdb = sp.symbols('xdb ydb tdb') # velocity of the ball\n",
    "xdp, ydp = sp.symbols('xdp ydp') # velocity of the paddle\n",
    "state = sp.Matrix([\n",
    "    xb, yb, tb,\n",
    "    xp, yp,\n",
    "    xdb, ydb, tdb,\n",
    "    xdp, ydp\n",
    "])\n",
    "\n",
    "# symbolic input\n",
    "xd2p, yd2p = sp.symbols('xd2p yd2p') # acceleration of the paddle\n",
    "input = sp.Matrix([xd2p, yd2p])\n",
    "\n",
    "# contact forces\n",
    "ft, fn = sp.symbols('ft fn')"
   ]
  },
  {
   "cell_type": "code",
   "execution_count": 4,
   "metadata": {},
   "outputs": [],
   "source": [
    "# ball velocity update\n",
    "xdb_next = xdb + h*ft/m\n",
    "ydb_next = ydb + h*fn/m - h*g\n",
    "tdb_next = tdb + r*h*ft/I\n",
    "\n",
    "# ball position update\n",
    "xb_next = xb + h*xdb_next\n",
    "yb_next = yb + h*ydb_next\n",
    "tb_next = tb + h*tdb_next\n",
    "\n",
    "# paddle velocity update\n",
    "xdp_next = xdp + h*xd2p\n",
    "ydp_next = ydp + h*yd2p\n",
    "\n",
    "# paddle position update\n",
    "xp_next = xp + h*xdp_next\n",
    "yp_next = yp + h*ydp_next\n",
    "\n",
    "# state update\n",
    "state_next = sp.Matrix([\n",
    "    xb_next, yb_next, tb_next,\n",
    "    xp_next, yp_next,\n",
    "    xdb_next, ydb_next, tdb_next,\n",
    "    xdp_next, ydp_next\n",
    "])"
   ]
  },
  {
   "cell_type": "code",
   "execution_count": 26,
   "metadata": {},
   "outputs": [],
   "source": [
    "# relative tangential velocity (ball wrt paddle)\n",
    "sliding_velocity = xdb_next + r*tdb_next - xdp_next\n",
    "\n",
    "# gap function\n",
    "gap = yb_next - yp_next\n",
    "gap_zero_force = gap.subs({ft: 0., fn: 0.})\n",
    "\n",
    "# solve for the contact forces\n",
    "ft_sticking = sp.solve(sp.Eq(sliding_velocity, 0), ft)[0]\n",
    "fn_sticking = sp.solve(sp.Eq(gap, 0), fn)[0]"
   ]
  },
  {
   "cell_type": "code",
   "execution_count": 27,
   "metadata": {},
   "outputs": [],
   "source": [
    "# state bounds\n",
    "x_max = np.array([1., 1., 3.*np.pi, 1., 1., 5., 5., 20., 5., 5.])\n",
    "x_min = - x_max\n",
    "\n",
    "# input bounds\n",
    "u_max = np.array([20., 20.])\n",
    "u_min = - u_max\n",
    "\n",
    "# domain bounds\n",
    "xu = state.col_join(input)\n",
    "xu_min = np.concatenate((x_min, u_min))\n",
    "xu_max = np.concatenate((x_max, u_max))"
   ]
  },
  {
   "cell_type": "code",
   "execution_count": 29,
   "metadata": {},
   "outputs": [],
   "source": [
    "# discrete time dynamics in mode 1\n",
    "# (ball in the air)\n",
    "\n",
    "# set forces to zero\n",
    "forces = {ft: 0., fn: 0.}\n",
    "\n",
    "# get dynamics\n",
    "S1 = AffineSystem.from_symbolic(state, input, state_next.subs(forces))\n",
    "\n",
    "# build domain\n",
    "D1 = Polyhedron.from_bounds(xu_min, xu_max)\n",
    "\n",
    "# - gap <= 0\n",
    "D1.add_symbolic_inequality(xu, sp.Matrix([-gap_zero_force]))\n",
    "\n",
    "# check domain\n",
    "assert D1.bounded\n",
    "assert not D1.empty"
   ]
  },
  {
   "cell_type": "code",
   "execution_count": null,
   "metadata": {},
   "outputs": [],
   "source": [
    "# discrete time dynamics in mode 2\n",
    "# (ball in contact with sticking)\n",
    "\n",
    "# enforce sticking\n",
    "forces = {ft: ft_sticking, fn: fn_sticking}\n",
    "\n",
    "# get dynamics\n",
    "S2 = AffineSystem.from_symbolic(state_next.subs(forces), state, input)\n",
    "\n",
    "# build domain\n",
    "D2 = Polyhedron.from_bounds(xu_min, xu_max)\n",
    "\n",
    "# gap <= 0\n",
    "D2.add_inequality(*get_matrices(gap_zero_force))\n",
    "\n",
    "# ball not falling down the paddle\n",
    "D2.add_inequality(*get_matrices(xb - xp - d))\n",
    "D2.add_inequality(*get_matrices(xp - xb - d))\n",
    "\n",
    "# friction cone\n",
    "D2.add_inequality(*get_matrices(ft_sticking - mu*fn_sticking))\n",
    "D2.add_inequality(*get_matrices(- ft_sticking - mu*fn_sticking))\n",
    "\n",
    "# check domain\n",
    "assert D2.bounded\n",
    "assert not D2.empty"
   ]
  },
  {
   "cell_type": "code",
   "execution_count": null,
   "metadata": {},
   "outputs": [],
   "source": [
    "# discrete time dynamics in mode 3\n",
    "# (ball in contact and sliding right wrt paddle)\n",
    "\n",
    "# boundary of the friction cone\n",
    "forces = {ft: -mu*fn_sticking, fn: fn_sticking}\n",
    "\n",
    "# get dynamics\n",
    "S3 = AffineSystem.from_symbolic(state_next.subs(forces), state, input)\n",
    "\n",
    "# build domain\n",
    "D3 = Polyhedron.from_bounds(xu_min, xu_max)\n",
    "\n",
    "# gap <= 0\n",
    "D3.add_inequality(*get_matrices(gap_zero_force))\n",
    "\n",
    "# ball not falling down the paddle\n",
    "D2.add_inequality(*get_matrices(xb - xp - d))\n",
    "D2.add_inequality(*get_matrices(xp - xb - d))\n",
    "\n",
    "# positive relative velocity\n",
    "D3.add_inequality(*get_matrices(-sliding_velocity.subs(ft, -mu*fn_sticking)))\n",
    "\n",
    "# check domain\n",
    "assert D3.bounded\n",
    "assert not D3.empty"
   ]
  },
  {
   "cell_type": "code",
   "execution_count": null,
   "metadata": {},
   "outputs": [],
   "source": [
    "# discrete time dynamics in mode 4\n",
    "# (ball in contact and sliding left wrt paddle)\n",
    "\n",
    "# boundary of the friction cone\n",
    "forces = {ft: mu*fn_sticking, fn: fn_sticking}\n",
    "\n",
    "# get dynamics\n",
    "S4 = AffineSystem.from_symbolic(state_next.subs(forces), state, input)\n",
    "\n",
    "# build domain\n",
    "D4 = Polyhedron.from_bounds(xu_min, xu_max)\n",
    "\n",
    "# gap <= 0\n",
    "D4.add_inequality(*get_matrices(gap_zero_force))\n",
    "\n",
    "# ball not falling down the paddle\n",
    "D2.add_inequality(*get_matrices(xb - xp - d))\n",
    "D2.add_inequality(*get_matrices(xp - xb - d))\n",
    "\n",
    "# negative relative velocity\n",
    "D4.add_inequality(*get_matrices(sliding_velocity.subs(ft, mu*fn_sticking)))\n",
    "\n",
    "# check domain\n",
    "assert D4.bounded\n",
    "assert not D4.empty"
   ]
  },
  {
   "cell_type": "code",
   "execution_count": null,
   "metadata": {},
   "outputs": [],
   "source": [
    "# list of dynamics\n",
    "S_list = [S1, S2, S3, S4]\n",
    "\n",
    "# list of domains\n",
    "D_list = [D1, D2, D3, D4]\n",
    "\n",
    "# PWA system\n",
    "S = PieceWiseAffineSystem(S_list, D_list)"
   ]
  },
  {
   "cell_type": "code",
   "execution_count": null,
   "metadata": {},
   "outputs": [],
   "source": [
    "# controller parameters\n",
    "N = 50\n",
    "Q = np.diag([1.,.01,1.,1.,1.,1.,1.,1.,1.,1.])*h\n",
    "R = np.diag([.1,.1])*h\n",
    "\n",
    "# terminal set and cost\n",
    "P = np.diag([1000.,.01,1.,1.,1.,1.,1.,1.,1.,1.])\n",
    "# xN_min = np.array([-1.,0.,0.,0.,0.,0.,0.,0.,0.,0.])\n",
    "# xN_max = np.array([1.,0.,0.,0.,0.,0.,0.,0.,0.,0.])\n",
    "xN_min = np.array([0.,0., -2.*np.pi,0.,0.,0.,0.,0.,0.,0.])\n",
    "xN_max = np.array([0.,0.,2.*np.pi,0.,0.,0.,0.,0.,0.,0.])\n",
    "X_N = Polyhedron.from_bounds(xN_min, xN_max)"
   ]
  },
  {
   "cell_type": "code",
   "execution_count": null,
   "metadata": {},
   "outputs": [],
   "source": [
    "controller = HybridModelPredictiveController(S, N, Q, R, P, X_N, method='Convex hull')\n",
    "# controller.prog.setParam('Heuristics', 0)"
   ]
  },
  {
   "cell_type": "code",
   "execution_count": null,
   "metadata": {},
   "outputs": [],
   "source": [
    "# initial condition\n",
    "# x0 = np.array([0.,0.,2*np.pi,0.,0.,0.,0.,0.,0.,0.])\n",
    "x0 = np.array([0.2,0.,0.,0.,0.,0.,0.,0.,0.,0.])"
   ]
  },
  {
   "cell_type": "code",
   "execution_count": null,
   "metadata": {},
   "outputs": [],
   "source": [
    "u, x, ms, cost = controller.feedforward(x0)"
   ]
  },
  {
   "cell_type": "code",
   "execution_count": null,
   "metadata": {},
   "outputs": [],
   "source": [
    "plot_input_sequence(u, h, (u_min, u_max))"
   ]
  },
  {
   "cell_type": "code",
   "execution_count": null,
   "metadata": {},
   "outputs": [],
   "source": [
    "plot_state_trajectory(x, h, (x_min, x_max))"
   ]
  },
  {
   "cell_type": "code",
   "execution_count": null,
   "metadata": {},
   "outputs": [],
   "source": [
    "x0 = np.array([0.,1.,0.,0.,0.,0.3,0.,0.,0.,0.])\n",
    "u = [np.array([0.,0.])]*50\n",
    "x, ms = S.simulate(x0, u)\n",
    "print ms"
   ]
  },
  {
   "cell_type": "markdown",
   "metadata": {},
   "source": [
    "# Animation"
   ]
  },
  {
   "cell_type": "code",
   "execution_count": null,
   "metadata": {},
   "outputs": [],
   "source": [
    "import meshcat\n",
    "from meshcat.geometry import Box, Sphere, Cylinder, MeshLambertMaterial\n",
    "from meshcat.animation import Animation\n",
    "import meshcat.transformations as tf"
   ]
  },
  {
   "cell_type": "code",
   "execution_count": null,
   "metadata": {},
   "outputs": [],
   "source": [
    "vis = meshcat.Visualizer()\n",
    "# vis.jupyter_cell()\n",
    "vis.open()"
   ]
  },
  {
   "cell_type": "code",
   "execution_count": null,
   "metadata": {},
   "outputs": [],
   "source": [
    "paddle_z = .05\n",
    "paddle_x = .3\n",
    "red = 0xff2222\n",
    "blue = 0x2222ff\n",
    "green = 0x22ff22\n",
    "vis['paddle'].set_object(Box([paddle_x, d*2., paddle_z]), MeshLambertMaterial(color=red))\n",
    "vis['ball'].set_object(Sphere(r), MeshLambertMaterial(color=blue))\n",
    "vis['ball_orientation'].set_object(Cylinder(.01, r), MeshLambertMaterial(color=green))"
   ]
  },
  {
   "cell_type": "code",
   "execution_count": null,
   "metadata": {},
   "outputs": [],
   "source": [
    "anim = Animation()\n",
    "for t, xt in enumerate(x):\n",
    "    with anim.at_frame(vis, t*h*30) as frame:\n",
    "        frame['paddle'].set_transform(\n",
    "            tf.translation_matrix([0, xt[3], xt[4]-paddle_z/2.])\n",
    "        )\n",
    "        frame['ball'].set_transform(\n",
    "            tf.translation_matrix([0, xt[0], xt[1]+r])\n",
    "        )\n",
    "        frame['ball_orientation'].set_transform(\n",
    "            tf.translation_matrix([0, xt[0], xt[1]+r]).dot(\n",
    "                tf.rotation_matrix(xt[2], [1.,0.,0.])\n",
    "            )\n",
    "        )\n",
    "vis.set_animation(anim)"
   ]
  },
  {
   "cell_type": "code",
   "execution_count": null,
   "metadata": {},
   "outputs": [],
   "source": [
    "x[-1].dot(P).dot(x[-1])"
   ]
  },
  {
   "cell_type": "code",
   "execution_count": null,
   "metadata": {},
   "outputs": [],
   "source": []
  }
 ],
 "metadata": {
  "kernelspec": {
   "display_name": "Python 2",
   "language": "python",
   "name": "python2"
  },
  "language_info": {
   "codemirror_mode": {
    "name": "ipython",
    "version": 2
   },
   "file_extension": ".py",
   "mimetype": "text/x-python",
   "name": "python",
   "nbconvert_exporter": "python",
   "pygments_lexer": "ipython2",
   "version": "2.7.12"
  }
 },
 "nbformat": 4,
 "nbformat_minor": 2
}
