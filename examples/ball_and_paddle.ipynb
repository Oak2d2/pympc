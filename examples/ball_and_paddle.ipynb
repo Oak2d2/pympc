{
 "cells": [
  {
   "cell_type": "code",
   "execution_count": null,
   "metadata": {},
   "outputs": [],
   "source": [
    "# notebook settings\n",
    "%load_ext autoreload\n",
    "%autoreload 2\n",
    "\n",
    "# external imports\n",
    "import numpy as np\n",
    "import matplotlib as mpl\n",
    "import matplotlib.pyplot as plt\n",
    "from copy import copy\n",
    "from cycler import cycler\n",
    "from math import floor\n",
    "\n",
    "# internal imports\n",
    "from pympc.geometry.polyhedron import Polyhedron\n",
    "from pympc.dynamics.discrete_time_systems import LinearSystem, AffineSystem, PieceWiseAffineSystem\n",
    "from pympc.control.hybrid_benchmark.controllers import HybridModelPredictiveController\n",
    "from pympc.plot import plot_input_sequence, plot_state_trajectory, plot_output_trajectory\n",
    "from pympc.control.hybrid_benchmark.utils import get_constraint_set, remove_redundant_inequalities_fast, convex_hull_method_fast"
   ]
  },
  {
   "cell_type": "markdown",
   "metadata": {},
   "source": [
    "# Problem set-up"
   ]
  },
  {
   "cell_type": "code",
   "execution_count": null,
   "metadata": {
    "collapsed": true
   },
   "outputs": [],
   "source": [
    "# numeric parameters of the system\n",
    "m = 1.\n",
    "k = 100.\n",
    "c = 5.\n",
    "g = 10.\n",
    "h = .02"
   ]
  },
  {
   "cell_type": "code",
   "execution_count": null,
   "metadata": {
    "collapsed": true
   },
   "outputs": [],
   "source": [
    "# discretization method\n",
    "method = 'zero_order_hold'\n",
    "\n",
    "# dynamics n.1 (ball in the air)\n",
    "A1 = np.array([\n",
    "    [0., 0., 1.],\n",
    "    [0., 0., 0.],\n",
    "    [0., 0., 0.]\n",
    "    ])\n",
    "B1 = np.array([[0.], [1.], [0.]])\n",
    "c1 = np.array([0., 0., -g])\n",
    "S1 = AffineSystem.from_continuous(A1, B1, c1, h, method)\n",
    "\n",
    "# dynamics n.2 (paddle pulling ball)\n",
    "S2 = copy(S1)\n",
    "\n",
    "# dynamics n.3 (paddle pushing ball)\n",
    "# (no offset terms, the zero of the position of the ball is shifted by m*g/k)\n",
    "A3 = np.array([\n",
    "    [0., 0., 1.],\n",
    "    [0., 0., 0.],\n",
    "    [-k/m, k/m, -c/m]\n",
    "    ])\n",
    "B3 = np.array([[0.], [1.], [c/m]])\n",
    "S3 = LinearSystem.from_continuous(A3, B3, h, method)\n",
    "\n",
    "# list of dynamics\n",
    "S_list = [S1, S2, S3]"
   ]
  },
  {
   "cell_type": "code",
   "execution_count": null,
   "metadata": {
    "collapsed": true
   },
   "outputs": [],
   "source": [
    "# state bounds\n",
    "x_max = np.array([1., .1, 4.])\n",
    "x_min = np.array([-.3, -.1, -4.])\n",
    "f_max = 4.*m*g\n",
    "\n",
    "# input bounds\n",
    "u_max = np.array([.3])\n",
    "u_min = - u_max\n",
    "\n",
    "# domain bounds\n",
    "xu_min = np.concatenate((x_min, u_min))\n",
    "xu_max = np.concatenate((x_max, u_max))\n",
    "\n",
    "# domain n.1\n",
    "# (out of contact when q_ball - q_paddle > m*g/k)\n",
    "D1 = Polyhedron.from_bounds(xu_min, xu_max)\n",
    "D1.add_inequality(\n",
    "    np.array([[-1., 1., 0., 0.]]),\n",
    "    np.array([-m*g/k])\n",
    ")\n",
    "assert D1.bounded\n",
    "assert not D1.empty\n",
    "\n",
    "# domain n.2\n",
    "# (pulling when q_ball - q_paddle < m*g/k\n",
    "# and f = k (qp - qb) + c (qpd - qbd) + m g < 0)\n",
    "D2 = Polyhedron.from_bounds(xu_min, xu_max)\n",
    "D2.add_inequality(\n",
    "    np.array([[1., -1., 0., 0.]]),\n",
    "    np.array([m*g/k])\n",
    ")\n",
    "D2.add_inequality(\n",
    "    np.array([[-k, k, -c, c]]),\n",
    "    np.array([-m*g])\n",
    ")\n",
    "assert D2.bounded\n",
    "assert not D2.empty\n",
    "\n",
    "# domain n.3\n",
    "D3 = Polyhedron.from_bounds(xu_min, xu_max)\n",
    "D3.add_inequality( # penetration > 0\n",
    "    np.array([[1., -1., 0., 0.]]),\n",
    "    np.array([m*g/k])\n",
    ")\n",
    "D3.add_inequality( # not pulling\n",
    "    np.array([[k, -k, c, -c]]),\n",
    "    np.array([m*g])\n",
    ")\n",
    "D3.add_inequality( # maximum force < 5 m g\n",
    "    np.array([[-k, k, -c, c]]),\n",
    "    np.array([f_max - m*g])\n",
    ")\n",
    "assert D3.bounded\n",
    "assert not D3.empty\n",
    "\n",
    "# list of domains\n",
    "D_list = [D1, D2, D3]"
   ]
  },
  {
   "cell_type": "code",
   "execution_count": null,
   "metadata": {
    "collapsed": true
   },
   "outputs": [],
   "source": [
    "# PWA system\n",
    "S = PieceWiseAffineSystem(S_list, D_list)\n",
    "\n",
    "# controller parameters\n",
    "N = 80\n",
    "Q = np.diag([5.,50.,.1])\n",
    "R = np.diag([10.])\n",
    "\n",
    "# terminal set and cost\n",
    "P = Q\n",
    "X_N = Polyhedron.from_bounds(*[np.zeros(3)]*2)"
   ]
  },
  {
   "cell_type": "markdown",
   "metadata": {},
   "source": [
    "# Solve with different MI formulation"
   ]
  },
  {
   "cell_type": "code",
   "execution_count": null,
   "metadata": {
    "collapsed": true
   },
   "outputs": [],
   "source": [
    "# initial condition\n",
    "x0 = np.array([1., .0, .0])\n",
    "\n",
    "# MI formulations\n",
    "methods = [\n",
    "    'Traditional formulation',\n",
    "    'Big-M',\n",
    "    'Convex hull',\n",
    "    'Convex hull, lifted constraints'\n",
    "]"
   ]
  },
  {
   "cell_type": "code",
   "execution_count": null,
   "metadata": {},
   "outputs": [],
   "source": [
    "# solve MICP with all the methods\n",
    "solves = {}\n",
    "for method in methods:\n",
    "    print method\n",
    "    controller = HybridModelPredictiveController(S, N, Q, R, P, X_N, method)\n",
    "#     controller.add_reachability_constraints(8)\n",
    "#     controller.prog.setParam('Heuristics', 0.)\n",
    "#     controller.prog.setParam('MIPGap', 0.)\n",
    "    u_mip, x_mip, ms_mip, cost_mip = controller.feedforward(x0)\n",
    "    solves[method] = {\n",
    "        'time': controller.prog.Runtime,\n",
    "        'nodes': controller.prog.NodeCount\n",
    "    }\n",
    "    print cost_mip\n",
    "    \n",
    "# print solution times and nodes\n",
    "for method in methods:\n",
    "    print method\n",
    "    print 'Solution time:', solves[method]['time']\n",
    "    print 'Explored nodes:', solves[method]['nodes']"
   ]
  },
  {
   "cell_type": "code",
   "execution_count": null,
   "metadata": {
    "collapsed": true
   },
   "outputs": [],
   "source": [
    "# plot state trajectory\n",
    "plt.rc('font', size=16)\n",
    "time = range(N+1)\n",
    "fig, ax1 = plt.subplots()\n",
    "ax1.set_xlabel(r'$t$')\n",
    "ax1.set_xlim([0,N])\n",
    "ax1.grid(True)\n",
    "\n",
    "# position of the ball and the paddle (x1 and x3)\n",
    "x1_plot = ax1.plot(time, [x_t[0] for x_t in x_mip], 'b-', label=r'$x_1$', linewidth=3)\n",
    "x2_plot = ax1.plot(time, [x_t[1] for x_t in x_mip], 'b-.', label=r'$x_2$', linewidth=3)\n",
    "x12_lim = max([-x_min[0], x_max[0], -x_min[1], x_max[1]])\n",
    "ax1.set_ylim([-x12_lim, x12_lim])\n",
    "ax1.set_ylabel(r'$x_1, x_2$', color='b')\n",
    "ax1.tick_params('y', colors='b')\n",
    "plt.legend()\n",
    "\n",
    "# velocity of the ball (x2)\n",
    "ax2 = ax1.twinx()\n",
    "x3_plot = ax2.plot(time, [x_t[2] for x_t in x_mip], 'r--', label=r'$x_3$', linewidth=3)\n",
    "x3_lim = max([-x_min[2],x_max[2]])\n",
    "ax2.set_ylim([-x3_lim, x3_lim])\n",
    "ax2.set_ylabel(r'$x_3$', color='r')\n",
    "ax2.tick_params('y', colors='r')\n",
    "\n",
    "# plot\n",
    "x_plot = x1_plot + x2_plot + x3_plot\n",
    "labels = [xi_plot.get_label() for xi_plot in x_plot]\n",
    "ax1.legend(x_plot, labels)\n",
    "plt.savefig('state.pdf', bbox_inches='tight')\n",
    "plt.show()"
   ]
  },
  {
   "cell_type": "code",
   "execution_count": null,
   "metadata": {
    "collapsed": true
   },
   "outputs": [],
   "source": [
    "# plot input sequence and contact force\n",
    "plt.rc('font', size=16)\n",
    "f = [max(k*(x_mip[t][1]-x_mip[t][0]) + c*(u_mip[t][0]-x_mip[t][2]) + m*g, 0.) for t in range(N)]\n",
    "fig, ax1 = plt.subplots()\n",
    "ax1.set_xlabel(r'$t$')\n",
    "ax1.set_xlim([0,N])\n",
    "ax1.grid(True)\n",
    "\n",
    "# input\n",
    "u_plot = ax1.step(time, [u_mip[0][0]] + [u_t[0] for u_t in u_mip], 'b', linestyle='-', label=r'$u$', linewidth=3)\n",
    "u_lim = max([-u_min[0], u_max[0]])\n",
    "ax1.set_ylim([-u_lim, u_lim])\n",
    "ax1.set_ylabel(r'$u$', color='b')\n",
    "ax1.tick_params('y', colors='b')\n",
    "plt.legend()\n",
    "\n",
    "# force\n",
    "ax2 = ax1.twinx()\n",
    "f_plot = ax2.step(time, [f[0]] + [f_t for f_t in f], 'r', linestyle='-.', label=r'$f \\ (x,u)$', linewidth=3)\n",
    "ax2.set_ylim([0, f_max])\n",
    "ax2.set_ylabel(r'$f \\ (x,u)$', color='r')\n",
    "ax2.tick_params('y', colors='r')\n",
    "\n",
    "# plot\n",
    "fu_plot = u_plot + f_plot\n",
    "labels = [fui_plot.get_label() for fui_plot in fu_plot]\n",
    "ax1.legend(fu_plot, labels)\n",
    "# plt.savefig('input_force.pdf', bbox_inches='tight')\n",
    "plt.show()"
   ]
  },
  {
   "cell_type": "markdown",
   "metadata": {},
   "source": [
    "# Integer feasibility and suboptimality"
   ]
  },
  {
   "cell_type": "code",
   "execution_count": null,
   "metadata": {
    "collapsed": true
   },
   "outputs": [],
   "source": [
    "def closest_binary_assignment(d, x0):\n",
    "    controller = HybridModelPredictiveController(S, N, Q, R, P, X_N, 'Convex hull')\n",
    "    new_obj = 0.\n",
    "    for t, dt in enumerate(d):\n",
    "        for k, dtk in enumerate(dt):\n",
    "            dtk_var = controller.prog.getVarByName('d%d[%d]'%(t,k))\n",
    "            new_obj += (dtk_var - dtk)*(dtk_var - dtk)\n",
    "    controller.prog.setObjective(new_obj)\n",
    "    opt_sol = controller.feedforward(x0)\n",
    "    return opt_sol[2], opt_sol[4]"
   ]
  },
  {
   "cell_type": "code",
   "execution_count": null,
   "metadata": {
    "collapsed": true
   },
   "outputs": [],
   "source": [
    "def dist_sq(l1, l2):\n",
    "    assert len(l1) == len(l2)\n",
    "    return sum([(l2[i] - e1)**2. for i, e1 in enumerate(l1)])\n",
    "\n",
    "def dist(l1, l2):\n",
    "    l1_array = np.array([l1ij for l1i in l1 for l1ij in l1i])\n",
    "    l2_array = np.array([l2ij for l2i in l2 for l2ij in l2i])\n",
    "    return np.linalg.norm(l1_array - l2_array)\n",
    "    \n",
    "controller = HybridModelPredictiveController(S, N, Q, R, P, X_N, 'Convex hull, lifted constraints')\n",
    "u, x, ms, cost, d = controller.feedforward_relaxation(x0, ms_mip[:0])\n",
    "# d_rounded = [[1 if i == ms[t] else 0 for i in range(S.nm)] for t in range(N)]\n",
    "\n",
    "ms_feasible, d_feasible = closest_binary_assignment(d, x0)\n",
    "# integer_feasibility = sum([dist_sq(d[t], d_feasible_mip[t]) for t in range(N)])\n",
    "# integer_feasibility = sum([min([dist_sq(dt, ba) for ba in [[1,0,0],[0,1,0],[0,0,1]]]) for dt in d])\n",
    "integer_feasibility = dist(d, d_feasible)\n",
    "\n",
    "cost_integer_feasible = controller.feedforward_relaxation(x0, ms_feasible)[3]\n",
    "\n",
    "d_mip = [[1 if i == ms_mip[t] else 0 for i in range(S.nm)] for t in range(N)]\n",
    "# integer_optimality = sum([dist_sq(d[t], d_mip[t]) for t in range(N)])\n",
    "integer_optimality = dist(d, d_mip)\n",
    "\n",
    "print integer_feasibility, integer_optimality, cost_integer_feasible/cost_mip"
   ]
  },
  {
   "cell_type": "markdown",
   "metadata": {},
   "source": [
    "controller = HybridModelPredictiveController(S, N, Q, R, P, X_N, 'Convex hull, lifted constraints')\n",
    "_, _, ms, cost, d = controller.feedforward_relaxation(x0, ms_mip[:19])\n",
    "_, _, _, cost, _ = controller.feedforward_relaxation(x0, ms)\n",
    "print cost\n",
    "for t in range(N):\n",
    "    print t, ms[t], ms_mip[t], d[t]"
   ]
  },
  {
   "cell_type": "code",
   "execution_count": null,
   "metadata": {
    "collapsed": true
   },
   "outputs": [],
   "source": [
    "# cost of each relaxation as a function of time\n",
    "methods = [\n",
    "    'Traditional formulation',\n",
    "    'Big-M',\n",
    "    'Convex hull',\n",
    "    'Convex hull, lifted constraints'\n",
    "]\n",
    "costs = {}\n",
    "for method in methods:\n",
    "    print method\n",
    "    controller = HybridModelPredictiveController(S, N, Q, R, P, X_N, method)\n",
    "    costs[method] = []\n",
    "    for ms in [ms_mip[:i] for i in range(N+1)]:\n",
    "        ms_relaxation = controller.feedforward_relaxation(x0, ms)[2]\n",
    "        cost = controller.feedforward_relaxation(x0, ms_relaxation)[3]\n",
    "        if cost is not None:\n",
    "            cost /= cost_mip\n",
    "        costs[method].append(cost)"
   ]
  },
  {
   "cell_type": "code",
   "execution_count": null,
   "metadata": {
    "collapsed": true
   },
   "outputs": [],
   "source": [
    "# plot cost of relaxed problem / cost MICP\n",
    "mpl.rcParams['axes.prop_cycle'] = cycler(color='bgrcmyk')\n",
    "plt.rc('font', size=14)\n",
    "colors = ['b', 'r', 'c', 'g']\n",
    "linestyles = ['-','-.','--',':']\n",
    "for i, method in enumerate(methods):\n",
    "    plt.plot(range(N+1), costs[method], label=method, color=colors[i], linestyle=linestyles[i], linewidth=3)\n",
    "plt.xlim((0, N))\n",
    "plt.ylim((0, 1.1))\n",
    "plt.legend()\n",
    "plt.grid(True)\n",
    "plt.xlabel(r'$t$')\n",
    "plt.ylabel(r'Cost relaxed problem / cost MICP')\n",
    "# plt.savefig('relaxation_ratio.pdf', bbox_inches='tight')\n",
    "plt.show()"
   ]
  },
  {
   "cell_type": "markdown",
   "metadata": {},
   "source": [
    "# Compare formulations for different levels of relaxation"
   ]
  },
  {
   "cell_type": "code",
   "execution_count": null,
   "metadata": {},
   "outputs": [],
   "source": [
    "# cost of each relaxation as a function of time\n",
    "costs = {}\n",
    "for method in methods:\n",
    "    print method\n",
    "    controller = HybridModelPredictiveController(S, N, Q, R, P, X_N, method)\n",
    "#     controller.add_reachability_constraints()\n",
    "    costs[method] = []\n",
    "    for ms in [ms_mip[:i] for i in range(N+1)]:\n",
    "        cost = controller.feedforward_relaxation(x0, ms)[3]\n",
    "        if cost is not None:\n",
    "            cost /= cost_mip\n",
    "        costs[method].append(cost)"
   ]
  },
  {
   "cell_type": "code",
   "execution_count": null,
   "metadata": {
    "collapsed": true
   },
   "outputs": [],
   "source": [
    "# plot cost of relaxed problem / cost MICP\n",
    "mpl.rcParams['axes.prop_cycle'] = cycler(color='bgrcmyk')\n",
    "plt.rc('font', size=14)\n",
    "colors = ['b', 'r', 'c', 'g']\n",
    "linestyles = ['-','-.','--',':']\n",
    "for i, method in enumerate(methods):\n",
    "    plt.plot(range(N+1), costs[method], label=method, color=colors[i], linestyle=linestyles[i], linewidth=3)\n",
    "plt.xlim((0, N))\n",
    "plt.ylim((0, 1.1))\n",
    "plt.legend()\n",
    "plt.grid(True)\n",
    "plt.xlabel(r'$t$')\n",
    "plt.ylabel(r'Cost relaxed problem / cost MICP')\n",
    "# plt.savefig('relaxation_ratio.pdf', bbox_inches='tight')\n",
    "plt.show()"
   ]
  },
  {
   "cell_type": "markdown",
   "metadata": {},
   "source": [
    "# Objective as a function of the initial state ($x_1$ and $x_3$ only)"
   ]
  },
  {
   "cell_type": "code",
   "execution_count": null,
   "metadata": {
    "collapsed": true
   },
   "outputs": [],
   "source": [
    "# samples for the initial position and velocity of the ball\n",
    "q_p = 0.\n",
    "n_levels = 10\n",
    "n_samples = 101\n",
    "q_b_samples = np.linspace(x_min[0], x_max[0], n_samples)\n",
    "v_b_samples = np.linspace(x_min[2], x_max[2], n_samples)\n",
    "Q_b, V_b = np.meshgrid(q_b_samples, v_b_samples)"
   ]
  },
  {
   "cell_type": "code",
   "execution_count": null,
   "metadata": {
    "collapsed": true
   },
   "outputs": [],
   "source": [
    "# utils for the plots\n",
    "\n",
    "def my_round(x):\n",
    "    return floor(x*10.)/10.\n",
    "\n",
    "def get_neighbors(M, i, j):\n",
    "    return [\n",
    "        M[i+1, j-1],\n",
    "        M[i+1,   j],\n",
    "        M[i+1, j+1],\n",
    "        M[  i, j+1],\n",
    "        M[i-1, j+1],\n",
    "        M[i-1,   j],\n",
    "        M[i-1, j-1],\n",
    "        M[  i, j-1]\n",
    "    ]\n",
    "\n",
    "def fill_holes_cost_mat(cost_mat):\n",
    "    for i in range(1,n_samples-1):\n",
    "        for j in range(1,n_samples-1):\n",
    "            if np.isnan(cost_mat[i,j]):\n",
    "                neighbors = get_neighbors(cost_mat, i, j)\n",
    "                if not any([np.isnan(n) for n in neighbors]):\n",
    "                    print 'Filled', (i,j) \n",
    "                    cost_mat[i,j] = sum(neighbors)/8.\n",
    "    return cost_mat\n",
    "\n",
    "def regularize_cost_mat(cost_mat):\n",
    "    for i in range(1,n_samples-1):\n",
    "        for j in range(1,n_samples-1):\n",
    "            neighbors = get_neighbors(cost_mat, i, j)\n",
    "            if all([cost_mat[i,j] > n for n in neighbors]):\n",
    "                print 'Regularized', (i,j) \n",
    "                cost_mat[i,j] = sum(neighbors)/8.\n",
    "    return cost_mat"
   ]
  },
  {
   "cell_type": "code",
   "execution_count": null,
   "metadata": {},
   "outputs": [],
   "source": [
    "# solve relaxations for all MI formulations\n",
    "methods = [\n",
    "#     'Traditional formulation',\n",
    "#     'Big-M',\n",
    "    'Convex hull',\n",
    "#     'Convex hull, lifted constraints'\n",
    "]\n",
    "for method in methods:\n",
    "    print method\n",
    "    controller = HybridModelPredictiveController(S, N, Q, R, P, X_N, method)\n",
    "#     controller.add_reachability_constraints(8)\n",
    "    \n",
    "    # get feasible sets (uses the feasible set of the CH method for the CHLC method)\n",
    "    if method in ['Traditional formulation', 'Big-M', 'Convex hull']:\n",
    "        cs = get_constraint_set(controller.prog)\n",
    "        var_indices = {v: i for i, v in enumerate(controller.prog.getVars())}\n",
    "        v_index = var_indices[controller.prog.getVarByName('x0[1]')]\n",
    "        A_sect = cs.A[:, [i for i in range(cs.A.shape[1]) if i != v_index]]\n",
    "        b_sect = cs.b - cs.A[:, v_index]*q_p\n",
    "        cs_sect = Polyhedron(A_sect, b_sect)\n",
    "        sect = convex_hull_method_fast(cs_sect, [0,1])\n",
    "#         sect = cs_sect.project_to([0,1])\n",
    "        \n",
    "    # samples on the grid\n",
    "    cost_mat = np.empty([n_samples]*2)\n",
    "    for i, q_b in enumerate(q_b_samples):\n",
    "        for j, v_b in enumerate(v_b_samples):\n",
    "            print(str(i) + ',' + str(j) + '   \\r'),\n",
    "            x0 = np.array([q_b,q_p,v_b])\n",
    "            cost = controller.feedforward_relaxation(x0, [])[3]\n",
    "            cost_mat[i,j] = cost\n",
    "    \n",
    "#     # save data\n",
    "#     np.save(method + '_feasible_set_A', sect.A)\n",
    "#     np.save(method + '_feasible_set_b', sect.b)\n",
    "#     np.save(method, cost_mat)"
   ]
  },
  {
   "cell_type": "code",
   "execution_count": null,
   "metadata": {},
   "outputs": [],
   "source": [
    "# plot cost and feasible set\n",
    "plt.rc('font', size=14)\n",
    "for method in methods:\n",
    "#     cost_mat = np.load(method + '.npy')\n",
    "#     if method in ['Traditional formulation', 'Big-M', 'Convex hull']:\n",
    "#         A = np.load(method + '_feasible_set_A.npy')\n",
    "#         b = np.load(method + '_feasible_set_b.npy')\n",
    "#         sect = Polyhedron(A, b)\n",
    "    levels = [my_round((i+1)*np.nanmax(cost_mat)/n_levels) for i in range(n_levels)]\n",
    "    cp = plt.contour(Q_b, V_b, cost_mat.T, levels=levels, cmap='viridis_r')\n",
    "    plt.colorbar(cp, label='Cost relaxed problem')\n",
    "    sect.plot(facecolor='w')\n",
    "    plt.xlabel(r'$x_1$')\n",
    "    plt.ylabel(r'$x_3$')\n",
    "    plt.title(method)\n",
    "    plt.grid(True)\n",
    "#     plt.savefig(method + '.pdf',bbox_inches='tight')\n",
    "    plt.savefig('new_ch.pdf',bbox_inches='tight')\n",
    "    plt.show()"
   ]
  },
  {
   "cell_type": "code",
   "execution_count": null,
   "metadata": {
    "collapsed": true
   },
   "outputs": [],
   "source": [
    "# solve MICP on the grid (COMMENT prog.reset() BEFORE RUNNING THIS!!!)\n",
    "cost_mat = np.empty([n_samples]*2)\n",
    "controller = HybridModelPredictiveController(S, N, Q, R, P, X_N, 'Big-M')\n",
    "controller.prog.setParam('OutputFlag', 0)\n",
    "controller.prog.setParam('MIPGap', 0.01)\n",
    "controller.prog.setParam('TimeLimit', 1200.)\n",
    "time_limits = 0\n",
    "for i, q_b in enumerate(q_b_samples):\n",
    "    for j, v_b in enumerate(v_b_samples):\n",
    "        print(str(i) + ',' + str(j) + ',' + str(time_limits) + '    \\r'),\n",
    "        x0 = np.array([[q_b],[q_p],[v_b]])\n",
    "        cost = controller.feedforward(x0)[3]\n",
    "        cost_mat[i,j] = cost\n",
    "        if controller.prog.status == 9:\n",
    "            time_limits += 1\n",
    "            \n",
    "# # save data\n",
    "# np.save('q_b_samples', q_b_samples)\n",
    "# np.save('v_b_samples', v_b_samples)\n",
    "# np.save('cost_mat_miqp', cost_mat)"
   ]
  },
  {
   "cell_type": "code",
   "execution_count": null,
   "metadata": {
    "collapsed": true,
    "scrolled": true
   },
   "outputs": [],
   "source": [
    "# plot cost MICP\n",
    "plt.rc('font', size=14)\n",
    "cost_mat = np.load('cost_mat_miqp.npy')\n",
    "cost_mat = fill_holes_cost_mat(cost_mat)\n",
    "cost_mat = regularize_cost_mat(cost_mat)\n",
    "n_levels = 9\n",
    "levels = [0.] + [my_round((i+1)*np.nanmax(cost_mat)/n_levels) for i in range(n_levels)]\n",
    "cp = plt.contourf(Q_b, V_b, cost_mat.T, levels=levels, cmap='viridis_r')\n",
    "plt.grid(True)\n",
    "plt.xlabel(r'$x_1$')\n",
    "plt.ylabel(r'$x_3$')\n",
    "plt.colorbar(cp, label='Cost MICP')\n",
    "plt.grid(True)\n",
    "# plt.savefig('cost_mat_miqp.pdf',bbox_inches='tight')\n",
    "plt.show()"
   ]
  }
 ],
 "metadata": {
  "kernelspec": {
   "display_name": "Python 2",
   "language": "python",
   "name": "python2"
  },
  "language_info": {
   "codemirror_mode": {
    "name": "ipython",
    "version": 2
   },
   "file_extension": ".py",
   "mimetype": "text/x-python",
   "name": "python",
   "nbconvert_exporter": "python",
   "pygments_lexer": "ipython2",
   "version": "2.7.15"
  }
 },
 "nbformat": 4,
 "nbformat_minor": 2
}
