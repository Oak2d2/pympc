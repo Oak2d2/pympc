{
 "cells": [
  {
   "cell_type": "code",
   "execution_count": null,
   "metadata": {},
   "outputs": [],
   "source": [
    "# notebook settings\n",
    "%load_ext autoreload\n",
    "%autoreload 2\n",
    "\n",
    "# external imports\n",
    "import numpy as np\n",
    "import matplotlib as mpl\n",
    "import matplotlib.pyplot as plt\n",
    "from copy import copy\n",
    "from cycler import cycler\n",
    "from math import floor\n",
    "\n",
    "# internal imports\n",
    "from pympc.geometry.polyhedron import Polyhedron\n",
    "from pympc.dynamics.discrete_time_systems import LinearSystem, AffineSystem, PieceWiseAffineSystem\n",
    "from pympc.control.hybrid_benchmark.controllers import HybridModelPredictiveController\n",
    "from pympc.plot import plot_input_sequence, plot_state_trajectory, plot_output_trajectory\n",
    "from pympc.control.hybrid_benchmark.utils import get_constraint_set, remove_redundant_inequalities_fast\n",
    "from pympc.control.hybrid_benchmark.convex_hull_method_gurobi import convex_hull_method"
   ]
  },
  {
   "cell_type": "markdown",
   "metadata": {},
   "source": [
    "# Problem set-up"
   ]
  },
  {
   "cell_type": "code",
   "execution_count": null,
   "metadata": {
    "collapsed": true
   },
   "outputs": [],
   "source": [
    "# numeric parameters of the system\n",
    "m = 1.\n",
    "k = 100.\n",
    "c = 5.\n",
    "g = 10.\n",
    "h = .02"
   ]
  },
  {
   "cell_type": "code",
   "execution_count": null,
   "metadata": {},
   "outputs": [],
   "source": [
    "# discretization method\n",
    "method = 'zero_order_hold'\n",
    "\n",
    "# dynamics n.1 (ball in the air)\n",
    "A1 = np.array([\n",
    "    [0., 0., 1.],\n",
    "    [0., 0., 0.],\n",
    "    [0., 0., 0.]\n",
    "    ])\n",
    "B1 = np.array([[0.], [1.], [0.]])\n",
    "c1 = np.array([0., 0., -g])\n",
    "S1 = AffineSystem.from_continuous(A1, B1, c1, h, method)\n",
    "\n",
    "# dynamics n.2 (paddle pulling ball)\n",
    "S2 = copy(S1)\n",
    "\n",
    "# dynamics n.3 (paddle pushing ball)\n",
    "# (no offset terms, the zero of the position of the ball is shifted by m*g/k)\n",
    "A3 = np.array([\n",
    "    [0., 0., 1.],\n",
    "    [0., 0., 0.],\n",
    "    [-k/m, k/m, -c/m]\n",
    "    ])\n",
    "B3 = np.array([[0.], [1.], [c/m]])\n",
    "S3 = LinearSystem.from_continuous(A3, B3, h, method)\n",
    "\n",
    "# list of dynamics\n",
    "S_list = [S1, S2, S3]"
   ]
  },
  {
   "cell_type": "code",
   "execution_count": null,
   "metadata": {},
   "outputs": [],
   "source": [
    "# state bounds\n",
    "x_max = np.array([1., .1, 4.])\n",
    "x_min = np.array([-.3, -.1, -4.])\n",
    "f_max = 4.*m*g\n",
    "\n",
    "# input bounds\n",
    "u_max = np.array([.3])\n",
    "u_min = - u_max\n",
    "\n",
    "# domain bounds\n",
    "xu_min = np.concatenate((x_min, u_min))\n",
    "xu_max = np.concatenate((x_max, u_max))\n",
    "\n",
    "# domain n.1\n",
    "# (out of contact when q_ball - q_paddle > m*g/k)\n",
    "D1 = Polyhedron.from_bounds(xu_min, xu_max)\n",
    "D1.add_inequality(\n",
    "    np.array([[-1., 1., 0., 0.]]),\n",
    "    np.array([-m*g/k])\n",
    ")\n",
    "assert D1.bounded\n",
    "assert not D1.empty\n",
    "\n",
    "# domain n.2\n",
    "# (pulling when q_ball - q_paddle < m*g/k\n",
    "# and f = k (qp - qb) + c (qpd - qbd) + m g < 0)\n",
    "D2 = Polyhedron.from_bounds(xu_min, xu_max)\n",
    "D2.add_inequality(\n",
    "    np.array([[1., -1., 0., 0.]]),\n",
    "    np.array([m*g/k])\n",
    ")\n",
    "D2.add_inequality(\n",
    "    np.array([[-k, k, -c, c]]),\n",
    "    np.array([-m*g])\n",
    ")\n",
    "assert D2.bounded\n",
    "assert not D2.empty\n",
    "\n",
    "# domain n.3\n",
    "D3 = Polyhedron.from_bounds(xu_min, xu_max)\n",
    "D3.add_inequality( # penetration > 0\n",
    "    np.array([[1., -1., 0., 0.]]),\n",
    "    np.array([m*g/k])\n",
    ")\n",
    "D3.add_inequality( # not pulling\n",
    "    np.array([[k, -k, c, -c]]),\n",
    "    np.array([m*g])\n",
    ")\n",
    "D3.add_inequality( # maximum force < 5 m g\n",
    "    np.array([[-k, k, -c, c]]),\n",
    "    np.array([f_max - m*g])\n",
    ")\n",
    "assert D3.bounded\n",
    "assert not D3.empty\n",
    "\n",
    "# list of domains\n",
    "D_list = [D1, D2, D3]"
   ]
  },
  {
   "cell_type": "code",
   "execution_count": null,
   "metadata": {},
   "outputs": [],
   "source": [
    "# PWA system\n",
    "S = PieceWiseAffineSystem(S_list, D_list)\n",
    "\n",
    "# controller parameters\n",
    "N = 80\n",
    "Q = np.diag([5.,50.,.1])\n",
    "R = np.diag([10.])\n",
    "\n",
    "# terminal set and cost\n",
    "P = Q\n",
    "X_N = Polyhedron.from_bounds(*[np.zeros(3)]*2)"
   ]
  },
  {
   "cell_type": "markdown",
   "metadata": {},
   "source": [
    "# Comparison of the different formulations"
   ]
  },
  {
   "cell_type": "code",
   "execution_count": null,
   "metadata": {},
   "outputs": [],
   "source": [
    "# initial condition\n",
    "x0 = np.array([1., .0, .0])\n",
    "\n",
    "# MI formulations\n",
    "methods = ['pf', 'ch', 'bm', 'mld']\n",
    "norms = ['inf', 'one', 'two']"
   ]
  },
  {
   "cell_type": "markdown",
   "metadata": {},
   "source": [
    "## With Gurobi"
   ]
  },
  {
   "cell_type": "code",
   "execution_count": null,
   "metadata": {},
   "outputs": [],
   "source": [
    "# solve MICP with all the methods\n",
    "solves = {}\n",
    "for norm in norms:\n",
    "    print 'Norm:', norm\n",
    "    solves[norm] = {}\n",
    "    for method in methods:\n",
    "        print 'Method:', method\n",
    "        controller = HybridModelPredictiveController(S, N, Q, R, P, X_N, method, norm)\n",
    "        cost = controller.feedforward(x0)[3]\n",
    "        print cost\n",
    "        solves[norm][method] = {\n",
    "            'time': controller.prog.Runtime,\n",
    "            'nodes': controller.prog.NodeCount\n",
    "        }"
   ]
  },
  {
   "cell_type": "code",
   "execution_count": null,
   "metadata": {},
   "outputs": [],
   "source": [
    "# print solution times and nodes\n",
    "for norm in norms:\n",
    "    print '\\nnorm:', norm\n",
    "    for method in methods:\n",
    "        print '\\nmethod:', method\n",
    "        print 'Solution time:', solves[norm][method]['time']\n",
    "        print 'Explored nodes:', solves[norm][method]['nodes']"
   ]
  },
  {
   "cell_type": "code",
   "execution_count": null,
   "metadata": {},
   "outputs": [],
   "source": [
    "# plot state trajectory\n",
    "plt.rc('font', size=16)\n",
    "time = range(N+1)\n",
    "fig, ax1 = plt.subplots()\n",
    "ax1.set_xlabel(r'$t$')\n",
    "ax1.set_xlim([0,N])\n",
    "ax1.grid(True)\n",
    "\n",
    "# position of the ball and the paddle (x1 and x3)\n",
    "x1_plot = ax1.plot(time, [x_t[0] for x_t in x_mip], 'b-', label=r'$x_1$', linewidth=3)\n",
    "x2_plot = ax1.plot(time, [x_t[1] for x_t in x_mip], 'b-.', label=r'$x_2$', linewidth=3)\n",
    "x12_lim = max([-x_min[0], x_max[0], -x_min[1], x_max[1]])\n",
    "ax1.set_ylim([-x12_lim, x12_lim])\n",
    "ax1.set_ylabel(r'$x_1, x_2$', color='b')\n",
    "ax1.tick_params('y', colors='b')\n",
    "plt.legend()\n",
    "\n",
    "# velocity of the ball (x2)\n",
    "ax2 = ax1.twinx()\n",
    "x3_plot = ax2.plot(time, [x_t[2] for x_t in x_mip], 'r--', label=r'$x_3$', linewidth=3)\n",
    "x3_lim = max([-x_min[2],x_max[2]])\n",
    "ax2.set_ylim([-x3_lim, x3_lim])\n",
    "ax2.set_ylabel(r'$x_3$', color='r')\n",
    "ax2.tick_params('y', colors='r')\n",
    "\n",
    "# plot\n",
    "x_plot = x1_plot + x2_plot + x3_plot\n",
    "labels = [xi_plot.get_label() for xi_plot in x_plot]\n",
    "ax1.legend(x_plot, labels)\n",
    "plt.savefig('state.pdf', bbox_inches='tight')\n",
    "plt.show()"
   ]
  },
  {
   "cell_type": "code",
   "execution_count": null,
   "metadata": {
    "collapsed": true
   },
   "outputs": [],
   "source": [
    "# plot input sequence and contact force\n",
    "plt.rc('font', size=16)\n",
    "f = [max(k*(x_mip[t][1]-x_mip[t][0]) + c*(u_mip[t][0]-x_mip[t][2]) + m*g, 0.) for t in range(N)]\n",
    "fig, ax1 = plt.subplots()\n",
    "ax1.set_xlabel(r'$t$')\n",
    "ax1.set_xlim([0,N])\n",
    "ax1.grid(True)\n",
    "\n",
    "# input\n",
    "u_plot = ax1.step(time, [u_mip[0][0]] + [u_t[0] for u_t in u_mip], 'b', linestyle='-', label=r'$u$', linewidth=3)\n",
    "u_lim = max([-u_min[0], u_max[0]])\n",
    "ax1.set_ylim([-u_lim, u_lim])\n",
    "ax1.set_ylabel(r'$u$', color='b')\n",
    "ax1.tick_params('y', colors='b')\n",
    "plt.legend()\n",
    "\n",
    "# force\n",
    "ax2 = ax1.twinx()\n",
    "f_plot = ax2.step(time, [f[0]] + [f_t for f_t in f], 'r', linestyle='-.', label=r'$f \\ (x,u)$', linewidth=3)\n",
    "ax2.set_ylim([0, f_max])\n",
    "ax2.set_ylabel(r'$f \\ (x,u)$', color='r')\n",
    "ax2.tick_params('y', colors='r')\n",
    "\n",
    "# plot\n",
    "fu_plot = u_plot + f_plot\n",
    "labels = [fui_plot.get_label() for fui_plot in fu_plot]\n",
    "ax1.legend(fu_plot, labels)\n",
    "# plt.savefig('input_force.pdf', bbox_inches='tight')\n",
    "plt.show()"
   ]
  },
  {
   "cell_type": "markdown",
   "metadata": {},
   "source": [
    "## With my branch and bound"
   ]
  },
  {
   "cell_type": "code",
   "execution_count": null,
   "metadata": {
    "collapsed": true
   },
   "outputs": [],
   "source": [
    "from pympc.control.hybrid_benchmark.branch_and_bound import branch_and_bound, best_first"
   ]
  },
  {
   "cell_type": "code",
   "execution_count": null,
   "metadata": {
    "collapsed": true
   },
   "outputs": [],
   "source": [
    "def solver(identifier, objective_cutoff):\n",
    "    return controller.solve_relaxation(x0, identifier, objective_cutoff)"
   ]
  },
  {
   "cell_type": "code",
   "execution_count": null,
   "metadata": {
    "collapsed": true
   },
   "outputs": [],
   "source": [
    "lb = {}\n",
    "ub = {}\n",
    "for method in methods:\n",
    "    print method\n",
    "    controller = HybridModelPredictiveController(S, N, Q, R, P, X_N, method)\n",
    "    sol, lb_i, ub_i = branch_and_bound(solver, best_first, controller.explore_in_chronological_order)\n",
    "    lb[method] = lb_i\n",
    "    ub[method] = ub_i\n",
    "# np.save('lb', lb)\n",
    "# np.save('ub', ub)"
   ]
  },
  {
   "cell_type": "code",
   "execution_count": null,
   "metadata": {
    "collapsed": true
   },
   "outputs": [],
   "source": [
    "# upload\n",
    "lb = np.load('lb.npy').item()\n",
    "ub = np.load('ub.npy').item()"
   ]
  },
  {
   "cell_type": "code",
   "execution_count": null,
   "metadata": {},
   "outputs": [],
   "source": [
    "# format x axis to write nk instead of n000\n",
    "from matplotlib.ticker import FuncFormatter\n",
    "def thousands(x, pos):\n",
    "    return '%1.1fk' % (x*1e-3)\n",
    "formatter = FuncFormatter(thousands)\n",
    "\n",
    "mpl.rcParams['axes.prop_cycle'] = cycler(color='bgrcmyk')\n",
    "plt.rc('font', size=14)\n",
    "colors = ['g', 'c', 'r','b']\n",
    "linestyles = [':', '--', '-.', '-']\n",
    "for i, method in enumerate(methods):\n",
    "    plt.plot(lb[method]/max(lb[method]), label=method, color=colors[i], linestyle=linestyles[i], linewidth=3)\n",
    "#     plt.plot(ub[method]/min(ub[method]), color=colors[i], linestyle=linestyles[i], linewidth=3,zorder=0)\n",
    "    plt.scatter(len(lb[method]), 1, color=colors[i], marker='x', s=300)\n",
    "\n",
    "ax = plt.gca()\n",
    "ax.xaxis.set_major_formatter(formatter)\n",
    "    \n",
    "plt.xlim((0, 1.05*max([len(lb[method]) for method in methods])))\n",
    "plt.ylim((.95, 1.005))\n",
    "plt.legend()\n",
    "plt.grid(True)\n",
    "plt.xlabel(r'Nodes in B&B tree')\n",
    "plt.ylabel(r'Lower bound B&B / cost MICP')\n",
    "# plt.savefig('relaxation_ratio.pdf', bbox_inches='tight')\n",
    "plt.show()"
   ]
  },
  {
   "cell_type": "markdown",
   "metadata": {},
   "source": [
    "# Compare formulations for different levels of relaxation"
   ]
  },
  {
   "cell_type": "code",
   "execution_count": null,
   "metadata": {
    "collapsed": true
   },
   "outputs": [],
   "source": [
    "# cost of each relaxation as a function of time\n",
    "costs = {}\n",
    "for method in methods:\n",
    "    print method\n",
    "    controller = HybridModelPredictiveController(S, N, Q, R, P, X_N, method)\n",
    "#     controller.add_reachability_constraints()\n",
    "    costs[method] = []\n",
    "    for ms in [ms_mip[:i] for i in range(N+1)]:\n",
    "        cost = controller.solve_relaxation(x0, ms)[3]['objective']\n",
    "        if cost is not None:\n",
    "            cost /= cost_mip\n",
    "        costs[method].append(cost)"
   ]
  },
  {
   "cell_type": "code",
   "execution_count": null,
   "metadata": {
    "collapsed": true
   },
   "outputs": [],
   "source": [
    "# plot cost of relaxed problem / cost MICP\n",
    "mpl.rcParams['axes.prop_cycle'] = cycler(color='bgrcmyk')\n",
    "plt.rc('font', size=14)\n",
    "colors = ['g', 'c', 'r','b']\n",
    "linestyles = [':', '--', '-.', '-']\n",
    "for i, method in enumerate(methods):\n",
    "    plt.plot(range(N+1), costs[method], label=method, color=colors[i], linestyle=linestyles[i], linewidth=3)\n",
    "plt.xlim((0, N))\n",
    "plt.ylim((0, 1.1))\n",
    "plt.legend()\n",
    "plt.grid(True)\n",
    "plt.xlabel(r'$t$')\n",
    "plt.ylabel(r'Cost relaxed problem / cost MICP')\n",
    "# plt.savefig('relaxation_ratio.pdf', bbox_inches='tight')\n",
    "plt.show()"
   ]
  },
  {
   "cell_type": "markdown",
   "metadata": {},
   "source": [
    "# Objective as a function of the initial state ($x_1$ and $x_3$ only)"
   ]
  },
  {
   "cell_type": "code",
   "execution_count": null,
   "metadata": {
    "collapsed": true
   },
   "outputs": [],
   "source": [
    "# samples for the initial position and velocity of the ball\n",
    "q_p = 0.\n",
    "n_levels = 10\n",
    "n_samples = 101\n",
    "q_b_samples = np.linspace(x_min[0], x_max[0], n_samples)\n",
    "v_b_samples = np.linspace(x_min[2], x_max[2], n_samples)\n",
    "Q_b, V_b = np.meshgrid(q_b_samples, v_b_samples)"
   ]
  },
  {
   "cell_type": "code",
   "execution_count": null,
   "metadata": {
    "collapsed": true
   },
   "outputs": [],
   "source": [
    "# utils for the plots\n",
    "\n",
    "def my_round(x):\n",
    "    return floor(x*10.)/10.\n",
    "\n",
    "def get_neighbors(M, i, j):\n",
    "    return [\n",
    "        M[i+1, j-1],\n",
    "        M[i+1,   j],\n",
    "        M[i+1, j+1],\n",
    "        M[  i, j+1],\n",
    "        M[i-1, j+1],\n",
    "        M[i-1,   j],\n",
    "        M[i-1, j-1],\n",
    "        M[  i, j-1]\n",
    "    ]\n",
    "\n",
    "def fill_holes_cost_mat(cost_mat):\n",
    "    for i in range(1,n_samples-1):\n",
    "        for j in range(1,n_samples-1):\n",
    "            if np.isnan(cost_mat[i,j]):\n",
    "                neighbors = get_neighbors(cost_mat, i, j)\n",
    "                if not any([np.isnan(n) for n in neighbors]):\n",
    "                    print 'Filled', (i,j) \n",
    "                    cost_mat[i,j] = sum(neighbors)/8.\n",
    "    return cost_mat\n",
    "\n",
    "def regularize_cost_mat(cost_mat):\n",
    "    for i in range(1,n_samples-1):\n",
    "        for j in range(1,n_samples-1):\n",
    "            neighbors = get_neighbors(cost_mat, i, j)\n",
    "            if all([cost_mat[i,j] > n for n in neighbors]):\n",
    "                print 'Regularized', (i,j) \n",
    "                cost_mat[i,j] = sum(neighbors)/8.\n",
    "    return cost_mat"
   ]
  },
  {
   "cell_type": "code",
   "execution_count": null,
   "metadata": {
    "collapsed": true
   },
   "outputs": [],
   "source": [
    "# solve relaxations for all MI formulations\n",
    "for method in methods:\n",
    "    print method\n",
    "    controller = HybridModelPredictiveController(S, N, Q, R, P, X_N, method)\n",
    "    \n",
    "    # get feasible sets (uses the feasible set of the CH method for the CHLC method)\n",
    "    if method in ['Traditional formulation', 'Big-M', 'Convex hull']:\n",
    "        cs = get_constraint_set(controller.prog)\n",
    "        var_indices = {v: i for i, v in enumerate(controller.prog.getVars())}\n",
    "        v_index = var_indices[controller.prog.getVarByName('x0[1]')]\n",
    "        A_sect = cs.A[:, [i for i in range(cs.A.shape[1]) if i != v_index]]\n",
    "        b_sect = cs.b - cs.A[:, v_index]*q_p\n",
    "        cs_sect = Polyhedron(A_sect, b_sect)\n",
    "        sect = convex_hull_method_fast(cs_sect, [0,1])\n",
    "        \n",
    "    # samples on the grid\n",
    "    cost_mat = np.empty([n_samples]*2)\n",
    "    for i, q_b in enumerate(q_b_samples):\n",
    "        for j, v_b in enumerate(v_b_samples):\n",
    "            print(str(i) + ',' + str(j) + '   \\r'),\n",
    "            x0 = np.array([q_b,q_p,v_b])\n",
    "            cost = controller.feedforward_relaxation(x0, [])[3]\n",
    "            cost_mat[i,j] = cost\n",
    "    \n",
    "#     # save data\n",
    "#     np.save(method + '_feasible_set_A', sect.A)\n",
    "#     np.save(method + '_feasible_set_b', sect.b)\n",
    "#     np.save(method, cost_mat)"
   ]
  },
  {
   "cell_type": "code",
   "execution_count": null,
   "metadata": {
    "collapsed": true
   },
   "outputs": [],
   "source": [
    "# plot cost and feasible set\n",
    "plt.rc('font', size=14)\n",
    "for method in methods:\n",
    "#     cost_mat = np.load(method + '.npy')\n",
    "#     if method in ['Traditional formulation', 'Big-M', 'Convex hull']:\n",
    "#         A = np.load(method + '_feasible_set_A.npy')\n",
    "#         b = np.load(method + '_feasible_set_b.npy')\n",
    "#         sect = Polyhedron(A, b)\n",
    "    levels = [my_round((i+1)*np.nanmax(cost_mat)/n_levels) for i in range(n_levels)]\n",
    "    cp = plt.contour(Q_b, V_b, cost_mat.T, levels=levels, cmap='viridis_r')\n",
    "    plt.colorbar(cp, label='Cost relaxed problem')\n",
    "    sect.plot(facecolor='w')\n",
    "    plt.xlabel(r'$x_1$')\n",
    "    plt.ylabel(r'$x_3$')\n",
    "    plt.title(method)\n",
    "    plt.grid(True)\n",
    "#     plt.savefig(method + '.pdf',bbox_inches='tight')\n",
    "    plt.savefig('new_ch.pdf',bbox_inches='tight')\n",
    "    plt.show()"
   ]
  },
  {
   "cell_type": "code",
   "execution_count": null,
   "metadata": {
    "collapsed": true
   },
   "outputs": [],
   "source": [
    "# solve MICP on the grid (COMMENT prog.reset() BEFORE RUNNING THIS!!!)\n",
    "cost_mat = np.empty([n_samples]*2)\n",
    "controller = HybridModelPredictiveController(S, N, Q, R, P, X_N, 'Big-M')\n",
    "controller.prog.setParam('OutputFlag', 0)\n",
    "controller.prog.setParam('MIPGap', 0.01)\n",
    "controller.prog.setParam('TimeLimit', 1200.)\n",
    "time_limits = 0\n",
    "for i, q_b in enumerate(q_b_samples):\n",
    "    for j, v_b in enumerate(v_b_samples):\n",
    "        print(str(i) + ',' + str(j) + ',' + str(time_limits) + '    \\r'),\n",
    "        x0 = np.array([[q_b],[q_p],[v_b]])\n",
    "        cost = controller.feedforward(x0)[3]\n",
    "        cost_mat[i,j] = cost\n",
    "        if controller.prog.status == 9:\n",
    "            time_limits += 1\n",
    "            \n",
    "# # save data\n",
    "# np.save('q_b_samples', q_b_samples)\n",
    "# np.save('v_b_samples', v_b_samples)\n",
    "# np.save('cost_mat_miqp', cost_mat)"
   ]
  },
  {
   "cell_type": "code",
   "execution_count": null,
   "metadata": {
    "collapsed": true,
    "scrolled": true
   },
   "outputs": [],
   "source": [
    "# plot cost MICP\n",
    "plt.rc('font', size=14)\n",
    "cost_mat = np.load('cost_mat_miqp.npy')\n",
    "cost_mat = fill_holes_cost_mat(cost_mat)\n",
    "cost_mat = regularize_cost_mat(cost_mat)\n",
    "n_levels = 9\n",
    "levels = [0.] + [my_round((i+1)*np.nanmax(cost_mat)/n_levels) for i in range(n_levels)]\n",
    "cp = plt.contourf(Q_b, V_b, cost_mat.T, levels=levels, cmap='viridis_r')\n",
    "plt.grid(True)\n",
    "plt.xlabel(r'$x_1$')\n",
    "plt.ylabel(r'$x_3$')\n",
    "plt.colorbar(cp, label='Cost MICP')\n",
    "plt.grid(True)\n",
    "# plt.savefig('cost_mat_miqp.pdf',bbox_inches='tight')\n",
    "plt.show()"
   ]
  }
 ],
 "metadata": {
  "kernelspec": {
   "display_name": "Python 2",
   "language": "python",
   "name": "python2"
  },
  "language_info": {
   "codemirror_mode": {
    "name": "ipython",
    "version": 2
   },
   "file_extension": ".py",
   "mimetype": "text/x-python",
   "name": "python",
   "nbconvert_exporter": "python",
   "pygments_lexer": "ipython2",
   "version": "2.7.15"
  }
 },
 "nbformat": 4,
 "nbformat_minor": 2
}
