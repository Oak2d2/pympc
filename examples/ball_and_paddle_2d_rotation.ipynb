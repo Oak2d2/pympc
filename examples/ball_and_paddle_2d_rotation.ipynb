{
 "cells": [
  {
   "cell_type": "code",
   "execution_count": 143,
   "metadata": {},
   "outputs": [
    {
     "name": "stdout",
     "output_type": "stream",
     "text": [
      "The autoreload extension is already loaded. To reload it, use:\n",
      "  %reload_ext autoreload\n"
     ]
    }
   ],
   "source": [
    "# notebook settings\n",
    "%load_ext autoreload\n",
    "%autoreload 2\n",
    "\n",
    "# external imports\n",
    "import numpy as np\n",
    "import matplotlib as mpl\n",
    "import matplotlib.pyplot as plt\n",
    "from copy import copy\n",
    "from math import floor\n",
    "\n",
    "# internal imports\n",
    "from pympc.geometry.polyhedron import Polyhedron\n",
    "from pympc.dynamics.discrete_time_systems import LinearSystem, AffineSystem, PieceWiseAffineSystem\n",
    "from pympc.control.hybrid_benchmark.controllers import HybridModelPredictiveController\n",
    "from pympc.plot import plot_input_sequence, plot_state_trajectory, plot_output_trajectory\n",
    "from pympc.control.hybrid_benchmark.utils import get_constraint_set, remove_redundant_inequalities_fast, convex_hull_method_fast"
   ]
  },
  {
   "cell_type": "markdown",
   "metadata": {},
   "source": [
    "# Problem set-up"
   ]
  },
  {
   "cell_type": "code",
   "execution_count": 203,
   "metadata": {},
   "outputs": [],
   "source": [
    "# numeric parameters of the system\n",
    "m = 1.\n",
    "r = .1\n",
    "I = .4*m*r**2.\n",
    "d = .5\n",
    "k = 500.\n",
    "bt = 50.\n",
    "bn = 20.\n",
    "mu = .2\n",
    "g = 10.\n",
    "h = .02"
   ]
  },
  {
   "cell_type": "code",
   "execution_count": 204,
   "metadata": {},
   "outputs": [],
   "source": [
    "# state: x = (qxb, qyb, tzb, qxp, qyp, vxb, vyb, ozb)\n",
    "# input: u = (vxp, vyp)\n",
    "\n",
    "# discretization method\n",
    "method = 'zero_order_hold'\n",
    "\n",
    "# dynamics n.1 (ball in the air)\n",
    "A1 = np.block([\n",
    "    [np.zeros((3,5)), np.eye(3)],\n",
    "    [np.zeros((5,8))]\n",
    "    ])\n",
    "B1 = np.block([\n",
    "    [np.zeros((3,2))],\n",
    "    [np.eye(2)],\n",
    "    [np.zeros((3,2))]\n",
    "    ])\n",
    "c1 = np.array([0.]*6 + [-g, 0.])\n",
    "S1 = AffineSystem.from_continuous(A1, B1, c1, h, method)\n",
    "\n",
    "# dynamics n.2 (paddle pulling ball)\n",
    "S2 = copy(S1)\n",
    "\n",
    "# dynamics n.3 (paddle pushing ball, sticking)\n",
    "# (no offset terms, the zero of the position of the ball is shifted by m*g/k-r)\n",
    "A3 = copy(A1)\n",
    "A3[5,5] = -bt/m\n",
    "A3[5,7] = -r*bt/m\n",
    "A3[6,1] = -k/m\n",
    "A3[6,4] = k/m\n",
    "A3[6,6] = -bn/m\n",
    "A3[7,5] = -r*bt/I\n",
    "A3[7,7] = -r*r*bt/I\n",
    "B3 = copy(B1)\n",
    "B3[5,0] = bt/m\n",
    "B3[6,1] = bn/m\n",
    "B3[7,0] = r*bt/I\n",
    "S3 = LinearSystem.from_continuous(A3, B3, h, method)\n",
    "\n",
    "# dynamics n.4 (paddle pushing ball, ball sliding left wrt paddle)\n",
    "A4 = copy(A3)\n",
    "A4[5] = mu * A4[6]\n",
    "A4[7] = r*m/I * A4[5]\n",
    "B4 = copy(B3)\n",
    "B4[5] = mu * B4[6]\n",
    "B4[7] = r*m/I * B4[5]\n",
    "c4 = np.array([0.]*5 + [mu*g, 0., r*m*mu*g/I])\n",
    "S4 = AffineSystem.from_continuous(A4, B4, c4, h, method)\n",
    "\n",
    "# dynamics n.5 (paddle pushing ball, ball sliding right wrt paddle)\n",
    "A5 = copy(A4)\n",
    "A5[5] = -A5[5]\n",
    "A5[7] = -A5[7]\n",
    "B5 = copy(B4)\n",
    "B5[5] = -B5[5]\n",
    "B5[7] = -B5[7]\n",
    "c5 = -c4\n",
    "S5 = AffineSystem.from_continuous(A5, B5, c5, h, method)\n",
    "\n",
    "# list of dynamics\n",
    "S_list = [S1, S2, S3, S4, S5]"
   ]
  },
  {
   "cell_type": "code",
   "execution_count": 205,
   "metadata": {
    "collapsed": true
   },
   "outputs": [],
   "source": [
    "# state: x = (qxb, qyb, tzb, qxp, qyp, vxb, vyb, ozb)\n",
    "# input: u = (vxp, vyp)\n",
    "\n",
    "### limite sulla forza massima\n",
    "\n",
    "# state bounds\n",
    "x_max = np.array([1., .5, 3*np.pi, .5, .3, 10., 10., 20.])*2.\n",
    "x_min = - x_max # np.array([-1., -1., -1.2, -.2, -5., -5.])\n",
    "\n",
    "# input bounds\n",
    "u_max = np.array([100., 100.])*2.\n",
    "u_min = - u_max\n",
    "\n",
    "# domain bounds\n",
    "xu_min = np.concatenate((x_min, u_min))\n",
    "xu_max = np.concatenate((x_max, u_max))\n",
    "\n",
    "'''\n",
    "domain n.1, out of contact if:\n",
    "qyb >= qyp + mg/k\n",
    "'''\n",
    "D1 = Polyhedron.from_bounds(xu_min, xu_max)\n",
    "D1.add_inequality(\n",
    "    np.array([[0., -1., 0., 0., 1., 0., 0., 0., 0., 0.]]),\n",
    "    np.array([-m*g/k])\n",
    ")\n",
    "assert D1.bounded\n",
    "assert not D1.empty\n",
    "\n",
    "'''\n",
    "domain n.2, pulling if:\n",
    "- qyb <= qyp + mg/k,\n",
    "- fn = k(qyp-qyb) + bn(vyp-vyb) + mg <= 0\n",
    "'''\n",
    "D2 = Polyhedron.from_bounds(xu_min, xu_max)\n",
    "D2.add_inequality(\n",
    "    np.array([[0., 1., 0., 0., -1., 0., 0., 0., 0., 0.]]),\n",
    "    np.array([m*g/k])\n",
    ")\n",
    "D2.add_inequality(\n",
    "    np.array([[0., -k, 0., 0., k, 0., -bn, 0., 0., bn]]),\n",
    "    np.array([-m*g])\n",
    ")\n",
    "assert D2.bounded\n",
    "assert not D2.empty\n",
    "\n",
    "'''\n",
    "domain n.3, sticking if:\n",
    "- qyb <= qyp + mg/k,\n",
    "- fn = k(qyp-qyb) + bn(vyp-vyb) + mg >= 0,\n",
    "- ft = bt(vxp-vxb-r ozb) <= mu fn = mu k(qyp-qyb) + mu bn(vyp-vyb) + mu mg,\n",
    "- ft = bt(vxp-vxb-r ozb) >= -mu fn = -mu k(qyp-qyb) - mu bn(vyp-vyb) - mu mg,\n",
    "- qxb - qxp <= d,\n",
    "- qxp - qxb <= d\n",
    "'''\n",
    "D3 = Polyhedron.from_bounds(xu_min, xu_max)\n",
    "D3.add_inequality(\n",
    "    np.array([[0., 1., 0., 0., -1., 0., 0., 0., 0., 0.]]),\n",
    "    np.array([m*g/k])\n",
    ")\n",
    "D3.add_inequality(\n",
    "    np.array([[0., k, 0., 0., -k, 0., bn, 0., 0., -bn]]),\n",
    "    np.array([m*g])\n",
    ")\n",
    "D3.add_inequality(\n",
    "    np.array([[0., mu*k, 0., 0., -mu*k, -bt, mu*bn, -r*bt, bt, -mu*bn]]),\n",
    "    np.array([mu*m*g])\n",
    ")\n",
    "D3.add_inequality(\n",
    "    np.array([[0., mu*k, 0., 0., -mu*k, bt, mu*bn, r*bt, -bt, -mu*bn]]),\n",
    "    np.array([mu*m*g])\n",
    ")\n",
    "D3.add_inequality(\n",
    "    np.array([[1., 0., 0., -1., 0., 0., 0., 0., 0., 0.]]),\n",
    "    np.array([d])\n",
    ")\n",
    "D3.add_inequality(\n",
    "    np.array([[-1., 0., 0., 1., 0., 0., 0., 0., 0., 0.]]),\n",
    "    np.array([d])\n",
    ")\n",
    "assert D3.bounded\n",
    "assert not D3.empty\n",
    "\n",
    "'''\n",
    "domain n.4, ball sliding left wrt paddle if:\n",
    "- qyb <= qyp + mg/k,\n",
    "- fn = k(qyp-qyb) + bn(vyp-vyb) + mg >= 0,\n",
    "- ft = bt(vxp-vxb-r ozb) >= mu fn = mu k(qyp-qyb) + mu bn(vyp-vyb) + mu mg,\n",
    "- qxb - qxp <= d,\n",
    "- qxp - qxb <= d\n",
    "'''\n",
    "D4 = Polyhedron.from_bounds(xu_min, xu_max)\n",
    "D4.add_inequality(\n",
    "    np.array([[0., 1., 0., 0., -1., 0., 0., 0., 0., 0.]]),\n",
    "    np.array([m*g/k])\n",
    ")\n",
    "D4.add_inequality(\n",
    "    np.array([[0., k, 0., 0., -k, 0., bn, 0., 0., -bn]]),\n",
    "    np.array([m*g])\n",
    ")\n",
    "D4.add_inequality(\n",
    "    np.array([[0., -mu*k, 0., 0., mu*k, bt, -mu*bn, r*bt, -bt, mu*bn]]),\n",
    "    np.array([-mu*m*g])\n",
    ")\n",
    "D3.add_inequality(\n",
    "    np.array([[1., 0., 0., -1., 0., 0., 0., 0., 0., 0.]]),\n",
    "    np.array([d])\n",
    ")\n",
    "D3.add_inequality(\n",
    "    np.array([[-1., 0., 0., 1., 0., 0., 0., 0., 0., 0.]]),\n",
    "    np.array([d])\n",
    ")\n",
    "assert D4.bounded\n",
    "assert not D4.empty\n",
    "\n",
    "'''\n",
    "domain n.5, ball sliding right wrt paddle if:\n",
    "- qyb <= qyp + mg/k,\n",
    "- fn = k(qyp-qyb) + bn(vyp-vyb) + mg >= 0,\n",
    "- ft = bt(vxp-vxb-r ozb) <= -mu fn = -mu k(qyp-qyb) - mu bn(vyp-vyb) - mu mg,\n",
    "- qxb - qxp <= d,\n",
    "- qxp - qxb <= d\n",
    "'''\n",
    "D5 = Polyhedron.from_bounds(xu_min, xu_max)\n",
    "D5.add_inequality(\n",
    "    np.array([[0., 1., 0., 0., -1., 0., 0., 0., 0., 0.]]),\n",
    "    np.array([m*g/k])\n",
    ")\n",
    "D5.add_inequality(\n",
    "    np.array([[0., k, 0., 0., -k, 0., bn, 0., 0., -bn]]),\n",
    "    np.array([m*g])\n",
    ")\n",
    "D5.add_inequality(\n",
    "    np.array([[0., -mu*k, 0., 0., mu*k, -bt, -mu*bn, -r*bt, bt, mu*bn]]),\n",
    "    np.array([-mu*m*g])\n",
    ")\n",
    "D3.add_inequality(\n",
    "    np.array([[1., 0., 0., -1., 0., 0., 0., 0., 0., 0.]]),\n",
    "    np.array([d])\n",
    ")\n",
    "D3.add_inequality(\n",
    "    np.array([[-1., 0., 0., 1., 0., 0., 0., 0., 0., 0.]]),\n",
    "    np.array([d])\n",
    ")\n",
    "assert D5.bounded\n",
    "assert not D5.empty\n",
    "\n",
    "# list of domains\n",
    "D_list = [D1, D2, D3, D4, D5]"
   ]
  },
  {
   "cell_type": "code",
   "execution_count": 206,
   "metadata": {
    "collapsed": true
   },
   "outputs": [],
   "source": [
    "# state: x = (qxb, qyb, tzb, qxp, qyp, vxb, vyb, ozb)\n",
    "# input: u = (vxp, vyp)\n",
    "\n",
    "# PWA system\n",
    "S = PieceWiseAffineSystem(S_list, D_list)\n",
    "\n",
    "# controller parameters\n",
    "N = 50\n",
    "Q = np.diag([1.,1.,1.,1.,1.,.1,1.,1.])*h\n",
    "R = np.diag([1.,1.])*h\n",
    "\n",
    "# terminal set and cost\n",
    "P = Q\n",
    "X_N = Polyhedron.from_bounds(*[np.zeros(8)]*2)"
   ]
  },
  {
   "cell_type": "code",
   "execution_count": 207,
   "metadata": {},
   "outputs": [],
   "source": [
    "controller = HybridModelPredictiveController(S, N, Q, R, P, X_N, method='Convex hull')\n",
    "# controller.prog.setParam('Heuristics', 0)"
   ]
  },
  {
   "cell_type": "code",
   "execution_count": 208,
   "metadata": {},
   "outputs": [],
   "source": [
    "# initial condition\n",
    "x0 = np.array([0.,0.,2.*np.pi,0.,0.,0.,0.,0.])*.001"
   ]
  },
  {
   "cell_type": "code",
   "execution_count": 202,
   "metadata": {},
   "outputs": [
    {
     "name": "stdout",
     "output_type": "stream",
     "text": [
      "Parameter OutputFlag unchanged\n",
      "   Value: 1  Min: 0  Max: 1  Default: 1\n",
      "Optimize a model with 10980 rows, 5258 columns and 37180 nonzeros\n",
      "Model has 508 quadratic objective terms\n",
      "Variable types: 5008 continuous, 250 integer (250 binary)\n",
      "Coefficient statistics:\n",
      "  Matrix range     [2e-03, 1e+03]\n",
      "  Objective range  [0e+00, 0e+00]\n",
      "  QObjective range [1e-02, 1e-01]\n",
      "  Bounds range     [6e-03, 6e-03]\n",
      "  RHS range        [1e+00, 1e+00]\n",
      "Presolve removed 4476 rows and 2095 columns\n",
      "Presolve time: 0.08s\n",
      "Presolved: 6504 rows, 3163 columns, 23144 nonzeros\n",
      "Presolved model has 492 quadratic objective terms\n",
      "Variable types: 2914 continuous, 249 integer (249 binary)\n",
      "\n",
      "Root relaxation: infeasible, 13104 iterations, 0.21 seconds\n",
      "\n",
      "    Nodes    |    Current Node    |     Objective Bounds      |     Work\n",
      " Expl Unexpl |  Obj  Depth IntInf | Incumbent    BestBd   Gap | It/Node Time\n",
      "\n",
      "     0     0 infeasible    0               - infeasible      -     -    0s\n",
      "\n",
      "Explored 0 nodes (13104 simplex iterations) in 0.35 seconds\n",
      "Thread count was 4 (of 4 available processors)\n",
      "\n",
      "Solution count 0\n",
      "\n",
      "Model is infeasible or unbounded\n",
      "Best objective -, best bound -, gap -\n"
     ]
    }
   ],
   "source": [
    "u, x, ms, cost = controller.feedforward(x0)"
   ]
  },
  {
   "cell_type": "code",
   "execution_count": null,
   "metadata": {},
   "outputs": [],
   "source": [
    "plot_input_sequence(u, h, (u_min, u_max))"
   ]
  },
  {
   "cell_type": "code",
   "execution_count": null,
   "metadata": {},
   "outputs": [],
   "source": [
    "plot_state_trajectory(x, h, (x_min, x_max))"
   ]
  },
  {
   "cell_type": "code",
   "execution_count": 218,
   "metadata": {},
   "outputs": [],
   "source": [
    "x0 = np.array([0.,.0,0.,0.,0.,.0,0.,.0])\n",
    "x, ms = S.simulate(x0, [np.array([0.1,0.1])]*100)"
   ]
  },
  {
   "cell_type": "markdown",
   "metadata": {},
   "source": [
    "# Animation"
   ]
  },
  {
   "cell_type": "code",
   "execution_count": 211,
   "metadata": {
    "collapsed": true
   },
   "outputs": [],
   "source": [
    "import meshcat\n",
    "from meshcat.geometry import Box, Sphere, Cylinder, MeshLambertMaterial\n",
    "from meshcat.animation import Animation\n",
    "import meshcat.transformations as tf"
   ]
  },
  {
   "cell_type": "code",
   "execution_count": 212,
   "metadata": {
    "scrolled": true
   },
   "outputs": [
    {
     "name": "stdout",
     "output_type": "stream",
     "text": [
      "You can open the visualizer by visiting the following URL:\n",
      "http://127.0.0.1:7001/static/\n"
     ]
    },
    {
     "data": {
      "text/plain": [
       "<Visualizer using: <meshcat.visualizer.ViewerWindow instance at 0x1130196c8> at path: <meshcat.path.Path object at 0x113028168>>"
      ]
     },
     "execution_count": 212,
     "metadata": {},
     "output_type": "execute_result"
    }
   ],
   "source": [
    "vis = meshcat.Visualizer()\n",
    "# vis.jupyter_cell()\n",
    "vis.open()"
   ]
  },
  {
   "cell_type": "code",
   "execution_count": 213,
   "metadata": {},
   "outputs": [],
   "source": [
    "paddle_z = .05\n",
    "paddle_x = .3\n",
    "red = 0xff2222\n",
    "blue = 0x2222ff\n",
    "green = 0x22ff22\n",
    "vis['paddle'].set_object(Box([paddle_x, d*2., paddle_z]), MeshLambertMaterial(color=red))\n",
    "vis['ball'].set_object(Sphere(r), MeshLambertMaterial(color=blue))\n",
    "vis['ball_orientation'].set_object(Cylinder(.01, r), MeshLambertMaterial(color=green))"
   ]
  },
  {
   "cell_type": "code",
   "execution_count": 219,
   "metadata": {},
   "outputs": [],
   "source": [
    "anim = Animation()\n",
    "for t in range(len(x)):\n",
    "    with anim.at_frame(vis, t*h*30) as frame:\n",
    "        frame['paddle'].set_transform(\n",
    "            tf.translation_matrix([0, x[t][3], x[t][4]+m*g/k-paddle_z/2.])\n",
    "        )\n",
    "        frame['ball'].set_transform(\n",
    "            tf.translation_matrix([0, x[t][0], x[t][1]+r])\n",
    "        )\n",
    "        frame['ball_orientation'].set_transform(\n",
    "            tf.translation_matrix([0, x[t][0], x[t][1]+r]).dot(\n",
    "                tf.rotation_matrix(x[t][2], [1.,0.,0.])\n",
    "            )\n",
    "        )\n",
    "vis.set_animation(anim)"
   ]
  }
 ],
 "metadata": {
  "kernelspec": {
   "display_name": "Python 2",
   "language": "python",
   "name": "python2"
  },
  "language_info": {
   "codemirror_mode": {
    "name": "ipython",
    "version": 2
   },
   "file_extension": ".py",
   "mimetype": "text/x-python",
   "name": "python",
   "nbconvert_exporter": "python",
   "pygments_lexer": "ipython2",
   "version": "2.7.15"
  }
 },
 "nbformat": 4,
 "nbformat_minor": 2
}
