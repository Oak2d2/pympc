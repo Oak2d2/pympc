{
 "cells": [
  {
   "cell_type": "code",
   "execution_count": 1,
   "metadata": {},
   "outputs": [],
   "source": [
    "# notebook settings\n",
    "%load_ext autoreload\n",
    "%autoreload 2\n",
    "\n",
    "# external imports\n",
    "import numpy as np\n",
    "import matplotlib as mpl\n",
    "import matplotlib.pyplot as plt\n",
    "from copy import copy\n",
    "from math import floor\n",
    "\n",
    "# internal imports\n",
    "from pympc.geometry.polyhedron import Polyhedron\n",
    "from pympc.dynamics.discrete_time_systems import LinearSystem, AffineSystem, PieceWiseAffineSystem\n",
    "from pympc.control.hybrid_benchmark.controllers import HybridModelPredictiveController\n",
    "from pympc.plot import plot_input_sequence, plot_state_trajectory, plot_output_trajectory\n",
    "from pympc.control.hybrid_benchmark.utils import get_constraint_set, remove_redundant_inequalities_fast, convex_hull_method_fast"
   ]
  },
  {
   "cell_type": "markdown",
   "metadata": {},
   "source": [
    "# Problem set-up"
   ]
  },
  {
   "cell_type": "code",
   "execution_count": 9,
   "metadata": {
    "collapsed": true
   },
   "outputs": [],
   "source": [
    "# numeric parameters of the system\n",
    "m = 1.\n",
    "r = .1\n",
    "I = .4*m*r**2.\n",
    "d = .5\n",
    "k = 500.\n",
    "bt = 20.\n",
    "bn = 10.\n",
    "mu = .2\n",
    "g = 10.\n",
    "h = .025"
   ]
  },
  {
   "cell_type": "code",
   "execution_count": 10,
   "metadata": {
    "collapsed": true
   },
   "outputs": [],
   "source": [
    "# state: x = (qxb, qyb, tzb, qxp, qyp, vxb, vyb, ozb)\n",
    "# input: u = (vxp, vyp)\n",
    "\n",
    "# discretization method\n",
    "method = 'zero_order_hold'\n",
    "\n",
    "# dynamics n.1 (ball in the air)\n",
    "A1 = np.block([\n",
    "    [np.zeros((3,5)), np.eye(3)],\n",
    "    [np.zeros((5,8))]\n",
    "    ])\n",
    "B1 = np.block([\n",
    "    [np.zeros((3,2))],\n",
    "    [np.eye(2)],\n",
    "    [np.zeros((3,2))]\n",
    "    ])\n",
    "c1 = np.array([0.]*6 + [-g, 0.])\n",
    "S1 = AffineSystem.from_continuous(A1, B1, c1, h, method)\n",
    "\n",
    "# dynamics n.2 (paddle pulling ball)\n",
    "S2 = copy(S1)\n",
    "\n",
    "# dynamics n.3 (paddle pushing ball, sticking)\n",
    "# (no offset terms, the zero of the position of the ball is shifted by m*g/k-r)\n",
    "A3 = copy(A1)\n",
    "A3[5,5] = -bt/m\n",
    "A3[5,7] = -r*bt/m\n",
    "A3[6,1] = -k/m\n",
    "A3[6,4] = k/m\n",
    "A3[6,6] = -bn/m\n",
    "A3[7,5] = -r*bt/I\n",
    "A3[7,7] = -r*r*bt/I\n",
    "B3 = copy(B1)\n",
    "B3[5,0] = bt/m\n",
    "B3[6,1] = bn/m\n",
    "B3[7,0] = r*bt/I\n",
    "S3 = LinearSystem.from_continuous(A3, B3, h, method)\n",
    "\n",
    "# dynamics n.4 (paddle pushing ball, ball sliding left wrt paddle)\n",
    "A4 = copy(A3)\n",
    "A4[5] = mu * A4[6]\n",
    "A4[7] = r*m/I * A4[5]\n",
    "B4 = copy(B3)\n",
    "B4[5] = mu * B4[6]\n",
    "B4[7] = r*m/I * B4[5]\n",
    "c4 = np.array([0.]*5 + [mu*g, 0., r*m*mu*g/I])\n",
    "S4 = AffineSystem.from_continuous(A4, B4, c4, h, method)\n",
    "\n",
    "# dynamics n.5 (paddle pushing ball, ball sliding right wrt paddle)\n",
    "A5 = copy(A4)\n",
    "A5[5] = -A5[5]\n",
    "A5[7] = -A5[7]\n",
    "B5 = copy(B4)\n",
    "B5[5] = -B5[5]\n",
    "B5[7] = -B5[7]\n",
    "c5 = -c4\n",
    "S5 = AffineSystem.from_continuous(A5, B5, c5, h, method)\n",
    "\n",
    "# list of dynamics\n",
    "S_list = [S1, S2, S3, S4, S5]"
   ]
  },
  {
   "cell_type": "code",
   "execution_count": 11,
   "metadata": {
    "collapsed": true
   },
   "outputs": [],
   "source": [
    "# state: x = (qxb, qyb, tzb, qxp, qyp, vxb, vyb, ozb)\n",
    "# input: u = (vxp, vyp)\n",
    "\n",
    "### limite sulla forza massima\n",
    "\n",
    "# state bounds\n",
    "x_max = np.array([1., 3., 3*np.pi, .5, 1., 10., 10., 20.])\n",
    "x_min = - x_max # np.array([-1., -1., -1.2, -.2, -5., -5.])\n",
    "\n",
    "# input bounds\n",
    "u_max = np.array([100., 100.])*2.\n",
    "u_min = - u_max\n",
    "\n",
    "# domain bounds\n",
    "xu_min = np.concatenate((x_min, u_min))\n",
    "xu_max = np.concatenate((x_max, u_max))\n",
    "\n",
    "'''\n",
    "domain n.1, out of contact if:\n",
    "qyb >= qyp + mg/k\n",
    "'''\n",
    "D1 = Polyhedron.from_bounds(xu_min, xu_max)\n",
    "D1.add_inequality(\n",
    "    np.array([[0., -1., 0., 0., 1., 0., 0., 0., 0., 0.]]),\n",
    "    np.array([-m*g/k])\n",
    ")\n",
    "assert D1.bounded\n",
    "assert not D1.empty\n",
    "\n",
    "'''\n",
    "domain n.2, pulling if:\n",
    "- qyb <= qyp + mg/k,\n",
    "- fn = k(qyp-qyb) + bn(vyp-vyb) + mg <= 0\n",
    "'''\n",
    "D2 = Polyhedron.from_bounds(xu_min, xu_max)\n",
    "D2.add_inequality(\n",
    "    np.array([[0., 1., 0., 0., -1., 0., 0., 0., 0., 0.]]),\n",
    "    np.array([m*g/k])\n",
    ")\n",
    "D2.add_inequality(\n",
    "    np.array([[0., -k, 0., 0., k, 0., -bn, 0., 0., bn]]),\n",
    "    np.array([-m*g])\n",
    ")\n",
    "assert D2.bounded\n",
    "assert not D2.empty\n",
    "\n",
    "'''\n",
    "domain n.3, sticking if:\n",
    "- qyb <= qyp + mg/k,\n",
    "- fn = k(qyp-qyb) + bn(vyp-vyb) + mg >= 0,\n",
    "- ft = bt(vxp-vxb-r ozb) <= mu fn = mu k(qyp-qyb) + mu bn(vyp-vyb) + mu mg,\n",
    "- ft = bt(vxp-vxb-r ozb) >= -mu fn = -mu k(qyp-qyb) - mu bn(vyp-vyb) - mu mg,\n",
    "- qxb - qxp <= d,\n",
    "- qxp - qxb <= d\n",
    "'''\n",
    "D3 = Polyhedron.from_bounds(xu_min, xu_max)\n",
    "D3.add_inequality(\n",
    "    np.array([[0., 1., 0., 0., -1., 0., 0., 0., 0., 0.]]),\n",
    "    np.array([m*g/k])\n",
    ")\n",
    "D3.add_inequality(\n",
    "    np.array([[0., k, 0., 0., -k, 0., bn, 0., 0., -bn]]),\n",
    "    np.array([m*g])\n",
    ")\n",
    "D3.add_inequality(\n",
    "    np.array([[0., mu*k, 0., 0., -mu*k, -bt, mu*bn, -r*bt, bt, -mu*bn]]),\n",
    "    np.array([mu*m*g])\n",
    ")\n",
    "D3.add_inequality(\n",
    "    np.array([[0., mu*k, 0., 0., -mu*k, bt, mu*bn, r*bt, -bt, -mu*bn]]),\n",
    "    np.array([mu*m*g])\n",
    ")\n",
    "D3.add_inequality(\n",
    "    np.array([[1., 0., 0., -1., 0., 0., 0., 0., 0., 0.]]),\n",
    "    np.array([d])\n",
    ")\n",
    "D3.add_inequality(\n",
    "    np.array([[-1., 0., 0., 1., 0., 0., 0., 0., 0., 0.]]),\n",
    "    np.array([d])\n",
    ")\n",
    "assert D3.bounded\n",
    "assert not D3.empty\n",
    "\n",
    "'''\n",
    "domain n.4, ball sliding left wrt paddle if:\n",
    "- qyb <= qyp + mg/k,\n",
    "- fn = k(qyp-qyb) + bn(vyp-vyb) + mg >= 0,\n",
    "- ft = bt(vxp-vxb-r ozb) >= mu fn = mu k(qyp-qyb) + mu bn(vyp-vyb) + mu mg,\n",
    "- qxb - qxp <= d,\n",
    "- qxp - qxb <= d\n",
    "'''\n",
    "D4 = Polyhedron.from_bounds(xu_min, xu_max)\n",
    "D4.add_inequality(\n",
    "    np.array([[0., 1., 0., 0., -1., 0., 0., 0., 0., 0.]]),\n",
    "    np.array([m*g/k])\n",
    ")\n",
    "D4.add_inequality(\n",
    "    np.array([[0., k, 0., 0., -k, 0., bn, 0., 0., -bn]]),\n",
    "    np.array([m*g])\n",
    ")\n",
    "D4.add_inequality(\n",
    "    np.array([[0., -mu*k, 0., 0., mu*k, bt, -mu*bn, r*bt, -bt, mu*bn]]),\n",
    "    np.array([-mu*m*g])\n",
    ")\n",
    "D3.add_inequality(\n",
    "    np.array([[1., 0., 0., -1., 0., 0., 0., 0., 0., 0.]]),\n",
    "    np.array([d])\n",
    ")\n",
    "D3.add_inequality(\n",
    "    np.array([[-1., 0., 0., 1., 0., 0., 0., 0., 0., 0.]]),\n",
    "    np.array([d])\n",
    ")\n",
    "assert D4.bounded\n",
    "assert not D4.empty\n",
    "\n",
    "'''\n",
    "domain n.5, ball sliding right wrt paddle if:\n",
    "- qyb <= qyp + mg/k,\n",
    "- fn = k(qyp-qyb) + bn(vyp-vyb) + mg >= 0,\n",
    "- ft = bt(vxp-vxb-r ozb) <= -mu fn = -mu k(qyp-qyb) - mu bn(vyp-vyb) - mu mg,\n",
    "- qxb - qxp <= d,\n",
    "- qxp - qxb <= d\n",
    "'''\n",
    "D5 = Polyhedron.from_bounds(xu_min, xu_max)\n",
    "D5.add_inequality(\n",
    "    np.array([[0., 1., 0., 0., -1., 0., 0., 0., 0., 0.]]),\n",
    "    np.array([m*g/k])\n",
    ")\n",
    "D5.add_inequality(\n",
    "    np.array([[0., k, 0., 0., -k, 0., bn, 0., 0., -bn]]),\n",
    "    np.array([m*g])\n",
    ")\n",
    "D5.add_inequality(\n",
    "    np.array([[0., -mu*k, 0., 0., mu*k, -bt, -mu*bn, -r*bt, bt, mu*bn]]),\n",
    "    np.array([-mu*m*g])\n",
    ")\n",
    "D3.add_inequality(\n",
    "    np.array([[1., 0., 0., -1., 0., 0., 0., 0., 0., 0.]]),\n",
    "    np.array([d])\n",
    ")\n",
    "D3.add_inequality(\n",
    "    np.array([[-1., 0., 0., 1., 0., 0., 0., 0., 0., 0.]]),\n",
    "    np.array([d])\n",
    ")\n",
    "assert D5.bounded\n",
    "assert not D5.empty\n",
    "\n",
    "# list of domains\n",
    "D_list = [D1, D2, D3, D4, D5]"
   ]
  },
  {
   "cell_type": "code",
   "execution_count": 32,
   "metadata": {},
   "outputs": [],
   "source": [
    "# state: x = (qxb, qyb, tzb, qxp, qyp, vxb, vyb, ozb)\n",
    "# input: u = (vxp, vyp)\n",
    "\n",
    "# PWA system\n",
    "S = PieceWiseAffineSystem(S_list, D_list)\n",
    "\n",
    "# controller parameters\n",
    "N = 100\n",
    "Q = np.diag([1.,1.,1.,1.,1.,1.,1.,1.])\n",
    "R = np.diag([1.,1.])\n",
    "\n",
    "# terminal set and cost\n",
    "P = Q\n",
    "xN_min = np.array([-1.,0.,0.,0.,0.,0.,0.,0.])\n",
    "xN_max = np.array([1.,0.,0.,0.,0.,0.,0.,0.])\n",
    "# X_N = Polyhedron.from_bounds(*[np.array([0.0,0.,0.,0.,0.,0.,0.,0.])]*2)\n",
    "X_N = Polyhedron.from_bounds(xN_min, xN_max)"
   ]
  },
  {
   "cell_type": "code",
   "execution_count": 33,
   "metadata": {},
   "outputs": [
    {
     "name": "stdout",
     "output_type": "stream",
     "text": [
      "Warning for adding constraints: zero or small (< 1e-13) coefficients, ignored\n"
     ]
    }
   ],
   "source": [
    "controller = HybridModelPredictiveController(S, N, Q, R, P, X_N, method='Convex hull')\n",
    "# controller.prog.setParam('Heuristics', 0)"
   ]
  },
  {
   "cell_type": "code",
   "execution_count": 34,
   "metadata": {
    "collapsed": true
   },
   "outputs": [],
   "source": [
    "# initial condition\n",
    "# x0 = np.array([0.,0.,2.*np.pi,0.,0.,0.,0.,0.])\n",
    "x0 = np.array([0.,0.,0.1,0.,0.,0.,0.,0.])"
   ]
  },
  {
   "cell_type": "code",
   "execution_count": null,
   "metadata": {},
   "outputs": [
    {
     "name": "stdout",
     "output_type": "stream",
     "text": [
      "Parameter OutputFlag unchanged\n",
      "   Value: 1  Min: 0  Max: 1  Default: 1\n",
      "Optimize a model with 21880 rows, 10508 columns and 74290 nonzeros\n",
      "Model has 1008 quadratic objective terms\n",
      "Variable types: 10008 continuous, 500 integer (500 binary)\n",
      "Coefficient statistics:\n",
      "  Matrix range     [4e-04, 5e+02]\n",
      "  Objective range  [0e+00, 0e+00]\n",
      "  QObjective range [1e+00, 1e+00]\n",
      "  Bounds range     [1e-01, 1e-01]\n",
      "  RHS range        [1e+00, 1e+00]\n",
      "Presolve removed 8664 rows and 4093 columns\n",
      "Presolve time: 0.16s\n",
      "Presolved: 13216 rows, 6415 columns, 47082 nonzeros\n",
      "Presolved model has 993 quadratic objective terms\n",
      "Variable types: 5917 continuous, 498 integer (498 binary)\n",
      "\n",
      "Root relaxation: objective 1.293107e-02, 24437 iterations, 3.15 seconds\n",
      "\n",
      "    Nodes    |    Current Node    |     Objective Bounds      |     Work\n",
      " Expl Unexpl |  Obj  Depth IntInf | Incumbent    BestBd   Gap | It/Node Time\n",
      "\n",
      "     0     0    0.01293    0  365          -    0.01293      -     -    3s\n",
      "     0     0    0.01293    0  365          -    0.01293      -     -    7s\n",
      "H    0     0                    4043.2228498    0.01293   100%     -   39s\n",
      "     0     2    0.01293    0  365 4043.22285    0.01293   100%     -   45s\n",
      "     3     6    0.01907    2  380 4043.22285    0.01636   100%  1355   50s\n",
      "    11    11    0.03529    4  372 4043.22285    0.01908   100%   837   56s\n",
      "    23    23    0.01909    6  376 4043.22285    0.01909   100%   815   60s\n",
      "    28    31    0.01911    8  373 4043.22285    0.01909   100%   742   68s\n",
      "    40    40    0.01913   13  367 4043.22285    0.01909   100%   634   70s\n",
      "    57    60    0.01920   21  358 4043.22285    0.01909   100%   604   80s\n",
      "    72    74    0.02164   26  354 4043.22285    0.01909   100%   587   85s\n",
      "    97    97    0.02750   33  359 4043.22285    0.01909   100%   540   90s\n",
      "   113   115    0.04104   39  365 4043.22285    0.01909   100%   540  100s\n",
      "   130   131    0.04275   42  372 4043.22285    0.01909   100%   522  105s\n",
      "   141   140 infeasible   45      4043.22285    0.01909   100%   564  110s\n",
      "   157   155    0.11782   49  357 4043.22285    0.01909   100%   567  115s\n",
      "   188   187    0.13847   59  342 4043.22285    0.01909   100%   534  120s\n",
      "   234   234    0.16280   80  331 4043.22285    0.01909   100%   481  127s\n",
      "   247   244    0.17382   86  328 4043.22285    0.01909   100%   498  131s\n",
      "   272   272    0.18156   94  326 4043.22285    0.01909   100%   491  136s\n",
      "   288   288    0.18522   98  321 4043.22285    0.01909   100%   511  141s\n",
      "   307   308    0.19016  103  320 4043.22285    0.01909   100%   525  150s\n",
      "   318   317    0.19316  105  319 4043.22285    0.01909   100%   534  156s\n",
      "   329   329    0.19590  108  316 4043.22285    0.01909   100%   537  160s\n",
      "   347   346    0.21696  116  318 4043.22285    0.01909   100%   541  167s\n",
      "   358   356    0.20077  119  318 4043.22285    0.01909   100%   539  173s\n",
      "   368   368 infeasible  124      4043.22285    0.01909   100%   597  177s\n",
      "   384   382    0.22451  130  345 4043.22285    0.01909   100%   595  183s\n",
      "   401   397 infeasible  136      4043.22285    0.01909   100%   636  186s\n",
      "   416   411    0.26177  140  332 4043.22285    0.01909   100%   639  193s\n",
      "   420   416    0.24526  141  331 4043.22285    0.01909   100%   643  198s\n",
      "   431   426    0.26339  145  327 4043.22285    0.01909   100%   656  203s\n",
      "   449   442    0.24868  151  325 4043.22285    0.01909   100%   656  209s\n",
      "   475   467    0.27374  162  307 4043.22285    0.01909   100%   648  215s\n",
      "   504   497    0.28319  173  294 4043.22285    0.01909   100%   642  221s\n",
      "H  506   497                     175.9745290    0.01909   100%   639  221s\n",
      "   511   505    0.28323  175  292  175.97453    0.01909   100%   641  226s\n",
      "   534   525    0.34269  184  281  175.97453    0.01909   100%   644  233s\n",
      "   603   598    0.75068  214  250  175.97453    0.01909   100%   597  238s\n",
      "   646   637    0.75441  231  232  175.97453    0.01909   100%   585  244s\n",
      "   678   672    0.75442  238  227  175.97453    0.01909   100%   572  249s\n",
      "   737   728    0.77738  264  189  175.97453    0.01909   100%   583  255s\n",
      "   756   749    0.80139  271  182  175.97453    0.01909   100%   610  260s\n",
      "   818   802    0.84831  290  169  175.97453    0.01909   100%   618  265s\n",
      "   911   897    0.93562  328  112  175.97453    0.01909   100%   570  270s\n",
      "H  918   897                      57.5554173    0.01909   100%   566  270s\n",
      "H  993   897                      10.9047927    0.01909   100%   531  270s\n",
      "  1016   999    0.98600  372   26   10.90479    0.01911   100%   524  279s\n",
      "* 1040   999             384       1.7597565    0.01911  98.9%   513  279s\n",
      "  1118  1010    0.13823   13  410    1.75976    0.01911  98.9%   493  285s\n",
      "  1154  1041    0.92013  221  365    1.75976    0.01911  98.9%   489  305s\n",
      "  1156  1042    0.38775  157  372    1.75976    0.01911  98.9%   488  329s\n",
      "  1158  1044    0.24089  132  372    1.75976    0.01911  98.9%   487  333s\n",
      "  1159  1047    0.01911   14  371    1.75976    0.01911  98.9%   508  361s\n",
      "  1163  1050    0.03050   15  379    1.75976    0.01911  98.9%   509  390s\n",
      "  1167  1053    0.03044   16  381    1.75976    0.01911  98.9%   512  396s\n",
      "  1176  1056    0.18293   18  390    1.75976    0.01911  98.9%   517  402s\n",
      "  1182  1061    0.01911   19  378    1.75976    0.01911  98.9%   517  405s\n",
      "  1186  1061    0.18207   20  402    1.75976    0.01911  98.9%   521  415s\n",
      "  1199  1069    0.01911   23  377    1.75976    0.01911  98.9%   524  422s\n",
      "  1206  1076    0.02078   24  378    1.75976    0.01911  98.9%   526  425s\n",
      "  1209  1077    0.02078   25  377    1.75976    0.01911  98.9%   529  431s\n",
      "  1215  1079    0.02081   27  374    1.75976    0.01911  98.9%   532  438s\n",
      "  1217  1084    0.03724   27  372    1.75976    0.01911  98.9%   532  440s\n",
      "  1230  1090  postponed   31         1.75976    0.01911  98.9%   540  451s\n",
      "  1233  1091 infeasible   32         1.75976    0.01911  98.9%   575  456s\n",
      "  1241  1094    0.05903   34  377    1.75976    0.01911  98.9%   578  462s\n",
      "  1250  1100    0.04139   36  376    1.75976    0.01911  98.9%   579  467s\n",
      "  1258  1104    0.04142   38  374    1.75976    0.01911  98.9%   581  472s\n",
      "  1267  1111    0.06105   41  368    1.75976    0.01911  98.9%   584  477s\n",
      "  1271  1116    0.28294   42  364    1.75976    0.01911  98.9%   584  486s\n",
      "  1277  1117    0.08088   44  393    1.75976    0.01911  98.9%   588  490s\n",
      "  1295  1129    0.06403   49  364    1.75976    0.01911  98.9%   594  502s\n",
      "  1312  1142    0.06407   53  361    1.75976    0.01911  98.9%   592  506s\n",
      "  1323  1149    0.06424   56  358    1.75976    0.01911  98.9%   593  510s\n",
      "  1335  1157    0.08362   58  386    1.75976    0.01911  98.9%   598  518s\n",
      "  1343  1160    0.06423   60  359    1.75976    0.01911  98.9%   597  522s\n",
      "  1359  1174    0.07928   64  353    1.75976    0.01911  98.9%   598  530s\n",
      "  1368  1178    0.07928   67  354    1.75976    0.01911  98.9%   597  537s\n",
      "  1377  1186    0.07928   70  356    1.75976    0.01911  98.9%   599  548s\n",
      "  1390  1193    0.08262   76  352    1.75976    0.01911  98.9%   610  554s\n",
      "  1408  1206    0.10424   80  384    1.75976    0.01911  98.9%   613  560s\n",
      "  1413  1208    0.08265   82  353    1.75976    0.01911  98.9%   613  568s\n",
      "  1428  1221 infeasible   85         1.75976    0.01911  98.9%   632  576s\n",
      "  1446  1229    1.02583   90  340    1.75976    0.01911  98.9%   633  584s\n",
      "  1448  1231    1.05017   91  336    1.75976    0.01911  98.9%   634  591s\n",
      "  1473  1249    1.04092   99  337    1.75976    0.01911  98.9%   633  598s\n",
      "  1483  1250    1.04092  102  335    1.75976    0.01911  98.9%   632  607s\n",
      "  1506  1267    1.04445  108  335    1.75976    0.01911  98.9%   647  619s\n",
      "  1510  1271    1.04689  109  341    1.75976    0.01911  98.9%   661  631s\n",
      "  1552  1297    1.08255  122  332    1.75976    0.01911  98.9%   653  644s\n",
      "  1562  1304    1.09539  125  331    1.75976    0.01911  98.9%   653  655s\n",
      "  1576  1312    1.09539  131  324    1.75976    0.01911  98.9%   651  665s\n",
      "  1619  1342    1.28363  144  303    1.75976    0.01911  98.9%   668  673s\n",
      "  1635  1349    1.28378  151  296    1.75976    0.01911  98.9%   665  681s\n",
      "  1677  1381    1.32635  164  282    1.75976    0.01911  98.9%   663  689s\n",
      "  1695  1390    1.30309  167  280    1.75976    0.01911  98.9%   660  702s\n",
      "  1740  1419    1.64797  176  265    1.75976    0.01911  98.9%   677  711s\n"
     ]
    },
    {
     "name": "stdout",
     "output_type": "stream",
     "text": [
      "  1824  1466     cutoff  202         1.75976    0.01911  98.9%   660  721s\n",
      "  1885  1487    0.05637   27  404    1.75976    0.01911  98.9%   651  730s\n",
      "  1929  1516    0.05641   34  391    1.75976    0.01911  98.9%   644  741s\n",
      "  2012  1567    0.10799   51  370    1.75976    0.01911  98.9%   629  750s\n"
     ]
    }
   ],
   "source": [
    "u, x, ms, cost = controller.feedforward(x0)"
   ]
  },
  {
   "cell_type": "code",
   "execution_count": 27,
   "metadata": {},
   "outputs": [
    {
     "ename": "TypeError",
     "evalue": "'NoneType' object has no attribute '__getitem__'",
     "output_type": "error",
     "traceback": [
      "\u001b[0;31m---------------------------------------------------------------------------\u001b[0m",
      "\u001b[0;31mTypeError\u001b[0m                                 Traceback (most recent call last)",
      "\u001b[0;32m<ipython-input-27-959644fae2cb>\u001b[0m in \u001b[0;36m<module>\u001b[0;34m()\u001b[0m\n\u001b[0;32m----> 1\u001b[0;31m \u001b[0mplot_input_sequence\u001b[0m\u001b[0;34m(\u001b[0m\u001b[0mu\u001b[0m\u001b[0;34m,\u001b[0m \u001b[0mh\u001b[0m\u001b[0;34m,\u001b[0m \u001b[0;34m(\u001b[0m\u001b[0mu_min\u001b[0m\u001b[0;34m,\u001b[0m \u001b[0mu_max\u001b[0m\u001b[0;34m)\u001b[0m\u001b[0;34m)\u001b[0m\u001b[0;34m\u001b[0m\u001b[0m\n\u001b[0m",
      "\u001b[0;32m/Users/tobia/codes/pympc/pympc/plot.pyc\u001b[0m in \u001b[0;36mplot_input_sequence\u001b[0;34m(u, h, u_bounds, legend)\u001b[0m\n\u001b[1;32m     67\u001b[0m \u001b[0;34m\u001b[0m\u001b[0m\n\u001b[1;32m     68\u001b[0m     \u001b[0;31m# dimension of the input\u001b[0m\u001b[0;34m\u001b[0m\u001b[0;34m\u001b[0m\u001b[0m\n\u001b[0;32m---> 69\u001b[0;31m     \u001b[0mnu\u001b[0m \u001b[0;34m=\u001b[0m \u001b[0mu\u001b[0m\u001b[0;34m[\u001b[0m\u001b[0;36m0\u001b[0m\u001b[0;34m]\u001b[0m\u001b[0;34m.\u001b[0m\u001b[0mshape\u001b[0m\u001b[0;34m[\u001b[0m\u001b[0;36m0\u001b[0m\u001b[0;34m]\u001b[0m\u001b[0;34m\u001b[0m\u001b[0m\n\u001b[0m\u001b[1;32m     70\u001b[0m \u001b[0;34m\u001b[0m\u001b[0m\n\u001b[1;32m     71\u001b[0m     \u001b[0;31m# time axis\u001b[0m\u001b[0;34m\u001b[0m\u001b[0;34m\u001b[0m\u001b[0m\n",
      "\u001b[0;31mTypeError\u001b[0m: 'NoneType' object has no attribute '__getitem__'"
     ]
    }
   ],
   "source": [
    "plot_input_sequence(u, h, (u_min, u_max))"
   ]
  },
  {
   "cell_type": "code",
   "execution_count": 28,
   "metadata": {},
   "outputs": [
    {
     "ename": "TypeError",
     "evalue": "'NoneType' object has no attribute '__getitem__'",
     "output_type": "error",
     "traceback": [
      "\u001b[0;31m---------------------------------------------------------------------------\u001b[0m",
      "\u001b[0;31mTypeError\u001b[0m                                 Traceback (most recent call last)",
      "\u001b[0;32m<ipython-input-28-028b8e294531>\u001b[0m in \u001b[0;36m<module>\u001b[0;34m()\u001b[0m\n\u001b[0;32m----> 1\u001b[0;31m \u001b[0mplot_state_trajectory\u001b[0m\u001b[0;34m(\u001b[0m\u001b[0mx\u001b[0m\u001b[0;34m,\u001b[0m \u001b[0mh\u001b[0m\u001b[0;34m,\u001b[0m \u001b[0;34m(\u001b[0m\u001b[0mx_min\u001b[0m\u001b[0;34m,\u001b[0m \u001b[0mx_max\u001b[0m\u001b[0;34m)\u001b[0m\u001b[0;34m)\u001b[0m\u001b[0;34m\u001b[0m\u001b[0m\n\u001b[0m",
      "\u001b[0;32m/Users/tobia/codes/pympc/pympc/plot.pyc\u001b[0m in \u001b[0;36mplot_state_trajectory\u001b[0;34m(x, h, x_bounds, legend)\u001b[0m\n\u001b[1;32m    122\u001b[0m \u001b[0;34m\u001b[0m\u001b[0m\n\u001b[1;32m    123\u001b[0m     \u001b[0;31m# dimension of the state\u001b[0m\u001b[0;34m\u001b[0m\u001b[0;34m\u001b[0m\u001b[0m\n\u001b[0;32m--> 124\u001b[0;31m     \u001b[0mnx\u001b[0m \u001b[0;34m=\u001b[0m \u001b[0mx\u001b[0m\u001b[0;34m[\u001b[0m\u001b[0;36m0\u001b[0m\u001b[0;34m]\u001b[0m\u001b[0;34m.\u001b[0m\u001b[0mshape\u001b[0m\u001b[0;34m[\u001b[0m\u001b[0;36m0\u001b[0m\u001b[0;34m]\u001b[0m\u001b[0;34m\u001b[0m\u001b[0m\n\u001b[0m\u001b[1;32m    125\u001b[0m \u001b[0;34m\u001b[0m\u001b[0m\n\u001b[1;32m    126\u001b[0m     \u001b[0;31m# time axis\u001b[0m\u001b[0;34m\u001b[0m\u001b[0;34m\u001b[0m\u001b[0m\n",
      "\u001b[0;31mTypeError\u001b[0m: 'NoneType' object has no attribute '__getitem__'"
     ]
    }
   ],
   "source": [
    "plot_state_trajectory(x, h, (x_min, x_max))"
   ]
  },
  {
   "cell_type": "code",
   "execution_count": 29,
   "metadata": {},
   "outputs": [
    {
     "name": "stdout",
     "output_type": "stream",
     "text": [
      "[2, 2, 2, 2, 2, 2, 2, 2, 2, 2, 2, 2, 2, 2, 2, 2, 2, 2, 2, 2, 2, 2, 2, 2, 2, 2, 2, 2, 2, 2, 2, 2, 2, 2, 2, 2, 2, 2, 2, 2, 2, 2, 2, 2, 2, 2, 2, 2, 2, 2, 2, 2, 2, 2, 2, 2, 2, 2, 2, 2, 2, 2, 2, 2, 2, 2, 2, 2, 2, 2, 2, 2, 2, 2, 2, 2, 2, 2, 2, 2, 2, 2, 2, 2, 2, 2, 2, 2, 2, 2, 2, 2, 2, 2, 2, 2, 2, 2, 2, 2, 2, 2, 2, 2, 2, 2, 2, 2, 2, 2, 2, 2, 2, 2, 2, 2, 2, 2, 2, 2, 2, 2, 2, 2, 2, 2, 2, 2, 2, 2, 2, 2, 2, 2, 2, 2, 2, 2, 2, 2, 2, 2, 2, 2, 2, 2, 2, 2, 2, 2, 2, 2, 2, 2, 2, 2, 2, 2, 2, 2, 2, 2, 2, 2, 2, 2, 2, 2, 2, 2, 2, 2, 2, 2, 2, 2, 2, 2, 2, 2, 2, 2, 2, 2, 2, 2, 2, 2, 2, 2, 2, 2, 2, 2, 2, 2, 2, 2, 2, 2, 2, 2, 2, 2, 2, 2, 2, 2, 2, 2, 2, 2, 2, 2, 2, 2, 2, 2, 2, 2, 2, 2, 2, 2, 2, 2, 2, 2, 2, 2, 2, 2, 2, 2, 2, 2, 2, 2, 2, 2, 2, 2, 2, 2, 2, 2, 2, 2, 2, 2, 2, 2, 2, 2, 2, 2, 2, 2, 2, 2, 2, 2, 2, 2, 2, 2, 2, 2, 2, 2, 2, 2, 2, 2, 2, 2, 2, 2, 2, 2, 2, 2, 2, 2, 2, 2, 2, 2, 2, 2, 2, 2, 2, 2, 2, 2, 2, 2, 2, 2, 2, 2, 2, 2, 2, 2, 2, 2, 2, 2, 2, 2, 2, 2, 2, 2, 2, 2, 2, 2, 2, 2, 2, 2, 2, 2, 2, 2, 2, 2, 2, 2, 2, 2, 2, 2, 2, 2, 2, 2, 2, 2, 2, 2, 2, 2, 2, 2, 2, 2, 2, 2, 2, 2, 2, 2, 2, 2, 2, 2, 2, 2, 2, 2, 2, 2, 2, 2, 2, 2, 2, 2, 2, 2, 2, 2, 2, 2, 2, 2, 2, 2, 2, 2, 2, 2, 2, 2, 2, 2, 2, 2, 2, 2, 2, 2, 2, 2, 2, 2, 2, 2, 2, 2, 2, 2, 2, 2, 2, 2, 2, 2, 2, 2, 2, 2, 2, 2, 2, 2, 2, 2, 2, 2, 2, 2, 2, 2, 2, 2, 2, 2, 2, 2, 2, 2, 2, 2, 2, 2, 2, 2, 2, 2, 2, 2, 2, 2, 2, 2, 2, 2, 2, 2, 2, 2, 2, 2, 2, 2, 2, 2, 2, 2, 2, 2, 2, 2, 2, 2, 2, 2, 2, 2, 2, 2, 2, 2, 2, 2, 2, 2, 2, 2, 2, 2, 2, 2, 2, 2, 2, 2, 2, 2, 2, 2, 2, 2, 2, 2, 2, 2, 2]\n"
     ]
    }
   ],
   "source": [
    "# x0 = np.array([0.,0.,0.,0.,0.,.0,0.,0.])\n",
    "u = [np.array([0.,0.])]*3 + [np.array([0.,0.])]*500\n",
    "x, ms = S.simulate(x0, u)\n",
    "print ms"
   ]
  },
  {
   "cell_type": "markdown",
   "metadata": {},
   "source": [
    "# Animation"
   ]
  },
  {
   "cell_type": "code",
   "execution_count": 30,
   "metadata": {
    "collapsed": true
   },
   "outputs": [],
   "source": [
    "import meshcat\n",
    "from meshcat.geometry import Box, Sphere, Cylinder, MeshLambertMaterial\n",
    "from meshcat.animation import Animation\n",
    "import meshcat.transformations as tf"
   ]
  },
  {
   "cell_type": "code",
   "execution_count": 20,
   "metadata": {},
   "outputs": [
    {
     "name": "stdout",
     "output_type": "stream",
     "text": [
      "You can open the visualizer by visiting the following URL:\n",
      "http://127.0.0.1:7000/static/\n"
     ]
    },
    {
     "data": {
      "text/plain": [
       "<Visualizer using: <meshcat.visualizer.ViewerWindow instance at 0x10921dc20> at path: <meshcat.path.Path object at 0x1092b7f68>>"
      ]
     },
     "execution_count": 20,
     "metadata": {},
     "output_type": "execute_result"
    }
   ],
   "source": [
    "vis = meshcat.Visualizer()\n",
    "# vis.jupyter_cell()\n",
    "vis.open()"
   ]
  },
  {
   "cell_type": "code",
   "execution_count": 21,
   "metadata": {
    "collapsed": true
   },
   "outputs": [],
   "source": [
    "paddle_z = .05\n",
    "paddle_x = .3\n",
    "red = 0xff2222\n",
    "blue = 0x2222ff\n",
    "green = 0x22ff22\n",
    "vis['paddle'].set_object(Box([paddle_x, d*2., paddle_z]), MeshLambertMaterial(color=red))\n",
    "vis['ball'].set_object(Sphere(r), MeshLambertMaterial(color=blue))\n",
    "vis['ball_orientation'].set_object(Cylinder(.01, r), MeshLambertMaterial(color=green))"
   ]
  },
  {
   "cell_type": "code",
   "execution_count": 31,
   "metadata": {
    "collapsed": true
   },
   "outputs": [],
   "source": [
    "anim = Animation()\n",
    "for t, xt in enumerate(x):\n",
    "    with anim.at_frame(vis, t*h*30) as frame:\n",
    "        frame['paddle'].set_transform(\n",
    "            tf.translation_matrix([0, xt[3], xt[4]-paddle_z/2.])\n",
    "        )\n",
    "        frame['ball'].set_transform(\n",
    "            tf.translation_matrix([0, xt[0], xt[1]+r-m*g/k])\n",
    "        )\n",
    "        frame['ball_orientation'].set_transform(\n",
    "            tf.translation_matrix([0, xt[0], xt[1]+r-m*g/k]).dot(\n",
    "                tf.rotation_matrix(xt[2], [1.,0.,0.])\n",
    "            )\n",
    "        )\n",
    "vis.set_animation(anim)"
   ]
  },
  {
   "cell_type": "code",
   "execution_count": null,
   "metadata": {
    "collapsed": true
   },
   "outputs": [],
   "source": []
  },
  {
   "cell_type": "code",
   "execution_count": null,
   "metadata": {
    "collapsed": true
   },
   "outputs": [],
   "source": []
  }
 ],
 "metadata": {
  "kernelspec": {
   "display_name": "Python 2",
   "language": "python",
   "name": "python2"
  },
  "language_info": {
   "codemirror_mode": {
    "name": "ipython",
    "version": 2
   },
   "file_extension": ".py",
   "mimetype": "text/x-python",
   "name": "python",
   "nbconvert_exporter": "python",
   "pygments_lexer": "ipython2",
   "version": "2.7.15"
  }
 },
 "nbformat": 4,
 "nbformat_minor": 2
}
