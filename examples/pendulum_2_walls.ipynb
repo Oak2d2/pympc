{
 "cells": [
  {
   "cell_type": "markdown",
   "metadata": {},
   "source": [
    "# Feasible mode enumeration vs Reachability cuts"
   ]
  },
  {
   "cell_type": "code",
   "execution_count": null,
   "metadata": {
    "collapsed": true
   },
   "outputs": [],
   "source": [
    "# notebook settings\n",
    "%load_ext autoreload\n",
    "%autoreload 2"
   ]
  },
  {
   "cell_type": "code",
   "execution_count": null,
   "metadata": {
    "collapsed": true
   },
   "outputs": [],
   "source": [
    "import numpy as np\n",
    "import matplotlib.pyplot as plt\n",
    "from copy import copy\n",
    "from pympc.dynamics.discrete_time_systems import LinearSystem, AffineSystem, PieceWiseAffineSystem\n",
    "from pympc.plot import plot_state_space_trajectory\n",
    "from pympc.geometry.polyhedron import Polyhedron"
   ]
  },
  {
   "cell_type": "code",
   "execution_count": null,
   "metadata": {
    "collapsed": true
   },
   "outputs": [],
   "source": [
    "m = 1.\n",
    "l = 1.\n",
    "g = 10.\n",
    "k = 100.\n",
    "d = .1\n",
    "h = .01"
   ]
  },
  {
   "cell_type": "code",
   "execution_count": null,
   "metadata": {
    "collapsed": true
   },
   "outputs": [],
   "source": [
    "# discretization method\n",
    "method = 'explicit_euler'\n",
    "\n",
    "# dynamics n.1 (free space)\n",
    "A1 = np.array([[0., 1.],[g/l, 0.]])\n",
    "B1 = np.array([[0.],[1/(m*l**2.)]])\n",
    "S1 = LinearSystem.from_continuous(A1, B1, h, method)\n",
    "\n",
    "# dynamics n.2 (right wall)\n",
    "A2 = np.array([[0., 1.],[g/l-k/m, 0.]])\n",
    "B2 = B1\n",
    "c2 = np.array([0., k*d/(m*l)])\n",
    "S2 = AffineSystem.from_continuous(A2, B2, c2, h, method)\n",
    "\n",
    "# dynamics n.2 (left wall)\n",
    "A3 = np.array([[0., 1.],[g/l-k/m, 0.]])\n",
    "B3 = B1\n",
    "c3 = np.array([0., -k*d/(m*l)])\n",
    "S3 = AffineSystem.from_continuous(A3, B3, c3, h, method)\n",
    "\n",
    "# list of dynamics\n",
    "S = [S1, S2, S3]"
   ]
  },
  {
   "cell_type": "code",
   "execution_count": null,
   "metadata": {
    "collapsed": true
   },
   "outputs": [],
   "source": [
    "# state domain n.1\n",
    "x1_min = np.array([-d/l, -1.])\n",
    "x1_max = np.array([d/l, 1.])\n",
    "X1 = Polyhedron.from_bounds(x1_min, x1_max)\n",
    "assert X1.bounded\n",
    "\n",
    "# state domain n.2\n",
    "x2_min = np.array([d/l, -1.])\n",
    "x2_max = np.array([2.*d/l, 1.])\n",
    "X2 = Polyhedron.from_bounds(x2_min, x2_max)\n",
    "assert X2.bounded\n",
    "\n",
    "# state domain n.3\n",
    "x3_min = np.array([-2.*d/l, -1.])\n",
    "x3_max = np.array([-d/l, 1.])\n",
    "X3 = Polyhedron.from_bounds(x3_min, x3_max)\n",
    "assert X3.bounded\n",
    "\n",
    "# input domain\n",
    "u_min = np.array([-4.])\n",
    "u_max = np.array([4.])\n",
    "U = Polyhedron.from_bounds(u_min, u_max)\n",
    "assert U.bounded\n",
    "\n",
    "# domains\n",
    "D = [Xi.cartesian_product(U) for Xi in [X1, X2, X3]]"
   ]
  },
  {
   "cell_type": "code",
   "execution_count": null,
   "metadata": {
    "collapsed": true
   },
   "outputs": [],
   "source": [
    "PWA = PieceWiseAffineSystem(S, D)"
   ]
  },
  {
   "cell_type": "code",
   "execution_count": null,
   "metadata": {},
   "outputs": [],
   "source": [
    "def dynamics(x1, x2):\n",
    "    x = np.array([x1, x2])\n",
    "    return PWA.simulate(x, [np.zeros(PWA.nu)])[0][1]\n",
    "fig = plt.figure()\n",
    "n = 21\n",
    "x1 = np.linspace(-2.*d/l, 2.*d/l, n)\n",
    "x2 = np.linspace(-1., 1., n)\n",
    "X1, X2 = np.meshgrid(x1, x2)\n",
    "F1 = np.array([dynamics(i, j)[0] - i for i, j in zip(np.ravel(X1), np.ravel(X2))]).reshape(n, n)\n",
    "F2 = np.array([dynamics(i, j)[1] - j for i, j in zip(np.ravel(X1), np.ravel(X2))]).reshape(n, n)\n",
    "M = np.hypot(F1, F2)\n",
    "Q = plt.quiver(X1, X2, F1, F2, M)\n",
    "# plt.axis('equal')\n",
    "# plt.xlabel(r'$x_1$')\n",
    "# plt.ylabel(r'$x_2$')\n",
    "x0 = np.array([-1., 0.])\n",
    "# x_traj, ms_traj = PWA.simulate(x0, [np.zeros(2)]*100)\n",
    "# plot_state_space_trajectory(x_traj)\n",
    "plt.show()"
   ]
  },
  {
   "cell_type": "code",
   "execution_count": null,
   "metadata": {},
   "outputs": [],
   "source": [
    "from pympc.control.hybrid_benchmark.utils import infeasible_mode_sequences\n",
    "infeasible_mode_sequences(PWA,5)"
   ]
  },
  {
   "cell_type": "code",
   "execution_count": null,
   "metadata": {
    "collapsed": true
   },
   "outputs": [],
   "source": [
    "from pympc.control.hybrid_benchmark.controllers import HybridModelPredictiveController\n",
    "from pympc.control.hybrid_benchmark.utils import get_constraint_set, remove_redundant_inequalities_fast, convex_hull_method_fast"
   ]
  },
  {
   "cell_type": "code",
   "execution_count": null,
   "metadata": {
    "collapsed": true
   },
   "outputs": [],
   "source": [
    "# controller parameters\n",
    "N = 30\n",
    "Q = np.diag([1.,1.])\n",
    "R = np.diag([1.])\n",
    "\n",
    "# terminal set and cost\n",
    "P = Q\n",
    "X_N = Polyhedron.from_bounds(*[np.zeros(2)]*2)"
   ]
  },
  {
   "cell_type": "code",
   "execution_count": null,
   "metadata": {
    "collapsed": true
   },
   "outputs": [],
   "source": [
    "x_min = np.minimum.reduce([x1_min, x2_min, x3_min])\n",
    "x_max = np.maximum.reduce([x1_max, x2_max, x3_max])"
   ]
  },
  {
   "cell_type": "code",
   "execution_count": null,
   "metadata": {
    "collapsed": true
   },
   "outputs": [],
   "source": [
    "# samples for the initial position and velocity of the ball\n",
    "n_levels = 10\n",
    "n_samples = 101\n",
    "q_samples = np.linspace(x_min[0], x_max[0], n_samples)\n",
    "v_samples = np.linspace(x_min[1], x_max[1], n_samples)\n",
    "Q_samples, V_samples = np.meshgrid(q_samples, v_samples)"
   ]
  },
  {
   "cell_type": "code",
   "execution_count": null,
   "metadata": {},
   "outputs": [],
   "source": [
    "from pympc.control.hybrid_benchmark.utils import get_constraint_set, remove_redundant_inequalities_fast, convex_hull_method_fast\n",
    "\n",
    "# get feasible sets (uses the feasible set of the CH method for the CHLC method)\n",
    "controller = HybridModelPredictiveController(PWA, N, Q, R, P, X_N, method='Traditional formulation')\n",
    "# controller.add_reachability_constraints(10)\n",
    "cs = get_constraint_set(controller.prog)\n",
    "print cs.A.shape\n",
    "var_indices = {v: i for i, v in enumerate(controller.prog.getVars())}\n",
    "assert var_indices[controller.prog.getVarByName('x0[0]')] == 0\n",
    "assert var_indices[controller.prog.getVarByName('x0[1]')] == 1\n",
    "sect = convex_hull_method_fast(cs, [0,1])\n",
    "\n",
    "# samples on the grid\n",
    "cost_mat = np.empty([n_samples]*2)\n",
    "for i, q in enumerate(q_samples):\n",
    "    for j, v in enumerate(v_samples):\n",
    "        print(str(i) + ',' + str(j) + '   \\r'),\n",
    "        x0 = np.array([q, v])\n",
    "        cost = controller.feedforward_relaxation(x0, [])[3]\n",
    "        cost_mat[i,j] = cost"
   ]
  },
  {
   "cell_type": "code",
   "execution_count": null,
   "metadata": {},
   "outputs": [],
   "source": [
    "from math import floor\n",
    "def my_round(x):\n",
    "    return floor(x*10.)/10.\n",
    "\n",
    "levels = [my_round((i+1)*np.nanmax(cost_mat)/n_levels) for i in range(n_levels)]\n",
    "cp = plt.contour(Q_samples, V_samples, cost_mat.T, levels=levels, cmap='viridis_r')\n",
    "plt.colorbar(cp, label='Cost relaxed problem')\n",
    "sect.plot(facecolor='w')\n",
    "plt.grid(True)\n",
    "plt.savefig('pendulum_2_walls_bm.pdf',bbox_inches='tight')\n",
    "plt.show()"
   ]
  },
  {
   "cell_type": "code",
   "execution_count": null,
   "metadata": {
    "collapsed": true
   },
   "outputs": [],
   "source": []
  }
 ],
 "metadata": {
  "kernelspec": {
   "display_name": "Python 2",
   "language": "python",
   "name": "python2"
  },
  "language_info": {
   "codemirror_mode": {
    "name": "ipython",
    "version": 2
   },
   "file_extension": ".py",
   "mimetype": "text/x-python",
   "name": "python",
   "nbconvert_exporter": "python",
   "pygments_lexer": "ipython2",
   "version": "2.7.15"
  }
 },
 "nbformat": 4,
 "nbformat_minor": 2
}
