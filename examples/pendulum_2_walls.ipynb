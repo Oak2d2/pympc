{
 "cells": [
  {
   "cell_type": "markdown",
   "metadata": {},
   "source": [
    "# Feasible mode enumeration vs Reachability cuts"
   ]
  },
  {
   "cell_type": "code",
   "execution_count": 1,
   "metadata": {},
   "outputs": [],
   "source": [
    "# notebook settings\n",
    "%load_ext autoreload\n",
    "%autoreload 2"
   ]
  },
  {
   "cell_type": "code",
   "execution_count": 2,
   "metadata": {
    "collapsed": true
   },
   "outputs": [],
   "source": [
    "import numpy as np\n",
    "import matplotlib.pyplot as plt\n",
    "from copy import copy\n",
    "from pympc.dynamics.discrete_time_systems import LinearSystem, AffineSystem, PieceWiseAffineSystem\n",
    "from pympc.plot import plot_state_space_trajectory\n",
    "from pympc.geometry.polyhedron import Polyhedron"
   ]
  },
  {
   "cell_type": "code",
   "execution_count": 3,
   "metadata": {
    "collapsed": true
   },
   "outputs": [],
   "source": [
    "m = 1.\n",
    "l = 1.\n",
    "g = 10.\n",
    "k = 100.\n",
    "d = .1\n",
    "h = .01"
   ]
  },
  {
   "cell_type": "code",
   "execution_count": 4,
   "metadata": {
    "collapsed": true
   },
   "outputs": [],
   "source": [
    "# discretization method\n",
    "method = 'explicit_euler'\n",
    "\n",
    "# dynamics n.1 (free space)\n",
    "A1 = np.array([[0., 1.],[g/l, 0.]])\n",
    "B1 = np.array([[0.],[1/(m*l**2.)]])\n",
    "S1 = LinearSystem.from_continuous(A1, B1, h, method)\n",
    "\n",
    "# dynamics n.2 (right wall)\n",
    "A2 = np.array([[0., 1.],[g/l-k/m, 0.]])\n",
    "B2 = B1\n",
    "c2 = np.array([0., k*d/(m*l)])\n",
    "S2 = AffineSystem.from_continuous(A2, B2, c2, h, method)\n",
    "\n",
    "# dynamics n.2 (left wall)\n",
    "A3 = np.array([[0., 1.],[g/l-k/m, 0.]])\n",
    "B3 = B1\n",
    "c3 = np.array([0., -k*d/(m*l)])\n",
    "S3 = AffineSystem.from_continuous(A3, B3, c3, h, method)\n",
    "\n",
    "# list of dynamics\n",
    "S = [S1, S2, S3]"
   ]
  },
  {
   "cell_type": "code",
   "execution_count": 5,
   "metadata": {
    "collapsed": true
   },
   "outputs": [],
   "source": [
    "# state domain n.1\n",
    "x1_min = np.array([-d/l, -1.])\n",
    "x1_max = np.array([d/l, 1.])\n",
    "X1 = Polyhedron.from_bounds(x1_min, x1_max)\n",
    "assert X1.bounded\n",
    "\n",
    "# state domain n.2\n",
    "x2_min = np.array([d/l, -1.])\n",
    "x2_max = np.array([2.*d/l, 1.])\n",
    "X2 = Polyhedron.from_bounds(x2_min, x2_max)\n",
    "assert X2.bounded\n",
    "\n",
    "# state domain n.3\n",
    "x3_min = np.array([-2.*d/l, -1.])\n",
    "x3_max = np.array([-d/l, 1.])\n",
    "X3 = Polyhedron.from_bounds(x3_min, x3_max)\n",
    "assert X3.bounded\n",
    "\n",
    "# input domain\n",
    "u_min = np.array([-4.])\n",
    "u_max = np.array([4.])\n",
    "U = Polyhedron.from_bounds(u_min, u_max)\n",
    "assert U.bounded\n",
    "\n",
    "# domains\n",
    "D = [Xi.cartesian_product(U) for Xi in [X1, X2, X3]]"
   ]
  },
  {
   "cell_type": "code",
   "execution_count": 6,
   "metadata": {
    "collapsed": true
   },
   "outputs": [],
   "source": [
    "PWA = PieceWiseAffineSystem(S, D)"
   ]
  },
  {
   "cell_type": "markdown",
   "metadata": {},
   "source": [
    "def dynamics(x1, x2):\n",
    "    x = np.array([x1, x2])\n",
    "    return PWA.simulate(x, [np.zeros(PWA.nu)])[0][1]\n",
    "fig = plt.figure()\n",
    "n = 21\n",
    "x1 = np.linspace(-2.*d/l, 2.*d/l, n)\n",
    "x2 = np.linspace(-1., 1., n)\n",
    "X1, X2 = np.meshgrid(x1, x2)\n",
    "F1 = np.array([dynamics(i, j)[0] - i for i, j in zip(np.ravel(X1), np.ravel(X2))]).reshape(n, n)\n",
    "F2 = np.array([dynamics(i, j)[1] - j for i, j in zip(np.ravel(X1), np.ravel(X2))]).reshape(n, n)\n",
    "M = np.hypot(F1, F2)\n",
    "Q = plt.quiver(X1, X2, F1, F2, M)\n",
    "# plt.axis('equal')\n",
    "# plt.xlabel(r'$x_1$')\n",
    "# plt.ylabel(r'$x_2$')\n",
    "x0 = np.array([-1., 0.])\n",
    "# x_traj, ms_traj = PWA.simulate(x0, [np.zeros(2)]*100)\n",
    "# plot_state_space_trajectory(x_traj)\n",
    "plt.show()"
   ]
  },
  {
   "cell_type": "code",
   "execution_count": 7,
   "metadata": {},
   "outputs": [
    {
     "data": {
      "text/plain": [
       "[(1, 2),\n",
       " (2, 1),\n",
       " (1, 0, 2),\n",
       " (2, 0, 1),\n",
       " (1, 0, 0, 2),\n",
       " (2, 0, 0, 1),\n",
       " (1, 0, 0, 0, 2),\n",
       " (2, 0, 0, 0, 1)]"
      ]
     },
     "execution_count": 7,
     "metadata": {},
     "output_type": "execute_result"
    }
   ],
   "source": [
    "from pympc.control.hybrid_benchmark.utils import infeasible_mode_sequences\n",
    "infeasible_mode_sequences(PWA,5)"
   ]
  },
  {
   "cell_type": "code",
   "execution_count": 8,
   "metadata": {
    "collapsed": true
   },
   "outputs": [],
   "source": [
    "from pympc.control.hybrid_benchmark.controllers import HybridModelPredictiveController\n",
    "from pympc.control.hybrid_benchmark.utils import (get_constraint_set,\n",
    "                                                  remove_redundant_inequalities_fast,\n",
    "                                                  convex_hull_method_fast,\n",
    "                                                  infeasible_mode_sequences)"
   ]
  },
  {
   "cell_type": "code",
   "execution_count": 9,
   "metadata": {
    "collapsed": true
   },
   "outputs": [],
   "source": [
    "# controller parameters\n",
    "N = 30\n",
    "Q = np.diag([1.,1.])\n",
    "R = np.diag([1.])\n",
    "\n",
    "# terminal set and cost\n",
    "P, K = S1.solve_dare(Q, R)\n",
    "X_N = S1.mcais(K, D[0])"
   ]
  },
  {
   "cell_type": "code",
   "execution_count": 10,
   "metadata": {},
   "outputs": [],
   "source": [
    "controller = HybridModelPredictiveController(PWA, N, Q, R, P, X_N, method='Convex hull, lifted constraints')"
   ]
  },
  {
   "cell_type": "code",
   "execution_count": 11,
   "metadata": {
    "collapsed": true
   },
   "outputs": [],
   "source": [
    "from pympc.control.hybrid_benchmark.branch_and_bound import branch_and_bound, best_first, depth_first, first_depth_then_breadth, first_depth_then_best"
   ]
  },
  {
   "cell_type": "code",
   "execution_count": 13,
   "metadata": {
    "collapsed": true
   },
   "outputs": [],
   "source": [
    "x0 = np.array([.09,.1])\n",
    "# sol = controller.feedforward(x0)"
   ]
  },
  {
   "cell_type": "code",
   "execution_count": 14,
   "metadata": {
    "collapsed": true
   },
   "outputs": [],
   "source": [
    "def solver(identifier, objective_cutoff):\n",
    "    x0 = np.array([.09,.7])\n",
    "    return controller.solve_relaxation(x0, identifier, objective_cutoff)"
   ]
  },
  {
   "cell_type": "code",
   "execution_count": 29,
   "metadata": {},
   "outputs": [
    {
     "name": "stdout",
     "output_type": "stream",
     "text": [
      "|     Updates    |     Time (s)   |    Nodes (#)   |   Lower bound  |   Upper bound  |\n",
      " ---------------- ---------------- ---------------- ---------------- ----------------\n",
      "  Root node        0.020            1                2.713            inf             \n",
      "  New incumbent    1.192            34               4.792            107.482         \n",
      "  Solution found   4.576            80               107.482          107.482         \n",
      "\n",
      "Explored 80 nodes in 4.576 seconds: solution found with objective 107.482.\n",
      "Best lower bound is 107.482 and lies within the tolerance of 0.000.\n"
     ]
    }
   ],
   "source": [
    "sol, lb, ub = branch_and_bound(solver, first_depth_then_breadth, controller.explore_in_chronological_order)"
   ]
  },
  {
   "cell_type": "code",
   "execution_count": null,
   "metadata": {
    "collapsed": true
   },
   "outputs": [],
   "source": [
    "np.save(method + '_lb', lb)\n",
    "np.save(method + '_ub', ub)"
   ]
  },
  {
   "cell_type": "code",
   "execution_count": null,
   "metadata": {
    "collapsed": true
   },
   "outputs": [],
   "source": []
  },
  {
   "cell_type": "code",
   "execution_count": 47,
   "metadata": {},
   "outputs": [
    {
     "ename": "NameError",
     "evalue": "name 'methods' is not defined",
     "output_type": "error",
     "traceback": [
      "\u001b[0;31m---------------------------------------------------------------------------\u001b[0m",
      "\u001b[0;31mNameError\u001b[0m                                 Traceback (most recent call last)",
      "\u001b[0;32m<ipython-input-47-d2af54d646b4>\u001b[0m in \u001b[0;36m<module>\u001b[0;34m()\u001b[0m\n\u001b[1;32m      1\u001b[0m \u001b[0mlb\u001b[0m \u001b[0;34m=\u001b[0m \u001b[0;34m{\u001b[0m\u001b[0;34m}\u001b[0m\u001b[0;34m\u001b[0m\u001b[0m\n\u001b[1;32m      2\u001b[0m \u001b[0mub\u001b[0m \u001b[0;34m=\u001b[0m \u001b[0;34m{\u001b[0m\u001b[0;34m}\u001b[0m\u001b[0;34m\u001b[0m\u001b[0m\n\u001b[0;32m----> 3\u001b[0;31m \u001b[0;32mfor\u001b[0m \u001b[0mmethod\u001b[0m \u001b[0;32min\u001b[0m \u001b[0mmethods\u001b[0m\u001b[0;34m:\u001b[0m\u001b[0;34m\u001b[0m\u001b[0m\n\u001b[0m\u001b[1;32m      4\u001b[0m     \u001b[0mlb\u001b[0m\u001b[0;34m[\u001b[0m\u001b[0mmethod\u001b[0m\u001b[0;34m]\u001b[0m \u001b[0;34m=\u001b[0m \u001b[0mnp\u001b[0m\u001b[0;34m.\u001b[0m\u001b[0mload\u001b[0m\u001b[0;34m(\u001b[0m\u001b[0mmethod\u001b[0m \u001b[0;34m+\u001b[0m \u001b[0;34m'_lb.npy'\u001b[0m\u001b[0;34m)\u001b[0m\u001b[0;34m\u001b[0m\u001b[0m\n\u001b[1;32m      5\u001b[0m     \u001b[0mub\u001b[0m\u001b[0;34m[\u001b[0m\u001b[0mmethod\u001b[0m\u001b[0;34m]\u001b[0m \u001b[0;34m=\u001b[0m \u001b[0mnp\u001b[0m\u001b[0;34m.\u001b[0m\u001b[0mload\u001b[0m\u001b[0;34m(\u001b[0m\u001b[0mmethod\u001b[0m \u001b[0;34m+\u001b[0m \u001b[0;34m'_ub.npy'\u001b[0m\u001b[0;34m)\u001b[0m\u001b[0;34m\u001b[0m\u001b[0m\n",
      "\u001b[0;31mNameError\u001b[0m: name 'methods' is not defined"
     ]
    }
   ],
   "source": [
    "lb = {}\n",
    "ub = {}\n",
    "for method in methods:\n",
    "    lb[method] = np.load(method + '_lb.npy')\n",
    "    ub[method] = np.load(method + '_ub.npy')\n",
    "\n",
    "mpl.rcParams['axes.prop_cycle'] = cycler(color='bgrcmyk')\n",
    "plt.rc('font', size=14)\n",
    "colors = ['b', 'r', 'c', 'g']\n",
    "linestyles = ['-','-.','--',':']\n",
    "for i, method in enumerate(methods):\n",
    "    plt.plot(lb[method], label=method, color=colors[i], linestyle=linestyles[i], linewidth=3)\n",
    "    plt.plot(ub[method], label=method, color=colors[i], linestyle=linestyles[i], linewidth=3)\n",
    "\n",
    "plt.plot(lb/sol['objective'])\n",
    "plt.plot(ub/sol['objective'])\n",
    "plt.xlim((0, len(lb)))\n",
    "\n",
    "\n",
    "# plt.ylim((0, 1.1*max([b for b in ub if not np.isinf(b)])/sol['objective']))\n",
    "plt.legend()\n",
    "plt.grid(True)\n",
    "plt.xlabel(r'Node in B&B algorithm')\n",
    "plt.ylabel(r'Lower and upper bound / cost MICP')\n",
    "# plt.savefig('relaxation_ratio.pdf', bbox_inches='tight')\n",
    "plt.show()"
   ]
  },
  {
   "cell_type": "code",
   "execution_count": null,
   "metadata": {},
   "outputs": [],
   "source": [
    "X1.plot(label=r'$\\mathcal{X}_1$', facecolor='g')\n",
    "X2.plot(label=r'$\\mathcal{X}_2$', facecolor='b')\n",
    "X_N.plot(label=r'$\\mathcal{X}_N$', facecolor='r')\n",
    "plot_state_space_trajectory(sol['state'], label='open loop', color='c')\n",
    "plt.legend()\n",
    "plt.show()"
   ]
  },
  {
   "cell_type": "code",
   "execution_count": null,
   "metadata": {
    "collapsed": true
   },
   "outputs": [],
   "source": [
    "x0 = np.array([.1,.3])\n",
    "controller = HybridModelPredictiveController(PWA, N, Q, R, P, X_N, method='Convex hull')\n",
    "# controller.add_reachability_constraints(5)\n",
    "# u,x,ms,cost = controller.feedforward(x0)\n",
    "u,x,ms,cost,d = controller.feedforward_relaxation(x0,[])\n",
    "print cost\n",
    "ims = infeasible_mode_sequences(PWA, 5)\n",
    "i = 8\n",
    "print ims[i]\n",
    "for t in range(N-len(ims)):\n",
    "    if sum([d[t+tau][m] for tau, m in enumerate(ims[i])]) >= len(ims[i]) - 1.:\n",
    "        print 'error'\n",
    "#     for tau, m in enumerate(ims[i]):\n",
    "#         print t, tau, m, d[t+tau][m]\n",
    "#     print 'sum:', sum([d[t+tau][m] for tau, m in enumerate(ims[i])]) <= len(ims[i] - 1.)\n",
    "#     print '\\n'"
   ]
  },
  {
   "cell_type": "code",
   "execution_count": null,
   "metadata": {
    "collapsed": true
   },
   "outputs": [],
   "source": [
    "from pympc.plot import plot_state_space_trajectory"
   ]
  },
  {
   "cell_type": "code",
   "execution_count": null,
   "metadata": {
    "collapsed": true
   },
   "outputs": [],
   "source": [
    "X_N.plot()\n",
    "plot_state_space_trajectory(x)"
   ]
  },
  {
   "cell_type": "code",
   "execution_count": null,
   "metadata": {
    "collapsed": true
   },
   "outputs": [],
   "source": [
    "x_min = np.minimum.reduce([x1_min, x2_min, x3_min])\n",
    "x_max = np.maximum.reduce([x1_max, x2_max, x3_max])"
   ]
  },
  {
   "cell_type": "code",
   "execution_count": null,
   "metadata": {
    "collapsed": true
   },
   "outputs": [],
   "source": [
    "# samples for the initial position and velocity of the ball\n",
    "n_levels = 10\n",
    "n_samples = 101\n",
    "q_samples = np.linspace(x_min[0], x_max[0], n_samples)\n",
    "v_samples = np.linspace(x_min[1], x_max[1], n_samples)\n",
    "Q_samples, V_samples = np.meshgrid(q_samples, v_samples)"
   ]
  },
  {
   "cell_type": "code",
   "execution_count": null,
   "metadata": {
    "collapsed": true
   },
   "outputs": [],
   "source": [
    "from pympc.control.hybrid_benchmark.utils import get_constraint_set, remove_redundant_inequalities_fast, convex_hull_method_fast\n",
    "\n",
    "# get feasible sets (uses the feasible set of the CH method for the CHLC method)\n",
    "controller = HybridModelPredictiveController(PWA, N, Q, R, P, X_N, method='Convex hull')\n",
    "# controller.add_reachability_constraints(10)\n",
    "cs = get_constraint_set(controller.prog)\n",
    "var_indices = {v: i for i, v in enumerate(controller.prog.getVars())}\n",
    "assert var_indices[controller.prog.getVarByName('x0[0]')] == 0\n",
    "assert var_indices[controller.prog.getVarByName('x0[1]')] == 1\n",
    "sect = convex_hull_method_fast(cs, [0,1])\n",
    "\n",
    "# samples on the grid\n",
    "cost_mat = np.empty([n_samples]*2)\n",
    "for i, q in enumerate(q_samples):\n",
    "    for j, v in enumerate(v_samples):\n",
    "        print(str(i) + ',' + str(j) + '   \\r'),\n",
    "        x0 = np.array([q, v])\n",
    "        cost = controller.feedforward_relaxation(x0, [])[3]\n",
    "        cost_mat[i,j] = cost"
   ]
  },
  {
   "cell_type": "code",
   "execution_count": null,
   "metadata": {
    "collapsed": true
   },
   "outputs": [],
   "source": [
    "from math import floor\n",
    "def my_round(x):\n",
    "    return floor(x*10.)/10.\n",
    "\n",
    "levels = [my_round((i+1)*np.nanmax(cost_mat)/n_levels) for i in range(n_levels)]\n",
    "cp = plt.contour(Q_samples, V_samples, cost_mat.T, levels=levels, cmap='viridis_r')\n",
    "plt.colorbar(cp, label='Cost relaxed problem')\n",
    "sect.plot(facecolor='w')\n",
    "plt.grid(True)\n",
    "plt.savefig('pendulum_2_walls_bm.pdf',bbox_inches='tight')\n",
    "plt.show()"
   ]
  },
  {
   "cell_type": "code",
   "execution_count": null,
   "metadata": {
    "collapsed": true
   },
   "outputs": [],
   "source": []
  }
 ],
 "metadata": {
  "kernelspec": {
   "display_name": "Python 2",
   "language": "python",
   "name": "python2"
  },
  "language_info": {
   "codemirror_mode": {
    "name": "ipython",
    "version": 2
   },
   "file_extension": ".py",
   "mimetype": "text/x-python",
   "name": "python",
   "nbconvert_exporter": "python",
   "pygments_lexer": "ipython2",
   "version": "2.7.15"
  }
 },
 "nbformat": 4,
 "nbformat_minor": 2
}
