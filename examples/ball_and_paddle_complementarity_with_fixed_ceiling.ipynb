{
 "cells": [
  {
   "cell_type": "code",
   "execution_count": 1,
   "metadata": {},
   "outputs": [],
   "source": [
    "# notebook settings\n",
    "%load_ext autoreload\n",
    "%autoreload 2\n",
    "\n",
    "# external imports\n",
    "import numpy as np\n",
    "import sympy as sp\n",
    "import matplotlib as mpl\n",
    "import matplotlib.pyplot as plt\n",
    "from copy import copy\n",
    "from math import floor\n",
    "\n",
    "# internal imports\n",
    "from pympc.geometry.polyhedron import Polyhedron\n",
    "from pympc.dynamics.discrete_time_systems import LinearSystem, AffineSystem, PieceWiseAffineSystem\n",
    "from pympc.control.hybrid_benchmark.controllers import HybridModelPredictiveController\n",
    "from pympc.plot import plot_input_sequence, plot_state_trajectory, plot_output_trajectory\n",
    "from pympc.control.hybrid_benchmark.utils import get_constraint_set, remove_redundant_inequalities_fast, convex_hull_method_fast"
   ]
  },
  {
   "cell_type": "markdown",
   "metadata": {},
   "source": [
    "# Problem set-up"
   ]
  },
  {
   "cell_type": "code",
   "execution_count": 2,
   "metadata": {
    "collapsed": true
   },
   "outputs": [],
   "source": [
    "# numeric parameters of the system\n",
    "m = 1.\n",
    "r = .1\n",
    "I = .4*m*r**2.\n",
    "d = .4\n",
    "l = .3\n",
    "mu = .2\n",
    "g = 10.\n",
    "h = .05"
   ]
  },
  {
   "cell_type": "code",
   "execution_count": 3,
   "metadata": {
    "collapsed": true
   },
   "outputs": [],
   "source": [
    "# symbolic state\n",
    "xb, yb, tb = sp.symbols('xb yb tb') # position of the ball\n",
    "xf, yf = sp.symbols('xf yf') # position of the floor\n",
    "xdb, ydb, tdb = sp.symbols('xdb ydb tdb') # velocity of the ball\n",
    "xdf, ydf = sp.symbols('xdf ydf') # velocity of the floor\n",
    "x = sp.Matrix([\n",
    "    xb, yb, tb,\n",
    "    xf, yf,\n",
    "    xdb, ydb, tdb,\n",
    "    xdf, ydf\n",
    "])\n",
    "\n",
    "# symbolic input\n",
    "xd2f, yd2f = sp.symbols('xd2f yd2f') # acceleration of the floor\n",
    "u = sp.Matrix([\n",
    "    xd2f, yd2f\n",
    "])\n",
    "\n",
    "# contact forces\n",
    "ftf, fnf = sp.symbols('ftf fnf') # floor force\n",
    "ftc, fnc = sp.symbols('ftc fnc') # ceiling force"
   ]
  },
  {
   "cell_type": "code",
   "execution_count": 4,
   "metadata": {
    "collapsed": true
   },
   "outputs": [],
   "source": [
    "# ball velocity update\n",
    "xdb_next = xdb + h*ftf/m - h*ftc/m\n",
    "ydb_next = ydb + h*fnf/m - h*fnc/m - h*g\n",
    "tdb_next = tdb + r*h*ftf/I + r*h*ftc/I\n",
    "\n",
    "# ball position update\n",
    "xb_next = xb + h*xdb_next\n",
    "yb_next = yb + h*ydb_next\n",
    "tb_next = tb + h*tdb_next\n",
    "\n",
    "# floor velocity update\n",
    "xdf_next = xdf + h*xd2f\n",
    "ydf_next = ydf + h*yd2f\n",
    "\n",
    "# floor position update\n",
    "xf_next = xf + h*xdf_next\n",
    "yf_next = yf + h*ydf_next\n",
    "\n",
    "# state update\n",
    "x_next = sp.Matrix([\n",
    "    xb_next, yb_next, tb_next,\n",
    "    xf_next, yf_next,\n",
    "    xdb_next, ydb_next, tdb_next,\n",
    "    xdf_next, ydf_next\n",
    "])"
   ]
  },
  {
   "cell_type": "code",
   "execution_count": 5,
   "metadata": {
    "collapsed": true
   },
   "outputs": [],
   "source": [
    "# relative tangential velocity\n",
    "sliding_velocity_floor = xdb_next + r*tdb_next - xdf_next\n",
    "sliding_velocity_ceiling = xdb_next - r*tdb_next\n",
    "\n",
    "# gap function floor\n",
    "gap_floor = yb_next - yf_next\n",
    "\n",
    "# gap function ceiling\n",
    "gap_ceiling = d - 2.*r - yb_next\n",
    "\n",
    "# ball distance to boundaries\n",
    "ball_on_floor = sp.Matrix([\n",
    "    xb_next - xf_next - l,\n",
    "    xf_next - xb_next - l\n",
    "])\n",
    "ball_on_ceiling = sp.Matrix([\n",
    "    xb_next - l,\n",
    "    - xb_next - l\n",
    "])"
   ]
  },
  {
   "cell_type": "code",
   "execution_count": 6,
   "metadata": {
    "collapsed": true
   },
   "outputs": [],
   "source": [
    "# state bounds\n",
    "x_max = np.array([\n",
    "    l, d-2.*r, 1.2*np.pi, # ball config\n",
    "    l, d-2.*r-.05, # floor config\n",
    "    2., 2., 10., # ball vel\n",
    "    2., 2. # floor vel\n",
    "])\n",
    "x_min = - x_max\n",
    "\n",
    "# input bounds\n",
    "u_max = np.array([\n",
    "    30., 30., # floor acc\n",
    "])\n",
    "u_min = - u_max\n",
    "\n",
    "# domain bounds\n",
    "xu = x.col_join(u)\n",
    "xu_min = np.concatenate((x_min, u_min))\n",
    "xu_max = np.concatenate((x_max, u_max))"
   ]
  },
  {
   "cell_type": "code",
   "execution_count": 7,
   "metadata": {
    "collapsed": true
   },
   "outputs": [],
   "source": [
    "# discrete time dynamics in mode 1\n",
    "# (ball in the air)\n",
    "\n",
    "# set forces to zero\n",
    "f_m1 = {ftf: 0., fnf: 0., ftc: 0., fnc: 0.}\n",
    "\n",
    "# get dynamics\n",
    "x_next_m1 = x_next.subs(f_m1)\n",
    "S1 = AffineSystem.from_symbolic(x, u, x_next_m1)\n",
    "\n",
    "# build domain\n",
    "D1 = Polyhedron.from_bounds(xu_min, xu_max)\n",
    "\n",
    "# - gap <= 0 with floor and ceiling\n",
    "gap_floor_m1 = gap_floor.subs(f_m1)\n",
    "gap_ceiling_m1 = gap_ceiling.subs(f_m1)\n",
    "D1.add_symbolic_inequality(xu, sp.Matrix([- gap_floor_m1]))\n",
    "D1.add_symbolic_inequality(xu, sp.Matrix([- gap_ceiling_m1]))\n",
    "\n",
    "# check domain\n",
    "assert D1.bounded\n",
    "assert not D1.empty"
   ]
  },
  {
   "cell_type": "code",
   "execution_count": 8,
   "metadata": {
    "collapsed": true
   },
   "outputs": [],
   "source": [
    "# discrete time dynamics in mode 2\n",
    "# (ball sticking with the floor, not in contact with the ceiling)\n",
    "\n",
    "# enforce sticking\n",
    "fc_m2 = {ftc: 0., fnc: 0.}\n",
    "ftf_m2 = sp.solve(sp.Eq(sliding_velocity_floor.subs(fc_m2), 0), ftf)[0]\n",
    "fnf_m2 = sp.solve(sp.Eq(gap_floor.subs(fc_m2), 0), fnf)[0]\n",
    "f_m2 = fc_m2.copy()\n",
    "f_m2.update({ftf: ftf_m2, fnf: fnf_m2})\n",
    "\n",
    "# get dynamics\n",
    "x_next_m2 = x_next.subs(f_m2)\n",
    "S2 = AffineSystem.from_symbolic(x, u, x_next_m2)\n",
    "\n",
    "# build domain\n",
    "D2 = Polyhedron.from_bounds(xu_min, xu_max)\n",
    "\n",
    "# gap <= 0 with floor\n",
    "D2.add_symbolic_inequality(xu, sp.Matrix([gap_floor_m1]))\n",
    "\n",
    "# - gap <= 0 with ceiling\n",
    "D2.add_symbolic_inequality(xu, sp.Matrix([- gap_ceiling_m1]))\n",
    "\n",
    "# ball not falling down the floor\n",
    "D2.add_symbolic_inequality(xu, ball_on_floor.subs(f_m2))\n",
    "\n",
    "# friction cone\n",
    "D2.add_symbolic_inequality(xu, sp.Matrix([ftf_m2 - mu*fnf_m2]))\n",
    "D2.add_symbolic_inequality(xu, sp.Matrix([- ftf_m2 - mu*fnf_m2]))\n",
    "\n",
    "# check domain\n",
    "assert D2.bounded\n",
    "assert not D2.empty"
   ]
  },
  {
   "cell_type": "code",
   "execution_count": 9,
   "metadata": {},
   "outputs": [],
   "source": [
    "# discrete time dynamics in mode 3\n",
    "# (ball sliding right on the floor, not in contact with the ceiling)\n",
    "\n",
    "# enforce sticking\n",
    "f_m3 = {ftf: -mu*fnf_m2, fnf: fnf_m2, ftc: 0., fnc: 0.}\n",
    "\n",
    "# get dynamics\n",
    "x_next_m3 = x_next.subs(f_m3)\n",
    "S3 = AffineSystem.from_symbolic(x, u, x_next_m3)\n",
    "\n",
    "# build domain\n",
    "D3 = Polyhedron.from_bounds(xu_min, xu_max)\n",
    "\n",
    "# gap <= 0 with floor\n",
    "D3.add_symbolic_inequality(xu, sp.Matrix([gap_floor_m1]))\n",
    "\n",
    "# - gap <= 0 with ceiling\n",
    "D3.add_symbolic_inequality(xu, sp.Matrix([- gap_ceiling_m1]))\n",
    "\n",
    "# ball not falling down the floor\n",
    "D3.add_symbolic_inequality(xu, ball_on_floor.subs(f_m3))\n",
    "\n",
    "# positive relative velocity\n",
    "D3.add_symbolic_inequality(xu, sp.Matrix([- sliding_velocity_floor.subs(f_m3)]))\n",
    "\n",
    "# check domain\n",
    "assert D3.bounded\n",
    "assert not D3.empty"
   ]
  },
  {
   "cell_type": "code",
   "execution_count": 10,
   "metadata": {},
   "outputs": [],
   "source": [
    "# discrete time dynamics in mode 4\n",
    "# (ball sliding left on the floor, not in contact with the ceiling)\n",
    "\n",
    "# enforce sticking\n",
    "f_m4 = {ftf: mu*fnf_m2, fnf: fnf_m2, ftc: 0., fnc: 0.}\n",
    "\n",
    "# get dynamics\n",
    "x_next_m4 = x_next.subs(f_m4)\n",
    "S4 = AffineSystem.from_symbolic(x, u, x_next_m4)\n",
    "\n",
    "# build domain\n",
    "D4 = Polyhedron.from_bounds(xu_min, xu_max)\n",
    "\n",
    "# gap <= 0 with floor\n",
    "D4.add_symbolic_inequality(xu, sp.Matrix([gap_floor_m1]))\n",
    "\n",
    "# - gap <= 0 with ceiling\n",
    "D4.add_symbolic_inequality(xu, sp.Matrix([- gap_ceiling_m1]))\n",
    "\n",
    "# ball not falling down the floor\n",
    "D4.add_symbolic_inequality(xu, ball_on_floor.subs(f_m4))\n",
    "\n",
    "# negative relative velocity\n",
    "D4.add_symbolic_inequality(xu, sp.Matrix([sliding_velocity_floor.subs(f_m4)]))\n",
    "\n",
    "# check domain\n",
    "assert D4.bounded\n",
    "assert not D4.empty"
   ]
  },
  {
   "cell_type": "code",
   "execution_count": 11,
   "metadata": {
    "collapsed": true
   },
   "outputs": [],
   "source": [
    "# discrete time dynamics in mode 5\n",
    "# (ball sticking on the ceiling, not in contact with the floor)\n",
    "\n",
    "# enforce sticking\n",
    "ff_m5 = {ftf: 0., fnf: 0.}\n",
    "ftc_m5 = sp.solve(sp.Eq(sliding_velocity_ceiling.subs(ff_m5), 0), ftc)[0]\n",
    "fnc_m5 = sp.solve(sp.Eq(gap_ceiling.subs(ff_m5), 0), fnc)[0]\n",
    "f_m5 = ff_m5.copy()\n",
    "f_m5.update({ftc: ftc_m5, fnc: fnc_m5})\n",
    "\n",
    "# get dynamics\n",
    "x_next_m5 = x_next.subs(f_m5)\n",
    "S5 = AffineSystem.from_symbolic(x, u, x_next_m5)\n",
    "\n",
    "# build domain\n",
    "D5 = Polyhedron.from_bounds(xu_min, xu_max)\n",
    "\n",
    "# - gap <= 0 with floor\n",
    "D5.add_symbolic_inequality(xu, sp.Matrix([- gap_floor_m1]))\n",
    "\n",
    "# gap <= 0 with ceiling\n",
    "D5.add_symbolic_inequality(xu, sp.Matrix([gap_ceiling_m1]))\n",
    "\n",
    "# ball in contact with the ceiling\n",
    "D5.add_symbolic_inequality(xu, ball_on_ceiling.subs(f_m5))\n",
    "\n",
    "# friction cone\n",
    "D5.add_symbolic_inequality(xu, sp.Matrix([ftc_m5 - mu*fnc_m5]))\n",
    "D5.add_symbolic_inequality(xu, sp.Matrix([- ftc_m5 - mu*fnc_m5]))\n",
    "\n",
    "# check domain\n",
    "assert D5.bounded\n",
    "assert not D5.empty"
   ]
  },
  {
   "cell_type": "code",
   "execution_count": 12,
   "metadata": {
    "collapsed": true
   },
   "outputs": [],
   "source": [
    "# discrete time dynamics in mode 6\n",
    "# (ball sliding right on the ceiling, not in contact with the floor)\n",
    "\n",
    "\n",
    "# enforce sticking\n",
    "f_m6 = {ftc: -mu*fnc_m5, fnc: fnc_m5, ftf: 0., fnf: 0.}\n",
    "\n",
    "# get dynamics\n",
    "x_next_m6 = x_next.subs(f_m6)\n",
    "S6 = AffineSystem.from_symbolic(x, u, x_next_m6)\n",
    "\n",
    "# build domain\n",
    "D6 = Polyhedron.from_bounds(xu_min, xu_max)\n",
    "\n",
    "# - gap <= 0 with floor\n",
    "D6.add_symbolic_inequality(xu, sp.Matrix([- gap_floor_m1]))\n",
    "\n",
    "# gap <= 0 with ceiling\n",
    "D6.add_symbolic_inequality(xu, sp.Matrix([gap_ceiling_m1]))\n",
    "\n",
    "# ball in contact with the ceiling\n",
    "D6.add_symbolic_inequality(xu, ball_on_ceiling.subs(f_m6))\n",
    "\n",
    "# positive relative velocity\n",
    "D6.add_symbolic_inequality(xu, sp.Matrix([- sliding_velocity_ceiling.subs(f_m6)]))\n",
    "\n",
    "# check domain\n",
    "assert D6.bounded\n",
    "assert not D6.empty"
   ]
  },
  {
   "cell_type": "code",
   "execution_count": 13,
   "metadata": {},
   "outputs": [],
   "source": [
    "# discrete time dynamics in mode 7\n",
    "# (ball sliding left on the ceiling, not in contact with the floor)\n",
    "\n",
    "# enforce sticking\n",
    "f_m7 = {ftc: mu*fnc_m5, fnc: fnc_m5, ftf: 0., fnf: 0.}\n",
    "\n",
    "# get dynamics\n",
    "x_next_m7 = x_next.subs(f_m7)\n",
    "S7 = AffineSystem.from_symbolic(x, u, x_next_m7)\n",
    "\n",
    "# build domain\n",
    "D7 = Polyhedron.from_bounds(xu_min, xu_max)\n",
    "\n",
    "# - gap <= 0 with floor\n",
    "D7.add_symbolic_inequality(xu, sp.Matrix([- gap_floor_m1]))\n",
    "\n",
    "# gap <= 0 with ceiling\n",
    "D7.add_symbolic_inequality(xu, sp.Matrix([gap_ceiling_m1]))\n",
    "\n",
    "# ball in contact with the ceiling\n",
    "D7.add_symbolic_inequality(xu, ball_on_ceiling.subs(f_m7))\n",
    "\n",
    "# negative relative velocity\n",
    "D7.add_symbolic_inequality(xu, sp.Matrix([sliding_velocity_ceiling.subs(f_m7)]))\n",
    "\n",
    "# check domain\n",
    "assert D7.bounded\n",
    "assert not D7.empty"
   ]
  },
  {
   "cell_type": "code",
   "execution_count": 14,
   "metadata": {},
   "outputs": [],
   "source": [
    "# list of dynamics\n",
    "S_list = [S1, S2, S3, S4, S5, S6, S7]\n",
    "\n",
    "# list of domains\n",
    "D_list = [D1, D2, D3, D4, D5, D6, D7]\n",
    "\n",
    "# PWA system\n",
    "S = PieceWiseAffineSystem(S_list, D_list)"
   ]
  },
  {
   "cell_type": "code",
   "execution_count": 15,
   "metadata": {
    "collapsed": true
   },
   "outputs": [],
   "source": [
    "# controller parameters\n",
    "N = 20\n",
    "Q = np.diag([\n",
    "    1., 1., .01,\n",
    "    1., 1.,\n",
    "    1., 1., .01,\n",
    "    1., 1.\n",
    "])*2.\n",
    "R = np.diag([\n",
    "    .01, .001\n",
    "])*2.\n",
    "P = np.zeros((S.nx, S.nx))\n",
    "\n",
    "# terminal set and cost\n",
    "X_N = Polyhedron.from_bounds(*[np.zeros(S.nx)]*2)"
   ]
  },
  {
   "cell_type": "code",
   "execution_count": 16,
   "metadata": {
    "collapsed": true
   },
   "outputs": [],
   "source": [
    "methods = ['pf', 'ch', 'bm', 'mld']\n",
    "norms = ['inf', 'one', 'two']"
   ]
  },
  {
   "cell_type": "code",
   "execution_count": 23,
   "metadata": {},
   "outputs": [
    {
     "name": "stdout",
     "output_type": "stream",
     "text": [
      "Warning for adding constraints: zero or small (< 1e-13) coefficients, ignored\n"
     ]
    }
   ],
   "source": [
    "controller = HybridModelPredictiveController(S, N, Q, R, P, X_N, method='mld')"
   ]
  },
  {
   "cell_type": "code",
   "execution_count": 32,
   "metadata": {},
   "outputs": [
    {
     "name": "stdout",
     "output_type": "stream",
     "text": [
      "[1 2 3]\n"
     ]
    }
   ],
   "source": [
    "a = np.array(range(6))\n",
    "print a[1:-2]"
   ]
  },
  {
   "cell_type": "markdown",
   "metadata": {},
   "source": [
    "# Comparison of the different formulations"
   ]
  },
  {
   "cell_type": "code",
   "execution_count": 25,
   "metadata": {},
   "outputs": [
    {
     "name": "stdout",
     "output_type": "stream",
     "text": [
      "Changed value of parameter OutputFlag to 1\n",
      "   Prev: 0  Min: 0  Max: 1  Default: 1\n",
      "Optimize a model with 9880 rows, 1790 columns and 28940 nonzeros\n",
      "Model has 240 quadratic objective terms\n",
      "Variable types: 1650 continuous, 140 integer (140 binary)\n",
      "Coefficient statistics:\n",
      "  Matrix range     [5e-04, 1e+02]\n",
      "  Objective range  [0e+00, 0e+00]\n",
      "  QObjective range [2e-03, 2e+00]\n",
      "  Bounds range     [3e+00, 3e+00]\n",
      "  RHS range        [1e-01, 1e+02]\n",
      "Presolve removed 4069 rows and 186 columns\n",
      "Presolve time: 0.07s\n",
      "Presolved: 5811 rows, 1604 columns, 23248 nonzeros\n",
      "Presolved model has 230 quadratic objective terms\n",
      "Variable types: 1470 continuous, 134 integer (134 binary)\n",
      "\n",
      "Root relaxation: objective 1.684762e-01, 3505 iterations, 0.02 seconds\n",
      "\n",
      "    Nodes    |    Current Node    |     Objective Bounds      |     Work\n",
      " Expl Unexpl |  Obj  Depth IntInf | Incumbent    BestBd   Gap | It/Node Time\n",
      "\n",
      "     0     0    0.16848    0   42          -    0.16848      -     -    0s\n",
      "     0     0    0.17721    0   44          -    0.17721      -     -    0s\n",
      "     0     0    0.17721    0   44          -    0.17721      -     -    0s\n",
      "     0     0    0.18225    0   44          -    0.18225      -     -    0s\n",
      "     0     0    0.18225    0   44          -    0.18225      -     -    0s\n",
      "     0     2    0.18225    0   44          -    0.18225      -     -    1s\n",
      "\n",
      "Cutting planes:\n",
      "  MIR: 22\n",
      "  Flow cover: 2\n",
      "\n",
      "Explored 580 nodes (40890 simplex iterations) in 3.60 seconds\n",
      "Thread count was 4 (of 4 available processors)\n",
      "\n",
      "Solution count 0\n",
      "\n",
      "Solve interrupted\n",
      "Best objective -, best bound 2.360301590051e-01, gap -\n"
     ]
    },
    {
     "data": {
      "text/plain": [
       "(None, None, None, None)"
      ]
     },
     "execution_count": 25,
     "metadata": {},
     "output_type": "execute_result"
    }
   ],
   "source": [
    "# initial condition\n",
    "x0 = np.array([\n",
    "    0., 0., np.pi,\n",
    "    0., 0.,\n",
    "    0., 0., 0.,\n",
    "    0., 0.\n",
    "])\n",
    "controller.feedforward(x0)"
   ]
  },
  {
   "cell_type": "code",
   "execution_count": null,
   "metadata": {
    "collapsed": true
   },
   "outputs": [],
   "source": [
    "# solve MICP with all the methods (takes hours!)\n",
    "solves = {}\n",
    "for norm in norms:\n",
    "    print '\\nnorm:', norm\n",
    "    solves[norm] = {}\n",
    "    for method in methods:\n",
    "        print '\\nmethod:', method\n",
    "        controller = HybridModelPredictiveController(S, N, Q, R, P, X_N, method, norm)\n",
    "        controller.prog.setParam('TimeLimit', 3600)\n",
    "        u_mip, x_mip, ms_mip, cost_mip = controller.feedforward(x0)\n",
    "        solves[norm][method] = {\n",
    "            'time': controller.prog.Runtime,\n",
    "            'nodes': controller.prog.NodeCount,\n",
    "            'mip_gap': controller.prog.MIPGap,\n",
    "            'u': u_mip,\n",
    "            'x': x_mip,\n",
    "            'ms': ms_mip,\n",
    "            'cost': cost_mip\n",
    "        }\n",
    "# np.save('data_mip_formulations/flip_benchmark', solves)"
   ]
  },
  {
   "cell_type": "code",
   "execution_count": null,
   "metadata": {
    "collapsed": true
   },
   "outputs": [],
   "source": [
    "# loads the results above and prints the results\n",
    "solves = np.load('data_mip_formulations/flip_benchmark.npy').item()\n",
    "for norm in norms:\n",
    "    print '\\nnorm:', norm\n",
    "    for method in methods:\n",
    "        print '\\nmethod:', method\n",
    "        print 'mip gap:', solves[norm][method]['mip_gap']\n",
    "        print 'time:', solves[norm][method]['time']\n",
    "        print 'nodes:', solves[norm][method]['nodes']"
   ]
  },
  {
   "cell_type": "markdown",
   "metadata": {},
   "source": [
    "# Animation"
   ]
  },
  {
   "cell_type": "code",
   "execution_count": null,
   "metadata": {
    "collapsed": true
   },
   "outputs": [],
   "source": [
    "import meshcat\n",
    "from meshcat.geometry import Box, Sphere, Cylinder, MeshLambertMaterial\n",
    "from meshcat.animation import Animation\n",
    "import meshcat.transformations as tf"
   ]
  },
  {
   "cell_type": "code",
   "execution_count": null,
   "metadata": {
    "collapsed": true
   },
   "outputs": [],
   "source": [
    "solves = np.load('data_mip_formulations/flip_benchmark.npy').item()"
   ]
  },
  {
   "cell_type": "code",
   "execution_count": null,
   "metadata": {
    "collapsed": true
   },
   "outputs": [],
   "source": [
    "vis = meshcat.Visualizer()\n",
    "# vis.jupyter_cell()\n",
    "vis.open()"
   ]
  },
  {
   "cell_type": "code",
   "execution_count": null,
   "metadata": {
    "collapsed": true
   },
   "outputs": [],
   "source": [
    "tickness = .01\n",
    "depth = .3\n",
    "red = 0xff2222\n",
    "blue = 0x2222ff\n",
    "green = 0x22ff22\n",
    "grey = 0x999999\n",
    "vis['ball'].set_object(\n",
    "    Sphere(r),\n",
    "    MeshLambertMaterial(color=blue)\n",
    ")\n",
    "vis['floor'].set_object(\n",
    "    Box([depth, l*2., tickness]),\n",
    "    MeshLambertMaterial(color=red)\n",
    ")\n",
    "vis['ceiling'].set_object(\n",
    "    Box([depth, l*2., tickness]),\n",
    "    MeshLambertMaterial(color=grey)\n",
    ")\n",
    "vis['ball_orientation'].set_object(\n",
    "    Cylinder(r/10., r*1.002),\n",
    "    MeshLambertMaterial(color=green)\n",
    ")"
   ]
  },
  {
   "cell_type": "code",
   "execution_count": null,
   "metadata": {
    "collapsed": true
   },
   "outputs": [],
   "source": [
    "anim = Animation()\n",
    "for t, xt in enumerate(solves['inf']['CH']['x']):\n",
    "    with anim.at_frame(vis, t*h*30) as frame:\n",
    "        frame['ball'].set_transform(\n",
    "            tf.translation_matrix([0, xt[0], xt[1]+r])\n",
    "        )\n",
    "        frame['floor'].set_transform(\n",
    "            tf.translation_matrix([0, xt[3], xt[4]-tickness/2.])\n",
    "        )\n",
    "        frame['ceiling'].set_transform(\n",
    "            tf.translation_matrix([0, 0, d+tickness/2.])\n",
    "        )\n",
    "        frame['ball_orientation'].set_transform(\n",
    "            tf.translation_matrix([0, xt[0], xt[1]+r]).dot(\n",
    "                tf.rotation_matrix(xt[2], [1.,0.,0.])\n",
    "            )\n",
    "        )\n",
    "vis.set_animation(anim)"
   ]
  },
  {
   "cell_type": "markdown",
   "metadata": {},
   "source": [
    "# Compare formulations for different levels of relaxation"
   ]
  },
  {
   "cell_type": "code",
   "execution_count": null,
   "metadata": {
    "collapsed": true
   },
   "outputs": [],
   "source": [
    "# cost of each relaxation as a function of time (takes approx. 1 minute)\n",
    "solves = np.load('data_mip_formulations/flip_benchmark.npy').item()\n",
    "costs = {}\n",
    "for norm in norms:\n",
    "    print 'norm', norm\n",
    "    costs[norm] = {}\n",
    "    for method in methods:\n",
    "        print 'method', method\n",
    "        controller = HybridModelPredictiveController(S, N, Q, R, P, X_N, method, norm)\n",
    "        costs[norm][method] = []\n",
    "        for ms in [solves[norm]['CH']['ms'][:i] for i in range(N+1)]:\n",
    "            cost = controller.solve_relaxation(x0, ms)[1]\n",
    "            if cost is not None:\n",
    "                cost /= solves[norm]['CH']['cost']\n",
    "            costs[norm][method].append(cost)"
   ]
  },
  {
   "cell_type": "code",
   "execution_count": null,
   "metadata": {
    "collapsed": true
   },
   "outputs": [],
   "source": [
    "from cycler import cycler\n",
    "mpl.rcParams['axes.prop_cycle'] = cycler(color='bgrcmyk')\n",
    "for norm in norms:\n",
    "    mpl.rcParams['axes.prop_cycle'] = cycler(color='bgrcmyk')\n",
    "    plt.rc('font', size=14)\n",
    "    colors = ['b', 'r', 'c','g']\n",
    "    linestyles = ['-', '-.', '--', ':']\n",
    "    for i, method in enumerate(methods):\n",
    "        plt.plot(\n",
    "            range(N+1),\n",
    "            costs[norm][method],\n",
    "            label=method,\n",
    "            color=colors[i],\n",
    "            linestyle=linestyles[i],\n",
    "            linewidth=3\n",
    "        )\n",
    "    plt.xlim((0, N))\n",
    "    plt.ylim((0, 1.1))\n",
    "    plt.legend(loc=4)\n",
    "    plt.grid(True)\n",
    "    if norm == 'inf':\n",
    "        plt.title(r'Linear objective, $\\infty$-norm')\n",
    "    elif norm == 'one':\n",
    "        plt.title(r'Linear objective, 1-norm')\n",
    "    elif norm == 'two':\n",
    "        plt.title(r'Quadratic objective')\n",
    "    plt.xticks(np.linspace(0,N,11))\n",
    "    plt.xlabel(r'Time step $t$')\n",
    "    plt.ylabel(r'Cost relaxed problem / cost MICP')\n",
    "#     plt.savefig('relaxation_ratio_' + norm + '.pdf', bbox_inches='tight')\n",
    "    plt.show()"
   ]
  },
  {
   "cell_type": "markdown",
   "metadata": {},
   "source": [
    "# Objective as a function of the initial state ($x_1$ and $x_3$ only)"
   ]
  },
  {
   "cell_type": "code",
   "execution_count": null,
   "metadata": {
    "collapsed": true
   },
   "outputs": [],
   "source": [
    "# solve relaxations for all MI formulations (takes time!)\n",
    "n_samples = 51\n",
    "xb_samples = np.linspace(0., x_max[0], n_samples)\n",
    "tb_samples = np.linspace(-np.pi, np.pi, n_samples)\n",
    "cost = {'xb_samples': xb_samples, 'tb_samples':tb_samples}\n",
    "for norm in norms:\n",
    "    print 'norm:', norm\n",
    "    cost[norm] = {}\n",
    "    for method in methods:\n",
    "        print 'method:', method\n",
    "        controller = HybridModelPredictiveController(S, N, Q, R, P, X_N, method, norm)\n",
    "        cost_mat = np.empty([n_samples]*2)\n",
    "        for i, xb in enumerate(xb_samples):\n",
    "            for j, tb in enumerate(tb_samples):\n",
    "                print(str(i) + ',' + str(j) + '   \\r'),\n",
    "                x0 = np.array([xb,0.,tb] + [0.]*7)\n",
    "                cost_mat[i,j] = controller.solve_relaxation(x0, {})[1]\n",
    "        cost[norm][method] = cost_mat\n",
    "\n",
    "# save data\n",
    "# np.save('cost_relaxation_different_intial_conditions', cost)"
   ]
  },
  {
   "cell_type": "code",
   "execution_count": null,
   "metadata": {
    "collapsed": true
   },
   "outputs": [],
   "source": [
    "# plot cost and feasible set\n",
    "plt.rc('font', size=18)\n",
    "def my_round(x):\n",
    "    return floor(x*10.)/10.\n",
    "n_levels = 10\n",
    "cost = np.load('data_mip_formulations/cost_relaxation_different_intial_conditions.npy').item()\n",
    "xb_samples = cost['xb_samples']\n",
    "tb_samples = cost['tb_samples']\n",
    "Xb, Tb = np.meshgrid(xb_samples, tb_samples)\n",
    "for norm in norms:\n",
    "    print 'norm', norm\n",
    "    for method in methods:\n",
    "        plt.figure(figsize=(3.5, 3.))\n",
    "        print 'method', method\n",
    "        cm = cost[norm][method]\n",
    "        levels = [my_round((i+1)*np.nanmax(cm)/n_levels) for i in range(n_levels)]\n",
    "        levels = [(i+1)*np.nanmax(cm)/n_levels for i in range(n_levels)]\n",
    "        cp = plt.contour(Xb, Tb, cm.T, levels=levels, cmap='viridis_r')\n",
    "        cb = plt.colorbar(cp, orientation='horizontal')\n",
    "        cb.set_ticks([cb.locator()[0],cb.locator()[-1]])\n",
    "#         cb.ax.set_yticklabels(ticks)\n",
    "        plt.xticks([0.,.1,.2,.3])\n",
    "        plt.yticks([-3.,-1.5,0.,1.5,3.])\n",
    "        plt.grid(True)\n",
    "        plt.savefig('cost_' + method + '_' + norm + '.pdf',bbox_inches='tight')\n",
    "        plt.show()"
   ]
  },
  {
   "cell_type": "code",
   "execution_count": null,
   "metadata": {
    "collapsed": true
   },
   "outputs": [],
   "source": [
    "# samples of the MICP optimal value (takes days!)\n",
    "n_samples = 11\n",
    "xb_samples = np.linspace(0., x_max[0], n_samples)\n",
    "tb_samples = np.linspace(-np.pi, np.pi, n_samples)\n",
    "cost = {'xb_samples': xb_samples, 'tb_samples':tb_samples}\n",
    "for norm in norms:\n",
    "    print '\\nnorm:', norm\n",
    "    controller = HybridModelPredictiveController(S, N, Q, R, P, X_N, 'Convex hull', norm)\n",
    "    controller.prog.setParam('TimeLimit', 18000)\n",
    "    cost_mat = np.empty([n_samples]*2)\n",
    "    for i, xb in enumerate(xb_samples):\n",
    "        for j, tb in enumerate(tb_samples):\n",
    "            print i, j\n",
    "            x0 = np.array([xb,0.,tb] + [0.]*7)\n",
    "            cost_mat[i,j] = controller.feedforward(x0)[3]\n",
    "    cost[norm] = cost_mat\n",
    "\n",
    "# save data\n",
    "# np.save('cost_varying_position_and_angle_mip_11_samples', cost)"
   ]
  },
  {
   "cell_type": "code",
   "execution_count": null,
   "metadata": {
    "collapsed": true
   },
   "outputs": [],
   "source": [
    "# plot cost and feasible set\n",
    "plt.rc('font', size=18)\n",
    "def my_round(x):\n",
    "    return floor(x*10.)/10.\n",
    "n_levels = 10\n",
    "cost = np.load('data_mip_formulations/cost_micp_different_intial_conditions.npy').item()\n",
    "xb_samples = cost['xb_samples']\n",
    "tb_samples = cost['tb_samples']\n",
    "n_samples = len(xb_samples)\n",
    "hor = np.concatenate([[i]*n_samples for i in xb_samples])\n",
    "ver = tb_samples.tolist()*n_samples\n",
    "cm = plt.cm.get_cmap('viridis_r')\n",
    "for norm in norms:\n",
    "    plt.figure(figsize=(3.5, 3))\n",
    "    print 'norm', norm\n",
    "    c = cost[norm].flatten()\n",
    "    sc = plt.scatter(hor, ver, c=c, cmap=cm)\n",
    "    cb = plt.colorbar(sc, orientation='horizontal')\n",
    "    cb.set_ticks([min(c), max(c)])\n",
    "    plt.xticks([0.,.1,.2,.3])\n",
    "    plt.yticks([-3.,-1.5,0.,1.5,3.])\n",
    "    plt.grid(True)\n",
    "    plt.gca().set_axisbelow(True)\n",
    "    plt.xlim(-.01,.31)\n",
    "    plt.ylim(-np.pi-.3,np.pi+.3)\n",
    "    plt.savefig('cost_mip_' + norm + '.pdf',bbox_inches='tight')\n",
    "    plt.show()"
   ]
  },
  {
   "cell_type": "markdown",
   "metadata": {},
   "source": [
    "# Plot optimal mode sequence"
   ]
  },
  {
   "cell_type": "code",
   "execution_count": null,
   "metadata": {},
   "outputs": [],
   "source": [
    "solves = np.load('data_mip_formulations/flip_benchmark.npy').item()\n",
    "ms = [solves['inf']['CH']['ms'][0]] + solves['inf']['CH']['ms']\n",
    "ms_map = {0: 3, 1: 1, 2: 2, 3: 0, 4: 5, 5: 6, 6: 4}\n",
    "ms_legend = [\n",
    "    '',\n",
    "    'Slide left on paddle',\n",
    "    'Stick/roll on paddle',\n",
    "    'Slide right on paddle',\n",
    "    'No contact',\n",
    "    'Slide left on ceiling',\n",
    "    'Stick/roll on ceiling',\n",
    "    'Slide right on ceiling'\n",
    "]\n",
    "plt.figure(figsize=(5,3))\n",
    "plt.step(range(N+1), [ms_map[m] for m in ms], color='b')\n",
    "plt.xticks(range(N+1))\n",
    "plt.xlim(0, N)\n",
    "plt.grid(True)\n",
    "plt.xlabel(r'Time step $t$')\n",
    "plt.ylabel(r'System mode $i^*(t)$')\n",
    "plt.gca().set_yticklabels(ms_legend)\n",
    "plt.savefig('optimal_mode_sequence.pdf',bbox_inches='tight')"
   ]
  },
  {
   "cell_type": "code",
   "execution_count": null,
   "metadata": {
    "collapsed": true
   },
   "outputs": [],
   "source": []
  }
 ],
 "metadata": {
  "kernelspec": {
   "display_name": "Python 2",
   "language": "python",
   "name": "python2"
  },
  "language_info": {
   "codemirror_mode": {
    "name": "ipython",
    "version": 2
   },
   "file_extension": ".py",
   "mimetype": "text/x-python",
   "name": "python",
   "nbconvert_exporter": "python",
   "pygments_lexer": "ipython2",
   "version": "2.7.15"
  }
 },
 "nbformat": 4,
 "nbformat_minor": 2
}
