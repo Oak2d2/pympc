{
 "cells": [
  {
   "cell_type": "code",
   "execution_count": 1,
   "metadata": {},
   "outputs": [],
   "source": [
    "# notebook settings\n",
    "%load_ext autoreload\n",
    "%autoreload 2\n",
    "\n",
    "# external imports\n",
    "import numpy as np\n",
    "import sympy as sp\n",
    "import matplotlib.pyplot as plt\n",
    "from scipy.linalg import block_diag\n",
    "\n",
    "# internal imports\n",
    "from pympc.geometry.polyhedron import Polyhedron\n",
    "from pympc.dynamics.discrete_time_systems import LinearSystem, AffineSystem, PieceWiseAffineSystem\n",
    "from pympc.control.hybrid_benchmark.controllers import HybridModelPredictiveController\n",
    "from pympc.control.hybrid_benchmark.utils import feasible_mode_sequences\n",
    "from pympc.plot import plot_input_sequence, plot_state_trajectory"
   ]
  },
  {
   "cell_type": "code",
   "execution_count": 2,
   "metadata": {},
   "outputs": [],
   "source": [
    "# numeric parameters\n",
    "m = 1.\n",
    "d = .5\n",
    "r = .1\n",
    "eps = .5\n",
    "h = .01\n",
    "x_max = np.array([d-r, 5.])\n",
    "x_min = - x_max\n",
    "u_max = np.array([5.])\n",
    "u_min = - u_max\n",
    "xu_max = np.concatenate((x_max, u_max))\n",
    "xu_min = np.concatenate((x_min, u_min))"
   ]
  },
  {
   "cell_type": "code",
   "execution_count": 3,
   "metadata": {},
   "outputs": [],
   "source": [
    "# state and input symbolic\n",
    "q, v= sp.symbols('q v')\n",
    "x = sp.Matrix([q, v])\n",
    "f = sp.symbols('f')\n",
    "u = sp.Matrix([f])\n",
    "xu = x.col_join(u)"
   ]
  },
  {
   "cell_type": "code",
   "execution_count": 4,
   "metadata": {},
   "outputs": [],
   "source": [
    "# mode 1: no contact\n",
    "v_next = v + h*f/m\n",
    "q_next = q + h*v\n",
    "x_next = sp.Matrix([q_next, v_next])\n",
    "S1 = LinearSystem.from_symbolic(x, u, x_next)\n",
    "D1 = Polyhedron.from_bounds(xu_min, xu_max)\n",
    "D1.add_symbolic_inequality(xu,sp.Matrix([q + v*h + - d + r,- q - v*h - d + r]))"
   ]
  },
  {
   "cell_type": "code",
   "execution_count": 5,
   "metadata": {},
   "outputs": [],
   "source": [
    "# mode 2: contact with right wall\n",
    "x_next = sp.Matrix([q, -eps*v])\n",
    "S2 = AffineSystem.from_symbolic(x, u, x_next)\n",
    "D2 = Polyhedron.from_bounds(xu_min, xu_max)\n",
    "D2.add_symbolic_inequality(xu,sp.Matrix([- q - v*h + d - r]))"
   ]
  },
  {
   "cell_type": "code",
   "execution_count": 6,
   "metadata": {},
   "outputs": [],
   "source": [
    "# mode 3: contact with left wall\n",
    "x_next = sp.Matrix([q, -eps*v])\n",
    "S3 = AffineSystem.from_symbolic(x, u, x_next)\n",
    "D3 = Polyhedron.from_bounds(xu_min, xu_max)\n",
    "D3.add_symbolic_inequality(xu,sp.Matrix([q + v*h + d - r]))"
   ]
  },
  {
   "cell_type": "code",
   "execution_count": 7,
   "metadata": {},
   "outputs": [
    {
     "name": "stdout",
     "output_type": "stream",
     "text": [
      "Is well posed? True\n"
     ]
    }
   ],
   "source": [
    "# piecewise affine system\n",
    "S = PieceWiseAffineSystem([S1, S2, S3], [D1, D2, D3])\n",
    "print 'Is well posed?', S.is_well_posed()"
   ]
  },
  {
   "cell_type": "markdown",
   "metadata": {},
   "source": [
    "# Simulation"
   ]
  },
  {
   "cell_type": "code",
   "execution_count": 8,
   "metadata": {},
   "outputs": [
    {
     "data": {
      "image/png": "[encoded data removed]",
      "text/plain": [
       "<matplotlib.figure.Figure at 0x7f98e0bc6c90>"
      ]
     },
     "metadata": {},
     "output_type": "display_data"
    }
   ],
   "source": [
    "# push to the right wall with u=u_max\n",
    "N_sim = 200\n",
    "x0 = np.array([0., 0.])\n",
    "x_sim, ms_sim = S.simulate(x0, [u_max]*N_sim)\n",
    "plot_state_trajectory(x_sim, h, [x_min, x_max])"
   ]
  },
  {
   "cell_type": "code",
   "execution_count": 9,
   "metadata": {},
   "outputs": [
    {
     "data": {
      "image/png": "[encoded data removed]",
      "text/plain": [
       "<matplotlib.figure.Figure at 0x7f98e0bc6b50>"
      ]
     },
     "metadata": {},
     "output_type": "display_data"
    }
   ],
   "source": [
    "# push to the left wall with u=u_min\n",
    "x_sim, ms_sim = S.simulate(x0, [u_min]*N_sim)\n",
    "plot_state_trajectory(x_sim, h, [x_min, x_max])"
   ]
  },
  {
   "cell_type": "markdown",
   "metadata": {},
   "source": [
    "# Example of condensation"
   ]
  },
  {
   "cell_type": "code",
   "execution_count": 10,
   "metadata": {},
   "outputs": [
    {
     "name": "stdout",
     "output_type": "stream",
     "text": [
      "Academic license - for non-commercial use only\n"
     ]
    }
   ],
   "source": [
    "# build controller no condensation\n",
    "N = 60\n",
    "Q = np.diag([1., 1.])*h\n",
    "R = np.diag([1.])*h\n",
    "P = Q\n",
    "X_N = Polyhedron.from_bounds(*[np.zeros(S.nx)]*2)\n",
    "controller = HybridModelPredictiveController(S, N, Q, R, P, X_N, 'CH', 'two')"
   ]
  },
  {
   "cell_type": "code",
   "execution_count": 11,
   "metadata": {},
   "outputs": [
    {
     "name": "stdout",
     "output_type": "stream",
     "text": [
      "Parameter OutputFlag unchanged\n",
      "   Value: 1  Min: 0  Max: 1  Default: 1\n",
      "Optimize a model with 2052 rows, 1262 columns and 5112 nonzeros\n",
      "Model has 182 quadratic objective terms\n",
      "Variable types: 1082 continuous, 180 integer (180 binary)\n",
      "Coefficient statistics:\n",
      "  Matrix range     [1e-02, 5e+00]\n",
      "  Objective range  [0e+00, 0e+00]\n",
      "  QObjective range [1e-02, 1e-02]\n",
      "  Bounds range     [2e+00, 2e+00]\n",
      "  RHS range        [1e+00, 1e+00]\n",
      "Presolve removed 1446 rows and 849 columns\n",
      "Presolve time: 0.01s\n",
      "Presolved: 606 rows, 413 columns, 1660 nonzeros\n",
      "Presolved model has 177 quadratic objective terms\n",
      "Variable types: 362 continuous, 51 integer (51 binary)\n",
      "\n",
      "Root relaxation: objective 7.005095e-01, 885 iterations, 0.01 seconds\n",
      "\n",
      "    Nodes    |    Current Node    |     Objective Bounds      |     Work\n",
      " Expl Unexpl |  Obj  Depth IntInf | Incumbent    BestBd   Gap | It/Node Time\n",
      "\n",
      "H    0     0                       3.3505237    0.35505  89.4%     -    0s\n",
      "     0     0    2.48607    0    5    3.35052    2.48607  25.8%     -    0s\n",
      "H    0     0                       3.1043700    2.48607  19.9%     -    0s\n",
      "     0     0    2.95921    0    2    3.10437    2.95921  4.68%     -    0s\n",
      "     0     0    2.95921    0    3    3.10437    2.95921  4.68%     -    0s\n",
      "     0     0    2.95921    0    3    3.10437    2.95921  4.68%     -    0s\n",
      "     0     0    2.95921    0    2    3.10437    2.95921  4.68%     -    0s\n",
      "     0     0    2.95921    0    2    3.10437    2.95921  4.68%     -    0s\n",
      "     0     2    2.95921    0    2    3.10437    2.95921  4.68%     -    0s\n",
      "\n",
      "Cutting planes:\n",
      "  Implied bound: 3\n",
      "  MIR: 2\n",
      "  Flow cover: 2\n",
      "\n",
      "Explored 4 nodes (1447 simplex iterations) in 0.15 seconds\n",
      "Thread count was 12 (of 12 available processors)\n",
      "\n",
      "Solution count 2: 3.10437 3.35052 \n",
      "\n",
      "Optimal solution found (tolerance 1.00e-04)\n",
      "Best objective 3.104370011840e+00, best bound 3.104370011840e+00, gap 0.0000%\n"
     ]
    }
   ],
   "source": [
    "# drive to the origin\n",
    "x0 = np.array([0.,2.5])\n",
    "u_opt, x_opt, ms_opt, cost_opt = controller.feedforward(x0)"
   ]
  },
  {
   "cell_type": "code",
   "execution_count": 12,
   "metadata": {},
   "outputs": [
    {
     "data": {
      "image/png": "[encoded data removed]",
      "text/plain": [
       "<matplotlib.figure.Figure at 0x7f98de798490>"
      ]
     },
     "metadata": {},
     "output_type": "display_data"
    },
    {
     "data": {
      "image/png": "[encoded data removed]",
      "text/plain": [
       "<matplotlib.figure.Figure at 0x7f98deb66a10>"
      ]
     },
     "metadata": {},
     "output_type": "display_data"
    }
   ],
   "source": [
    "# plot result\n",
    "plot_input_sequence(u_opt, h, [u_min, u_max])\n",
    "plt.show()\n",
    "plot_state_trajectory(x_opt, h, [x_min, x_max])\n",
    "plt.show()"
   ]
  },
  {
   "cell_type": "code",
   "execution_count": 13,
   "metadata": {},
   "outputs": [],
   "source": [
    "# number of stages to condense\n",
    "condensed_stages = 2\n",
    "assert N%condensed_stages == 0\n",
    "\n",
    "# condensed system\n",
    "S_c = S.condense_stages(condensed_stages)\n",
    "\n",
    "# adpat numeric parameters\n",
    "x0_c = np.concatenate((np.zeros((S.nx*(condensed_stages-1))), x0))\n",
    "Q_c = block_diag(*[Q]*condensed_stages)\n",
    "R_c = block_diag(*[R]*condensed_stages)\n",
    "P_c = block_diag(*[Q]*(condensed_stages-1)+[P])\n",
    "X_N_c = Polyhedron(\n",
    "    np.hstack((np.zeros((X_N.A.shape[0], S.nx*(condensed_stages-1))), X_N.A)),\n",
    "    X_N.b\n",
    ")"
   ]
  },
  {
   "cell_type": "code",
   "execution_count": 14,
   "metadata": {},
   "outputs": [
    {
     "name": "stdout",
     "output_type": "stream",
     "text": [
      "Parameter OutputFlag unchanged\n",
      "   Value: 1  Min: 0  Max: 1  Default: 1\n",
      "Optimize a model with 3230 rows, 1834 columns and 9230 nonzeros\n",
      "Model has 184 quadratic objective terms\n",
      "Variable types: 1684 continuous, 150 integer (150 binary)\n",
      "Coefficient statistics:\n",
      "  Matrix range     [1e-04, 5e+00]\n",
      "  Objective range  [0e+00, 0e+00]\n",
      "  QObjective range [1e-02, 1e-02]\n",
      "  Bounds range     [2e+00, 2e+00]\n",
      "  RHS range        [1e+00, 1e+00]\n",
      "Presolve removed 2526 rows and 1380 columns\n",
      "Presolve time: 0.03s\n",
      "Presolved: 704 rows, 454 columns, 2050 nonzeros\n",
      "Presolved model has 177 quadratic objective terms\n",
      "Variable types: 408 continuous, 46 integer (46 binary)\n",
      "\n",
      "Root relaxation: objective 7.643736e-01, 1310 iterations, 0.04 seconds\n",
      "\n",
      "    Nodes    |    Current Node    |     Objective Bounds      |     Work\n",
      " Expl Unexpl |  Obj  Depth IntInf | Incumbent    BestBd   Gap | It/Node Time\n",
      "\n",
      "H    0     0                       3.3505237    0.35323  89.5%     -    0s\n",
      "     0     0    2.76545    0   13    3.35052    2.76545  17.5%     -    0s\n",
      "H    0     0                       3.1043700    2.76545  10.9%     -    0s\n",
      "     0     0    2.83091    0   11    3.10437    2.83091  8.81%     -    0s\n",
      "     0     0    2.83091    0    5    3.10437    2.83091  8.81%     -    0s\n",
      "     0     0    2.83091    0    5    3.10437    2.83091  8.81%     -    0s\n",
      "     0     0     cutoff    0         3.10437    3.10437  0.00%     -    0s\n",
      "\n",
      "Cutting planes:\n",
      "  Implied bound: 7\n",
      "  MIR: 1\n",
      "  Flow cover: 2\n",
      "\n",
      "Explored 1 nodes (2019 simplex iterations) in 0.20 seconds\n",
      "Thread count was 12 (of 12 available processors)\n",
      "\n",
      "Solution count 2: 3.10437 3.35052 \n",
      "\n",
      "Optimal solution found (tolerance 1.00e-04)\n",
      "Best objective 3.104370011916e+00, best bound 3.104370011916e+00, gap 0.0000%\n"
     ]
    }
   ],
   "source": [
    "# drive to the origin\n",
    "controller_c = HybridModelPredictiveController(S_c, N/condensed_stages, Q_c, R_c, P_c, X_N_c, 'CH', 'two')\n",
    "u_opt_c, x_opt_c, ms_opt_c, cost_opt_c = controller_c.feedforward(x0_c)"
   ]
  },
  {
   "cell_type": "code",
   "execution_count": 15,
   "metadata": {},
   "outputs": [],
   "source": [
    "# check that the results match\n",
    "assert np.isclose(cost_opt, cost_opt_c)\n",
    "assert np.allclose(\n",
    "    np.concatenate(u_opt),\n",
    "    np.concatenate(u_opt_c)\n",
    ")\n",
    "assert np.allclose(\n",
    "    np.concatenate(x_opt),\n",
    "    np.concatenate(x_opt_c)[2:]\n",
    ")"
   ]
  },
  {
   "cell_type": "markdown",
   "metadata": {},
   "source": [
    "# Size of the MICP as a function of the number of stages we condense"
   ]
  },
  {
   "cell_type": "markdown",
   "metadata": {},
   "source": [
    "We consider the PWA system obtained condensing $T$ stages of the original system in a single state update law.\n",
    "We call $I$ the number of modes of this new system (i.e., the number of feasible transitions in a window of $T$ time steps).\n",
    "\n",
    "Remark: When using the trick of building an equivalent PWA system to condense some stages of the problem, we increase the size of the state to be $T n_x$. So now, using the convex-hull method, in principle we should have $I$ copies of $x$, $u$, and $x_+$. However the $I-1$ of the copies of $x$ are useless (since re related columns of the dynamic matrix $A$ and the constraint matrix $F$ are zero) and can be safely removed from the problem.\n",
    "\n",
    "Assuming to use the CH method, we have:\n",
    "\n",
    "Number of feasible transitions: $I$\n",
    "\n",
    "Number of binary variables per time step: $I/T$\n",
    "\n",
    "Number of continuous variables per time step: $(n_x (T+1) + n_u T)I/T$\n",
    "\n",
    "Number of equality constraints per time step: $(n_x I T + n_x (T+1) + n_u T + 1)/T$\n",
    "\n",
    "Number of inequality constraints per time step: difficult to express in formula, see code\n",
    "\n",
    "Binary assignment ^$1/T$: $I^{1/T}$"
   ]
  },
  {
   "cell_type": "code",
   "execution_count": 16,
   "metadata": {},
   "outputs": [
    {
     "name": "stdout",
     "output_type": "stream",
     "text": [
      "\n",
      "feasible transitions: 3\n",
      "binary variables/T: 3.0\n",
      "continuous variables/T: 15.0\n",
      "equalities/T: 12.0\n",
      "inequalities/T: 22.0\n",
      "binary assignment^1/T: 3.0\n",
      "\n",
      "feasible transitions: 5\n",
      "binary variables/T: 2.5\n",
      "continuous variables/T: 20.0\n",
      "equalities/T: 14.5\n",
      "inequalities/T: 38.0\n",
      "binary assignment^1/T: 2.2360679775\n",
      "\n",
      "feasible transitions: 9\n",
      "binary variables/T: 3.0\n",
      "continuous variables/T: 33.0\n",
      "equalities/T: 22.0\n",
      "inequalities/T: 68.6666666667\n",
      "binary assignment^1/T: 2.08008382305\n",
      "\n",
      "feasible transitions: 15\n",
      "binary variables/T: 3.75\n",
      "continuous variables/T: 52.5\n",
      "equalities/T: 33.75\n",
      "inequalities/T: 115.0\n",
      "binary assignment^1/T: 1.96798967127\n",
      "\n",
      "feasible transitions: 25\n",
      "binary variables/T: 5.0\n",
      "continuous variables/T: 85.0\n",
      "equalities/T: 53.6\n",
      "inequalities/T: 192.0\n",
      "binary assignment^1/T: 1.90365393872\n"
     ]
    }
   ],
   "source": [
    "# assuming to use the CH method\n",
    "condensed_stages_max = 6\n",
    "for T in range(1,condensed_stages_max):\n",
    "    f_ms = feasible_mode_sequences(S,T)[0]\n",
    "    I = len(feasible_mode_sequences(S,T)[0])\n",
    "    print '\\nfeasible transitions:', I\n",
    "    print 'binary variables/T:', I/float(T)\n",
    "    print 'continuous variables/T:', (S.nx*(T+1)*I + S.nu*T*I)/float(T)\n",
    "    print 'equalities/T:', (S.nx*T*I + S.nx*(T+1) + S.nu*T + 1)/float(T)\n",
    "    print 'inequalities/T:', (sum(sum(S.domains[i].A.shape[0] for i in ms[0]) for ms in f_ms))/float(T)\n",
    "    print 'binary assignment^1/T:', I**(1/float(T))"
   ]
  }
 ],
 "metadata": {
  "kernelspec": {
   "display_name": "Python 2",
   "language": "python",
   "name": "python2"
  },
  "language_info": {
   "codemirror_mode": {
    "name": "ipython",
    "version": 2
   },
   "file_extension": ".py",
   "mimetype": "text/x-python",
   "name": "python",
   "nbconvert_exporter": "python",
   "pygments_lexer": "ipython2",
   "version": "2.7.12"
  }
 },
 "nbformat": 4,
 "nbformat_minor": 2
}
