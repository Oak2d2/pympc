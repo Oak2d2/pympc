{
 "cells": [
  {
   "cell_type": "code",
   "execution_count": 1,
   "metadata": {},
   "outputs": [],
   "source": [
    "# notebook settings\n",
    "%load_ext autoreload\n",
    "%autoreload 2\n",
    "\n",
    "# external imports\n",
    "import numpy as np\n",
    "import sympy as sp\n",
    "import matplotlib.pyplot as plt\n",
    "from scipy.linalg import block_diag\n",
    "\n",
    "# internal imports\n",
    "from pympc.geometry.polyhedron import Polyhedron\n",
    "from pympc.dynamics.discrete_time_systems import LinearSystem, AffineSystem, PieceWiseAffineSystem\n",
    "from pympc.control.hybrid_benchmark.controllers import HybridModelPredictiveController\n",
    "from pympc.control.hybrid_benchmark.utils import feasible_mode_sequences\n",
    "from pympc.plot import plot_input_sequence, plot_state_trajectory"
   ]
  },
  {
   "cell_type": "code",
   "execution_count": 2,
   "metadata": {
    "collapsed": true
   },
   "outputs": [],
   "source": [
    "# numeric parameters\n",
    "m = 1.\n",
    "d = .5\n",
    "r = .1\n",
    "eps = .5\n",
    "h = .01\n",
    "x_max = np.array([d-r, 5.])\n",
    "x_min = - x_max\n",
    "u_max = np.array([5.])\n",
    "u_min = - u_max\n",
    "xu_max = np.concatenate((x_max, u_max))\n",
    "xu_min = np.concatenate((x_min, u_min))"
   ]
  },
  {
   "cell_type": "code",
   "execution_count": 3,
   "metadata": {
    "collapsed": true
   },
   "outputs": [],
   "source": [
    "q, v= sp.symbols('q v')\n",
    "x = sp.Matrix([q, v])\n",
    "f = sp.symbols('f')\n",
    "u = sp.Matrix([f])\n",
    "xu = x.col_join(u)"
   ]
  },
  {
   "cell_type": "code",
   "execution_count": 4,
   "metadata": {
    "collapsed": true
   },
   "outputs": [],
   "source": [
    "# mode 1: no contact\n",
    "v_next = v + h*f/m\n",
    "q_next = q + h*v\n",
    "x_next = sp.Matrix([q_next, v_next])\n",
    "S1 = LinearSystem.from_symbolic(x, u, x_next)\n",
    "D1 = Polyhedron.from_bounds(xu_min, xu_max)\n",
    "D1.add_symbolic_inequality(xu,sp.Matrix([q + v*h + - d + r,- q - v*h - d + r]))"
   ]
  },
  {
   "cell_type": "code",
   "execution_count": 5,
   "metadata": {
    "collapsed": true
   },
   "outputs": [],
   "source": [
    "# mode 2: right wall\n",
    "x_next = sp.Matrix([q, -eps*v])\n",
    "S2 = AffineSystem.from_symbolic(x, u, x_next)\n",
    "D2 = Polyhedron.from_bounds(xu_min, xu_max)\n",
    "D2.add_symbolic_inequality(xu,sp.Matrix([- q - v*h + d - r]))"
   ]
  },
  {
   "cell_type": "code",
   "execution_count": 6,
   "metadata": {
    "collapsed": true
   },
   "outputs": [],
   "source": [
    "# mode 3: left wall\n",
    "x_next = sp.Matrix([q, -eps*v])\n",
    "S3 = AffineSystem.from_symbolic(x, u, x_next)\n",
    "D3 = Polyhedron.from_bounds(xu_min, xu_max)\n",
    "D3.add_symbolic_inequality(xu,sp.Matrix([q + v*h + d - r]))"
   ]
  },
  {
   "cell_type": "code",
   "execution_count": 7,
   "metadata": {},
   "outputs": [
    {
     "name": "stdout",
     "output_type": "stream",
     "text": [
      "True\n"
     ]
    }
   ],
   "source": [
    "S = PieceWiseAffineSystem([S1, S2, S3], [D1, D2, D3])\n",
    "print S.is_well_posed()"
   ]
  },
  {
   "cell_type": "code",
   "execution_count": 8,
   "metadata": {},
   "outputs": [
    {
     "name": "stdout",
     "output_type": "stream",
     "text": [
      "\n",
      "feasible transitions 3\n",
      "cont. var./T 15.0\n",
      "bin. var./T 3.0\n",
      "equalities/T 12.0\n",
      "inequalities/T 22.0\n",
      "complexity 3.0\n",
      "\n",
      "feasible transitions 5\n",
      "cont. var./T 20.0\n",
      "bin. var./T 2.5\n",
      "equalities/T 14.5\n",
      "inequalities/T 38.0\n",
      "complexity 2.2360679775\n",
      "\n",
      "feasible transitions 9\n",
      "cont. var./T 33.0\n",
      "bin. var./T 3.0\n",
      "equalities/T 22.0\n",
      "inequalities/T 68.6666666667\n",
      "complexity 2.08008382305\n",
      "\n",
      "feasible transitions 15\n",
      "cont. var./T 52.5\n",
      "bin. var./T 3.75\n",
      "equalities/T 33.75\n",
      "inequalities/T 115.0\n",
      "complexity 1.96798967127\n",
      "\n",
      "feasible transitions 25\n",
      "cont. var./T 85.0\n",
      "bin. var./T 5.0\n",
      "equalities/T 53.6\n",
      "inequalities/T 192.0\n",
      "complexity 1.90365393872\n"
     ]
    }
   ],
   "source": [
    "for T in range(1,6):\n",
    "    f_ms = feasible_mode_sequences(S,T)[0]\n",
    "    n_ft = len(f_ms)\n",
    "    print '\\nfeasible transitions', n_ft\n",
    "    print 'cont. var./T', (S.nx*(T+1)*n_ft + S.nu*T*n_ft)/float(T)\n",
    "    print 'bin. var./T', n_ft/float(T)\n",
    "    print 'equalities/T', (S.nx*T*n_ft + S.nx*(T+1) + S.nu*T + 1)/float(T)\n",
    "    print 'inequalities/T', (sum(sum(S.domains[i].A.shape[0] for i in ms[0]) for ms in f_ms))/float(T)\n",
    "    print 'complexity', n_ft**(1/float(T))"
   ]
  },
  {
   "cell_type": "code",
   "execution_count": 9,
   "metadata": {},
   "outputs": [
    {
     "name": "stdout",
     "output_type": "stream",
     "text": [
      "[array([0., 0.]), array([0.  , 0.05])]\n",
      "True\n"
     ]
    },
    {
     "data": {
      "image/png": "[encoded data removed]",
      "text/plain": [
       "<Figure size 432x288 with 2 Axes>"
      ]
     },
     "metadata": {},
     "output_type": "display_data"
    }
   ],
   "source": [
    "x0 = np.array([0., 0.])\n",
    "u0 = np.array([5.])\n",
    "print S1.simulate(x0, [u0])\n",
    "print D1.contains(np.concatenate((x0, u0)))\n",
    "x_sim, ms_sim = S.simulate(x0, [u0]*200)\n",
    "plot_state_trajectory(x_sim, h)"
   ]
  },
  {
   "cell_type": "code",
   "execution_count": 19,
   "metadata": {},
   "outputs": [],
   "source": [
    "N = 60\n",
    "Q = np.diag([1., 1.])*h\n",
    "R = np.diag([1.])*h\n",
    "P = Q\n",
    "X_N = Polyhedron.from_bounds(np.zeros(S.nx),np.zeros(S.nx))\n",
    "controller = HybridModelPredictiveController(S, N, Q, R, P, X_N, 'PF', 'two')"
   ]
  },
  {
   "cell_type": "code",
   "execution_count": 20,
   "metadata": {},
   "outputs": [
    {
     "name": "stdout",
     "output_type": "stream",
     "text": [
      "solution time: 0.556477069855\n",
      "optimal cost: 3.10433538054\n"
     ]
    }
   ],
   "source": [
    "x0 = np.array([0.,2.5])\n",
    "u_opt, x_opt, ms_opt, cost_opt = controller.feedforward(x0)\n",
    "print 'optimal cost:', cost_opt"
   ]
  },
  {
   "cell_type": "code",
   "execution_count": 16,
   "metadata": {},
   "outputs": [
    {
     "data": {
      "image/png": "[encoded data removed]",
      "text/plain": [
       "<Figure size 432x288 with 2 Axes>"
      ]
     },
     "metadata": {},
     "output_type": "display_data"
    },
    {
     "data": {
      "image/png": "[encoded data removed]",
      "text/plain": [
       "<Figure size 432x288 with 1 Axes>"
      ]
     },
     "metadata": {},
     "output_type": "display_data"
    }
   ],
   "source": [
    "plot_state_trajectory(x_opt, h)\n",
    "plt.show()\n",
    "plot_input_sequence(u_opt, h)"
   ]
  },
  {
   "cell_type": "code",
   "execution_count": 25,
   "metadata": {},
   "outputs": [
    {
     "name": "stdout",
     "output_type": "stream",
     "text": [
      "solution time: 0.215846061707\n",
      "optimal cost: 3.10436930271\n"
     ]
    }
   ],
   "source": [
    "T = 2\n",
    "assert N%T == 0\n",
    "S_c = S.condense_stages(T)\n",
    "x0_c = np.concatenate((np.zeros((S.nx*(T-1))), x0))\n",
    "Q_c = block_diag(*[Q]*T)\n",
    "R_c = block_diag(*[R]*T)\n",
    "P_c = block_diag(*[Q]*(T-1)+[P])\n",
    "X_N_c = Polyhedron(\n",
    "    np.hstack((np.zeros((X_N.A.shape[0], S.nx*(T-1))), X_N.A)),\n",
    "    X_N.b\n",
    ")\n",
    "controller_c = HybridModelPredictiveController(S_c, N/T, Q_c, R_c, P_c, X_N_c, 'PF', 'two')\n",
    "u_opt_c, x_opt_c, ms_opt_c, cost_opt_c = controller_c.feedforward(x0_c)\n",
    "print 'optimal cost:', cost_opt_c"
   ]
  },
  {
   "cell_type": "code",
   "execution_count": null,
   "metadata": {
    "collapsed": true
   },
   "outputs": [],
   "source": []
  }
 ],
 "metadata": {
  "kernelspec": {
   "display_name": "Python 2",
   "language": "python",
   "name": "python2"
  },
  "language_info": {
   "codemirror_mode": {
    "name": "ipython",
    "version": 2
   },
   "file_extension": ".py",
   "mimetype": "text/x-python",
   "name": "python",
   "nbconvert_exporter": "python",
   "pygments_lexer": "ipython2",
   "version": "2.7.15"
  }
 },
 "nbformat": 4,
 "nbformat_minor": 2
}
