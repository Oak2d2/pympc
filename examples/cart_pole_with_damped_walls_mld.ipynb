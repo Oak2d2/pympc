{
 "cells": [
  {
   "cell_type": "code",
   "execution_count": 1,
   "metadata": {},
   "outputs": [],
   "source": [
    "# notebook settings\n",
    "%load_ext autoreload\n",
    "%autoreload 2\n",
    "\n",
    "# external imports\n",
    "import numpy as np\n",
    "import sympy as sp\n",
    "import matplotlib.pyplot as plt\n",
    "\n",
    "# internal imports\n",
    "from pympc.control.hybrid_benchmark.mixed_logical_dynamical_system import MixedLogicalDynamicalSystem\n",
    "from pympc.control.hybrid_benchmark.controller_mld import HybridModelPredictiveController\n",
    "from pympc.plot import plot_input_sequence, plot_state_trajectory, plot_output_trajectory"
   ]
  },
  {
   "cell_type": "code",
   "execution_count": 40,
   "metadata": {},
   "outputs": [],
   "source": [
    "# system numeric parameters\n",
    "mc = 1.   # mass cart\n",
    "mp = 1.   # mass pole\n",
    "l  = 1.   # length pole\n",
    "d  = 1.   # distance walls from origin\n",
    "k  = 100. # stiffness contacts\n",
    "nu = 10.  # damping contacts\n",
    "g  = 10.  # gravity acceleration\n",
    "h  = .05  # integration time step\n",
    "\n",
    "# state bounds\n",
    "x_max = np.array([d, np.pi/6., 7., 5.])\n",
    "x_min = - x_max\n",
    "\n",
    "# input bounds\n",
    "uc_max = np.array([20.])\n",
    "uc_min = - uc_max"
   ]
  },
  {
   "cell_type": "code",
   "execution_count": 41,
   "metadata": {},
   "outputs": [],
   "source": [
    "# symbolic states\n",
    "x = sp.Matrix(sp.symbols('q t qd td'))\n",
    "\n",
    "# symbolic continuous inputs\n",
    "uc = sp.Matrix([sp.symbols('u')])\n",
    "\n",
    "# symbolic binary inputs\n",
    "ub = sp.zeros(0,1)\n",
    "\n",
    "# symbolic forces (left, right)\n",
    "sc = sp.Matrix(sp.symbols('f_l f_r'))\n",
    "\n",
    "# symbolic auxiliary binaries (left, right)\n",
    "sb = sp.Matrix(sp.symbols('el_l dam_l el_r dam_r'))\n",
    "\n",
    "# dynamics\n",
    "x2_dot = x[1]*g*mp/mc + uc[0]/mc\n",
    "x3_dot = x[1]*g*(mc+mp)/(l*mc) + uc[0]/(l*mc) + (sc[1] - sc[0])/(l*mp)\n",
    "x_next = sp.Matrix([\n",
    "    x[0] + h*x[2],\n",
    "    x[1] + h*x[3],\n",
    "    x[2] + h*x2_dot,\n",
    "    x[3] + h*x3_dot\n",
    "])"
   ]
  },
  {
   "cell_type": "code",
   "execution_count": 42,
   "metadata": {},
   "outputs": [],
   "source": [
    "# enforce state constraints\n",
    "state_upper_bound = x - x_max.reshape(x_max.size, 1)\n",
    "state_lower_bound = x_min.reshape(x_min.size, 1) - x\n",
    "\n",
    "# enforce input constraints\n",
    "input_upper_bound = uc - uc_max.reshape(uc_max.size, 1)\n",
    "input_lower_bound = uc_min.reshape(uc_min.size, 1) - uc"
   ]
  },
  {
   "cell_type": "code",
   "execution_count": 43,
   "metadata": {},
   "outputs": [],
   "source": [
    "f = { # force\n",
    "    'l': sc[0],\n",
    "    'r': sc[1]\n",
    "}\n",
    "el = { # inidicator for penetation\n",
    "    'l': sb[0],\n",
    "    'r': sb[2]\n",
    "}\n",
    "dam = { # inidicator for pulling\n",
    "    'l': sb[1],\n",
    "    'r': sb[3]\n",
    "}\n",
    "p = { # penetration\n",
    "    'l': - d - x[0] + l*x[1],\n",
    "    'r': x[0] - l*x[1] - d\n",
    "}\n",
    "p_dot = { # relative velocity\n",
    "    'l': - x[2] + l*x[3],\n",
    "    'r': x[2] - l*x[3]\n",
    "}\n",
    "p_min = { # min penetration\n",
    "    'l': - d - x_max[0] + l*x_min[1],\n",
    "    'r': x_min[0] - l*x_max[1] - d\n",
    "}\n",
    "p_max = { # max penetration\n",
    "    'l': - d - x_min[0] + l*x_max[1],\n",
    "    'r': x_max[0] - l*x_min[1] - d\n",
    "}\n",
    "p_dot_min = { # min relative velocity\n",
    "    'l': - x_max[2] + l*x_min[3],\n",
    "    'r': x_min[2] - l*x_max[3]\n",
    "}\n",
    "p_dot_max = { # max relative velocity\n",
    "    'l': - x_min[2] + l*x_max[3],\n",
    "    'r': x_max[2] - l*x_min[3]\n",
    "}\n",
    "f_min = { # min force\n",
    "    'l': k*p_min['l'] + nu*p_dot_min['l'],\n",
    "    'r': k*p_min['r'] + nu*p_dot_min['r']\n",
    "}\n",
    "f_max = { # max force\n",
    "    'l': k*p_max['l'] + nu*p_dot_max['l'],\n",
    "    'r': k*p_max['r'] + nu*p_dot_max['r']\n",
    "}"
   ]
  },
  {
   "cell_type": "code",
   "execution_count": 44,
   "metadata": {},
   "outputs": [],
   "source": [
    "# contact constraints big-M method\n",
    "contacts = []\n",
    "for lr in ['l', 'r']:\n",
    "    \n",
    "    # el = 1 if p >= 0, el = 0 if otherwise\n",
    "    contacts.append(sp.Matrix([p_min[lr] * (1. - el[lr]) - p[lr]]))\n",
    "    contacts.append(sp.Matrix([p[lr] - p_max[lr] * el[lr]]))\n",
    "    \n",
    "    # dam = 1 if k p + nu p_dot >= 0, dam = 0 if otherwise\n",
    "    contacts.append(sp.Matrix([f_min[lr] * (1. - dam[lr]) - k*p[lr] - nu*p_dot[lr]]))\n",
    "    contacts.append(sp.Matrix([k*p[lr] + nu*p_dot[lr] - f_max[lr] * dam[lr]]))\n",
    "    \n",
    "    # el = 0 or dam = 0 implies f = 0\n",
    "    contacts.append(sp.Matrix([- f[lr]]))\n",
    "    contacts.append(sp.Matrix([f[lr] - f_max[lr]*el[lr]]))\n",
    "    contacts.append(sp.Matrix([f[lr] - f_max[lr]*dam[lr]]))\n",
    "    \n",
    "    # el = dam = 1 implies f = k p + nu p_dot\n",
    "    contacts.append(sp.Matrix([k*p[lr] + nu*p_dot[lr] + nu*p_dot_max[lr]*(el[lr]-1.) - f[lr]]))\n",
    "    contacts.append(sp.Matrix([f[lr] - k*p[lr] - nu*p_dot[lr] - f_min[lr]*(dam[lr]-1.)]))"
   ]
  },
  {
   "cell_type": "code",
   "execution_count": 45,
   "metadata": {},
   "outputs": [],
   "source": [
    "# gather constraints\n",
    "constraints = sp.Matrix([\n",
    "    state_upper_bound,\n",
    "    state_lower_bound,\n",
    "    input_upper_bound,\n",
    "    input_lower_bound,\n",
    "    sp.Matrix(contacts)\n",
    "])"
   ]
  },
  {
   "cell_type": "code",
   "execution_count": 46,
   "metadata": {},
   "outputs": [],
   "source": [
    "# construct MLD system\n",
    "variables = {'x':x, 'uc':uc, 'ub':ub, 'sc':sc, 'sb':sb}\n",
    "MLD = MixedLogicalDynamicalSystem.from_symbolic(variables, x_next, constraints)"
   ]
  },
  {
   "cell_type": "code",
   "execution_count": 72,
   "metadata": {},
   "outputs": [],
   "source": [
    "# controller parameters\n",
    "N = 50\n",
    "weight_matrices = {}\n",
    "weight_matrices['Q'] = 10.*np.eye(MLD.nx)*h/2.\n",
    "weight_matrices['R'] = .1*np.eye(MLD.nuc)*h/2.\n",
    "weight_matrices['P'] = weight_matrices['Q']#*100.\n",
    "\n",
    "# hybrid controller\n",
    "controller = HybridModelPredictiveController(MLD, N, weight_matrices)"
   ]
  },
  {
   "cell_type": "code",
   "execution_count": 73,
   "metadata": {},
   "outputs": [],
   "source": [
    "x0 = np.array([0., 0., 2.5, 0.])\n",
    "# x0 = np.array([0.44366632, 0.06866632, 2.94079905, 0.45738834])"
   ]
  },
  {
   "cell_type": "markdown",
   "metadata": {},
   "source": [
    "# try controller open loop"
   ]
  },
  {
   "cell_type": "code",
   "execution_count": 74,
   "metadata": {},
   "outputs": [
    {
     "name": "stdout",
     "output_type": "stream",
     "text": [
      "|     Updates    |     Time (s)   |    Nodes (#)   |   Lower bound  |   Upper bound  |\n",
      " ---------------- ---------------- ---------------- ---------------- ----------------\n",
      "  Root node        0.095            1                4.508            inf             \n",
      "                   3.122            43               8.809            inf             \n",
      "                   6.147            82               15.348           inf             \n",
      "                   9.192            120              15.547           inf             \n",
      "                   12.199           158              15.575           inf             \n",
      "                   15.241           196              15.673           inf             \n",
      "                   18.311           235              15.793           inf             \n",
      "                   21.335           273              15.845           inf             \n",
      "                   24.395           311              15.858           inf             \n",
      "                   27.427           344              15.860           inf             \n",
      "                   30.473           381              15.861           inf             \n",
      "  New incumbent    32.401           406              15.861           15.861          \n",
      "  Solution found   32.474           407              15.861           15.861          \n",
      "\n",
      "Explored 407 nodes in 32.474 seconds: optimal solution found with objective 15.861.\n"
     ]
    }
   ],
   "source": [
    "cost, sol, leaves = controller.feedforward(x0, tree_file_name='tau_eq_0')"
   ]
  },
  {
   "cell_type": "code",
   "execution_count": 68,
   "metadata": {},
   "outputs": [
    {
     "name": "stdout",
     "output_type": "stream",
     "text": [
      "[ 0. -0. -0. -0.]\n"
     ]
    }
   ],
   "source": [
    "np.random.seed(1)\n",
    "e_max = 0.0\n",
    "e_0 = e_max * np.random.randn(MLD.nx)\n",
    "x_1 = sol['primal']['x'][1] + e_0\n",
    "print e_0"
   ]
  },
  {
   "cell_type": "code",
   "execution_count": 69,
   "metadata": {},
   "outputs": [],
   "source": [
    "stage_variables = {\n",
    "    'x_0' : sol['primal']['x'][0],\n",
    "    'uc_0' : sol['primal']['uc'][0],\n",
    "    'ub_0' : sol['primal']['ub'][0],\n",
    "    'sc_0' : sol['primal']['sc'][0],\n",
    "    'sb_0' : sol['primal']['sb'][0],\n",
    "    'e_0' : e_0\n",
    "}\n",
    "warm_start = controller.construct_warm_start(leaves, stage_variables)"
   ]
  },
  {
   "cell_type": "code",
   "execution_count": 70,
   "metadata": {},
   "outputs": [
    {
     "name": "stdout",
     "output_type": "stream",
     "text": [
      "Loaded warm start with 80 nodes. Lower bound provided by the warm start is 12.181.\n",
      "|     Updates    |     Time (s)   |    Nodes (#)   |   Lower bound  |   Upper bound  |\n",
      " ---------------- ---------------- ---------------- ---------------- ----------------\n",
      "  Root node        0.044            1                12.311           inf             \n",
      "  New incumbent    0.274            8                12.312           12.312          \n",
      "  Solution found   0.310            9                12.312           12.312          \n",
      "\n",
      "Explored 9 nodes in 0.310 seconds: optimal solution found with objective 12.312.\n"
     ]
    }
   ],
   "source": [
    "cost_1_ws, sol_1_ws, leaves_1_ws = controller.feedforward(x_1, tree_file_name='tau_eq_0_ws', warm_start=warm_start)"
   ]
  },
  {
   "cell_type": "code",
   "execution_count": 71,
   "metadata": {},
   "outputs": [
    {
     "name": "stdout",
     "output_type": "stream",
     "text": [
      "|     Updates    |     Time (s)   |    Nodes (#)   |   Lower bound  |   Upper bound  |\n",
      " ---------------- ---------------- ---------------- ---------------- ----------------\n",
      "  Root node        0.064            1                3.388            inf             \n",
      "                   3.077            100              12.125           inf             \n",
      "  New incumbent    4.799            160              12.312           12.312          \n",
      "  Solution found   4.827            161              12.312           12.312          \n",
      "\n",
      "Explored 161 nodes in 4.827 seconds: optimal solution found with objective 12.312.\n"
     ]
    }
   ],
   "source": [
    "cost_1, sol_1, leaves_1 = controller.feedforward(x_1, tree_file_name='tau_eq_1')"
   ]
  },
  {
   "cell_type": "code",
   "execution_count": 77,
   "metadata": {},
   "outputs": [
    {
     "data": {
      "image/png": "[encoded data removed]",
      "text/plain": [
       "<Figure size 432x288 with 1 Axes>"
      ]
     },
     "metadata": {
      "needs_background": "light"
     },
     "output_type": "display_data"
    }
   ],
   "source": [
    "plot_input_sequence(sol['primal']['uc'], h, (uc_min, uc_max))\n",
    "plt.savefig('input.pdf')"
   ]
  },
  {
   "cell_type": "code",
   "execution_count": 80,
   "metadata": {},
   "outputs": [
    {
     "data": {
      "image/png": "[encoded data removed]",
      "text/plain": [
       "<Figure size 432x288 with 4 Axes>"
      ]
     },
     "metadata": {
      "needs_background": "light"
     },
     "output_type": "display_data"
    }
   ],
   "source": [
    "plot_state_trajectory(sol['primal']['x'], h, (x_min, x_max))\n",
    "# plt.savefig('state.pdf')"
   ]
  },
  {
   "cell_type": "code",
   "execution_count": 88,
   "metadata": {},
   "outputs": [
    {
     "name": "stdout",
     "output_type": "stream",
     "text": [
      "[array([0., 0.]), array([0., 0.]), array([0., 0.]), array([0., 0.]), array([0., 0.]), array([0., 0.]), array([0., 0.]), array([0., 0.]), array([ 0.        , 31.72429936]), array([ 0.        , 31.98832244]), array([ 0.        , 25.45065081]), array([ 0.        , 15.40459287]), array([0.        , 5.09589749]), array([0., 0.]), array([0., 0.]), array([0., 0.]), array([0., 0.]), array([0., 0.]), array([0., 0.]), array([0., 0.]), array([0., 0.]), array([0., 0.]), array([0., 0.]), array([0., 0.]), array([0., 0.]), array([0., 0.]), array([0., 0.]), array([0., 0.]), array([0., 0.]), array([0., 0.]), array([0., 0.]), array([0., 0.]), array([0., 0.]), array([0., 0.]), array([0., 0.]), array([0., 0.]), array([0., 0.]), array([0., 0.]), array([0., 0.]), array([0., 0.]), array([0., 0.]), array([0., 0.]), array([0., 0.]), array([0., 0.]), array([0., 0.]), array([0., 0.]), array([0., 0.]), array([0., 0.]), array([0., 0.]), array([0., 0.])]\n"
     ]
    },
    {
     "data": {
      "image/png": "[encoded data removed]",
      "text/plain": [
       "<Figure size 432x288 with 2 Axes>"
      ]
     },
     "metadata": {
      "needs_background": "light"
     },
     "output_type": "display_data"
    }
   ],
   "source": [
    "plot_input_sequence(sol['primal']['sc'], h)\n",
    "# plt.savefig('forces.pdf')\n",
    "print sol['primal']['sc']"
   ]
  },
  {
   "cell_type": "code",
   "execution_count": 87,
   "metadata": {},
   "outputs": [
    {
     "data": {
      "image/png": "[encoded data removed]",
      "text/plain": [
       "<Figure size 432x288 with 4 Axes>"
      ]
     },
     "metadata": {
      "needs_background": "light"
     },
     "output_type": "display_data"
    }
   ],
   "source": [
    "plot_input_sequence(sol['primal']['sb'], h)\n",
    "# plt.savefig('binaries.pdf')"
   ]
  },
  {
   "cell_type": "code",
   "execution_count": 83,
   "metadata": {},
   "outputs": [
    {
     "data": {
      "image/png": "[encoded data removed]",
      "text/plain": [
       "<Figure size 432x288 with 1 Axes>"
      ]
     },
     "metadata": {
      "needs_background": "light"
     },
     "output_type": "display_data"
    }
   ],
   "source": [
    "# output (horizontal position of the tip of the pole)\n",
    "C = np.array([[1., -l, 0., 0.]])\n",
    "y_min = np.array([-d])\n",
    "y_max = np.array([d])\n",
    "plot_output_trajectory(C, sol['primal']['x'], h, (y_min, y_max))\n",
    "plt.savefig('output.pdf')"
   ]
  },
  {
   "cell_type": "markdown",
   "metadata": {},
   "source": [
    "# solve in closed loop"
   ]
  },
  {
   "cell_type": "code",
   "execution_count": null,
   "metadata": {},
   "outputs": [],
   "source": [
    "np.random.seed(1)\n",
    "e_max = 0.001\n",
    "N_sim = 100\n",
    "u_sim = []\n",
    "e_sim = []\n",
    "x_sim = [x0]\n",
    "warm_start = None\n",
    "for t in range(N_sim):\n",
    "    print('Time step ' + str(t) + '.\\r'),\n",
    "    cost, sol, leaves = controller.feedforward(\n",
    "        x_sim[-1],\n",
    "        warm_start=warm_start,\n",
    "        printing_period=None,\n",
    "        tree_file_name=None,\n",
    "    )\n",
    "    u_sim.append(sol['primal']['uc'][0])\n",
    "    e_sim.append(e_max * np.random.randn(MLD.nx))\n",
    "    x_sim.append(sol['primal']['x'][1] + e_sim[-1])\n",
    "#     print cost\n",
    "#     print len(leaves)\n",
    "    \n",
    "    stage_variables = {\n",
    "        'x_0' : sol['primal']['x'][0],\n",
    "        'uc_0' : sol['primal']['uc'][0],\n",
    "        'ub_0' : sol['primal']['ub'][0],\n",
    "        'sc_0' : sol['primal']['sc'][0],\n",
    "        'sb_0' : sol['primal']['sb'][0],\n",
    "        'e_0' : e_sim[-1]\n",
    "    }\n",
    "#     print e_sim[-1]\n",
    "#     print x_sim[-1]\n",
    "#     warm_start = controller.construct_warm_start(leaves, stage_variables)"
   ]
  },
  {
   "cell_type": "code",
   "execution_count": null,
   "metadata": {},
   "outputs": [],
   "source": [
    "plot_input_sequence(e_sim, h, (-e_max*np.ones(MLD.nx), e_max*np.ones(MLD.nx)))\n",
    "plt.show()\n",
    "plot_input_sequence(u_sim, h, (u_min, u_max))\n",
    "plt.show()\n",
    "plot_state_trajectory(x_sim, h, (x_min, x_max))\n",
    "plt.show()"
   ]
  },
  {
   "cell_type": "code",
   "execution_count": null,
   "metadata": {},
   "outputs": [],
   "source": []
  }
 ],
 "metadata": {
  "kernelspec": {
   "display_name": "Python 2",
   "language": "python",
   "name": "python2"
  },
  "language_info": {
   "codemirror_mode": {
    "name": "ipython",
    "version": 2
   },
   "file_extension": ".py",
   "mimetype": "text/x-python",
   "name": "python",
   "nbconvert_exporter": "python",
   "pygments_lexer": "ipython2",
   "version": "2.7.15"
  }
 },
 "nbformat": 4,
 "nbformat_minor": 2
}
