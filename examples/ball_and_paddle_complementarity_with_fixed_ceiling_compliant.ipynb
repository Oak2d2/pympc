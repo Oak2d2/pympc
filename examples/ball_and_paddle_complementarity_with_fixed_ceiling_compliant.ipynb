{
 "cells": [
  {
   "cell_type": "code",
   "execution_count": 1,
   "metadata": {},
   "outputs": [],
   "source": [
    "# notebook settings\n",
    "%load_ext autoreload\n",
    "%autoreload 2\n",
    "\n",
    "# external imports\n",
    "import numpy as np\n",
    "import sympy as sp\n",
    "import matplotlib as mpl\n",
    "import matplotlib.pyplot as plt\n",
    "from copy import copy\n",
    "from math import floor\n",
    "\n",
    "# internal imports\n",
    "from pympc.geometry.polyhedron import Polyhedron\n",
    "from pympc.dynamics.discrete_time_systems import LinearSystem, AffineSystem, PieceWiseAffineSystem\n",
    "from pympc.control.hybrid_benchmark.controllers import HybridModelPredictiveController\n",
    "from pympc.plot import plot_input_sequence, plot_state_trajectory, plot_output_trajectory\n",
    "from pympc.control.hybrid_benchmark.utils import get_constraint_set, remove_redundant_inequalities_fast, convex_hull_method_fast"
   ]
  },
  {
   "cell_type": "markdown",
   "metadata": {},
   "source": [
    "# Problem set-up"
   ]
  },
  {
   "cell_type": "code",
   "execution_count": 2,
   "metadata": {
    "collapsed": true
   },
   "outputs": [],
   "source": [
    "# numeric parameters of the system\n",
    "m = 1.\n",
    "r = .1\n",
    "I = .4*m*r**2.\n",
    "d = .4\n",
    "l = .3\n",
    "mu = .2\n",
    "g = 10.\n",
    "h = .05\n",
    "\n",
    "kn = 500.\n",
    "bn = 100.\n",
    "bt = 100."
   ]
  },
  {
   "cell_type": "code",
   "execution_count": 3,
   "metadata": {
    "collapsed": true
   },
   "outputs": [],
   "source": [
    "# symbolic state\n",
    "xb, yb, tb = sp.symbols('xb yb tb') # position of the ball\n",
    "xf, yf = sp.symbols('xf yf') # position of the floor\n",
    "xdb, ydb, tdb = sp.symbols('xdb ydb tdb') # velocity of the ball\n",
    "xdf, ydf = sp.symbols('xdf ydf') # velocity of the floor\n",
    "x = sp.Matrix([\n",
    "    xb, yb, tb,\n",
    "    xf, yf,\n",
    "    xdb, ydb, tdb,\n",
    "    xdf, ydf\n",
    "])\n",
    "\n",
    "# symbolic input\n",
    "xd2f, yd2f = sp.symbols('xd2f yd2f') # acceleration of the floor\n",
    "u = sp.Matrix([\n",
    "    xd2f, yd2f\n",
    "])\n",
    "\n",
    "# contact forces\n",
    "ftf, fnf = sp.symbols('ftf fnf') # floor force\n",
    "ftc, fnc = sp.symbols('ftc fnc') # ceiling force"
   ]
  },
  {
   "cell_type": "code",
   "execution_count": 4,
   "metadata": {
    "collapsed": true
   },
   "outputs": [],
   "source": [
    "# ball dynamics\n",
    "xd2b = ftf/m - ftc/m\n",
    "yd2b = fnf/m - fnc/m - g\n",
    "td2b = r*(ftf+ftc)/I\n",
    "\n",
    "# state update\n",
    "xd = sp.Matrix([\n",
    "    xdb, ydb, tdb,\n",
    "    xdf, ydf,\n",
    "    xd2b, yd2b, td2b,\n",
    "    xd2f, yd2f\n",
    "])"
   ]
  },
  {
   "cell_type": "code",
   "execution_count": 5,
   "metadata": {},
   "outputs": [],
   "source": [
    "# gap functions\n",
    "penetration_floor = yf - yb + m*g/kn\n",
    "penetration_ceiling = yb - d - m*g/kn + 2.*r\n",
    "\n",
    "# relative tangential velocity\n",
    "sliding_velocity_floor = xdb + r*tdb - xdf\n",
    "sliding_velocity_ceiling = xdb - r*tdb\n",
    "\n",
    "# force with the floor\n",
    "fnf_penetration = kn*(penetration_floor) - bn*(ydb - ydf)\n",
    "ftf_penetration = - bn*sliding_velocity_floor\n",
    "\n",
    "# force with the ceiling\n",
    "fnc_penetration = - kn*(penetration_ceiling) + bn*ydb\n",
    "ftc_penetration = bn*sliding_velocity_ceiling\n",
    "\n",
    "# ball distance to boundaries\n",
    "ball_on_floor = sp.Matrix([\n",
    "    xb - xf - l,\n",
    "    xf - xb - l\n",
    "])\n",
    "ball_on_ceiling = sp.Matrix([\n",
    "    xb - l,\n",
    "    - xb - l\n",
    "])"
   ]
  },
  {
   "cell_type": "code",
   "execution_count": 6,
   "metadata": {
    "collapsed": true
   },
   "outputs": [],
   "source": [
    "# state bounds\n",
    "x_max = np.array([\n",
    "    l, d + m*g/kn - 2.*r + d, 1.2*np.pi, # ball config\n",
    "    l, l/2.,            # floor config\n",
    "    10., 10., 20.,     # ball vel\n",
    "    10., 10.          # floor vel\n",
    "])\n",
    "x_min = - x_max\n",
    "\n",
    "# input bounds\n",
    "u_max = np.array([\n",
    "    30., 30.,          # floor acc\n",
    "])\n",
    "u_min = - u_max\n",
    "\n",
    "# domain bounds\n",
    "xu = x.col_join(u)\n",
    "xu_min = np.concatenate((x_min, u_min))\n",
    "xu_max = np.concatenate((x_max, u_max))"
   ]
  },
  {
   "cell_type": "code",
   "execution_count": 7,
   "metadata": {},
   "outputs": [],
   "source": [
    "# discrete time dynamics in mode 1\n",
    "# (ball in the air)\n",
    "\n",
    "# set forces to zero\n",
    "f_m1 = {ftf: 0., fnf: 0., ftc: 0., fnc: 0.}\n",
    "\n",
    "# get dynamics\n",
    "xd_m1 = xd.subs(f_m1)\n",
    "S1 = AffineSystem.from_symbolic_continuous(x, u, xd_m1, h, 'zero_order_hold')\n",
    "\n",
    "# build domain\n",
    "D1 = Polyhedron.from_bounds(xu_min, xu_max)\n",
    "\n",
    "# penetration <= 0 with floor and ceiling\n",
    "D1.add_symbolic_inequality(xu, sp.Matrix([penetration_floor]))\n",
    "D1.add_symbolic_inequality(xu, sp.Matrix([penetration_ceiling]))\n",
    "\n",
    "# check domain\n",
    "assert D1.bounded\n",
    "assert not D1.empty"
   ]
  },
  {
   "cell_type": "code",
   "execution_count": 8,
   "metadata": {},
   "outputs": [],
   "source": [
    "# discrete time dynamics in mode 2\n",
    "# (ball in contact the floor, floor pulling)\n",
    "\n",
    "# get dynamics\n",
    "S2 = copy(S1)\n",
    "\n",
    "# build domain\n",
    "D2 = Polyhedron.from_bounds(xu_min, xu_max)\n",
    "\n",
    "# penetration >= 0 with floor\n",
    "D2.add_symbolic_inequality(xu, sp.Matrix([-penetration_floor]))\n",
    "\n",
    "# penetration <= 0 with ceiling\n",
    "D2.add_symbolic_inequality(xu, sp.Matrix([penetration_ceiling]))\n",
    "\n",
    "# ball not falling down the floor\n",
    "D2.add_symbolic_inequality(xu, ball_on_floor)\n",
    "\n",
    "# floor pulling\n",
    "D2.add_symbolic_inequality(xu, sp.Matrix([fnf_penetration]))\n",
    "\n",
    "# check domain\n",
    "assert D2.bounded\n",
    "assert not D2.empty"
   ]
  },
  {
   "cell_type": "code",
   "execution_count": 9,
   "metadata": {},
   "outputs": [],
   "source": [
    "# discrete time dynamics in mode 3\n",
    "# (ball sticking with the floor, not in contact with the ceiling)\n",
    "\n",
    "# enforce sticking\n",
    "f_m3 = {ftf: ftf_penetration, fnf: fnf_penetration, ftc: 0., fnc: 0.}\n",
    "\n",
    "# get dynamics\n",
    "xd_m3 = xd.subs(f_m3)\n",
    "S3 = AffineSystem.from_symbolic_continuous(x, u, xd_m3, h, 'zero_order_hold')\n",
    "\n",
    "# build domain\n",
    "D3 = Polyhedron.from_bounds(xu_min, xu_max)\n",
    "\n",
    "# penetration >= 0 with floor\n",
    "D3.add_symbolic_inequality(xu, sp.Matrix([-penetration_floor]))\n",
    "\n",
    "# penetration <= 0 with ceiling\n",
    "D3.add_symbolic_inequality(xu, sp.Matrix([penetration_ceiling]))\n",
    "\n",
    "# ball not falling down the floor\n",
    "D3.add_symbolic_inequality(xu, ball_on_floor)\n",
    "\n",
    "# friction cone\n",
    "D3.add_symbolic_inequality(xu, sp.Matrix([ftf_penetration - mu*fnf_penetration]))\n",
    "D3.add_symbolic_inequality(xu, sp.Matrix([- ftf_penetration - mu*fnf_penetration]))\n",
    "\n",
    "# floor pushing\n",
    "D3.add_symbolic_inequality(xu, sp.Matrix([- fnf_penetration]))\n",
    "\n",
    "# check domain\n",
    "assert D3.bounded\n",
    "assert not D3.empty"
   ]
  },
  {
   "cell_type": "code",
   "execution_count": 10,
   "metadata": {
    "collapsed": true
   },
   "outputs": [],
   "source": [
    "# discrete time dynamics in mode 4\n",
    "# (ball sliding right on the floor, not in contact with the ceiling)\n",
    "\n",
    "# enforce sliding\n",
    "f_m4 = {ftf: -mu*fnf_penetration, fnf: fnf_penetration, ftc: 0., fnc: 0.}\n",
    "\n",
    "# get dynamics\n",
    "xd_m4 = xd.subs(f_m4)\n",
    "S4 = AffineSystem.from_symbolic_continuous(x, u, xd_m4, h, 'zero_order_hold')\n",
    "\n",
    "# build domain\n",
    "D4 = Polyhedron.from_bounds(xu_min, xu_max)\n",
    "\n",
    "# penetration >= 0 with floor\n",
    "D4.add_symbolic_inequality(xu, sp.Matrix([-penetration_floor]))\n",
    "\n",
    "# penetration <= 0 with ceiling\n",
    "D4.add_symbolic_inequality(xu, sp.Matrix([penetration_ceiling]))\n",
    "\n",
    "# ball not falling down the floor\n",
    "D4.add_symbolic_inequality(xu, ball_on_floor)\n",
    "\n",
    "# positive relative velocity\n",
    "D4.add_symbolic_inequality(xu, sp.Matrix([ftf_penetration + mu*fnf_penetration]))\n",
    "# D4.add_symbolic_inequality(xu, sp.Matrix([mu*fnf_penetration - bt*sliding_velocity_floor]))\n",
    "\n",
    "# floor pushing\n",
    "D4.add_symbolic_inequality(xu, sp.Matrix([- fnf_penetration]))\n",
    "\n",
    "# check domain\n",
    "assert D4.bounded\n",
    "assert not D4.empty"
   ]
  },
  {
   "cell_type": "code",
   "execution_count": 11,
   "metadata": {
    "collapsed": true
   },
   "outputs": [],
   "source": [
    "# discrete time dynamics in mode 5\n",
    "# (ball sliding left on the floor, not in contact with the ceiling)\n",
    "\n",
    "# enforce sliding\n",
    "f_m5 = {ftf: mu*fnf_penetration, fnf: fnf_penetration, ftc: 0., fnc: 0.}\n",
    "\n",
    "# get dynamics\n",
    "xd_m5 = xd.subs(f_m5)\n",
    "S5 = AffineSystem.from_symbolic_continuous(x, u, xd_m5, h, 'zero_order_hold')\n",
    "\n",
    "# build domain\n",
    "D5 = Polyhedron.from_bounds(xu_min, xu_max)\n",
    "\n",
    "# penetration >= 0 with floor\n",
    "D5.add_symbolic_inequality(xu, sp.Matrix([-penetration_floor]))\n",
    "\n",
    "# penetration <= 0 with ceiling\n",
    "D5.add_symbolic_inequality(xu, sp.Matrix([penetration_ceiling]))\n",
    "\n",
    "# ball not falling down the floor\n",
    "D5.add_symbolic_inequality(xu, ball_on_floor)\n",
    "\n",
    "# negative relative velocity\n",
    "D5.add_symbolic_inequality(xu, sp.Matrix([mu*fnf_penetration - ftf_penetration]))\n",
    "# D5.add_symbolic_inequality(xu, sp.Matrix([mu*fnf_penetration + bt*sliding_velocity_floor]))\n",
    "\n",
    "# floor pushing\n",
    "D5.add_symbolic_inequality(xu, sp.Matrix([- fnf_penetration]))\n",
    "\n",
    "# check domain\n",
    "assert D5.bounded\n",
    "assert not D5.empty"
   ]
  },
  {
   "cell_type": "code",
   "execution_count": 12,
   "metadata": {},
   "outputs": [],
   "source": [
    "# discrete time dynamics in mode 6\n",
    "# (ball in contact the ceiling, ceiling pulling)\n",
    "\n",
    "# get dynamics\n",
    "S6 = copy(S1)\n",
    "\n",
    "# build domain\n",
    "D6 = Polyhedron.from_bounds(xu_min, xu_max)\n",
    "\n",
    "# penetration <= 0 with floor\n",
    "D6.add_symbolic_inequality(xu, sp.Matrix([penetration_floor]))\n",
    "\n",
    "# penetration >= 0 with ceiling\n",
    "D6.add_symbolic_inequality(xu, sp.Matrix([-penetration_ceiling]))\n",
    "\n",
    "# ball not falling down the celing\n",
    "D6.add_symbolic_inequality(xu, ball_on_ceiling)\n",
    "\n",
    "# ceiling pulling\n",
    "D6.add_symbolic_inequality(xu, sp.Matrix([fnc_penetration]))\n",
    "\n",
    "# check domain\n",
    "assert D6.bounded\n",
    "assert not D6.empty"
   ]
  },
  {
   "cell_type": "code",
   "execution_count": 13,
   "metadata": {},
   "outputs": [],
   "source": [
    "# discrete time dynamics in mode 7\n",
    "# (ball sticking on the ceiling, not in contact with the floor)\n",
    "\n",
    "# enforce sticking\n",
    "f_m7 = {ftc: ftc_penetration, fnc: fnc_penetration, ftf: 0., fnf: 0.}\n",
    "\n",
    "# get dynamics\n",
    "xd_m7 = xd.subs(f_m7)\n",
    "S7 = AffineSystem.from_symbolic_continuous(x, u, xd_m7, h, 'zero_order_hold')\n",
    "\n",
    "# build domain\n",
    "D7 = Polyhedron.from_bounds(xu_min, xu_max)\n",
    "\n",
    "# penetration <= 0 with floor\n",
    "D7.add_symbolic_inequality(xu, sp.Matrix([penetration_floor]))\n",
    "\n",
    "# penetration >= 0 with ceiling\n",
    "D7.add_symbolic_inequality(xu, sp.Matrix([-penetration_ceiling]))\n",
    "\n",
    "# ball in contact with the ceiling\n",
    "D7.add_symbolic_inequality(xu, ball_on_ceiling)\n",
    "\n",
    "# friction cone\n",
    "D7.add_symbolic_inequality(xu, sp.Matrix([ftc_penetration - mu*fnc_penetration]))\n",
    "D7.add_symbolic_inequality(xu, sp.Matrix([- ftc_penetration - mu*fnc_penetration]))\n",
    "\n",
    "# ceiling pushing\n",
    "D7.add_symbolic_inequality(xu, sp.Matrix([- fnc_penetration]))\n",
    "\n",
    "# check domain\n",
    "assert D7.bounded\n",
    "assert not D7.empty"
   ]
  },
  {
   "cell_type": "code",
   "execution_count": 14,
   "metadata": {},
   "outputs": [],
   "source": [
    "# discrete time dynamics in mode 8\n",
    "# (ball sliding right on the ceiling, not in contact with the floor)\n",
    "\n",
    "# enforce sliding\n",
    "f_m8 = {ftc: mu*fnc_penetration, fnc: fnc_penetration, ftf: 0., fnf: 0.}\n",
    "\n",
    "# get dynamics\n",
    "xd_m8 = xd.subs(f_m8)\n",
    "S8 = AffineSystem.from_symbolic_continuous(x, u, xd_m8, h, 'zero_order_hold')\n",
    "\n",
    "# build domain\n",
    "D8 = Polyhedron.from_bounds(xu_min, xu_max)\n",
    "\n",
    "# penetration <= 0 with floor\n",
    "D8.add_symbolic_inequality(xu, sp.Matrix([penetration_floor]))\n",
    "\n",
    "# penetration >= 0 with ceiling\n",
    "D8.add_symbolic_inequality(xu, sp.Matrix([-penetration_ceiling]))\n",
    "\n",
    "# ball in contact with the ceiling\n",
    "D8.add_symbolic_inequality(xu, ball_on_ceiling)\n",
    "\n",
    "# positive relative velocity\n",
    "D8.add_symbolic_inequality(xu, sp.Matrix([mu*fnc_penetration - ftc_penetration]))\n",
    "# D8.add_symbolic_inequality(xu, sp.Matrix([mu*fnc_penetration - bt*sliding_velocity_ceiling]))\n",
    "\n",
    "# ceiling pushing\n",
    "D8.add_symbolic_inequality(xu, sp.Matrix([- fnc_penetration]))\n",
    "\n",
    "# check domain\n",
    "assert D8.bounded\n",
    "assert not D8.empty"
   ]
  },
  {
   "cell_type": "code",
   "execution_count": 15,
   "metadata": {
    "collapsed": true
   },
   "outputs": [],
   "source": [
    "# discrete time dynamics in mode 9\n",
    "# (ball sliding left on the ceiling, not in contact with the floor)\n",
    "\n",
    "# enforce sliding\n",
    "f_m9 = {ftc: -mu*fnc_penetration, fnc: fnc_penetration, ftf: 0., fnf: 0.}\n",
    "\n",
    "# get dynamics\n",
    "xd_m9 = xd.subs(f_m9)\n",
    "S9 = AffineSystem.from_symbolic_continuous(x, u, xd_m9, h, 'zero_order_hold')\n",
    "\n",
    "# build domain\n",
    "D9 = Polyhedron.from_bounds(xu_min, xu_max)\n",
    "\n",
    "# penetration <= 0 with floor\n",
    "D9.add_symbolic_inequality(xu, sp.Matrix([penetration_floor]))\n",
    "\n",
    "# penetration >= 0 with ceiling\n",
    "D9.add_symbolic_inequality(xu, sp.Matrix([-penetration_ceiling]))\n",
    "\n",
    "# ball in contact with the ceiling\n",
    "D9.add_symbolic_inequality(xu, ball_on_ceiling)\n",
    "\n",
    "# negative relative velocity\n",
    "D9.add_symbolic_inequality(xu, sp.Matrix([ftc_penetration + mu*fnc_penetration]))\n",
    "# D9.add_symbolic_inequality(xu, sp.Matrix([mu*fnc_penetration + bt*sliding_velocity_ceiling]))\n",
    "\n",
    "# ceiling pushing\n",
    "D9.add_symbolic_inequality(xu, sp.Matrix([- fnc_penetration]))\n",
    "\n",
    "# check domain\n",
    "assert D9.bounded\n",
    "assert not D9.empty"
   ]
  },
  {
   "cell_type": "code",
   "execution_count": 16,
   "metadata": {
    "collapsed": true
   },
   "outputs": [],
   "source": [
    "# list of dynamics\n",
    "S_list = [S1, S2, S3, S4, S5, S6, S7, S8, S9]\n",
    "\n",
    "# list of domains\n",
    "D_list = [D1, D2, D3, D4, D5, D6, D7, D8, D9]\n",
    "\n",
    "# PWA system\n",
    "S = PieceWiseAffineSystem(S_list, D_list)"
   ]
  },
  {
   "cell_type": "code",
   "execution_count": 17,
   "metadata": {
    "collapsed": true
   },
   "outputs": [],
   "source": [
    "# controller parameters\n",
    "N = 20\n",
    "Q = np.diag([\n",
    "    1., .0, .0,\n",
    "    1., 1.,\n",
    "    1., 1., .01,\n",
    "    1., 1.\n",
    "])*h\n",
    "R = np.diag([\n",
    "    .01, .001\n",
    "])*h\n",
    "P = np.zeros((S.nx, S.nx))\n",
    "\n",
    "# terminal set and cost\n",
    "X_N = Polyhedron.from_bounds(*[np.zeros(S.nx)]*2)\n",
    "# xN_max = np.array([l]+[0.]*(S.nx-1))\n",
    "# xN_min = xN_max\n",
    "# X_N = Polyhedron.from_bounds(x_min, x_max)"
   ]
  },
  {
   "cell_type": "code",
   "execution_count": 18,
   "metadata": {},
   "outputs": [
    {
     "name": "stdout",
     "output_type": "stream",
     "text": [
      "Warning for adding constraints: zero or small (< 1e-13) coefficients, ignored\n"
     ]
    }
   ],
   "source": [
    "controller = HybridModelPredictiveController(S, N, Q, R, P, X_N, method='Convex hull')\n",
    "# controller.add_reachability_constraints(5)\n",
    "# controller.prog.setParam('Heuristics', 0)"
   ]
  },
  {
   "cell_type": "code",
   "execution_count": 19,
   "metadata": {
    "collapsed": true
   },
   "outputs": [],
   "source": [
    "# initial condition\n",
    "x0 = np.array([\n",
    "    0., 0., np.pi,\n",
    "    0., 0.,\n",
    "    0., 0., 0.,\n",
    "    0., 0.\n",
    "])"
   ]
  },
  {
   "cell_type": "code",
   "execution_count": 20,
   "metadata": {},
   "outputs": [
    {
     "name": "stdout",
     "output_type": "stream",
     "text": [
      "Parameter OutputFlag unchanged\n",
      "   Value: 1  Min: 0  Max: 1  Default: 1\n",
      "Optimize a model with 9560 rows, 4390 columns and 32180 nonzeros\n",
      "Model has 200 quadratic objective terms\n",
      "Variable types: 4210 continuous, 180 integer (180 binary)\n",
      "Coefficient statistics:\n",
      "  Matrix range     [2e-04, 5e+02]\n",
      "  Objective range  [0e+00, 0e+00]\n",
      "  QObjective range [5e-05, 5e-02]\n",
      "  Bounds range     [3e+00, 3e+00]\n",
      "  RHS range        [1e+00, 1e+00]\n",
      "Presolve removed 4938 rows and 2190 columns\n",
      "Presolve time: 0.11s\n",
      "Presolved: 4622 rows, 2200 columns, 17096 nonzeros\n",
      "Presolved model has 192 quadratic objective terms\n",
      "Variable types: 2042 continuous, 158 integer (158 binary)\n",
      "\n",
      "Root relaxation: objective 4.156479e-03, 22870 iterations, 2.10 seconds\n",
      "\n",
      "    Nodes    |    Current Node    |     Objective Bounds      |     Work\n",
      " Expl Unexpl |  Obj  Depth IntInf | Incumbent    BestBd   Gap | It/Node Time\n",
      "\n",
      "     0     0    0.00416    0   80          -    0.00416      -     -    2s\n",
      "     0     0    0.00426    0   82          -    0.00426      -     -    2s\n",
      "     0     0    0.00496    0   81          -    0.00496      -     -    2s\n",
      "     0     0    0.00496    0   81          -    0.00496      -     -    2s\n",
      "     0     0    0.00500    0   82          -    0.00500      -     -    3s\n",
      "     0     0    0.00500    0   82          -    0.00500      -     -    3s\n",
      "     0     0    0.00501    0   84          -    0.00501      -     -    3s\n",
      "     0     0    0.00501    0   83          -    0.00501      -     -    3s\n",
      "     0     0    0.00501    0   82          -    0.00501      -     -    3s\n",
      "     0     0    0.00501    0   84          -    0.00501      -     -    3s\n",
      "     0     0    0.00502    0   81          -    0.00502      -     -    3s\n",
      "     0     0    0.00502    0   87          -    0.00502      -     -    4s\n",
      "     0     0    0.00502    0   83          -    0.00502      -     -    4s\n",
      "     0     0    0.00502    0   83          -    0.00502      -     -    4s\n",
      "     0     0    0.00503    0   90          -    0.00503      -     -    4s\n",
      "     0     0    0.00504    0   89          -    0.00504      -     -    4s\n",
      "     0     0    0.00504    0   90          -    0.00504      -     -    4s\n",
      "     0     0    0.00505    0   90          -    0.00505      -     -    4s\n",
      "     0     0    0.00505    0   89          -    0.00505      -     -    4s\n",
      "     0     0    0.00506    0   89          -    0.00506      -     -    4s\n",
      "     0     0    0.00506    0   89          -    0.00506      -     -    5s\n",
      "     0     2    0.00506    0   89          -    0.00506      -     -   13s\n",
      "    24    26    0.00941   12   69          -    0.00635      -   271   15s\n",
      "    53    56    0.01486   23   70          -    0.00635      -   691   20s\n",
      "   127   124    0.03511   50   61          -    0.00635      -   658   25s\n",
      "   237   207    0.01111    9   73          -    0.00671      -   554   30s\n",
      "   324   288 infeasible   51               -    0.00671      -   606   36s\n",
      "   368   323    0.17290   58   40          -    0.00671      -   701   40s\n",
      "   464   364 infeasible   76               -    0.00671      -   762   45s\n",
      "   559   437    0.25923   41   58          -    0.00742      -   746   50s\n",
      "   643   488 infeasible   65               -    0.00742      -   894   56s\n",
      "   673   501    0.14087    8   72          -    0.00772      -  1108   61s\n",
      "   741   550    0.03605   52   82          -    0.00772      -  1034   65s\n",
      "   747   554    0.14950   15   88          -    0.00772      -  1025   72s\n",
      "   750   557    0.00772   11   85          -    0.00772      -  1063   75s\n",
      "   770   563    0.00772   15   71          -    0.00772      -  1047   80s\n",
      "   785   564    0.00772   17   69          -    0.00772      -  1048   85s\n",
      "   818   570    0.00913   22   66          -    0.00772      -  1058   90s\n",
      "   874   598    0.01120   28   68          -    0.00772      -  1033   95s\n",
      "   935   635    0.01435   33   70          -    0.00772      -  1015  100s\n",
      "   992   675    0.01726   37   70          -    0.00772      -  1017  105s\n",
      "  1057   708    0.01908   42   68          -    0.00772      -  1031  110s\n",
      "  1128   757    0.02219   45   61          -    0.00772      -  1012  115s\n",
      "  1220   773    0.02534   50   60          -    0.00772      -   998  121s\n",
      "  1307   815    0.03180   57   61          -    0.00772      -  1014  127s\n",
      "  1384   836    0.03616   61   61          -    0.00772      -  1022  131s\n",
      "  1479   860    0.05014   76   47          -    0.00772      -   993  135s\n",
      "  1564   882 infeasible   92               -    0.00772      -  1013  140s\n",
      "  1687   922    0.11706   94   31          -    0.00772      -  1060  146s\n",
      "  1754   931 infeasible   99               -    0.00772      -  1060  150s\n",
      "  1881   962    0.06348   28   66          -    0.00870      -  1078  155s\n",
      "  2030  1012    0.14908   72   50          -    0.00928      -  1062  160s\n",
      "  2169  1054 infeasible   89               -    0.00928      -  1061  167s\n",
      "  2286  1096    0.20592   96   26          -    0.00928      -  1034  170s\n",
      "  2490  1178    0.01333   26   66          -    0.00930      -  1013  176s\n",
      "  2596  1229    0.08849   27   62          -    0.00930      -   999  181s\n",
      "  2649  1284    0.03531   56   58          -    0.00930      -  1011  185s\n",
      "  2796  1410    0.10354   80   33          -    0.00930      -   977  190s\n",
      "  3085  1581 infeasible   95               -    0.00930      -   960  198s\n",
      "  3151  1618    0.09541   94   21          -    0.00930      -   987  202s\n",
      "  3233  1656    0.11723   23   57          -    0.01376      -  1002  207s\n",
      "  3336  1719    0.34092   36   42          -    0.01376      -  1000  212s\n",
      "  3514  1831    0.36567   71   26          -    0.01394      -   976  217s\n",
      "  3635  1915    0.04989   60   46          -    0.01394      -   979  222s\n",
      "  3774  1993    0.11056   87   25          -    0.01522      -   982  229s\n",
      "  3878  2057    0.03568   55   49          -    0.01522      -   997  234s\n",
      "  4042  2177 infeasible   86               -    0.01643      -   987  240s\n",
      "  4201  2245    0.02724   43   57          -    0.01675      -   970  246s\n",
      "  4395  2393 infeasible   77               -    0.01685      -   950  251s\n",
      "  4493  2432    0.13278   43   53          -    0.01685      -   959  257s\n",
      "  4717  2605 infeasible   65               -    0.01685      -   952  272s\n",
      "  4804  2680    0.06537   25   68          -    0.01709      -  1038  279s\n",
      "  4905  2728    0.26706   52   33          -    0.01758      -  1060  286s\n",
      "  5196  2927  postponed   64               -    0.01760      -  1030  293s\n",
      "  5316  3006  postponed   66               -    0.01760      -  1063  300s\n",
      "  5555  3155    0.12568   39   55          -    0.01791      -  1046  308s\n",
      "  5800  3304    0.16534   27   41          -    0.01806      -  1042  316s\n",
      "  5989  3418    0.06864   27   62          -    0.01856      -  1033  326s\n",
      "  6221  3564 infeasible   59               -    0.01856      -  1033  335s\n",
      "  6420  3636    0.20863   30   51          -    0.01893      -  1040  344s\n",
      "  6614  3723    0.08397   33   62          -    0.01932      -  1042  354s\n",
      "  6932  3913 infeasible   36               -    0.01938      -  1023  364s\n",
      "  7188  4064 infeasible   57               -    0.01960      -  1025  375s\n",
      "  7288  4121  postponed   39               -    0.01963      -  1065  385s\n",
      "  7388  4179    0.13775   40   49          -    0.01965      -  1110  396s\n",
      "  7588  4277    0.16791   45   53          -    0.02002      -  1118  407s\n",
      "  7878  4488 infeasible   71               -    0.02032      -  1112  419s\n",
      "  8123  4673    0.17546   20   50          -    0.02044      -  1114  431s\n",
      "  8401  4869 infeasible   47               -    0.02065      -  1113  443s\n",
      "  8481  4898    0.24717   35   63          -    0.02065      -  1167  456s\n",
      "  8653  5013  postponed   91               -    0.02079      -  1198  473s\n",
      "  8865  5128 infeasible   66               -    0.02094      -  1221  490s\n",
      "  9139  5297    0.08176   83   36          -    0.02113      -  1227  509s\n",
      "  9395  5413 infeasible   51               -    0.02126      -  1245  525s\n",
      "  9665  5615    0.26454   49   44          -    0.02127      -  1264  540s\n",
      "  9874  5720  postponed   56               -    0.02138      -  1293  556s\n",
      " 10135  5854  postponed   59               -    0.02144      -  1317  573s\n",
      " 10353  5950 infeasible   60               -    0.02163      -  1352  590s\n"
     ]
    },
    {
     "name": "stdout",
     "output_type": "stream",
     "text": [
      " 10649  6095 infeasible   66               -    0.02199      -  1356  610s\n",
      " 10939  6225 infeasible   71               -    0.02226      -  1365  629s\n",
      " 11244  6433    0.23361   51   41          -    0.02226      -  1380  650s\n",
      " 11472  6541  postponed   57               -    0.02270      -  1421  670s\n",
      " 11677  6646    0.40350   36   37          -    0.02298      -  1452  679s\n",
      "\n",
      "Cutting planes:\n",
      "  GUB cover: 9\n",
      "\n",
      "Explored 11797 nodes (17218287 simplex iterations) in 679.19 seconds\n",
      "Thread count was 4 (of 4 available processors)\n",
      "\n",
      "Solution count 0\n",
      "\n",
      "Solve interrupted\n",
      "Best objective -, best bound 2.297602823527e-02, gap -\n"
     ]
    }
   ],
   "source": [
    "# controller.prog.setParam('MIPFocus', 2)\n",
    "u_opt, x_opt, ms_opt, cost_opt = controller.feedforward(x0)"
   ]
  },
  {
   "cell_type": "markdown",
   "metadata": {},
   "source": [
    "from pympc.control.hybrid_benchmark.branch_and_bound import branch_and_bound, best_first, depth_first\n",
    "def solver(identifier, objective_cutoff):\n",
    "    return controller.solve_relaxation(x0, identifier, objective_cutoff)\n",
    "lb = {}\n",
    "ub = {}\n",
    "sol = {}\n",
    "methods = [\n",
    "    'Convex hull, lifted constraints',\n",
    "    'Convex hull',\n",
    "    'Big-M',\n",
    "    'Traditional formulation'\n",
    "]\n",
    "for method in methods:\n",
    "    print method\n",
    "    controller = HybridModelPredictiveController(S, N, Q, R, P, X_N, method)\n",
    "    sol_i, lb_i, ub_i = branch_and_bound(solver, depth_first, controller.explore_in_chronological_order)\n",
    "    lb[method] = lb_i\n",
    "    ub[method] = ub_i\n",
    "    sol[method] = sol_i"
   ]
  },
  {
   "cell_type": "code",
   "execution_count": null,
   "metadata": {
    "collapsed": true
   },
   "outputs": [],
   "source": [
    "for i in range(S.nx):\n",
    "    print 'x_'+str(i), sum(xt[i]*Q[i,i]*xt[i] for xt in x_opt)\n",
    "\n",
    "for i in range(S.nu):\n",
    "    print 'u_'+str(i), sum(ut[i]*R[i,i]*ut[i] for ut in u_opt)"
   ]
  },
  {
   "cell_type": "code",
   "execution_count": null,
   "metadata": {
    "collapsed": true
   },
   "outputs": [],
   "source": [
    "for i in range(S.nx):\n",
    "    print 'x max_'+str(i), x_max[i], max(xt[i] for xt in x_opt)\n",
    "    print 'x min_'+str(i), x_min[i], min(xt[i] for xt in x_opt)\n",
    "\n",
    "for i in range(S.nu):\n",
    "    print 'u max_'+str(i), u_max[i], max(ut[i] for ut in u_opt)\n",
    "    print 'u min_'+str(i), u_min[i], min(ut[i] for ut in u_opt)"
   ]
  },
  {
   "cell_type": "code",
   "execution_count": null,
   "metadata": {
    "collapsed": true
   },
   "outputs": [],
   "source": [
    "plot_input_sequence(u_opt, h, (u_min, u_max))"
   ]
  },
  {
   "cell_type": "code",
   "execution_count": null,
   "metadata": {
    "collapsed": true
   },
   "outputs": [],
   "source": [
    "plot_state_trajectory(x_opt, h, (x_min, x_max))"
   ]
  },
  {
   "cell_type": "markdown",
   "metadata": {},
   "source": [
    "for i in range(S.nx):\n",
    "    print i, \"min\", min(xt[i] for xt in x)\n",
    "    print i, \"max\", max(xt[i] for xt in x)\n",
    "print x_min\n",
    "print x_max"
   ]
  },
  {
   "cell_type": "markdown",
   "metadata": {},
   "source": [
    "for i in range(S.nx):\n",
    "    print sum(xt[i]*Q[i,i]*xt[i] for xt in x)\n",
    "for i in range(S.nu):\n",
    "    print sum(ut[i]*R[i,i]*ut[i] for ut in u)"
   ]
  },
  {
   "cell_type": "code",
   "execution_count": null,
   "metadata": {},
   "outputs": [],
   "source": [
    "x0 = np.array([\n",
    "    0., 0.2, 0.,\n",
    "    0., 0.,\n",
    "    0., 5., 5.,\n",
    "    0., 0.\n",
    "])\n",
    "u_sim = [np.zeros(S.nu)]*100\n",
    "x_sim, ms_sim = S.simulate(x0, u_sim)\n",
    "print ms_sim"
   ]
  },
  {
   "cell_type": "markdown",
   "metadata": {},
   "source": [
    "# Animation"
   ]
  },
  {
   "cell_type": "code",
   "execution_count": null,
   "metadata": {
    "collapsed": true
   },
   "outputs": [],
   "source": [
    "import meshcat\n",
    "from meshcat.geometry import Box, Sphere, Cylinder, MeshLambertMaterial\n",
    "from meshcat.animation import Animation\n",
    "import meshcat.transformations as tf"
   ]
  },
  {
   "cell_type": "code",
   "execution_count": null,
   "metadata": {},
   "outputs": [],
   "source": [
    "vis = meshcat.Visualizer()\n",
    "# vis.jupyter_cell()\n",
    "vis.open()"
   ]
  },
  {
   "cell_type": "code",
   "execution_count": null,
   "metadata": {},
   "outputs": [],
   "source": [
    "tickness = .05\n",
    "depth = .3\n",
    "red = 0xff2222\n",
    "blue = 0x2222ff\n",
    "green = 0x22ff22\n",
    "vis['ball'].set_object(\n",
    "    Sphere(r),\n",
    "    MeshLambertMaterial(color=blue)\n",
    ")\n",
    "vis['floor'].set_object(\n",
    "    Box([depth, l*2., tickness]),\n",
    "    MeshLambertMaterial(color=red)\n",
    ")\n",
    "vis['ceiling'].set_object(\n",
    "    Box([depth, l*2., tickness]),\n",
    "    MeshLambertMaterial(color=red)\n",
    ")\n",
    "vis['ball_orientation'].set_object(\n",
    "    Cylinder(r/10., r),\n",
    "    MeshLambertMaterial(color=green)\n",
    ")"
   ]
  },
  {
   "cell_type": "code",
   "execution_count": null,
   "metadata": {},
   "outputs": [],
   "source": [
    "anim = Animation()\n",
    "for t, xt in enumerate(x_opt):\n",
    "    with anim.at_frame(vis, t*h*300) as frame:\n",
    "        frame['ball'].set_transform(\n",
    "            tf.translation_matrix([0, xt[0], xt[1]+r-m*g/kn])\n",
    "        )\n",
    "        frame['floor'].set_transform(\n",
    "            tf.translation_matrix([0, xt[3], xt[4]-tickness/2.])\n",
    "        )\n",
    "        frame['ceiling'].set_transform(\n",
    "            tf.translation_matrix([0, 0, d+tickness/2.])\n",
    "        )\n",
    "        frame['ball_orientation'].set_transform(\n",
    "            tf.translation_matrix([0, xt[0], xt[1]+r-m*g/kn]).dot(\n",
    "                tf.rotation_matrix(xt[2], [1.,0.,0.])\n",
    "            )\n",
    "        )\n",
    "vis.set_animation(anim)"
   ]
  },
  {
   "cell_type": "code",
   "execution_count": null,
   "metadata": {
    "collapsed": true
   },
   "outputs": [],
   "source": []
  }
 ],
 "metadata": {
  "kernelspec": {
   "display_name": "Python 2",
   "language": "python",
   "name": "python2"
  },
  "language_info": {
   "codemirror_mode": {
    "name": "ipython",
    "version": 2
   },
   "file_extension": ".py",
   "mimetype": "text/x-python",
   "name": "python",
   "nbconvert_exporter": "python",
   "pygments_lexer": "ipython2",
   "version": "2.7.15"
  }
 },
 "nbformat": 4,
 "nbformat_minor": 2
}
