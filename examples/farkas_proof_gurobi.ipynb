{
 "cells": [
  {
   "cell_type": "markdown",
   "metadata": {},
   "source": [
    "# Toy problem: retrieve infeasibility info from gurobi when solving QPs\n",
    "\n",
    "Consider the infeasible QP\n",
    "\\begin{align}\n",
    "\\min \\frac{1}{2} x_1^2\n",
    "\\quad\n",
    "\\text{subject to}\n",
    "\\quad\n",
    "x_0 \\geq 0,\n",
    "x_1 \\geq 0,\n",
    "x_0 + x_1 \\leq -1,\n",
    "\\end{align}\n",
    "and its unbounded dual\n",
    "\\begin{align}\n",
    "\\max - \\frac{1}{2} (p_1-q)^2 + q\n",
    "\\quad\n",
    "\\text{subject to}\n",
    "\\quad\n",
    "p_0 \\geq 0,\n",
    "p_1 \\geq 0,\n",
    "q \\geq 0,\n",
    "p_0 = q.\n",
    "\\end{align}\n",
    "\n",
    "How to retrieve from Gurobi the multipliers $(p_0, p_1, q) = (\\alpha, \\alpha, \\alpha)$ with $\\alpha > 0$ which prove unboundedness of the dual, and hence infeasibility of the primal?\n",
    "\n",
    "It seems that this info can be retrieved only in case of linear programs.\n",
    "However, the same multipliers that prove infeasibility of the LP also prove infeasibility of the QP.\n",
    "Hence it is sufficient to set to objective to zero and run the LP.\n",
    "\n",
    "Note that the dual of the LP\n",
    "\\begin{align}\n",
    "\\min 0\n",
    "\\quad\n",
    "\\text{subject to}\n",
    "\\quad\n",
    "x_0 \\geq 0,\n",
    "x_1 \\geq 0,\n",
    "x_0 + x_1 \\leq -1,\n",
    "\\end{align}\n",
    "is\n",
    "\\begin{align}\n",
    "\\max q\n",
    "\\quad\n",
    "\\text{subject to}\n",
    "\\quad\n",
    "p_0 \\geq 0,\n",
    "p_1 \\geq 0,\n",
    "q \\geq 0,\n",
    "p_0 = q,\n",
    "p_1 = q.\n",
    "\\end{align}"
   ]
  },
  {
   "cell_type": "code",
   "execution_count": 127,
   "metadata": {},
   "outputs": [],
   "source": [
    "import gurobipy as grb"
   ]
  },
  {
   "cell_type": "code",
   "execution_count": 128,
   "metadata": {},
   "outputs": [],
   "source": [
    "m = grb.Model()\n",
    "x = m.addVars(2, lb=[-grb.GRB.INFINITY]*2)\n",
    "m.setObjective(x[0] + x[1])\n",
    "\n",
    "# bounds are expressed as constraints otherwise we cannot get their multipliers out of the Farkas proof\n",
    "lb0 = m.addConstr(- x[0] <= 0., name='') # express the constraints with <= so that multipliers are positive\n",
    "lb1 = m.addConstr(- x[1] <= 0.)\n",
    "c = m.addConstr(x[0] + x[1] <= -1.)\n",
    "c_redundant = m.addConstr(- x[0] - x[1] <= 1.) # redundant"
   ]
  },
  {
   "cell_type": "code",
   "execution_count": 129,
   "metadata": {},
   "outputs": [
    {
     "name": "stdout",
     "output_type": "stream",
     "text": [
      "Changed value of parameter InfUnbdInfo to 1\n",
      "   Prev: 0  Min: 0  Max: 1  Default: 0\n",
      "Optimize a model with 4 rows, 2 columns and 6 nonzeros\n",
      "Coefficient statistics:\n",
      "  Matrix range     [1e+00, 1e+00]\n",
      "  Objective range  [1e+00, 1e+00]\n",
      "  Bounds range     [0e+00, 0e+00]\n",
      "  RHS range        [1e+00, 1e+00]\n",
      "Presolve removed 3 rows and 2 columns\n",
      "Presolve time: 0.01s\n",
      "Iteration    Objective       Primal Inf.    Dual Inf.      Time\n",
      "       0      handle free variables                          0s\n",
      "\n",
      "Solved in 2 iterations and 0.02 seconds\n",
      "Infeasible model\n"
     ]
    }
   ],
   "source": [
    "m.Params.InfUnbdInfo = 1 # to query the infeasibility proof (only LP)\n",
    "m.optimize()"
   ]
  },
  {
   "cell_type": "code",
   "execution_count": 130,
   "metadata": {},
   "outputs": [
    {
     "name": "stdout",
     "output_type": "stream",
     "text": [
      "[1.0, 1.0, 1.0, 0.0]\n"
     ]
    }
   ],
   "source": [
    "# retrieve duals which prove infeasibility for the LP\n",
    "print m.FarkasDual"
   ]
  },
  {
   "cell_type": "code",
   "execution_count": 117,
   "metadata": {},
   "outputs": [
    {
     "name": "stdout",
     "output_type": "stream",
     "text": [
      "[-1.0, -1.0, 0.0, 0.0]\n"
     ]
    }
   ],
   "source": [
    "# note that calling the duals directly gives garbage\n",
    "print [lb0.Pi, lb1.Pi, c.Pi, c_redundant.Pi]"
   ]
  },
  {
   "cell_type": "code",
   "execution_count": 121,
   "metadata": {},
   "outputs": [],
   "source": [
    "c = m.getConstrs()"
   ]
  },
  {
   "cell_type": "code",
   "execution_count": 123,
   "metadata": {},
   "outputs": [],
   "source": [
    "aa = c[0]"
   ]
  },
  {
   "cell_type": "code",
   "execution_count": 126,
   "metadata": {},
   "outputs": [
    {
     "data": {
      "text/plain": [
       "1.0"
      ]
     },
     "execution_count": 126,
     "metadata": {},
     "output_type": "execute_result"
    }
   ],
   "source": [
    "aa.FarkasDual"
   ]
  },
  {
   "cell_type": "code",
   "execution_count": null,
   "metadata": {},
   "outputs": [],
   "source": [
    "constraints['gatto'] = 1"
   ]
  },
  {
   "cell_type": "code",
   "execution_count": null,
   "metadata": {},
   "outputs": [],
   "source": [
    "constraints"
   ]
  },
  {
   "cell_type": "code",
   "execution_count": null,
   "metadata": {},
   "outputs": [],
   "source": [
    "aaa = ('u', 22, 3)"
   ]
  },
  {
   "cell_type": "code",
   "execution_count": null,
   "metadata": {},
   "outputs": [],
   "source": [
    "lb0.RHS = 22.\n",
    "m.update()"
   ]
  },
  {
   "cell_type": "code",
   "execution_count": null,
   "metadata": {},
   "outputs": [],
   "source": [
    "lb0."
   ]
  },
  {
   "cell_type": "code",
   "execution_count": null,
   "metadata": {},
   "outputs": [],
   "source": [
    "x = m.addVars(10, name='x')\n",
    "m.update()"
   ]
  },
  {
   "cell_type": "code",
   "execution_count": null,
   "metadata": {},
   "outputs": [],
   "source": [
    "X = np.vstack((\n",
    "    np.hstack((np.eye(6), np.zeros((6,3)))),\n",
    "    np.hstack((np.zeros((2,6)), np.zeros((2,3))))\n",
    "))\n",
    "Y = np.vstack((\n",
    "    np.hstack((np.eye(4), np.zeros((4,1)))),\n",
    "    np.hstack((np.zeros((5,4)), np.zeros((5,1))))\n",
    "))"
   ]
  },
  {
   "cell_type": "code",
   "execution_count": null,
   "metadata": {},
   "outputs": [],
   "source": []
  },
  {
   "cell_type": "code",
   "execution_count": null,
   "metadata": {},
   "outputs": [],
   "source": [
    "print X.shape, np.linalg.matrix_rank(X)\n",
    "print Y.shape, np.linalg.matrix_rank(Y)"
   ]
  },
  {
   "cell_type": "code",
   "execution_count": null,
   "metadata": {},
   "outputs": [],
   "source": [
    "np.linalg.matrix_rank(X.dot(Y))"
   ]
  },
  {
   "cell_type": "code",
   "execution_count": null,
   "metadata": {},
   "outputs": [],
   "source": [
    "G = np.array([[0., 0., 1., 0.],\n",
    "              [1., 1., 0., 0.],\n",
    "              [1., 0., 0., 0.],\n",
    "              [1., 1., 0., 0.]])\n",
    "print np.linalg.matrix_power(G,9)"
   ]
  },
  {
   "cell_type": "code",
   "execution_count": null,
   "metadata": {},
   "outputs": [],
   "source": [
    "G = np.array([[0, 0, 1],\n",
    "              [1, 0, 0],\n",
    "              [0, 1, 0]])\n",
    "np.linalg.eig(G)[0]"
   ]
  },
  {
   "cell_type": "code",
   "execution_count": null,
   "metadata": {},
   "outputs": [],
   "source": [
    "for i in range(40):\n",
    "    A = np.random.choice([0, 1], size=(3,3))\n",
    "    eigs = np.linalg.eig(A)[0]\n",
    "    for eig in eigs:\n",
    "        if isinstance(eig, complex):\n",
    "            print False, A, eig"
   ]
  },
  {
   "cell_type": "code",
   "execution_count": 89,
   "metadata": {},
   "outputs": [
    {
     "name": "stdout",
     "output_type": "stream",
     "text": [
      "The autoreload extension is already loaded. To reload it, use:\n",
      "  %reload_ext autoreload\n"
     ]
    }
   ],
   "source": [
    "%load_ext autoreload\n",
    "%autoreload 2"
   ]
  },
  {
   "cell_type": "code",
   "execution_count": 90,
   "metadata": {},
   "outputs": [],
   "source": [
    "from pympc.control.hybrid_benchmark.utils import GurobiModel\n",
    "import numpy as np"
   ]
  },
  {
   "cell_type": "code",
   "execution_count": 91,
   "metadata": {},
   "outputs": [],
   "source": [
    "m = GurobiModel()"
   ]
  },
  {
   "cell_type": "code",
   "execution_count": 92,
   "metadata": {},
   "outputs": [],
   "source": [
    "x = m.add_variables(3, name='gatto')"
   ]
  },
  {
   "cell_type": "code",
   "execution_count": null,
   "metadata": {},
   "outputs": [],
   "source": [
    "import operator\n"
   ]
  },
  {
   "cell_type": "code",
   "execution_count": 94,
   "metadata": {},
   "outputs": [],
   "source": [
    "c = m.add_linear_constraints(x, operator.ge, np.zeros(3), name='topo')"
   ]
  },
  {
   "cell_type": "code",
   "execution_count": 99,
   "metadata": {},
   "outputs": [
    {
     "data": {
      "text/plain": [
       "'>'"
      ]
     },
     "execution_count": 99,
     "metadata": {},
     "output_type": "execute_result"
    }
   ],
   "source": [
    "aaa.Sense"
   ]
  },
  {
   "cell_type": "code",
   "execution_count": 102,
   "metadata": {},
   "outputs": [],
   "source": [
    "vi = 3"
   ]
  },
  {
   "cell_type": "code",
   "execution_count": 133,
   "metadata": {},
   "outputs": [
    {
     "name": "stdout",
     "output_type": "stream",
     "text": [
      "{'a': 0, 'c': 2}\n"
     ]
    }
   ],
   "source": [
    "d = {'a':0, 'b':1, 'c':2}\n",
    "for k in d.keys():\n",
    "    if k == 'b':\n",
    "        del d[k]\n",
    "        \n",
    "print d"
   ]
  },
  {
   "cell_type": "code",
   "execution_count": 106,
   "metadata": {},
   "outputs": [],
   "source": [
    "c = m.getConstrs"
   ]
  },
  {
   "cell_type": "code",
   "execution_count": 108,
   "metadata": {},
   "outputs": [
    {
     "data": {
      "text/plain": [
       "<bound method GurobiModel.getConstrs of <gurobi.Model Continuous instance Unnamed: 3 constrs, 3 vars, Parameter changes: LogFile=gurobi.log, CSIdleTimeout=1800>>"
      ]
     },
     "execution_count": 108,
     "metadata": {},
     "output_type": "execute_result"
    }
   ],
   "source": [
    "c"
   ]
  },
  {
   "cell_type": "code",
   "execution_count": null,
   "metadata": {},
   "outputs": [],
   "source": []
  }
 ],
 "metadata": {
  "kernelspec": {
   "display_name": "Python 2",
   "language": "python",
   "name": "python2"
  },
  "language_info": {
   "codemirror_mode": {
    "name": "ipython",
    "version": 2
   },
   "file_extension": ".py",
   "mimetype": "text/x-python",
   "name": "python",
   "nbconvert_exporter": "python",
   "pygments_lexer": "ipython2",
   "version": "2.7.15"
  }
 },
 "nbformat": 4,
 "nbformat_minor": 2
}
