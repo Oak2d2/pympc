{
 "cells": [
  {
   "cell_type": "markdown",
   "metadata": {},
   "source": [
    "# Toy problem: retrieve infeasibility info from gurobi when solving QPs\n",
    "\n",
    "Consider the infeasible QP\n",
    "\\begin{align}\n",
    "\\min \\frac{1}{2} x_1^2\n",
    "\\quad\n",
    "\\text{subject to}\n",
    "\\quad\n",
    "x_0 \\geq 0,\n",
    "x_1 \\geq 0,\n",
    "x_0 + x_1 \\leq -1,\n",
    "\\end{align}\n",
    "and its unbounded dual\n",
    "\\begin{align}\n",
    "\\max - \\frac{1}{2} (p_1-q)^2 + q\n",
    "\\quad\n",
    "\\text{subject to}\n",
    "\\quad\n",
    "p_0 \\geq 0,\n",
    "p_1 \\geq 0,\n",
    "q \\geq 0,\n",
    "p_0 = q.\n",
    "\\end{align}\n",
    "\n",
    "How to retrieve from Gurobi the multipliers $(p_0, p_1, q) = (\\alpha, \\alpha, \\alpha)$ with $\\alpha > 0$ which prove unboundedness of the dual, and hence infeasibility of the primal?\n",
    "\n",
    "It seems that this info can be retrieved only in case of linear programs.\n",
    "However, the same multipliers that prove infeasibility of the LP also prove infeasibility of the QP.\n",
    "Hence it is sufficient to set to objective to zero and run the LP.\n",
    "\n",
    "Note that the dual of the LP\n",
    "\\begin{align}\n",
    "\\min 0\n",
    "\\quad\n",
    "\\text{subject to}\n",
    "\\quad\n",
    "x_0 \\geq 0,\n",
    "x_1 \\geq 0,\n",
    "x_0 + x_1 \\leq -1,\n",
    "\\end{align}\n",
    "is\n",
    "\\begin{align}\n",
    "\\max q\n",
    "\\quad\n",
    "\\text{subject to}\n",
    "\\quad\n",
    "p_0 \\geq 0,\n",
    "p_1 \\geq 0,\n",
    "q \\geq 0,\n",
    "p_0 = q,\n",
    "p_1 = q.\n",
    "\\end{align}"
   ]
  },
  {
   "cell_type": "code",
   "execution_count": 1,
   "metadata": {},
   "outputs": [],
   "source": [
    "import gurobipy as grb"
   ]
  },
  {
   "cell_type": "code",
   "execution_count": 2,
   "metadata": {},
   "outputs": [
    {
     "name": "stdout",
     "output_type": "stream",
     "text": [
      "Academic license - for non-commercial use only\n"
     ]
    }
   ],
   "source": [
    "m = grb.Model()\n",
    "x = m.addVars(2, lb=[-grb.GRB.INFINITY]*2)\n",
    "m.setObjective(x[0] + x[1])\n",
    "\n",
    "# bounds are expressed as constraints otherwise we cannot get their multipliers out of the Farkas proof\n",
    "lb0 = m.addConstr(- x[0] <= 0., name='') # express the constraints with <= so that multipliers are positive\n",
    "lb1 = m.addConstr(- x[1] <= 0.)\n",
    "c = m.addConstr(x[0] + x[1] <= -1.)"
   ]
  },
  {
   "cell_type": "code",
   "execution_count": 3,
   "metadata": {},
   "outputs": [
    {
     "name": "stdout",
     "output_type": "stream",
     "text": [
      "Changed value of parameter InfUnbdInfo to 1\n",
      "   Prev: 0  Min: 0  Max: 1  Default: 0\n",
      "Optimize a model with 3 rows, 2 columns and 4 nonzeros\n",
      "Coefficient statistics:\n",
      "  Matrix range     [1e+00, 1e+00]\n",
      "  Objective range  [1e+00, 1e+00]\n",
      "  Bounds range     [0e+00, 0e+00]\n",
      "  RHS range        [1e+00, 1e+00]\n",
      "Presolve removed 2 rows and 2 columns\n",
      "Presolve time: 0.01s\n",
      "Iteration    Objective       Primal Inf.    Dual Inf.      Time\n",
      "       0      handle free variables                          0s\n",
      "\n",
      "Solved in 2 iterations and 0.02 seconds\n",
      "Infeasible model\n"
     ]
    }
   ],
   "source": [
    "m.Params.InfUnbdInfo = 1 # to query the infeasibility proof (only LP)\n",
    "m.optimize()"
   ]
  },
  {
   "cell_type": "code",
   "execution_count": 4,
   "metadata": {},
   "outputs": [
    {
     "name": "stdout",
     "output_type": "stream",
     "text": [
      "[1.0, 1.0, 1.0]\n"
     ]
    }
   ],
   "source": [
    "# retrieve duals which prove infeasibility for the LP\n",
    "print m.FarkasDual"
   ]
  },
  {
   "cell_type": "code",
   "execution_count": 5,
   "metadata": {},
   "outputs": [
    {
     "name": "stdout",
     "output_type": "stream",
     "text": [
      "[-1.0, -1.0, 0.0]\n"
     ]
    }
   ],
   "source": [
    "# note that calling the duals directly gives garbage\n",
    "print [lb0.Pi, lb1.Pi, c.Pi]"
   ]
  }
 ],
 "metadata": {
  "kernelspec": {
   "display_name": "Python 2",
   "language": "python",
   "name": "python2"
  },
  "language_info": {
   "codemirror_mode": {
    "name": "ipython",
    "version": 2
   },
   "file_extension": ".py",
   "mimetype": "text/x-python",
   "name": "python",
   "nbconvert_exporter": "python",
   "pygments_lexer": "ipython2",
   "version": "2.7.15"
  }
 },
 "nbformat": 4,
 "nbformat_minor": 2
}
