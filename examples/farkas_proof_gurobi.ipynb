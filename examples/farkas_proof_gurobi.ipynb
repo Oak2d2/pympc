{
 "cells": [
  {
   "cell_type": "markdown",
   "metadata": {},
   "source": [
    "# Toy problem: retrieve infeasibility info from gurobi when solving QPs\n",
    "\n",
    "Consider the infeasible QP\n",
    "\\begin{align}\n",
    "\\min \\frac{1}{2} x_1^2\n",
    "\\quad\n",
    "\\text{subject to}\n",
    "\\quad\n",
    "x_0 \\geq 0,\n",
    "x_1 \\geq 0,\n",
    "x_0 + x_1 \\leq -1,\n",
    "\\end{align}\n",
    "and its unbounded dual\n",
    "\\begin{align}\n",
    "\\max - \\frac{1}{2} (p_1-q)^2 + q\n",
    "\\quad\n",
    "\\text{subject to}\n",
    "\\quad\n",
    "p_0 \\geq 0,\n",
    "p_1 \\geq 0,\n",
    "q \\geq 0,\n",
    "p_0 = q.\n",
    "\\end{align}\n",
    "\n",
    "How to retrieve from Gurobi the multipliers $(p_0, p_1, q) = (\\alpha, \\alpha, \\alpha)$ with $\\alpha > 0$ which prove unboundedness of the dual, and hence infeasibility of the primal?\n",
    "\n",
    "It seems that this info can be retrieved only in case of linear programs.\n",
    "However, the same multipliers that prove infeasibility of the LP also prove infeasibility of the QP.\n",
    "Hence it is sufficient to set to objective to zero and run the LP.\n",
    "\n",
    "Note that the dual of the LP\n",
    "\\begin{align}\n",
    "\\min 0\n",
    "\\quad\n",
    "\\text{subject to}\n",
    "\\quad\n",
    "x_0 \\geq 0,\n",
    "x_1 \\geq 0,\n",
    "x_0 + x_1 \\leq -1,\n",
    "\\end{align}\n",
    "is\n",
    "\\begin{align}\n",
    "\\max q\n",
    "\\quad\n",
    "\\text{subject to}\n",
    "\\quad\n",
    "p_0 \\geq 0,\n",
    "p_1 \\geq 0,\n",
    "q \\geq 0,\n",
    "p_0 = q,\n",
    "p_1 = q.\n",
    "\\end{align}"
   ]
  },
  {
   "cell_type": "code",
   "execution_count": 130,
   "metadata": {},
   "outputs": [],
   "source": [
    "import gurobipy as grb"
   ]
  },
  {
   "cell_type": "code",
   "execution_count": 140,
   "metadata": {},
   "outputs": [],
   "source": [
    "m = grb.Model()\n",
    "x = m.addVars(2, lb=[-grb.GRB.INFINITY]*2)\n",
    "m.setObjective(x[0] + x[1])\n",
    "\n",
    "# bounds are expressed as constraints otherwise we cannot get their multipliers out of the Farkas proof\n",
    "lb0 = m.addConstr(- x[0] <= 0., name='') # express the constraints with <= so that multipliers are positive\n",
    "lb1 = m.addConstr(- x[1] <= 0.)\n",
    "c = m.addConstr(x[0] + x[1] <= 1.)\n",
    "c_redundant = m.addConstr(- x[0] - x[1] <= 1.) # redundant"
   ]
  },
  {
   "cell_type": "code",
   "execution_count": 141,
   "metadata": {},
   "outputs": [
    {
     "name": "stdout",
     "output_type": "stream",
     "text": [
      "Changed value of parameter InfUnbdInfo to 1\n",
      "   Prev: 0  Min: 0  Max: 1  Default: 0\n",
      "Optimize a model with 4 rows, 2 columns and 6 nonzeros\n",
      "Coefficient statistics:\n",
      "  Matrix range     [1e+00, 1e+00]\n",
      "  Objective range  [1e+00, 1e+00]\n",
      "  Bounds range     [0e+00, 0e+00]\n",
      "  RHS range        [1e+00, 1e+00]\n",
      "Presolve removed 4 rows and 2 columns\n",
      "Presolve time: 0.02s\n",
      "Presolve: All rows and columns removed\n",
      "Iteration    Objective       Primal Inf.    Dual Inf.      Time\n",
      "       0    0.0000000e+00   0.000000e+00   0.000000e+00      0s\n",
      "\n",
      "Solved in 0 iterations and 0.02 seconds\n",
      "Optimal objective  0.000000000e+00\n"
     ]
    }
   ],
   "source": [
    "m.Params.InfUnbdInfo = 1 # to query the infeasibility proof (only LP)\n",
    "m.optimize()"
   ]
  },
  {
   "cell_type": "code",
   "execution_count": 142,
   "metadata": {},
   "outputs": [
    {
     "ename": "GurobiError",
     "evalue": "Unable to retrieve attribute 'FarkasDual'",
     "output_type": "error",
     "traceback": [
      "\u001b[0;31m---------------------------------------------------------------------------\u001b[0m",
      "\u001b[0;31mGurobiError\u001b[0m                               Traceback (most recent call last)",
      "\u001b[0;32m<ipython-input-142-dfd7d173267b>\u001b[0m in \u001b[0;36m<module>\u001b[0;34m()\u001b[0m\n\u001b[1;32m      1\u001b[0m \u001b[0;31m# retrieve duals which prove infeasibility for the LP\u001b[0m\u001b[0;34m\u001b[0m\u001b[0;34m\u001b[0m\u001b[0m\n\u001b[0;32m----> 2\u001b[0;31m \u001b[0;32mprint\u001b[0m \u001b[0mm\u001b[0m\u001b[0;34m.\u001b[0m\u001b[0mFarkasDual\u001b[0m\u001b[0;34m\u001b[0m\u001b[0m\n\u001b[0m",
      "\u001b[0;32mmodel.pxi\u001b[0m in \u001b[0;36mgurobipy.Model.__getattr__ (../../src/python/gurobipy.c:53450)\u001b[0;34m()\u001b[0m\n",
      "\u001b[0;32mmodel.pxi\u001b[0m in \u001b[0;36mgurobipy.Model.getAttr (../../src/python/gurobipy.c:69467)\u001b[0;34m()\u001b[0m\n",
      "\u001b[0;32mmodel.pxi\u001b[0m in \u001b[0;36mgurobipy.Model.__gettypedattrlist (../../src/python/gurobipy.c:107235)\u001b[0;34m()\u001b[0m\n",
      "\u001b[0;31mGurobiError\u001b[0m: Unable to retrieve attribute 'FarkasDual'"
     ]
    }
   ],
   "source": [
    "# retrieve duals which prove infeasibility for the LP\n",
    "print m.FarkasDual"
   ]
  },
  {
   "cell_type": "code",
   "execution_count": 143,
   "metadata": {},
   "outputs": [
    {
     "name": "stdout",
     "output_type": "stream",
     "text": [
      "[-1.0, -1.0, 0.0, 0.0]\n"
     ]
    }
   ],
   "source": [
    "# note that calling the duals directly gives garbage\n",
    "print [lb0.Pi, lb1.Pi, c.Pi, c_redundant.Pi]"
   ]
  },
  {
   "cell_type": "code",
   "execution_count": 121,
   "metadata": {},
   "outputs": [],
   "source": [
    "m.getConstrByName('')"
   ]
  },
  {
   "cell_type": "code",
   "execution_count": 122,
   "metadata": {},
   "outputs": [],
   "source": [
    "from collections import OrderedDict"
   ]
  },
  {
   "cell_type": "code",
   "execution_count": 123,
   "metadata": {},
   "outputs": [],
   "source": [
    "constraints = OrderedDict()"
   ]
  },
  {
   "cell_type": "code",
   "execution_count": 124,
   "metadata": {},
   "outputs": [],
   "source": [
    "constraints['gatto'] = 1"
   ]
  },
  {
   "cell_type": "code",
   "execution_count": 125,
   "metadata": {},
   "outputs": [
    {
     "data": {
      "text/plain": [
       "OrderedDict([('gatto', 1)])"
      ]
     },
     "execution_count": 125,
     "metadata": {},
     "output_type": "execute_result"
    }
   ],
   "source": [
    "constraints"
   ]
  },
  {
   "cell_type": "code",
   "execution_count": 126,
   "metadata": {},
   "outputs": [],
   "source": [
    "aaa = ('u', 22, 3)"
   ]
  },
  {
   "cell_type": "code",
   "execution_count": 96,
   "metadata": {},
   "outputs": [],
   "source": [
    "lb0.RHS = 22.\n",
    "m.update()"
   ]
  },
  {
   "cell_type": "code",
   "execution_count": 98,
   "metadata": {},
   "outputs": [
    {
     "data": {
      "text/plain": [
       "<gurobi.Constr R0>"
      ]
     },
     "execution_count": 98,
     "metadata": {},
     "output_type": "execute_result"
    }
   ],
   "source": [
    "lb0."
   ]
  },
  {
   "cell_type": "code",
   "execution_count": 102,
   "metadata": {},
   "outputs": [],
   "source": [
    "x = m.addVars(10, name='x')\n",
    "m.update()"
   ]
  },
  {
   "cell_type": "code",
   "execution_count": 110,
   "metadata": {},
   "outputs": [
    {
     "ename": "AttributeError",
     "evalue": "Unable to retrieve attribute 'Pi'",
     "output_type": "error",
     "traceback": [
      "\u001b[0;31m---------------------------------------------------------------------------\u001b[0m",
      "\u001b[0;31mAttributeError\u001b[0m                            Traceback (most recent call last)",
      "\u001b[0;32m<ipython-input-110-d96d8b5bcef8>\u001b[0m in \u001b[0;36m<module>\u001b[0;34m()\u001b[0m\n\u001b[0;32m----> 1\u001b[0;31m \u001b[0mlb0\u001b[0m\u001b[0;34m.\u001b[0m\u001b[0mPi\u001b[0m\u001b[0;34m\u001b[0m\u001b[0m\n\u001b[0m",
      "\u001b[0;32mconstr.pxi\u001b[0m in \u001b[0;36mgurobipy.Constr.__getattr__ (../../src/python/gurobipy.c:20786)\u001b[0;34m()\u001b[0m\n",
      "\u001b[0;32mconstr.pxi\u001b[0m in \u001b[0;36mgurobipy.Constr.getAttr (../../src/python/gurobipy.c:21586)\u001b[0;34m()\u001b[0m\n",
      "\u001b[0;31mAttributeError\u001b[0m: Unable to retrieve attribute 'Pi'"
     ]
    }
   ],
   "source": [
    "lb0.Pi"
   ]
  },
  {
   "cell_type": "code",
   "execution_count": null,
   "metadata": {},
   "outputs": [],
   "source": []
  }
 ],
 "metadata": {
  "kernelspec": {
   "display_name": "Python 2",
   "language": "python",
   "name": "python2"
  },
  "language_info": {
   "codemirror_mode": {
    "name": "ipython",
    "version": 2
   },
   "file_extension": ".py",
   "mimetype": "text/x-python",
   "name": "python",
   "nbconvert_exporter": "python",
   "pygments_lexer": "ipython2",
   "version": "2.7.15"
  }
 },
 "nbformat": 4,
 "nbformat_minor": 2
}
