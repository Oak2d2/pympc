{
 "cells": [
  {
   "cell_type": "code",
   "execution_count": 1,
   "metadata": {
    "collapsed": true
   },
   "outputs": [],
   "source": [
    "# notebook settings\n",
    "%load_ext autoreload\n",
    "%autoreload 2\n",
    "\n",
    "# external imports\n",
    "import numpy as np\n",
    "import sympy as sp\n",
    "import matplotlib.pyplot as plt\n",
    "from scipy.linalg import block_diag\n",
    "\n",
    "# internal imports\n",
    "from pympc.geometry.polyhedron import Polyhedron\n",
    "from pympc.dynamics.discrete_time_systems import LinearSystem, AffineSystem, PieceWiseAffineSystem\n",
    "from pympc.control.hybrid_benchmark.controllers import HybridModelPredictiveController\n",
    "from pympc.control.hybrid_benchmark.utils import feasible_mode_sequences\n",
    "from pympc.plot import plot_input_sequence, plot_state_trajectory"
   ]
  },
  {
   "cell_type": "code",
   "execution_count": 2,
   "metadata": {
    "collapsed": true
   },
   "outputs": [],
   "source": [
    "# numeric parameters\n",
    "m = 1.\n",
    "d = .5\n",
    "r = .1\n",
    "eps = .5\n",
    "h = .01\n",
    "x_max = np.array([d-r, 5.])\n",
    "x_min = - x_max\n",
    "u_max = np.array([5.])\n",
    "u_min = - u_max\n",
    "xu_max = np.concatenate((x_max, u_max))\n",
    "xu_min = np.concatenate((x_min, u_min))"
   ]
  },
  {
   "cell_type": "code",
   "execution_count": 3,
   "metadata": {
    "collapsed": true
   },
   "outputs": [],
   "source": [
    "# state and input symbolic\n",
    "q, v= sp.symbols('q v')\n",
    "x = sp.Matrix([q, v])\n",
    "f = sp.symbols('f')\n",
    "u = sp.Matrix([f])\n",
    "xu = x.col_join(u)"
   ]
  },
  {
   "cell_type": "code",
   "execution_count": 4,
   "metadata": {
    "collapsed": true
   },
   "outputs": [],
   "source": [
    "# mode 1: no contact\n",
    "v_next = v + h*f/m\n",
    "q_next = q + h*v\n",
    "x_next = sp.Matrix([q_next, v_next])\n",
    "S1 = LinearSystem.from_symbolic(x, u, x_next)\n",
    "D1 = Polyhedron.from_bounds(xu_min, xu_max)\n",
    "D1.add_symbolic_inequality(xu,sp.Matrix([q + v*h + - d + r,- q - v*h - d + r]))"
   ]
  },
  {
   "cell_type": "code",
   "execution_count": 5,
   "metadata": {
    "collapsed": true
   },
   "outputs": [],
   "source": [
    "# mode 2: contact with right wall\n",
    "x_next = sp.Matrix([q, -eps*v])\n",
    "S2 = AffineSystem.from_symbolic(x, u, x_next)\n",
    "D2 = Polyhedron.from_bounds(xu_min, xu_max)\n",
    "D2.add_symbolic_inequality(xu,sp.Matrix([- q - v*h + d - r]))"
   ]
  },
  {
   "cell_type": "code",
   "execution_count": 6,
   "metadata": {
    "collapsed": true
   },
   "outputs": [],
   "source": [
    "# mode 3: contact with left wall\n",
    "x_next = sp.Matrix([q, -eps*v])\n",
    "S3 = AffineSystem.from_symbolic(x, u, x_next)\n",
    "D3 = Polyhedron.from_bounds(xu_min, xu_max)\n",
    "D3.add_symbolic_inequality(xu,sp.Matrix([q + v*h + d - r]))"
   ]
  },
  {
   "cell_type": "code",
   "execution_count": 7,
   "metadata": {},
   "outputs": [
    {
     "name": "stdout",
     "output_type": "stream",
     "text": [
      "Is well posed? True\n"
     ]
    }
   ],
   "source": [
    "# piecewise affine system\n",
    "S = PieceWiseAffineSystem([S1, S2, S3], [D1, D2, D3])\n",
    "print 'Is well posed?', S.is_well_posed()"
   ]
  },
  {
   "cell_type": "markdown",
   "metadata": {},
   "source": [
    "# Simulation"
   ]
  },
  {
   "cell_type": "code",
   "execution_count": 8,
   "metadata": {},
   "outputs": [
    {
     "data": {
      "image/png": "[encoded data removed]",
      "text/plain": [
       "<matplotlib.figure.Figure at 0x7f98e0bc6c90>"
      ]
     },
     "metadata": {},
     "output_type": "display_data"
    }
   ],
   "source": [
    "# push to the right wall with u=u_max\n",
    "N_sim = 200\n",
    "x0 = np.array([0., 0.])\n",
    "x_sim, ms_sim = S.simulate(x0, [u_max]*N_sim)\n",
    "plot_state_trajectory(x_sim, h, [x_min, x_max])"
   ]
  },
  {
   "cell_type": "code",
   "execution_count": 9,
   "metadata": {},
   "outputs": [
    {
     "data": {
      "image/png": "[encoded data removed]",
      "text/plain": [
       "<matplotlib.figure.Figure at 0x7f98e0bc6b50>"
      ]
     },
     "metadata": {},
     "output_type": "display_data"
    }
   ],
   "source": [
    "# push to the left wall with u=u_min\n",
    "x_sim, ms_sim = S.simulate(x0, [u_min]*N_sim)\n",
    "plot_state_trajectory(x_sim, h, [x_min, x_max])"
   ]
  },
  {
   "cell_type": "markdown",
   "metadata": {},
   "source": [
    "# Solve MIQP with my branch and bound code"
   ]
  },
  {
   "cell_type": "code",
   "execution_count": 49,
   "metadata": {},
   "outputs": [],
   "source": [
    "# controller parameters\n",
    "N = 60\n",
    "Q = np.eye(S.nx)\n",
    "R = np.eye(S.nu)\n",
    "\n",
    "# terminal set and cost\n",
    "X_N = Polyhedron.from_bounds(*[np.zeros(S.nx)]*2)\n",
    "P = np.zeros([S.nx]*2)\n",
    "\n",
    "# hybrid MPC controller\n",
    "method = 'CH'\n",
    "norm = 'two'\n",
    "controller = HybridModelPredictiveController(S, N, Q, R, P, X_N, method, norm)\n",
    "\n",
    "# initial conditions\n",
    "x0 = np.array([0., 2.])"
   ]
  },
  {
   "cell_type": "code",
   "execution_count": 50,
   "metadata": {},
   "outputs": [
    {
     "name": "stdout",
     "output_type": "stream",
     "text": [
      "|     Updates    |     Time (s)   |    Nodes (#)   |   Lower bound  |   Upper bound  |\n",
      " ---------------- ---------------- ---------------- ---------------- ----------------\n",
      "  Root node        0.030            1                -inf             inf             \n",
      "  New incumbent    3.355            523              76.677           inf             \n",
      "  New incumbent    5.375            862              128.834          490.269         \n",
      "  Solution found   10.335           1738             408.433          418.286         \n",
      "\n",
      "Explored 1738 nodes in 10.335 seconds: feasible solution found with objective 418.286.\n",
      "The best lower bound is 408.433 (tolerance set to 10.000).\n"
     ]
    }
   ],
   "source": [
    "from pympc.control.hybrid_benchmark.branch_and_bound import branch_and_bound, best_first\n",
    "def solver(identifier, objective_cutoff):\n",
    "    return controller.solve_relaxation(x0, identifier, objective_cutoff)\n",
    "controller = HybridModelPredictiveController(S, N, Q, R, P, X_N, method, norm)\n",
    "sol = branch_and_bound(solver, best_first, controller.explore_in_chronological_order, tol=10.)"
   ]
  },
  {
   "cell_type": "code",
   "execution_count": 48,
   "metadata": {},
   "outputs": [
    {
     "data": {
      "image/png": "[encoded data removed]",
      "text/plain": [
       "<Figure size 432x288 with 2 Axes>"
      ]
     },
     "metadata": {},
     "output_type": "display_data"
    }
   ],
   "source": [
    "plot_state_trajectory(sol['state'], h, [x_min, x_max])"
   ]
  },
  {
   "cell_type": "code",
   "execution_count": null,
   "metadata": {
    "collapsed": true
   },
   "outputs": [],
   "source": []
  }
 ],
 "metadata": {
  "kernelspec": {
   "display_name": "Python 2",
   "language": "python",
   "name": "python2"
  },
  "language_info": {
   "codemirror_mode": {
    "name": "ipython",
    "version": 2
   },
   "file_extension": ".py",
   "mimetype": "text/x-python",
   "name": "python",
   "nbconvert_exporter": "python",
   "pygments_lexer": "ipython2",
   "version": "2.7.15"
  }
 },
 "nbformat": 4,
 "nbformat_minor": 2
}
