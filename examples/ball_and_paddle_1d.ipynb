{
 "cells": [
  {
   "cell_type": "code",
   "execution_count": 1,
   "metadata": {},
   "outputs": [],
   "source": [
    "# notebook settings\n",
    "%load_ext autoreload\n",
    "%autoreload 2\n",
    "\n",
    "# external imports\n",
    "import numpy as np\n",
    "import sympy as sp\n",
    "import matplotlib.pyplot as plt\n",
    "from copy import copy\n",
    "\n",
    "# internal imports\n",
    "from pympc.geometry.polyhedron import Polyhedron\n",
    "from pympc.dynamics.discrete_time_systems import AffineSystem, PieceWiseAffineSystem\n",
    "from pympc.control.hybrid_benchmark.controllers import HybridModelPredictiveController"
   ]
  },
  {
   "cell_type": "markdown",
   "metadata": {},
   "source": [
    "# Problem set-up"
   ]
  },
  {
   "cell_type": "code",
   "execution_count": 2,
   "metadata": {},
   "outputs": [],
   "source": [
    "# numeric parameters of the system\n",
    "m = 1.\n",
    "k = 100.\n",
    "b = 5.\n",
    "g = 10.\n",
    "h = .02"
   ]
  },
  {
   "cell_type": "code",
   "execution_count": 3,
   "metadata": {},
   "outputs": [],
   "source": [
    "# symbolic state\n",
    "yb, yp, ydb = sp.symbols('yb yp ydb')\n",
    "x = sp.Matrix([yb, yp, ydb])\n",
    "\n",
    "# symbolic input\n",
    "ydp = sp.symbols('ydp')\n",
    "u = sp.Matrix([ydp])\n",
    "\n",
    "# contact force\n",
    "f = sp.symbols('f')\n",
    "\n",
    "# dynamics\n",
    "x_next = sp.Matrix([ydb, ydp, f/m - g])\n",
    "\n",
    "# gap function\n",
    "gap = sp.Matrix([yb - yp - m*g/k])\n",
    "gap_dot = sp.Matrix([ydb - ydp])\n",
    "\n",
    "# nominal force\n",
    "f_nom = - k*gap - b*gap_dot"
   ]
  },
  {
   "cell_type": "code",
   "execution_count": 4,
   "metadata": {},
   "outputs": [],
   "source": [
    "# discretization method\n",
    "method = 'zero_order_hold'\n",
    "\n",
    "# state bounds\n",
    "x_max = np.array([1., .1, 4.])\n",
    "x_min = np.array([-.3, -.1, -4.])\n",
    "f_max = 4.*m*g\n",
    "\n",
    "# input bounds\n",
    "u_max = np.array([.3])\n",
    "u_min = - u_max\n",
    "\n",
    "# domain bounds\n",
    "xu = x.col_join(u)\n",
    "xu_min = np.concatenate((x_min, u_min))\n",
    "xu_max = np.concatenate((x_max, u_max))"
   ]
  },
  {
   "cell_type": "code",
   "execution_count": 5,
   "metadata": {},
   "outputs": [],
   "source": [
    "# dynamics n.1 (ball in the air)\n",
    "f1 = 0.\n",
    "S1 = AffineSystem.from_symbolic_continuous(x, u, x_next.subs(f, f1), h, method)\n",
    "\n",
    "# domain n.1\n",
    "D1 = Polyhedron.from_bounds(xu_min, xu_max)\n",
    "D1.add_symbolic_inequality(xu, -gap)\n",
    "assert D1.bounded\n",
    "assert not D1.empty"
   ]
  },
  {
   "cell_type": "code",
   "execution_count": 6,
   "metadata": {},
   "outputs": [],
   "source": [
    "# dynamics n.2 (paddle pulling ball)\n",
    "S2 = copy(S1)\n",
    "\n",
    "# domain n.2\n",
    "D2 = Polyhedron.from_bounds(xu_min, xu_max)\n",
    "D2.add_symbolic_inequality(xu, gap)\n",
    "D2.add_symbolic_inequality(xu, f_nom)\n",
    "assert D2.bounded\n",
    "assert not D2.empty"
   ]
  },
  {
   "cell_type": "code",
   "execution_count": 7,
   "metadata": {},
   "outputs": [],
   "source": [
    "# dynamics n.3 (paddle pushing ball)\n",
    "S3 = AffineSystem.from_symbolic_continuous(x, u, x_next.subs(f, f_nom[0]), h, method)\n",
    "\n",
    "# domain n.3\n",
    "D3 = Polyhedron.from_bounds(xu_min, xu_max)\n",
    "D3.add_symbolic_inequality(xu, gap)\n",
    "D3.add_symbolic_inequality(xu, - f_nom)\n",
    "D3.add_inequality( # maximum force < 5 m g\n",
    "    np.array([[-k, k, -b, b]]),\n",
    "    np.array([f_max - m*g])\n",
    ")\n",
    "assert D3.bounded\n",
    "assert not D3.empty\n"
   ]
  },
  {
   "cell_type": "code",
   "execution_count": 8,
   "metadata": {},
   "outputs": [],
   "source": [
    "# list of dynamics\n",
    "S_list = [S1, S2, S3]\n",
    "\n",
    "# list of domains\n",
    "D_list = [D1, D2, D3]"
   ]
  },
  {
   "cell_type": "code",
   "execution_count": 9,
   "metadata": {},
   "outputs": [],
   "source": [
    "# PWA system\n",
    "S = PieceWiseAffineSystem(S_list, D_list)\n",
    "\n",
    "# controller parameters\n",
    "N = 80\n",
    "Q = np.diag([5.,50.,.1])*h\n",
    "R = np.diag([10.])*h\n",
    "\n",
    "# terminal set and cost\n",
    "P = Q\n",
    "X_N = Polyhedron.from_bounds(*[np.zeros(3)]*2)"
   ]
  },
  {
   "cell_type": "code",
   "execution_count": 10,
   "metadata": {},
   "outputs": [
    {
     "name": "stdout",
     "output_type": "stream",
     "text": [
      "Academic license - for non-commercial use only\n",
      "Parameter OutputFlag unchanged\n",
      "   Value: 1  Min: 0  Max: 1  Default: 1\n",
      "Optimize a model with 3778 rows, 2243 columns and 10898 nonzeros\n",
      "Model has 323 quadratic objective terms\n",
      "Variable types: 2003 continuous, 240 integer (240 binary)\n",
      "Coefficient statistics:\n",
      "  Matrix range     [1e-03, 1e+02]\n",
      "  Objective range  [0e+00, 0e+00]\n",
      "  QObjective range [2e-03, 1e+00]\n",
      "  Bounds range     [1e+00, 1e+00]\n",
      "  RHS range        [1e+00, 1e+00]\n",
      "Presolve removed 2291 rows and 1399 columns\n",
      "Presolve time: 0.04s\n",
      "Presolved: 1487 rows, 844 columns, 4735 nonzeros\n",
      "Presolved model has 276 quadratic objective terms\n",
      "Variable types: 732 continuous, 112 integer (112 binary)\n",
      "\n",
      "Root relaxation: objective 1.088370e+00, 2740 iterations, 0.09 seconds\n",
      "\n",
      "    Nodes    |    Current Node    |     Objective Bounds      |     Work\n",
      " Expl Unexpl |  Obj  Depth IntInf | Incumbent    BestBd   Gap | It/Node Time\n",
      "\n",
      "     0     0    1.08914    0   96          -    1.08914      -     -    0s\n",
      "H    0     0                       1.1273432    1.08914  3.39%     -    0s\n",
      "H    0     0                       1.1222117    1.08914  2.95%     -    0s\n",
      "     0     0    1.09056    0   94    1.12221    1.09056  2.82%     -    0s\n",
      "     0     0    1.09056    0   94    1.12221    1.09056  2.82%     -    0s\n",
      "     0     0    1.09056    0   94    1.12221    1.09056  2.82%     -    0s\n",
      "     0     0    1.09056    0   94    1.12221    1.09056  2.82%     -    0s\n",
      "     0     2    1.09056    0   94    1.12221    1.09056  2.82%     -    0s\n",
      "*  618   361              63       1.1206659    1.09531  2.26%  65.0    2s\n",
      "*  639   350              61       1.1185015    1.09531  2.07%  64.6    2s\n",
      "*  796   428              61       1.1175196    1.09531  1.99%  62.6    2s\n",
      "*  855   436              63       1.1169370    1.09531  1.94%  60.2    2s\n",
      "*  856   432              63       1.1166649    1.09531  1.91%  60.1    2s\n",
      "  1497   758    1.09547   12   93    1.11666    1.09547  1.90%  70.8    5s\n",
      "  3340  1151    1.09958   49   28    1.11666    1.09547  1.90%  76.1   10s\n",
      "  5701  1432 infeasible   42         1.11666    1.09560  1.89%  88.2   15s\n",
      "  7686  1500    1.09581   48   36    1.11666    1.09581  1.87%   102   20s\n",
      " 11125  1805    1.10676   45   28    1.11666    1.09634  1.82%   111   25s\n",
      " 13768  2163    1.10710   36   62    1.11666    1.09675  1.78%   113   30s\n",
      " 17321  2556     cutoff   27         1.11666    1.09737  1.73%   119   35s\n",
      " 20552  2721     cutoff   31         1.11666    1.09806  1.67%   122   41s\n",
      " 22819  2915     cutoff   44         1.11666    1.09937  1.55%   124   45s\n",
      " 25352  2873    1.10051   29   73    1.11666    1.09999  1.49%   125   50s\n",
      " 29254  2963    1.11181   41   53    1.11666    1.10075  1.43%   127   56s\n",
      " 31466  2999    1.10332   53   23    1.11666    1.10081  1.42%   128   60s\n",
      " 32465  3144     cutoff   33         1.11666    1.10137  1.37%   129   65s\n",
      " 34623  2861    1.10178   36   68    1.11666    1.10174  1.34%   130   71s\n",
      " 36906  2937 infeasible   37         1.11666    1.10231  1.29%   130   75s\n",
      " 40183  3087 infeasible   34         1.11666    1.10351  1.18%   132   80s\n",
      " 43248  2997    1.10452   44   47    1.11666    1.10442  1.10%   133   85s\n",
      " 45880  2758     cutoff   38         1.11666    1.10570  0.98%   133   91s\n",
      " 48152  2344     cutoff   34         1.11666    1.10709  0.86%   134   95s\n",
      " 50990  2169  postponed   39         1.11666    1.10762  0.81%   135  101s\n",
      " 53411  1813     cutoff   41         1.11666    1.10839  0.74%   135  105s\n",
      " 55469  1354 infeasible   37         1.11666    1.11039  0.56%   137  110s\n",
      " 57566   868    1.11401   39   60    1.11666    1.11137  0.47%   137  115s\n",
      " 60138   208    1.11333   39   51    1.11666    1.11333  0.30%   139  120s\n",
      "\n",
      "Cutting planes:\n",
      "  Implied bound: 3\n",
      "  MIR: 1\n",
      "  Flow cover: 5\n",
      "\n",
      "Explored 61353 nodes (8536189 simplex iterations) in 122.10 seconds\n",
      "Thread count was 12 (of 12 available processors)\n",
      "\n",
      "Solution count 7: 1.11666 1.11694 1.11752 ... 1.12734\n",
      "\n",
      "Optimal solution found (tolerance 1.00e-04)\n",
      "Best objective 1.116664862947e+00, best bound 1.116664862947e+00, gap 0.0000%\n"
     ]
    }
   ],
   "source": [
    "# initial condition\n",
    "x0 = np.array([1., .0, .0])\n",
    "\n",
    "# MI formulations\n",
    "method = 'CH'\n",
    "norm = 'two'\n",
    "controller = HybridModelPredictiveController(S, N, Q, R, P, X_N, method, norm)\n",
    "u_mip, x_mip, ms_mip, cost_mip = controller.feedforward(x0)"
   ]
  },
  {
   "cell_type": "code",
   "execution_count": 11,
   "metadata": {},
   "outputs": [
    {
     "data": {
      "image/png": "[encoded data removed]",
      "text/plain": [
       "<matplotlib.figure.Figure at 0x7f5f3551cbd0>"
      ]
     },
     "metadata": {},
     "output_type": "display_data"
    }
   ],
   "source": [
    "# plot state trajectory\n",
    "time = range(N+1)\n",
    "fig, ax1 = plt.subplots()\n",
    "ax1.set_xlabel(r'$t$')\n",
    "ax1.grid(True)\n",
    "\n",
    "# position of the ball and the paddle (x1 and x3)\n",
    "x1_plot = ax1.plot(time, [x_t[0] for x_t in x_mip], 'b-', label=r'$x_1$', linewidth=3)\n",
    "x2_plot = ax1.plot(time, [x_t[1] for x_t in x_mip], 'b-.', label=r'$x_2$', linewidth=3)\n",
    "x12_lim = max([-x_min[0], x_max[0], -x_min[1], x_max[1]])\n",
    "ax1.set_ylim([-x12_lim, x12_lim])\n",
    "ax1.set_ylabel(r'$x_1, x_2$', color='b')\n",
    "ax1.tick_params('y', colors='b')\n",
    "plt.legend()\n",
    "\n",
    "# velocity of the ball (x2)\n",
    "ax2 = ax1.twinx()\n",
    "x3_plot = ax2.plot(time, [x_t[2] for x_t in x_mip], 'r--', label=r'$x_3$', linewidth=3)\n",
    "x3_lim = max([-x_min[2],x_max[2]])\n",
    "ax2.set_ylim([-x3_lim, x3_lim])\n",
    "ax2.set_ylabel(r'$x_3$', color='r')\n",
    "ax2.tick_params('y', colors='r')\n",
    "\n",
    "# plot\n",
    "x_plot = x1_plot + x2_plot + x3_plot\n",
    "labels = [xi_plot.get_label() for xi_plot in x_plot]\n",
    "ax1.set_xlim([0,N])\n",
    "ax1.legend(x_plot, labels)\n",
    "plt.show()"
   ]
  },
  {
   "cell_type": "code",
   "execution_count": 12,
   "metadata": {},
   "outputs": [
    {
     "data": {
      "image/png": "[encoded data removed]",
      "text/plain": [
       "<matplotlib.figure.Figure at 0x7f5f35287910>"
      ]
     },
     "metadata": {},
     "output_type": "display_data"
    }
   ],
   "source": [
    "# plot input sequence and contact force\n",
    "f = [max(k*(x_mip[t][1]-x_mip[t][0]) + b*(u_mip[t][0]-x_mip[t][2]) + m*g, 0.) for t in range(N)]\n",
    "fig, ax1 = plt.subplots()\n",
    "ax1.set_xlabel(r'$t$')\n",
    "ax1.grid(True)\n",
    "\n",
    "# input\n",
    "u_plot = ax1.step(time, [u_mip[0][0]] + [u_t[0] for u_t in u_mip], 'b', linestyle='-', label=r'$u$', linewidth=3)\n",
    "u_lim = max([-u_min[0], u_max[0]])\n",
    "ax1.set_ylim([-u_lim, u_lim])\n",
    "ax1.set_ylabel(r'$u$', color='b')\n",
    "ax1.tick_params('y', colors='b')\n",
    "plt.legend()\n",
    "\n",
    "# force\n",
    "ax2 = ax1.twinx()\n",
    "f_plot = ax2.step(time, [f[0]] + [f_t for f_t in f], 'r', linestyle='-.', label=r'$f \\ (x,u)$', linewidth=3)\n",
    "ax2.set_ylim([0, f_max])\n",
    "ax2.set_ylabel(r'$f \\ (x,u)$', color='r')\n",
    "ax2.tick_params('y', colors='r')\n",
    "\n",
    "# plot\n",
    "fu_plot = u_plot + f_plot\n",
    "labels = [fui_plot.get_label() for fui_plot in fu_plot]\n",
    "ax1.set_xlim([0,N])\n",
    "ax1.legend(fu_plot, labels)\n",
    "plt.show()"
   ]
  }
 ],
 "metadata": {
  "kernelspec": {
   "display_name": "Python 2",
   "language": "python",
   "name": "python2"
  },
  "language_info": {
   "codemirror_mode": {
    "name": "ipython",
    "version": 2
   },
   "file_extension": ".py",
   "mimetype": "text/x-python",
   "name": "python",
   "nbconvert_exporter": "python",
   "pygments_lexer": "ipython2",
   "version": "2.7.12"
  }
 },
 "nbformat": 4,
 "nbformat_minor": 2
}
