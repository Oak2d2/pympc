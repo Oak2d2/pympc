{
 "cells": [
  {
   "cell_type": "code",
   "execution_count": 36,
   "metadata": {},
   "outputs": [
    {
     "name": "stdout",
     "output_type": "stream",
     "text": [
      "The autoreload extension is already loaded. To reload it, use:\n",
      "  %reload_ext autoreload\n"
     ]
    }
   ],
   "source": [
    "# notebook settings\n",
    "%load_ext autoreload\n",
    "%autoreload 2\n",
    "\n",
    "# external imports\n",
    "import numpy as np\n",
    "import sympy as sp\n",
    "import matplotlib.pyplot as plt\n",
    "from copy import copy\n",
    "\n",
    "# internal imports\n",
    "from pympc.geometry.polyhedron import Polyhedron\n",
    "from pympc.dynamics.discrete_time_systems import AffineSystem, PieceWiseAffineSystem\n",
    "from pympc.control.hybrid_benchmark.controllers import HybridModelPredictiveController\n",
    "#Test\n",
    "from pympc.control.hybrid_benchmark.build_mip_mld import bigm_dynamics"
   ]
  },
  {
   "cell_type": "markdown",
   "metadata": {},
   "source": [
    "# Problem set-up"
   ]
  },
  {
   "cell_type": "code",
   "execution_count": 2,
   "metadata": {},
   "outputs": [],
   "source": [
    "# numeric parameters of the system\n",
    "m = 1.\n",
    "k = 100.\n",
    "b = 5.\n",
    "g = 10.\n",
    "h = .02"
   ]
  },
  {
   "cell_type": "code",
   "execution_count": 3,
   "metadata": {},
   "outputs": [],
   "source": [
    "# symbolic state\n",
    "yb, yp, ydb = sp.symbols('yb yp ydb')\n",
    "x = sp.Matrix([yb, yp, ydb])\n",
    "\n",
    "# symbolic input\n",
    "ydp = sp.symbols('ydp')\n",
    "u = sp.Matrix([ydp])\n",
    "\n",
    "# contact force\n",
    "f = sp.symbols('f')\n",
    "\n",
    "# dynamics\n",
    "x_next = sp.Matrix([ydb, ydp, f/m - g])\n",
    "\n",
    "# gap function\n",
    "gap = sp.Matrix([yb - yp - m*g/k])\n",
    "gap_dot = sp.Matrix([ydb - ydp])\n",
    "\n",
    "# nominal force\n",
    "f_nom = - k*gap - b*gap_dot"
   ]
  },
  {
   "cell_type": "code",
   "execution_count": 4,
   "metadata": {},
   "outputs": [],
   "source": [
    "# discretization method\n",
    "method = 'zero_order_hold'\n",
    "\n",
    "# state bounds\n",
    "x_max = np.array([1., .1, 4.])\n",
    "x_min = np.array([-.3, -.1, -4.])\n",
    "f_max = 4.*m*g\n",
    "\n",
    "# input bounds\n",
    "u_max = np.array([.3])\n",
    "u_min = - u_max\n",
    "\n",
    "# domain bounds\n",
    "xu = x.col_join(u)\n",
    "xu_min = np.concatenate((x_min, u_min))\n",
    "xu_max = np.concatenate((x_max, u_max))"
   ]
  },
  {
   "cell_type": "code",
   "execution_count": 5,
   "metadata": {},
   "outputs": [],
   "source": [
    "# dynamics n.1 (ball in the air)\n",
    "f1 = 0.\n",
    "S1 = AffineSystem.from_symbolic_continuous(x, u, x_next.subs(f, f1), h, method)\n",
    "\n",
    "# domain n.1\n",
    "D1 = Polyhedron.from_bounds(xu_min, xu_max)\n",
    "D1.add_symbolic_inequality(xu, -gap)\n",
    "assert D1.bounded\n",
    "assert not D1.empty"
   ]
  },
  {
   "cell_type": "code",
   "execution_count": 6,
   "metadata": {},
   "outputs": [],
   "source": [
    "# dynamics n.2 (paddle pulling ball)\n",
    "S2 = copy(S1)\n",
    "\n",
    "# domain n.2\n",
    "D2 = Polyhedron.from_bounds(xu_min, xu_max)\n",
    "D2.add_symbolic_inequality(xu, gap)\n",
    "D2.add_symbolic_inequality(xu, f_nom)\n",
    "assert D2.bounded\n",
    "assert not D2.empty"
   ]
  },
  {
   "cell_type": "code",
   "execution_count": 7,
   "metadata": {},
   "outputs": [],
   "source": [
    "# dynamics n.3 (paddle pushing ball)\n",
    "S3 = AffineSystem.from_symbolic_continuous(x, u, x_next.subs(f, f_nom[0]), h, method)\n",
    "\n",
    "# domain n.3\n",
    "D3 = Polyhedron.from_bounds(xu_min, xu_max)\n",
    "D3.add_symbolic_inequality(xu, gap)\n",
    "D3.add_symbolic_inequality(xu, - f_nom)\n",
    "D3.add_inequality( # maximum force < 5 m g\n",
    "    np.array([[-k, k, -b, b]]),\n",
    "    np.array([f_max - m*g])\n",
    ")\n",
    "assert D3.bounded\n",
    "assert not D3.empty\n"
   ]
  },
  {
   "cell_type": "code",
   "execution_count": 8,
   "metadata": {},
   "outputs": [],
   "source": [
    "# list of dynamics\n",
    "S_list = [S1, S2, S3]\n",
    "\n",
    "# list of domains\n",
    "D_list = [D1, D2, D3]"
   ]
  },
  {
   "cell_type": "code",
   "execution_count": 28,
   "metadata": {},
   "outputs": [],
   "source": [
    "# PWA system\n",
    "S = PieceWiseAffineSystem(S_list, D_list)\n",
    "\n",
    "# controller parameters\n",
    "N = 80\n",
    "Q = np.diag([5.,50.,.1])*h\n",
    "R = np.diag([10.])*h\n",
    "\n",
    "# terminal set and cost\n",
    "P = Q\n",
    "X_N = Polyhedron.from_bounds(*[np.zeros(3)]*2)"
   ]
  },
  {
   "cell_type": "code",
   "execution_count": 45,
   "metadata": {},
   "outputs": [
    {
     "ename": "TypeError",
     "evalue": "can only concatenate list (not \"int\") to list",
     "output_type": "error",
     "traceback": [
      "\u001b[1;31m---------------------------------------------------------------------------\u001b[0m",
      "\u001b[1;31mTypeError\u001b[0m                                 Traceback (most recent call last)",
      "\u001b[1;32m<ipython-input-45-a8ed4648af06>\u001b[0m in \u001b[0;36m<module>\u001b[1;34m\u001b[0m\n\u001b[1;32m----> 1\u001b[1;33m \u001b[0mM1\u001b[0m\u001b[1;33m,\u001b[0m\u001b[0mM2\u001b[0m\u001b[1;33m=\u001b[0m\u001b[0mbigm_dynamics\u001b[0m\u001b[1;33m(\u001b[0m\u001b[0mS\u001b[0m\u001b[1;33m)\u001b[0m\u001b[1;33m\u001b[0m\u001b[1;33m\u001b[0m\u001b[0m\n\u001b[0m",
      "\u001b[1;32mc:\\users\\user\\github\\pympc\\pympc\\control\\hybrid_benchmark\\build_mip_mld.py\u001b[0m in \u001b[0;36mbigm_dynamics\u001b[1;34m(S)\u001b[0m\n\u001b[0;32m    115\u001b[0m         \u001b[0mM2\u001b[0m \u001b[1;33m=\u001b[0m \u001b[0mnp\u001b[0m\u001b[1;33m.\u001b[0m\u001b[0mminimum\u001b[0m\u001b[1;33m.\u001b[0m\u001b[0mreduce\u001b[0m\u001b[1;33m(\u001b[0m\u001b[1;33m[\u001b[0m\u001b[0mM2\u001b[0m\u001b[1;33m,\u001b[0m \u001b[0mnp\u001b[0m\u001b[1;33m.\u001b[0m\u001b[0marray\u001b[0m\u001b[1;33m(\u001b[0m\u001b[0mM1_i\u001b[0m\u001b[1;33m)\u001b[0m\u001b[1;33m]\u001b[0m\u001b[1;33m)\u001b[0m\u001b[1;33m\u001b[0m\u001b[1;33m\u001b[0m\u001b[0m\n\u001b[0;32m    116\u001b[0m \u001b[1;33m\u001b[0m\u001b[0m\n\u001b[1;32m--> 117\u001b[1;33m     \u001b[1;32mreturn\u001b[0m \u001b[0mM1_ij\u001b[0m\u001b[1;33m+\u001b[0m\u001b[1;36m1\u001b[0m\u001b[1;33m,\u001b[0m \u001b[0mM2_ij\u001b[0m\u001b[1;33m\u001b[0m\u001b[1;33m\u001b[0m\u001b[0m\n\u001b[0m\u001b[0;32m    118\u001b[0m \u001b[1;33m\u001b[0m\u001b[0m\n\u001b[0;32m    119\u001b[0m \u001b[1;32mdef\u001b[0m \u001b[0mbigm_domains\u001b[0m\u001b[1;33m(\u001b[0m\u001b[0mS\u001b[0m\u001b[1;33m)\u001b[0m\u001b[1;33m:\u001b[0m\u001b[1;33m\u001b[0m\u001b[1;33m\u001b[0m\u001b[0m\n",
      "\u001b[1;31mTypeError\u001b[0m: can only concatenate list (not \"int\") to list"
     ]
    }
   ],
   "source": [
    "M1,M2=bigm_dynamics(S)"
   ]
  },
  {
   "cell_type": "code",
   "execution_count": 44,
   "metadata": {},
   "outputs": [
    {
     "name": "stdout",
     "output_type": "stream",
     "text": [
      "[0.2040714308160405, 0.10600000000000218, 4.335119952677512]\n",
      "[-0.3399546767468708, -0.10599999999999898, -3.767942725955677]\n"
     ]
    }
   ],
   "source": [
    "print(M1)\n",
    "print(M2)"
   ]
  },
  {
   "cell_type": "code",
   "execution_count": 47,
   "metadata": {},
   "outputs": [
    {
     "name": "stdout",
     "output_type": "stream",
     "text": [
      "Discarded solution information\n",
      "Parameter OutputFlag unchanged\n",
      "   Value: 1  Min: 0  Max: 1  Default: 1\n",
      "Gurobi Optimizer version 9.1.1 build v9.1.1rc0 (win64)\n",
      "Thread count: 2 physical cores, 4 logical processors, using up to 4 threads\n",
      "Optimize a model with 3308 rows, 1963 columns and 9538 nonzeros\n",
      "Model fingerprint: 0x10c50e5d\n",
      "Model has 283 quadratic objective terms\n",
      "Variable types: 1753 continuous, 210 integer (210 binary)\n",
      "Coefficient statistics:\n",
      "  Matrix range     [1e-03, 1e+02]\n",
      "  Objective range  [0e+00, 0e+00]\n",
      "  QObjective range [2e-03, 1e+00]\n",
      "  Bounds range     [1e+00, 1e+00]\n",
      "  RHS range        [1e+00, 1e+00]\n",
      "Presolve removed 2213 rows and 1348 columns\n",
      "Presolve time: 0.06s\n",
      "Presolved: 1095 rows, 615 columns, 3509 nonzeros\n",
      "Presolved model has 197 quadratic objective terms\n",
      "Variable types: 533 continuous, 82 integer (82 binary)\n",
      "\n",
      "Root relaxation: objective 1.089791e+00, 2299 iterations, 0.08 seconds\n",
      "\n",
      "    Nodes    |    Current Node    |     Objective Bounds      |     Work\n",
      " Expl Unexpl |  Obj  Depth IntInf | Incumbent    BestBd   Gap | It/Node Time\n",
      "\n",
      "     0     0    1.09048    0   74          -    1.09048      -     -    0s\n",
      "H    0     0                       1.1504956    1.09048  5.22%     -    0s\n",
      "     0     0    1.09188    0   72    1.15050    1.09188  5.10%     -    0s\n",
      "     0     0    1.09192    0   75    1.15050    1.09192  5.09%     -    0s\n",
      "     0     0    1.09207    0   73    1.15050    1.09207  5.08%     -    0s\n",
      "     0     0    1.09207    0   73    1.15050    1.09207  5.08%     -    0s\n",
      "     0     0    1.09208    0   73    1.15050    1.09208  5.08%     -    0s\n",
      "     0     0    1.09208    0   73    1.15050    1.09208  5.08%     -    0s\n",
      "     0     0    1.09209    0   73    1.15050    1.09209  5.08%     -    0s\n",
      "     0     0    1.09219    0   69    1.15050    1.09219  5.07%     -    0s\n",
      "     0     2    1.09228    0   69    1.15050    1.09228  5.06%     -    1s\n",
      "*  126    68              44       1.1472284    1.09366  4.67%  66.4    1s\n",
      "*  675   284              43       1.1455792    1.09673  4.26%  69.7    4s\n",
      "   752   328    1.12405   31   21    1.14558    1.09701  4.24%  70.1    5s\n",
      "* 1057   466              44       1.1454259    1.09764  4.17%  67.7    6s\n",
      "* 1093   464              47       1.1448364    1.09764  4.12%  66.5    6s\n",
      "H 1113   457                       1.1432096    1.09765  3.98%  68.1    6s\n",
      "H 1149   448                       1.1429680    1.09775  3.96%  71.6    6s\n",
      "H 1154   448                       1.1428510    1.09778  3.94%  72.3    6s\n",
      "H 1233   455                       1.1427949    1.09791  3.93%  75.0    7s\n",
      "H 1264   454                       1.1427947    1.09801  3.92%  76.6    7s\n",
      "H 1275   454                       1.1427929    1.09808  3.91%  76.6    7s\n",
      "H 1305   446                       1.1427919    1.09822  3.90%  79.5    8s\n",
      "H 1331   446                       1.1427855    1.09822  3.90%  78.8    8s\n",
      "H 1363   436                       1.1427435    1.09845  3.88%  81.4    8s\n",
      "H 1389   454                       1.1427434    1.09848  3.87%  81.1    8s\n",
      "H 1428   454                       1.1427434    1.09870  3.85%  80.3    8s\n",
      "H 1474   481                       1.1427434    1.09889  3.84%  79.6    9s\n",
      "* 1477   458              45       1.1403575    1.09889  3.64%  79.4    9s\n",
      "H 1509   475                       1.1398580    1.09889  3.59%  78.4    9s\n",
      "  1629   510 infeasible   25         1.13986    1.09893  3.59%  77.6   10s\n",
      "* 1820   538              44       1.1397875    1.09958  3.53%  79.7   11s\n",
      "  2265   517 infeasible   24         1.13979    1.10090  3.41%  88.0   15s\n",
      "  2732   464    1.13522   38   10    1.13979    1.10421  3.12%  96.3   20s\n",
      "  3269   364    1.12583   32   11    1.13979    1.10811  2.78%   103   25s\n",
      "  3943    38     cutoff   39         1.13979    1.12617  1.19%   101   30s\n",
      "\n",
      "Cutting planes:\n",
      "  Implied bound: 117\n",
      "  MIR: 9\n",
      "  Flow cover: 9\n",
      "  Relax-and-lift: 1\n",
      "\n",
      "Explored 4172 nodes (414571 simplex iterations) in 30.61 seconds\n",
      "Thread count was 4 (of 4 available processors)\n",
      "\n",
      "Solution count 9: 1.13979 1.14036 1.14274 ... 1.1505\n",
      "\n",
      "Optimal solution found (tolerance 1.00e-04)\n",
      "Best objective 1.139787486397e+00, best bound 1.139787486397e+00, gap 0.0000%\n"
     ]
    }
   ],
   "source": [
    "# initial condition\n",
    "x0 = np.array([1., .0, .0])\n",
    "N=70\n",
    "# MI formulations\n",
    "method = 'CH'\n",
    "norm = 'two'\n",
    "controller = HybridModelPredictiveController(S, N, Q, R, P, X_N, method, norm)\n",
    "u_mip, x_mip, ms_mip, cost_mip = controller.feedforward(x0)"
   ]
  },
  {
   "cell_type": "code",
   "execution_count": 13,
   "metadata": {},
   "outputs": [
    {
     "data": {
      "image/png": "[encoded data removed]",
      "text/plain": [
       "<Figure size 432x288 with 2 Axes>"
      ]
     },
     "metadata": {
      "needs_background": "light"
     },
     "output_type": "display_data"
    }
   ],
   "source": [
    "# plot state trajectory\n",
    "time = range(N+1)\n",
    "fig, ax1 = plt.subplots()\n",
    "ax1.set_xlabel(r'$t$')\n",
    "ax1.grid(True)\n",
    "\n",
    "# position of the ball and the paddle (x1 and x3)\n",
    "x1_plot = ax1.plot(time, [x_t[0] for x_t in x_mip], 'b-', label=r'$x_1$', linewidth=3)\n",
    "x2_plot = ax1.plot(time, [x_t[1] for x_t in x_mip], 'b-.', label=r'$x_2$', linewidth=3)\n",
    "x12_lim = max([-x_min[0], x_max[0], -x_min[1], x_max[1]])\n",
    "ax1.set_ylim([-x12_lim, x12_lim])\n",
    "ax1.set_ylabel(r'$x_1, x_2$', color='b')\n",
    "ax1.tick_params('y', colors='b')\n",
    "plt.legend()\n",
    "\n",
    "# velocity of the ball (x2)\n",
    "ax2 = ax1.twinx()\n",
    "x3_plot = ax2.plot(time, [x_t[2] for x_t in x_mip], 'r--', label=r'$x_3$', linewidth=3)\n",
    "x3_lim = max([-x_min[2],x_max[2]])\n",
    "ax2.set_ylim([-x3_lim, x3_lim])\n",
    "ax2.set_ylabel(r'$x_3$', color='r')\n",
    "ax2.tick_params('y', colors='r')\n",
    "\n",
    "# plot\n",
    "x_plot = x1_plot + x2_plot + x3_plot\n",
    "labels = [xi_plot.get_label() for xi_plot in x_plot]\n",
    "ax1.set_xlim([0,N])\n",
    "ax1.legend(x_plot, labels)\n",
    "plt.show()"
   ]
  },
  {
   "cell_type": "code",
   "execution_count": 12,
   "metadata": {},
   "outputs": [
    {
     "data": {
      "image/png": "[encoded data removed]",
      "text/plain": [
       "<matplotlib.figure.Figure at 0x7f5f35287910>"
      ]
     },
     "metadata": {},
     "output_type": "display_data"
    }
   ],
   "source": [
    "# plot input sequence and contact force\n",
    "f = [max(k*(x_mip[t][1]-x_mip[t][0]) + b*(u_mip[t][0]-x_mip[t][2]) + m*g, 0.) for t in range(N)]\n",
    "fig, ax1 = plt.subplots()\n",
    "ax1.set_xlabel(r'$t$')\n",
    "ax1.grid(True)\n",
    "\n",
    "# input\n",
    "u_plot = ax1.step(time, [u_mip[0][0]] + [u_t[0] for u_t in u_mip], 'b', linestyle='-', label=r'$u$', linewidth=3)\n",
    "u_lim = max([-u_min[0], u_max[0]])\n",
    "ax1.set_ylim([-u_lim, u_lim])\n",
    "ax1.set_ylabel(r'$u$', color='b')\n",
    "ax1.tick_params('y', colors='b')\n",
    "plt.legend()\n",
    "\n",
    "# force\n",
    "ax2 = ax1.twinx()\n",
    "f_plot = ax2.step(time, [f[0]] + [f_t for f_t in f], 'r', linestyle='-.', label=r'$f \\ (x,u)$', linewidth=3)\n",
    "ax2.set_ylim([0, f_max])\n",
    "ax2.set_ylabel(r'$f \\ (x,u)$', color='r')\n",
    "ax2.tick_params('y', colors='r')\n",
    "\n",
    "# plot\n",
    "fu_plot = u_plot + f_plot\n",
    "labels = [fui_plot.get_label() for fui_plot in fu_plot]\n",
    "ax1.set_xlim([0,N])\n",
    "ax1.legend(fu_plot, labels)\n",
    "plt.show()"
   ]
  }
 ],
 "metadata": {
  "kernelspec": {
   "display_name": "Python 3",
   "language": "python",
   "name": "python3"
  },
  "language_info": {
   "codemirror_mode": {
    "name": "ipython",
    "version": 3
   },
   "file_extension": ".py",
   "mimetype": "text/x-python",
   "name": "python",
   "nbconvert_exporter": "python",
   "pygments_lexer": "ipython3",
   "version": "3.9.1"
  }
 },
 "nbformat": 4,
 "nbformat_minor": 2
}
