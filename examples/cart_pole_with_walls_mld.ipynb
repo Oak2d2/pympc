{
 "cells": [
  {
   "cell_type": "code",
   "execution_count": 1,
   "metadata": {},
   "outputs": [],
   "source": [
    "# notebook settings\n",
    "%load_ext autoreload\n",
    "%autoreload 2\n",
    "\n",
    "# external imports\n",
    "import numpy as np\n",
    "import sympy as sp\n",
    "import matplotlib.pyplot as plt\n",
    "\n",
    "# internal imports\n",
    "from pympc.control.hybrid_benchmark.mixed_logical_dynamical_system import MixedLogicalDynamicalSystem\n",
    "from pympc.control.hybrid_benchmark.controller_mld import HybridModelPredictiveController\n",
    "from pympc.plot import plot_input_sequence, plot_state_trajectory, plot_output_trajectory"
   ]
  },
  {
   "cell_type": "code",
   "execution_count": 2,
   "metadata": {},
   "outputs": [],
   "source": [
    "# system numeric parameters\n",
    "mc = 1.\n",
    "mp = 1.\n",
    "l = 1.\n",
    "d = 1.\n",
    "k = 100.\n",
    "g = 10.\n",
    "h = .05\n",
    "\n",
    "# state bounds\n",
    "x_max = np.array([d, np.pi/6., 7., 5.])\n",
    "x_min = - x_max\n",
    "\n",
    "# input domain\n",
    "u_max = np.array([20.])\n",
    "u_min = - u_max"
   ]
  },
  {
   "cell_type": "code",
   "execution_count": 3,
   "metadata": {},
   "outputs": [],
   "source": [
    "# symbolic states\n",
    "x = sp.Matrix(sp.symbols('q t qd td'))\n",
    "\n",
    "# symbolic continuous inputs\n",
    "u = sp.Matrix([sp.symbols('u')])\n",
    "\n",
    "# symbolic binary inputs\n",
    "ub = sp.zeros(0,1)\n",
    "\n",
    "# symbolic forces (left, right)\n",
    "f = sp.Matrix(sp.symbols('fl fr'))\n",
    "\n",
    "# symbolic auxiliary binaries (left, right)\n",
    "b = sp.Matrix(sp.symbols('bl br'))\n",
    "\n",
    "# dynamics\n",
    "x_next = sp.Matrix([\n",
    "    x[0] + h*x[2],\n",
    "    x[1] + h*x[3],\n",
    "    x[2] + h*((g*mp)/mc*x[1] + u[0]/mc),\n",
    "    x[3] + h*(g*(mc+mp)/(l*mc)*x[1] + u[0]/(l*mc) - f[0]/(l*mp) + f[1]/(l*mp))\n",
    "])"
   ]
  },
  {
   "cell_type": "code",
   "execution_count": 4,
   "metadata": {},
   "outputs": [],
   "source": [
    "# state bounds\n",
    "state_upper_bound = x - x_max.reshape(x_max.size, 1)\n",
    "state_lower_bound = x_min.reshape(x_min.size, 1) - x\n",
    "\n",
    "# input bounds\n",
    "input_upper_bound = u - u_max.reshape(u_max.size, 1)\n",
    "input_lower_bound = u_min.reshape(u_min.size, 1) - u\n",
    "\n",
    "# contact left wall (big-M method)\n",
    "# positive penetration: - d - x[0] + l*x[1]\n",
    "left_force = sp.Matrix([\n",
    "    - f[0],\n",
    "    k*(- d - x[0] + l*x[1]) - f[0],\n",
    "    f[0] - b[0]*k*(- d - x_min[0] + l*x_max[1]),\n",
    "    f[0] - k*(- d - x[0] + l*x[1]) + (1. - b[0])*k*(- d - x_max[0] + l*x_min[1])\n",
    "])\n",
    "\n",
    "# contact right wall (big-M method)\n",
    "# positive penetration: x[0] - l*x[1] - d\n",
    "right_force = sp.Matrix([\n",
    "    - f[1],\n",
    "    k*(x[0] - l*x[1] - d) - f[1],\n",
    "    f[1] - b[1]*k*(x_max[0] - l*x_min[1] - d),\n",
    "    f[1] - k*(x[0] - l*x[1] - d) + (1. - b[1])*k*(x_min[0] - l*x_max[1] - d)\n",
    "])\n",
    "\n",
    "# gather constraints\n",
    "constraints = sp.Matrix([\n",
    "    state_upper_bound,\n",
    "    state_lower_bound,\n",
    "    input_upper_bound,\n",
    "    input_lower_bound,\n",
    "    left_force,\n",
    "    right_force\n",
    "])"
   ]
  },
  {
   "cell_type": "code",
   "execution_count": 5,
   "metadata": {},
   "outputs": [],
   "source": [
    "# construct MLD system\n",
    "variables = {'x':x, 'uc':u, 'ub':ub, 'sc':f, 'sb':b}\n",
    "MLD = MixedLogicalDynamicalSystem.from_symbolic(variables, x_next, constraints)"
   ]
  },
  {
   "cell_type": "code",
   "execution_count": 6,
   "metadata": {},
   "outputs": [
    {
     "name": "stdout",
     "output_type": "stream",
     "text": [
      "Academic license - for non-commercial use only\n"
     ]
    }
   ],
   "source": [
    "# controller parameters\n",
    "N = 20\n",
    "weight_matrices = {}\n",
    "weight_matrices['Q'] = 10.*np.eye(MLD.nx)*h/2.\n",
    "weight_matrices['R'] = .1*np.eye(MLD.nuc)*h/2.\n",
    "weight_matrices['P'] = weight_matrices['Q']#*100.\n",
    "\n",
    "# hybrid controller\n",
    "controller = HybridModelPredictiveController(MLD, N, weight_matrices)"
   ]
  },
  {
   "cell_type": "code",
   "execution_count": 7,
   "metadata": {},
   "outputs": [],
   "source": [
    "x0 = np.array([0., 0., 2.5, 0.])\n",
    "# x0 = np.array([0.44366632, 0.06866632, 2.94079905, 0.45738834])"
   ]
  },
  {
   "cell_type": "markdown",
   "metadata": {},
   "source": [
    "# try controller open loop"
   ]
  },
  {
   "cell_type": "code",
   "execution_count": 8,
   "metadata": {},
   "outputs": [
    {
     "name": "stdout",
     "output_type": "stream",
     "text": [
      "|     Updates    |     Time (s)   |    Nodes (#)   |   Lower bound  |   Upper bound  |\n",
      " ---------------- ---------------- ---------------- ---------------- ----------------\n",
      "  Root node        0.055            1                4.362            inf             \n",
      "  New incumbent    2.448            124              38.914           38.914          \n",
      "  Solution found   2.471            125              38.914           38.914          \n",
      "\n",
      "Explored 125 nodes in 2.471 seconds: optimal solution found with objective 38.914.\n"
     ]
    }
   ],
   "source": [
    "cost, sol, leaves = controller.feedforward(x0, tree_file_name='tau_eq_0')"
   ]
  },
  {
   "cell_type": "code",
   "execution_count": 9,
   "metadata": {},
   "outputs": [
    {
     "name": "stdout",
     "output_type": "stream",
     "text": [
      "[ 0. -0. -0. -0.]\n"
     ]
    }
   ],
   "source": [
    "np.random.seed(1)\n",
    "e_max = 0.0\n",
    "e_0 = e_max * np.random.randn(MLD.nx)\n",
    "x_1 = sol['primal']['x'][1] + e_0\n",
    "print e_0"
   ]
  },
  {
   "cell_type": "code",
   "execution_count": 32,
   "metadata": {},
   "outputs": [],
   "source": [
    "stage_variables = {\n",
    "    'x_0' : sol['primal']['x'][0],\n",
    "    'uc_0' : sol['primal']['uc'][0],\n",
    "    'ub_0' : sol['primal']['ub'][0],\n",
    "    'sc_0' : sol['primal']['sc'][0],\n",
    "    'sb_0' : sol['primal']['sb'][0],\n",
    "    'e_0' : e_0\n",
    "}\n",
    "warm_start = controller.construct_warm_start(leaves, stage_variables)"
   ]
  },
  {
   "cell_type": "code",
   "execution_count": 33,
   "metadata": {},
   "outputs": [
    {
     "name": "stdout",
     "output_type": "stream",
     "text": [
      "Loaded warm start with 65 nodes. Lower bound provided by the warm start is -15600.960.\n",
      "|     Updates    |     Time (s)   |    Nodes (#)   |   Lower bound  |   Upper bound  |\n",
      " ---------------- ---------------- ---------------- ---------------- ----------------\n",
      "  Root node        0.033            1                -8656.426        inf             \n",
      "  New incumbent    0.139            6                126.696          126.696         \n",
      "  Solution found   0.163            7                126.696          126.696         \n",
      "\n",
      "Explored 7 nodes in 0.163 seconds: optimal solution found with objective 126.696.\n"
     ]
    }
   ],
   "source": [
    "cost_1_ws, sol_1_ws, leaves_1_ws = controller.feedforward(x_1, tree_file_name='tau_eq_0_ws', warm_start=warm_start)"
   ]
  },
  {
   "cell_type": "code",
   "execution_count": 34,
   "metadata": {},
   "outputs": [
    {
     "name": "stdout",
     "output_type": "stream",
     "text": [
      "|     Updates    |     Time (s)   |    Nodes (#)   |   Lower bound  |   Upper bound  |\n",
      " ---------------- ---------------- ---------------- ---------------- ----------------\n",
      "  Root node        0.032            1                11.323           inf             \n",
      "  New incumbent    1.595            80               126.696          126.696         \n",
      "  Solution found   1.618            81               126.696          126.696         \n",
      "\n",
      "Explored 81 nodes in 1.618 seconds: optimal solution found with objective 126.696.\n"
     ]
    }
   ],
   "source": [
    "cost_1, sol_1, leaves_1 = controller.feedforward(x_1, tree_file_name='tau_eq_1')"
   ]
  },
  {
   "cell_type": "code",
   "execution_count": null,
   "metadata": {},
   "outputs": [],
   "source": [
    "plot_input_sequence(sol['primal']['uc'], h, (u_min, u_max))\n",
    "plt.savefig('input.pdf')\n",
    "plot_state_trajectory(sol['primal']['x'], h, (x_min, x_max))\n",
    "plt.savefig('state.pdf')"
   ]
  },
  {
   "cell_type": "code",
   "execution_count": 30,
   "metadata": {},
   "outputs": [
    {
     "data": {
      "image/png": "[encoded data removed]",
      "text/plain": [
       "<Figure size 432x288 with 4 Axes>"
      ]
     },
     "metadata": {
      "needs_background": "light"
     },
     "output_type": "display_data"
    }
   ],
   "source": [
    "plot_state_trajectory(sol['primal']['x'], h, (x_min, x_max))"
   ]
  },
  {
   "cell_type": "code",
   "execution_count": 13,
   "metadata": {},
   "outputs": [
    {
     "data": {
      "image/png": "[encoded data removed]",
      "text/plain": [
       "<Figure size 432x288 with 2 Axes>"
      ]
     },
     "metadata": {
      "needs_background": "light"
     },
     "output_type": "display_data"
    }
   ],
   "source": [
    "plot_input_sequence(sol['primal']['sc'], h)\n",
    "# plt.savefig('forces.pdf')"
   ]
  },
  {
   "cell_type": "code",
   "execution_count": 14,
   "metadata": {},
   "outputs": [
    {
     "data": {
      "image/png": "[encoded data removed]",
      "text/plain": [
       "<Figure size 432x288 with 2 Axes>"
      ]
     },
     "metadata": {
      "needs_background": "light"
     },
     "output_type": "display_data"
    }
   ],
   "source": [
    "plot_input_sequence(sol['primal']['sb'], h)\n",
    "# plt.savefig('binaries.pdf')"
   ]
  },
  {
   "cell_type": "code",
   "execution_count": 15,
   "metadata": {},
   "outputs": [
    {
     "data": {
      "image/png": "[encoded data removed]",
      "text/plain": [
       "<Figure size 432x288 with 1 Axes>"
      ]
     },
     "metadata": {
      "needs_background": "light"
     },
     "output_type": "display_data"
    }
   ],
   "source": [
    "# output (horizontal position of the tip of the pole)\n",
    "C = np.array([[1., -l, 0., 0.]])\n",
    "y_min = np.array([-d])\n",
    "y_max = np.array([d])\n",
    "plot_output_trajectory(C, sol['primal']['x'], h, (y_min, y_max))\n",
    "plt.savefig('output.pdf')"
   ]
  },
  {
   "cell_type": "markdown",
   "metadata": {},
   "source": [
    "# solve in closed loop"
   ]
  },
  {
   "cell_type": "code",
   "execution_count": null,
   "metadata": {},
   "outputs": [],
   "source": [
    "np.random.seed(1)\n",
    "e_max = 0.001\n",
    "N_sim = 100\n",
    "u_sim = []\n",
    "e_sim = []\n",
    "x_sim = [x0]\n",
    "warm_start = None\n",
    "for t in range(N_sim):\n",
    "    print('Time step ' + str(t) + '.\\r'),\n",
    "    cost, sol, leaves = controller.feedforward(\n",
    "        x_sim[-1],\n",
    "        warm_start=warm_start,\n",
    "        printing_period=None,\n",
    "        tree_file_name=None,\n",
    "    )\n",
    "    u_sim.append(sol['primal']['uc'][0])\n",
    "    e_sim.append(e_max * np.random.randn(MLD.nx))\n",
    "    x_sim.append(sol['primal']['x'][1] + e_sim[-1])\n",
    "#     print cost\n",
    "#     print len(leaves)\n",
    "    \n",
    "    stage_variables = {\n",
    "        'x_0' : sol['primal']['x'][0],\n",
    "        'uc_0' : sol['primal']['uc'][0],\n",
    "        'ub_0' : sol['primal']['ub'][0],\n",
    "        'sc_0' : sol['primal']['sc'][0],\n",
    "        'sb_0' : sol['primal']['sb'][0],\n",
    "        'e_0' : e_sim[-1]\n",
    "    }\n",
    "#     print e_sim[-1]\n",
    "#     print x_sim[-1]\n",
    "#     warm_start = controller.construct_warm_start(leaves, stage_variables)"
   ]
  },
  {
   "cell_type": "code",
   "execution_count": null,
   "metadata": {},
   "outputs": [],
   "source": [
    "plot_input_sequence(e_sim, h, (-e_max*np.ones(MLD.nx), e_max*np.ones(MLD.nx)))\n",
    "plt.show()\n",
    "plot_input_sequence(u_sim, h, (u_min, u_max))\n",
    "plt.show()\n",
    "plot_state_trajectory(x_sim, h, (x_min, x_max))\n",
    "plt.show()"
   ]
  },
  {
   "cell_type": "code",
   "execution_count": null,
   "metadata": {},
   "outputs": [],
   "source": []
  }
 ],
 "metadata": {
  "kernelspec": {
   "display_name": "Python 2",
   "language": "python",
   "name": "python2"
  },
  "language_info": {
   "codemirror_mode": {
    "name": "ipython",
    "version": 2
   },
   "file_extension": ".py",
   "mimetype": "text/x-python",
   "name": "python",
   "nbconvert_exporter": "python",
   "pygments_lexer": "ipython2",
   "version": "2.7.15"
  }
 },
 "nbformat": 4,
 "nbformat_minor": 2
}
