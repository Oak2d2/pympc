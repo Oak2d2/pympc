{
 "cells": [
  {
   "cell_type": "markdown",
   "metadata": {},
   "source": [
    "%matplotlib notebook"
   ]
  },
  {
   "cell_type": "code",
   "execution_count": 1,
   "metadata": {
    "collapsed": true
   },
   "outputs": [],
   "source": [
    "# notebook settings\n",
    "%load_ext autoreload\n",
    "%autoreload 2\n",
    "\n",
    "# external imports\n",
    "import numpy as np\n",
    "import matplotlib.pyplot as plt\n",
    "\n",
    "# internal imports\n",
    "from pympc.geometry.polyhedron import Polyhedron\n",
    "from pympc.control.hybrid_benchmark.utils import big_m, big_m_relaxation\n",
    "from pympc.dynamics.discrete_time_systems import AffineSystem, PieceWiseAffineSystem\n",
    "from pympc.control.hybrid_benchmark.controllers import HybridModelPredictiveController\n",
    "from pympc.plot import plot_input_sequence, plot_state_trajectory, plot_state_space_trajectory"
   ]
  },
  {
   "cell_type": "code",
   "execution_count": 13,
   "metadata": {
    "collapsed": true
   },
   "outputs": [],
   "source": [
    "# physical parameters of the pendulum\n",
    "l = 1\n",
    "g = 10\n",
    "h = .1\n",
    "\n",
    "# limits for the joint angle\n",
    "q_min = -.5*np.pi\n",
    "q_max = 1.5*np.pi\n",
    "n_lin = 10"
   ]
  },
  {
   "cell_type": "code",
   "execution_count": 14,
   "metadata": {
    "collapsed": true
   },
   "outputs": [],
   "source": [
    "def sine_guard(x, y):\n",
    "    # given x and y in the domain it returs the point where the two linearizations cross\n",
    "    return (np.sin(y) - np.sin(x) + x*np.cos(x) - y*np.cos(y)) / (np.cos(x) - np.cos(y))\n",
    "\n",
    "class Interval(object):\n",
    "    # interval of the real axis\n",
    "    \n",
    "    def __init__(self, x, xmin, xmax):\n",
    "        self.x = x\n",
    "        self.xmin = xmin\n",
    "        self.xmax = xmax\n",
    "        \n",
    "    def contains(self, x):\n",
    "        return self.xmin <= x  and x <= self.xmax\n",
    "\n",
    "class SineLinearization(object):\n",
    "    # piecewise linearization of the sine function\n",
    "    \n",
    "    def __init__(self, x_lin):\n",
    "        grds = [x_lin[0]]\n",
    "        grds += [sine_guard(x_lin[i], x_lin[i+1]) for i in range(len(x_lin)-1)]\n",
    "        grds += [x_lin[-1]]\n",
    "        self.intervals = [Interval(x_lin[i], grds[i], grds[i+1]) for i in range(len(grds)-1)]\n",
    "        self.graph = []\n",
    "        for k, i in enumerate(self.intervals):\n",
    "            gk = Polyhedron.from_bounds(\n",
    "                np.array([[i.xmin]]),\n",
    "                np.array([[i.xmax]]),\n",
    "                [0],\n",
    "                2\n",
    "            )\n",
    "            gk.add_inequality(\n",
    "                np.array([[-(h*g/l)*np.cos(i.x), 1.]]),\n",
    "                np.array([[(h*g/l)*(np.sin(i.x) - i.x*np.cos(i.x))]])\n",
    "            )\n",
    "            gk.add_inequality(\n",
    "                - np.array([[-(h*g/l)*np.cos(i.x), 1.]]),\n",
    "                - np.array([[(h*g/l)*(np.sin(i.x) - i.x*np.cos(i.x))]])\n",
    "            )\n",
    "            self.graph.append(gk)\n",
    "            \n",
    "    def evaluate(self, x):\n",
    "        for i in self.intervals:\n",
    "            if i.contains(x):\n",
    "                return (h*g/l) * (np.sin(i.x) + np.cos(i.x)*(x-i.x))"
   ]
  },
  {
   "cell_type": "code",
   "execution_count": 15,
   "metadata": {
    "collapsed": true
   },
   "outputs": [],
   "source": [
    "# sample the PWA linearization\n",
    "n = 1000\n",
    "q_lin = np.linspace(q_min, q_max, n_lin)\n",
    "lin = SineLinearization(q_lin)\n",
    "q_samples = np.linspace(q_min, q_max, n)\n",
    "vd = (h*g/l)*np.sin(q_samples)\n",
    "vd_lin = [lin.evaluate(q) for q in q_samples]"
   ]
  },
  {
   "cell_type": "code",
   "execution_count": 16,
   "metadata": {
    "collapsed": true
   },
   "outputs": [],
   "source": [
    "# get big M relaxation fo the linearization\n",
    "R = big_m_relaxation(lin.graph)\n",
    "R_proj= R.project_to([0,1])"
   ]
  },
  {
   "cell_type": "code",
   "execution_count": 17,
   "metadata": {},
   "outputs": [
    {
     "data": {
      "image/png": "[encoded data removed]",
      "text/plain": [
       "<Figure size 432x288 with 1 Axes>"
      ]
     },
     "metadata": {},
     "output_type": "display_data"
    }
   ],
   "source": [
    "# plot the function vs the relaxation\n",
    "R_proj.plot(alpha=.5)\n",
    "plt.plot(q_samples, vd, color='r')\n",
    "plt.plot(q_samples, vd_lin, color='g')\n",
    "plt.scatter([q_lin],[(h*g/l)*np.sin(q_lin)])\n",
    "plt.show()"
   ]
  },
  {
   "cell_type": "code",
   "execution_count": 18,
   "metadata": {
    "collapsed": true
   },
   "outputs": [],
   "source": [
    "# discrete time dynamics of the pendulum linearized around a nominal angle\n",
    "def dt_lin(x):\n",
    "    A = np.array([[1., h], [(h*g/l)*np.cos(x), 1.]])\n",
    "    B = np.array([[0.],[h]])\n",
    "    c = np.array([[0.],[(h*g/l)*(np.sin(x) - x*np.cos(x))]])\n",
    "    return A, B, c"
   ]
  },
  {
   "cell_type": "code",
   "execution_count": 19,
   "metadata": {
    "collapsed": true
   },
   "outputs": [],
   "source": [
    "# polytopic domains\n",
    "u_min = np.array([[-5.]])\n",
    "u_max = -u_min\n",
    "U = Polyhedron.from_bounds(u_min, u_max)\n",
    "v_min = -5.\n",
    "v_max = -v_min\n",
    "x_min = [np.array([[lin.intervals[i].xmin],[v_min]]) for i in range(n_lin)]\n",
    "x_max = [np.array([[lin.intervals[i].xmax],[v_max]]) for i in range(n_lin)]\n",
    "X = [Polyhedron.from_bounds(x_min[i], x_max[i]) for i in range(n_lin)]\n",
    "D = [Xi.cartesian_product(U) for Xi in X]\n",
    "\n",
    "# affine systems\n",
    "S = [AffineSystem(*dt_lin(q)) for q in q_lin]\n",
    "\n",
    "# PWA system\n",
    "PWA = PieceWiseAffineSystem(S, D)"
   ]
  },
  {
   "cell_type": "code",
   "execution_count": 39,
   "metadata": {},
   "outputs": [
    {
     "name": "stdout",
     "output_type": "stream",
     "text": [
      "Warning for adding constraints: zero or small (< 1e-13) coefficients, ignored\n"
     ]
    }
   ],
   "source": [
    "# controller parameters\n",
    "N = 30\n",
    "Q = np.eye(PWA.nx)*h\n",
    "R = np.eye(PWA.nu)*h\n",
    "\n",
    "# terminal set and cost\n",
    "P = Q\n",
    "X_N = Polyhedron.from_bounds(*[np.zeros((PWA.nx))]*2)\n",
    "\n",
    "# hybrid controller\n",
    "controller = HybridModelPredictiveController(PWA, N, Q, R, P, X_N, method='Convex hull, lifted constraints')"
   ]
  },
  {
   "cell_type": "code",
   "execution_count": 40,
   "metadata": {},
   "outputs": [
    {
     "name": "stdout",
     "output_type": "stream",
     "text": [
      "Parameter OutputFlag unchanged\n",
      "   Value: 1  Min: 0  Max: 1  Default: 1\n",
      "Parameter Threads unchanged\n",
      "   Value: 0  Min: 0  Max: 1024  Default: 0\n",
      "Optimize a model with 4140 rows, 3112 columns and 12110 nonzeros\n",
      "Model has 300 quadratic constraints\n",
      "Variable types: 2812 continuous, 300 integer (300 binary)\n",
      "Coefficient statistics:\n",
      "  Matrix range     [2e-03, 5e+00]\n",
      "  QMatrix range    [5e-01, 1e+00]\n",
      "  Objective range  [1e+00, 1e+00]\n",
      "  Bounds range     [3e+00, 3e+00]\n",
      "  RHS range        [1e+00, 1e+00]\n",
      "Presolve removed 2879 rows and 2109 columns\n",
      "Presolve time: 0.02s\n",
      "Presolved: 1261 rows, 1003 columns, 4115 nonzeros\n",
      "Variable types: 808 continuous, 195 integer (195 binary)\n",
      "\n",
      "Root relaxation: objective 2.314165e+00, 1066 iterations, 0.03 seconds\n",
      "\n",
      "    Nodes    |    Current Node    |     Objective Bounds      |     Work\n",
      " Expl Unexpl |  Obj  Depth IntInf | Incumbent    BestBd   Gap | It/Node Time\n",
      "\n",
      "     0     0    2.31416    0   34          -    2.31416      -     -    0s\n",
      "     0     0    2.31416    0   50          -    2.31416      -     -    0s\n",
      "     0     0    2.31416    0   50          -    2.31416      -     -    0s\n",
      "     0     0    2.31416    0   37          -    2.31416      -     -    0s\n",
      "     0     0    2.31416    0   34          -    2.31416      -     -    0s\n",
      "     0     2    2.31416    0   30          -    2.31416      -     -    0s\n",
      "H  103    50                      44.9157207    2.39215  94.7%   100    0s\n",
      "*  103    50              44      44.9157207    2.39215  94.7%   100    0s\n",
      "H  383   164                      44.1824309    3.33005  92.5%   110    1s\n",
      "H  497   201                      41.5963617    3.33005  92.0%   107    1s\n",
      "H  590   229                      40.4936305    3.45435  91.5%   105    2s\n",
      "H  620   243                      40.4936236    3.45435  91.5%   103    2s\n",
      "   755   269   17.29829   29   29   40.49362    9.30882  77.0%   122    5s\n",
      "H  963   247                      31.1473759   10.29497  66.9%   130    6s\n",
      "*  963   247              39      31.1473759   10.29497  66.9%   131    6s\n",
      "* 1952   505              38      27.2265278   16.23537  40.4%   120    9s\n",
      "  1964   506     cutoff   52        27.22653   16.32785  40.0%   120   10s\n",
      "H 2827   724                      26.8600665   18.06815  32.7%   118   13s\n",
      "  3091   791   26.85441   45    -   26.86007   18.48319  31.2%   119   15s\n",
      "H 3093   791                      26.8446926   18.48319  31.1%   119   15s\n",
      "* 3459   862              50      26.7840122   19.07327  28.8%   118   17s\n",
      "* 3846   926              50      26.7466032   19.60339  26.7%   119   19s\n",
      "  4091   980     cutoff   26        26.74660   19.95051  25.4%   117   20s\n",
      "  5048  1193     cutoff   24        26.74660   20.91325  21.8%   116   25s\n",
      "  6031  1242   23.54305   23   19   26.74660   21.86641  18.2%   115   30s\n",
      "  7240  1271 infeasible   31        26.74660   22.91717  14.3%   110   35s\n",
      "H 8462  1181                      26.5938158   23.87651  10.2%   107   39s\n",
      "  8507  1109     cutoff   29        26.59382   24.06630  9.50%   106   40s\n",
      "H 8508  1105                      26.5889727   24.06630  9.49%   106   40s\n",
      " 10044   866   26.54124   52    -   26.58897   25.13356  5.47%   101   45s\n",
      "*10305   798              43      26.5464787   25.29658  4.71%   100   46s\n",
      "*10419   712              52      26.5413304   25.41189  4.26%  99.3   46s\n",
      " 11615   311   26.52276   42    -   26.54133   26.01758  1.97%  94.1   50s\n",
      "*11802   233              50      26.5406571   26.10265  1.65%  93.2   50s\n",
      "*12151     0              42      26.5234038   26.40251  0.46%  91.5   51s\n",
      "*12270     1              43      26.5111682   26.51105  0.00%  90.8   51s\n",
      "\n",
      "Explored 12271 nodes (1118441 simplex iterations) in 51.29 seconds\n",
      "Thread count was 4 (of 4 available processors)\n",
      "\n",
      "Solution count 10: 26.5112 26.5234 26.5407 ... 26.8447\n",
      "\n",
      "Optimal solution found (tolerance 1.00e-04)\n",
      "Best objective 2.651116820286e+01, best bound 2.651104961916e+01, gap 0.0004%\n",
      "26.5111682029\n",
      "[7, 7, 7, 7, 7, 7, 7, 8, 8, 8, 8, 7, 7, 7, 7, 6, 5, 4, 4, 3, 3, 3, 2, 2, 2, 2, 2, 2, 2, 2]\n"
     ]
    }
   ],
   "source": [
    "# solve for the given x0\n",
    "x0 = np.array([[np.pi],[0.]])\n",
    "u_mip, x_mip, ms_mip, cost_mip, d_mip = controller.feedforward(x0)\n",
    "print cost_mip\n",
    "print ms_mip"
   ]
  },
  {
   "cell_type": "code",
   "execution_count": 24,
   "metadata": {},
   "outputs": [
    {
     "data": {
      "image/png": "[encoded data removed]",
      "text/plain": [
       "<Figure size 432x288 with 1 Axes>"
      ]
     },
     "metadata": {},
     "output_type": "display_data"
    },
    {
     "data": {
      "image/png": "[encoded data removed]",
      "text/plain": [
       "<Figure size 432x288 with 2 Axes>"
      ]
     },
     "metadata": {},
     "output_type": "display_data"
    },
    {
     "data": {
      "image/png": "[encoded data removed]",
      "text/plain": [
       "<Figure size 432x288 with 1 Axes>"
      ]
     },
     "metadata": {},
     "output_type": "display_data"
    }
   ],
   "source": [
    "# plots\n",
    "plot_input_sequence(u_mip, h, (u_min, u_max))\n",
    "plt.show()\n",
    "plot_state_trajectory(x_mip, h,(np.array([[q_min],[v_min]]),np.array([[q_max],[v_max]])))\n",
    "plt.show()\n",
    "plot_state_space_trajectory(x_mip)\n",
    "plt.show()"
   ]
  }
 ],
 "metadata": {
  "kernelspec": {
   "display_name": "Python 2",
   "language": "python",
   "name": "python2"
  },
  "language_info": {
   "codemirror_mode": {
    "name": "ipython",
    "version": 2
   },
   "file_extension": ".py",
   "mimetype": "text/x-python",
   "name": "python",
   "nbconvert_exporter": "python",
   "pygments_lexer": "ipython2",
   "version": "2.7.12"
  }
 },
 "nbformat": 4,
 "nbformat_minor": 2
}
