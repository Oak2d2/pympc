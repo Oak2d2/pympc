{
 "cells": [
  {
   "cell_type": "markdown",
   "metadata": {},
   "source": [
    "# Piecewise Affine Model from URDF Description of the Robot"
   ]
  },
  {
   "cell_type": "code",
   "execution_count": 1,
   "metadata": {
    "collapsed": true
   },
   "outputs": [],
   "source": [
    "%load_ext autoreload\n",
    "%autoreload 2"
   ]
  },
  {
   "cell_type": "code",
   "execution_count": 2,
   "metadata": {
    "collapsed": true
   },
   "outputs": [],
   "source": [
    "import numpy as np\n",
    "import matplotlib.pyplot as plt\n",
    "from IPython.display import HTML"
   ]
  },
  {
   "cell_type": "code",
   "execution_count": 3,
   "metadata": {
    "collapsed": true
   },
   "outputs": [],
   "source": [
    "from underactuated import PlanarRigidBodyVisualizer\n",
    "from pydrake.all import (FloatingBaseType,\n",
    "                         RigidBodyTree,\n",
    "                         RigidBodyPlant,\n",
    "                         DiagramBuilder,\n",
    "                         ZeroOrderHold,\n",
    "                         SignalLogger,\n",
    "                         Simulator)"
   ]
  },
  {
   "cell_type": "code",
   "execution_count": 4,
   "metadata": {
    "collapsed": true
   },
   "outputs": [],
   "source": [
    "from pympc.geometry.polyhedron import Polyhedron\n",
    "from utils import pwa_from_RigidBodyPlant, Controller"
   ]
  },
  {
   "cell_type": "code",
   "execution_count": 5,
   "metadata": {
    "collapsed": true
   },
   "outputs": [],
   "source": [
    "# linearization points for the angle of the pole\n",
    "theta_min = - np.pi * .3\n",
    "theta_max = np.pi * .3\n",
    "n_linearizations = 3\n",
    "\n",
    "# linearization points for the entire state x = (q_cart, q_pole, v_cart, v_pole)\n",
    "linearization_points = [np.zeros(4) for i in range(n_linearizations)]\n",
    "for i, theta in enumerate(np.linspace(theta_min, theta_max, n_linearizations)):\n",
    "    linearization_points[i][1] = theta"
   ]
  },
  {
   "cell_type": "code",
   "execution_count": 6,
   "metadata": {
    "collapsed": true
   },
   "outputs": [],
   "source": [
    "# boundaries for the state (despite of the mode the state has to lie in X)\n",
    "theta_step = (theta_max - theta_min) / (n_linearizations - 1)\n",
    "x_min = np.array([\n",
    "    -3.,\n",
    "    theta_min - theta_step,\n",
    "    -10.,\n",
    "    -10.\n",
    "])\n",
    "x_max = np.array([\n",
    "    3.,\n",
    "    theta_max + theta_step,\n",
    "    10.,\n",
    "    10.\n",
    "])\n",
    "X = Polyhedron.from_bounds(x_min, x_max)"
   ]
  },
  {
   "cell_type": "code",
   "execution_count": 7,
   "metadata": {
    "collapsed": true
   },
   "outputs": [],
   "source": [
    "# boundaries for the input --force on the cart-- (despite of the mode the inpu has to lie in U)\n",
    "u_min = np.array([-100.])\n",
    "u_max = np.array([100.])\n",
    "U = Polyhedron.from_bounds(u_min, u_max)"
   ]
  },
  {
   "cell_type": "code",
   "execution_count": 8,
   "metadata": {
    "collapsed": true
   },
   "outputs": [],
   "source": [
    "# parse RigidBodyPlant from urdf\n",
    "tree = RigidBodyTree(\"cart_pole.urdf\", FloatingBaseType.kFixed)\n",
    "plant = RigidBodyPlant(tree)"
   ]
  },
  {
   "cell_type": "code",
   "execution_count": 9,
   "metadata": {
    "collapsed": true
   },
   "outputs": [],
   "source": [
    "# sampling time\n",
    "h = .05\n",
    "\n",
    "# get piecewise affine system\n",
    "pwa = pwa_from_RigidBodyPlant(plant, linearization_points, X, U, h)"
   ]
  },
  {
   "cell_type": "code",
   "execution_count": 10,
   "metadata": {},
   "outputs": [],
   "source": [
    "# parameters of the quadratic controller\n",
    "N = 20\n",
    "Q = np.eye(pwa.nx)/100.\n",
    "R = np.eye(pwa.nu)/100.\n",
    "P = Q\n",
    "X_N = Polyhedron.from_bounds(*[np.zeros(pwa.nx)]*2)\n",
    "\n",
    "# drake controller (System)\n",
    "controller = Controller(pwa, N, Q, R, Q, X_N)"
   ]
  },
  {
   "cell_type": "code",
   "execution_count": 11,
   "metadata": {
    "collapsed": true
   },
   "outputs": [],
   "source": [
    "# blocks of the diagram\n",
    "builder = DiagramBuilder()\n",
    "robot = builder.AddSystem(plant)\n",
    "controller = builder.AddSystem(controller)\n",
    "zoh = builder.AddSystem(ZeroOrderHold(.1, 1))"
   ]
  },
  {
   "cell_type": "code",
   "execution_count": 12,
   "metadata": {
    "collapsed": true
   },
   "outputs": [],
   "source": [
    "# logger\n",
    "logger_freq = 30.\n",
    "logger = SignalLogger(plant.get_num_states())\n",
    "state_log = builder.AddSystem(logger)\n",
    "state_log._DeclarePeriodicPublish(1./logger_freq, 0.0)"
   ]
  },
  {
   "cell_type": "code",
   "execution_count": 13,
   "metadata": {
    "collapsed": true
   },
   "outputs": [],
   "source": [
    "# connect and build the diagram\n",
    "builder.Connect(robot.get_output_port(0), controller.get_input_port(0))\n",
    "builder.Connect(controller.get_output_port(0), zoh.get_input_port(0))\n",
    "builder.Connect(zoh.get_output_port(0), robot.get_input_port(0))\n",
    "builder.Connect(plant.get_output_port(0), state_log.get_input_port(0))\n",
    "diagram = builder.Build()"
   ]
  },
  {
   "cell_type": "code",
   "execution_count": 14,
   "metadata": {
    "collapsed": true
   },
   "outputs": [],
   "source": [
    "# set up sim\n",
    "simulator = Simulator(diagram)\n",
    "simulator.set_publish_every_time_step(False)\n",
    "integrator = simulator.get_mutable_integrator()\n",
    "integrator.set_fixed_step_mode(True)\n",
    "integrator.set_maximum_step_size(0.001)"
   ]
  },
  {
   "cell_type": "code",
   "execution_count": null,
   "metadata": {},
   "outputs": [],
   "source": [
    "# simulate\n",
    "context = simulator.get_mutable_context()\n",
    "x0 = np.array([0., 0., 3., 0.])\n",
    "\n",
    "# since the ZOH block at t=0 returns its internal state, I have to compute the first feedback \"offline\"\n",
    "state_c = context.get_mutable_continuous_state_vector()\n",
    "state_c.SetFromVector(x0)\n",
    "state_d = context.get_mutable_discrete_state_vector()\n",
    "u0 = np.empty(pwa.nu)\n",
    "controller._DoCalcVectorOutput(context, x0, None, u0)\n",
    "state_d.SetFromVector(u0)\n",
    "\n",
    "# run sim\n",
    "simulator.StepTo(3.)"
   ]
  },
  {
   "cell_type": "code",
   "execution_count": null,
   "metadata": {},
   "outputs": [],
   "source": [
    "# visualize\n",
    "viz = PlanarRigidBodyVisualizer(tree, xlim=[-1, 1], ylim=[-2.5, 3.])\n",
    "viz.fig.set_size_inches(10, 5)\n",
    "ani = viz.animate(state_log, 30, repeat=True)\n",
    "plt.close(viz.fig)\n",
    "HTML(ani.to_html5_video())"
   ]
  }
 ],
 "metadata": {
  "kernelspec": {
   "display_name": "Python 2",
   "language": "python",
   "name": "python2"
  },
  "language_info": {
   "codemirror_mode": {
    "name": "ipython",
    "version": 2
   },
   "file_extension": ".py",
   "mimetype": "text/x-python",
   "name": "python",
   "nbconvert_exporter": "python",
   "pygments_lexer": "ipython2",
   "version": "2.7.15"
  }
 },
 "nbformat": 4,
 "nbformat_minor": 2
}
