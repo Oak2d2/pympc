{
 "cells": [
  {
   "cell_type": "code",
   "execution_count": 1,
   "metadata": {
    "collapsed": true
   },
   "outputs": [],
   "source": [
    "# notebook settings\n",
    "%load_ext autoreload\n",
    "%autoreload 2\n",
    "\n",
    "# external imports\n",
    "import numpy as np\n",
    "import matplotlib as mpl\n",
    "import matplotlib.pyplot as plt\n",
    "from copy import copy\n",
    "from math import floor\n",
    "\n",
    "# internal imports\n",
    "from pympc.geometry.polyhedron import Polyhedron\n",
    "from pympc.dynamics.discrete_time_systems import LinearSystem, AffineSystem, PieceWiseAffineSystem\n",
    "from pympc.control.hybrid_benchmark.controllers import HybridModelPredictiveController\n",
    "from pympc.plot import plot_input_sequence, plot_state_trajectory, plot_output_trajectory\n",
    "from pympc.control.hybrid_benchmark.utils import get_constraint_set, remove_redundant_inequalities_fast, convex_hull_method_fast"
   ]
  },
  {
   "cell_type": "markdown",
   "metadata": {},
   "source": [
    "# Problem set-up"
   ]
  },
  {
   "cell_type": "code",
   "execution_count": 9,
   "metadata": {
    "collapsed": true
   },
   "outputs": [],
   "source": [
    "# numeric parameters of the system\n",
    "m = 1.\n",
    "k = 500.\n",
    "bt = 50.\n",
    "bn = 10.\n",
    "mu = .5\n",
    "g = 10.\n",
    "h = .05"
   ]
  },
  {
   "cell_type": "code",
   "execution_count": 10,
   "metadata": {
    "collapsed": true
   },
   "outputs": [],
   "source": [
    "# state: x = (qxb, qyb, qxp, qyp, vxb, vyb)\n",
    "# input: u = (vxp, vyp)\n",
    "\n",
    "# discretization method\n",
    "method = 'zero_order_hold'\n",
    "\n",
    "# dynamics n.1 (ball in the air)\n",
    "A1 = np.block([\n",
    "    [np.zeros((2,4)), np.eye(2)],\n",
    "    [np.zeros((4,6))]\n",
    "    ])\n",
    "B1 = np.block([\n",
    "    [np.zeros((2,2))],\n",
    "    [np.eye(2)],\n",
    "    [np.zeros((2,2))]\n",
    "    ])\n",
    "c1 = np.array([0.]*5 + [-g])\n",
    "S1 = AffineSystem.from_continuous(A1, B1, c1, h, method)\n",
    "\n",
    "# dynamics n.2 (paddle pulling ball)\n",
    "S2 = copy(S1)\n",
    "\n",
    "# dynamics n.3 (paddle pushing ball, sticking)\n",
    "# (no offset terms, the zero of the position of the ball is shifted by m*g/k)\n",
    "A3 = copy(A1)\n",
    "A3[4,4] = -bt/m\n",
    "A3[5] = np.array([0., -k/m, 0., k/m, 0., -bn/m])\n",
    "B3 = copy(B1)\n",
    "B3[4,0] = bt/m\n",
    "B3[5,1] = bn/m\n",
    "S3 = LinearSystem.from_continuous(A3, B3, h, method)\n",
    "\n",
    "# dynamics n.4 (paddle pushing ball, ball sliding left wrt paddle)\n",
    "# (no offset terms, the zero of the position of the ball is shifted by m*g/k)\n",
    "A4 = copy(A3)\n",
    "A4[4] = mu * A4[5]\n",
    "B4 = copy(B3)\n",
    "B4[4] = mu * B4[5]\n",
    "c4 = np.array([0., 0., 0., 0., mu*g, 0.])\n",
    "S4 = AffineSystem.from_continuous(A4, B4, c4, h, method)\n",
    "\n",
    "# dynamics n.5 (paddle pushing ball, ball sliding right wrt paddle)\n",
    "# (no offset terms, the zero of the position of the ball is shifted by m*g/k)\n",
    "A5 = copy(A4)\n",
    "A5[4] = -A5[4]\n",
    "B5 = copy(B4)\n",
    "B5[4] = -B5[4]\n",
    "c5 = -c4\n",
    "S5 = AffineSystem.from_continuous(A5, B5, c5, h, method)\n",
    "\n",
    "# list of dynamics\n",
    "S_list = [S1, S2, S3, S4, S5]"
   ]
  },
  {
   "cell_type": "code",
   "execution_count": 11,
   "metadata": {
    "collapsed": true
   },
   "outputs": [],
   "source": [
    "# state: x = (qxb, qyb, qxp, qyp, vxb, vyb)\n",
    "# input: u = (vxp, vyp)\n",
    "\n",
    "# state bounds\n",
    "x_max = np.array([1., 1., 1., .2, 1., 5.])\n",
    "x_min = - x_max # np.array([-1., -1., -1.2, -.2, -5., -5.])\n",
    "\n",
    "### limite sulla forza massima\n",
    "\n",
    "# input bounds\n",
    "u_max = np.array([1., 1.])\n",
    "u_min = - u_max\n",
    "\n",
    "# domain bounds\n",
    "xu_min = np.concatenate((x_min, u_min))\n",
    "xu_max = np.concatenate((x_max, u_max))\n",
    "\n",
    "'''\n",
    "domain n.1, out of contact if:\n",
    "qyb >= qyp + mg/k\n",
    "'''\n",
    "D1 = Polyhedron.from_bounds(xu_min, xu_max)\n",
    "D1.add_inequality(\n",
    "    np.array([[0., -1., 0., 1., 0., 0., 0., 0.]]),\n",
    "    np.array([-m*g/k])\n",
    ")\n",
    "assert D1.bounded\n",
    "assert not D1.empty\n",
    "\n",
    "'''\n",
    "domain n.2, pulling if:\n",
    "- qyb <= qyp + mg/k,\n",
    "- fn = k(qyp-qyb) + bn(vyp-vyb) + mg <= 0\n",
    "'''\n",
    "D2 = Polyhedron.from_bounds(xu_min, xu_max)\n",
    "D2.add_inequality(\n",
    "    np.array([[0., 1., 0., -1., 0., 0., 0., 0.]]),\n",
    "    np.array([m*g/k])\n",
    ")\n",
    "D2.add_inequality(\n",
    "    np.array([[0., -k, 0., k, 0., -bn, 0., bn]]),\n",
    "    np.array([-m*g])\n",
    ")\n",
    "assert D2.bounded\n",
    "assert not D2.empty\n",
    "\n",
    "'''\n",
    "domain n.3, sticking if:\n",
    "- qyb <= qyp + mg/k,\n",
    "- fn = k(qyp-qyb) + bn(vyp-vyb) + mg >= 0,\n",
    "- ft = bt(vxp-vxb) <= mu fn = mu k(qyp-qyb) + mu bn(vyp-vyb) + mu mg\n",
    "- ft = bt(vxp-vxb) >= -mu fn = -mu k(qyp-qyb) - mu bn(vyp-vyb) - mu mg\n",
    "'''\n",
    "D3 = Polyhedron.from_bounds(xu_min, xu_max)\n",
    "D3.add_inequality(\n",
    "    np.array([[0., 1., 0., -1., 0., 0., 0., 0.]]),\n",
    "    np.array([m*g/k])\n",
    ")\n",
    "D3.add_inequality(\n",
    "    np.array([[0., k, 0., -k, 0., bn, 0., -bn]]),\n",
    "    np.array([m*g])\n",
    ")\n",
    "D3.add_inequality(\n",
    "    np.array([[0., mu*k, 0., -mu*k, -bt, mu*bn, bt, -mu*bn]]),\n",
    "    np.array([mu*m*g])\n",
    ")\n",
    "D3.add_inequality(\n",
    "    np.array([[0., mu*k, 0., -mu*k, bt, mu*bn, -bt, -mu*bn]]),\n",
    "    np.array([mu*m*g])\n",
    ")\n",
    "assert D3.bounded\n",
    "assert not D3.empty\n",
    "\n",
    "'''\n",
    "domain n.4, ball sliding left wrt paddle if:\n",
    "- qyb <= qyp + mg/k,\n",
    "- fn = k(qyp-qyb) + bn(vyp-vyb) + mg >= 0,\n",
    "- ft = bt(vxp-vxb) >= mu fn = mu k(qyp-qyb) + mu bn(vyp-vyb) + mu mg\n",
    "'''\n",
    "D4 = Polyhedron.from_bounds(xu_min, xu_max)\n",
    "D4.add_inequality(\n",
    "    np.array([[0., 1., 0., -1., 0., 0., 0., 0.]]),\n",
    "    np.array([m*g/k])\n",
    ")\n",
    "D4.add_inequality(\n",
    "    np.array([[0., k, 0., -k, 0., bn, 0., -bn]]),\n",
    "    np.array([m*g])\n",
    ")\n",
    "D4.add_inequality(\n",
    "    np.array([[0., -mu*k, 0., mu*k, bt, -mu*bn, -bt, mu*bn]]),\n",
    "    np.array([-mu*m*g])\n",
    ")\n",
    "assert D4.bounded\n",
    "assert not D4.empty\n",
    "\n",
    "'''\n",
    "domain n.5, ball sliding right wrt paddle if:\n",
    "- qyb <= qyp + mg/k,\n",
    "- fn = k(qyp-qyb) + bn(vyp-vyb) + mg >= 0,\n",
    "- ft = bt(vxp-vxb) <= -mu fn = -mu k(qyp-qyb) - mu bn(vyp-vyb) - mu mg\n",
    "'''\n",
    "D5 = Polyhedron.from_bounds(xu_min, xu_max)\n",
    "D5.add_inequality(\n",
    "    np.array([[0., 1., 0., -1., 0., 0., 0., 0.]]),\n",
    "    np.array([m*g/k])\n",
    ")\n",
    "D5.add_inequality(\n",
    "    np.array([[0., k, 0., -k, 0., bn, 0., -bn]]),\n",
    "    np.array([m*g])\n",
    ")\n",
    "D5.add_inequality(\n",
    "    np.array([[0., -mu*k, 0., mu*k, -bt, -mu*bn, bt, mu*bn]]),\n",
    "    np.array([-mu*m*g])\n",
    ")\n",
    "assert D5.bounded\n",
    "assert not D5.empty\n",
    "\n",
    "# list of domains\n",
    "D_list = [D1, D2, D3, D4, D5]"
   ]
  },
  {
   "cell_type": "code",
   "execution_count": 12,
   "metadata": {},
   "outputs": [],
   "source": [
    "# PWA system\n",
    "S = PieceWiseAffineSystem(S_list, D_list)\n",
    "\n",
    "# controller parameters\n",
    "N = 20\n",
    "Q = np.diag([1.,1.,1.,1.,.1,.1])*h\n",
    "R = np.diag([5.,1.])*h\n",
    "\n",
    "# terminal set and cost\n",
    "P = Q\n",
    "X_N = Polyhedron.from_bounds(*[np.zeros(6)]*2)"
   ]
  },
  {
   "cell_type": "code",
   "execution_count": 13,
   "metadata": {
    "collapsed": true
   },
   "outputs": [],
   "source": [
    "controller = HybridModelPredictiveController(S, N, Q, R, P, X_N, method='Convex hull')\n",
    "# controller.prog.setParam('Heuristics', 0)"
   ]
  },
  {
   "cell_type": "code",
   "execution_count": 14,
   "metadata": {
    "collapsed": true
   },
   "outputs": [],
   "source": [
    "# initial condition\n",
    "x0 = np.array([0.,1.,0.,0.,.5,0.])\n",
    "# x0 = np.array([0.2,0.,0.,0.,0.,0.])"
   ]
  },
  {
   "cell_type": "code",
   "execution_count": 15,
   "metadata": {},
   "outputs": [
    {
     "name": "stdout",
     "output_type": "stream",
     "text": [
      "Parameter OutputFlag unchanged\n",
      "   Value: 1  Min: 0  Max: 1  Default: 1\n",
      "Optimize a model with 3420 rows, 1666 columns and 11140 nonzeros\n",
      "Model has 166 quadratic objective terms\n",
      "Variable types: 1566 continuous, 100 integer (100 binary)\n",
      "Coefficient statistics:\n",
      "  Matrix range     [6e-03, 5e+02]\n",
      "  Objective range  [0e+00, 0e+00]\n",
      "  QObjective range [5e-03, 2e-01]\n",
      "  Bounds range     [5e-01, 1e+00]\n",
      "  RHS range        [1e+00, 1e+00]\n",
      "Presolve removed 2249 rows and 1060 columns\n",
      "Presolve time: 0.03s\n",
      "Presolved: 1171 rows, 606 columns, 4015 nonzeros\n",
      "Presolved model has 122 quadratic objective terms\n",
      "Variable types: 548 continuous, 58 integer (58 binary)\n",
      "\n",
      "Root relaxation: objective 2.858321e-01, 3132 iterations, 0.09 seconds\n",
      "\n",
      "    Nodes    |    Current Node    |     Objective Bounds      |     Work\n",
      " Expl Unexpl |  Obj  Depth IntInf | Incumbent    BestBd   Gap | It/Node Time\n",
      "\n",
      "     0     0    0.28583    0   47          -    0.28583      -     -    0s\n",
      "     0     0    0.28584    0   47          -    0.28584      -     -    0s\n",
      "     0     0    0.28584    0   47          -    0.28584      -     -    0s\n",
      "H    0     0                       0.9822126    0.28584  70.9%     -    0s\n",
      "H    0     0                       0.7792235    0.28584  63.3%     -    0s\n",
      "     0     2    0.28584    0   47    0.77922    0.28584  63.3%     -    0s\n",
      "H   30    18                       0.6645447    0.33079  50.2%   192    0s\n",
      "H   85    67                       0.5655439    0.33079  41.5%   124    1s\n",
      "*  106    81              34       0.4791778    0.33082  31.0%   113    1s\n",
      "*  107    81              34       0.4791233    0.33082  31.0%   112    1s\n",
      "H  118    75                       0.4527662    0.33082  26.9%   108    1s\n",
      "*  209   141              35       0.4461974    0.33118  25.8%  96.4    1s\n",
      "*  213   138              37       0.4429638    0.33118  25.2%  94.7    1s\n",
      "*  488   179              30       0.4116855    0.35520  13.7%  80.4    2s\n",
      "H 1449   443                       0.4087766    0.37317  8.71%  70.7    4s\n",
      "  1456   442    0.40697   15   47    0.40878    0.37317  8.71%  70.8    5s\n",
      "* 1651   483              39       0.4050548    0.37317  7.87%  79.6    6s\n",
      "* 1725   462              44       0.3981698    0.37317  6.28%  80.1    7s\n",
      "H 3002   379                       0.3971641    0.37694  5.09%  74.6    9s\n",
      "  3177   411     cutoff   22         0.39716    0.37779  4.88%  74.2   10s\n",
      "  5942   585    0.38864   28   16    0.39716    0.38331  3.49%  69.5   15s\n",
      "  8659   569     cutoff   28         0.39716    0.38706  2.54%  68.5   20s\n",
      " 11032   217    0.39207   24   23    0.39716    0.39207  1.28%  68.2   25s\n",
      "\n",
      "Explored 11878 nodes (807486 simplex iterations) in 26.57 seconds\n",
      "Thread count was 4 (of 4 available processors)\n",
      "\n",
      "Solution count 10: 0.397164 0.39817 0.405055 ... 0.479178\n",
      "\n",
      "Optimal solution found (tolerance 1.00e-04)\n",
      "Best objective 3.971640796179e-01, best bound 3.971640796179e-01, gap 0.0000%\n"
     ]
    }
   ],
   "source": [
    "u, x, ms, cost = controller.feedforward(x0)"
   ]
  },
  {
   "cell_type": "code",
   "execution_count": 16,
   "metadata": {},
   "outputs": [
    {
     "data": {
      "image/png": "[encoded data removed]",
      "text/plain": [
       "<Figure size 432x288 with 2 Axes>"
      ]
     },
     "metadata": {},
     "output_type": "display_data"
    }
   ],
   "source": [
    "plot_input_sequence(u, h, (u_min, u_max))"
   ]
  },
  {
   "cell_type": "code",
   "execution_count": 17,
   "metadata": {},
   "outputs": [
    {
     "data": {
      "image/png": "[encoded data removed]",
      "text/plain": [
       "<Figure size 432x288 with 6 Axes>"
      ]
     },
     "metadata": {},
     "output_type": "display_data"
    }
   ],
   "source": [
    "plot_state_trajectory(x, h, (x_min, x_max))"
   ]
  },
  {
   "cell_type": "markdown",
   "metadata": {},
   "source": [
    "# With my B&B"
   ]
  },
  {
   "cell_type": "code",
   "execution_count": null,
   "metadata": {
    "collapsed": true
   },
   "outputs": [],
   "source": [
    "from pympc.control.hybrid_benchmark.branch_and_bound import branch_and_bound, best_first, depth_first"
   ]
  },
  {
   "cell_type": "code",
   "execution_count": null,
   "metadata": {
    "collapsed": true
   },
   "outputs": [],
   "source": [
    "def solver(identifier, objective_cutoff):\n",
    "    return controller.solve_relaxation(x0, identifier, objective_cutoff)"
   ]
  },
  {
   "cell_type": "code",
   "execution_count": null,
   "metadata": {},
   "outputs": [],
   "source": [
    "methods = [\n",
    "#     'Traditional formulation',\n",
    "    'Big-M',\n",
    "    'Convex hull',\n",
    "    'Convex hull, lifted constraints'\n",
    "]\n",
    "\n",
    "lb = {}\n",
    "ub = {}\n",
    "for method in methods:\n",
    "    print method\n",
    "    controller = HybridModelPredictiveController(S, N, Q, R, P, X_N, method)\n",
    "    sol, lb_i, ub_i = branch_and_bound(solver, best_first, controller.explore_in_chronological_order)\n",
    "    lb[method] = lb_i\n",
    "    ub[method] = ub_i\n",
    "np.save('lb_2d', lb)\n",
    "np.save('ub_2d', ub)"
   ]
  },
  {
   "cell_type": "code",
   "execution_count": null,
   "metadata": {
    "collapsed": true
   },
   "outputs": [],
   "source": [
    "# format x axis to write nk instead of n000\n",
    "from matplotlib.ticker import FuncFormatter\n",
    "def thousands(x, pos):\n",
    "    return '%1.1fk' % (x*1e-3)\n",
    "formatter = FuncFormatter(thousands)\n",
    "\n",
    "mpl.rcParams['axes.prop_cycle'] = cycler(color='bgrcmyk')\n",
    "plt.rc('font', size=14)\n",
    "colors = ['g', 'c', 'r','b']\n",
    "linestyles = [':', '--', '-.', '-']\n",
    "for i, method in enumerate(methods):\n",
    "    plt.plot(lb[method]/max(lb[method]), label=method, color=colors[i], linestyle=linestyles[i], linewidth=3)\n",
    "#     plt.plot(ub[method]/sol['objective'], color=colors[i], linestyle=linestyles[i], linewidth=3,zorder=0)\n",
    "    plt.scatter(len(lb[method]), 1, color=colors[i], marker='x', s=300)\n",
    "\n",
    "ax = plt.gca()\n",
    "ax.xaxis.set_major_formatter(formatter)\n",
    "    \n",
    "plt.xlim((0, 1.05*max([len(lb[method]) for method in methods])))\n",
    "plt.ylim((.95, 1.005))\n",
    "plt.legend()\n",
    "plt.grid(True)\n",
    "plt.xlabel(r'Nodes in B&B tree')\n",
    "plt.ylabel(r'Lower bound B&B / cost MICP')\n",
    "# plt.savefig('relaxation_ratio.pdf', bbox_inches='tight')\n",
    "plt.show()"
   ]
  },
  {
   "cell_type": "markdown",
   "metadata": {},
   "source": [
    "# Animation"
   ]
  },
  {
   "cell_type": "code",
   "execution_count": 18,
   "metadata": {
    "collapsed": true
   },
   "outputs": [],
   "source": [
    "import meshcat\n",
    "from meshcat.geometry import Box, MeshLambertMaterial\n",
    "from meshcat.animation import Animation\n",
    "import meshcat.transformations as tf"
   ]
  },
  {
   "cell_type": "code",
   "execution_count": 19,
   "metadata": {
    "collapsed": true
   },
   "outputs": [],
   "source": [
    "# x, ms = S.simulate(x0, [np.zeros(S.nu)]*200)"
   ]
  },
  {
   "cell_type": "code",
   "execution_count": 20,
   "metadata": {},
   "outputs": [
    {
     "name": "stdout",
     "output_type": "stream",
     "text": [
      "You can open the visualizer by visiting the following URL:\n",
      "http://127.0.0.1:7000/static/\n"
     ]
    },
    {
     "data": {
      "text/html": [
       "\n",
       "<div style=\"height: 400px; width: 600px; overflow-x: auto; overflow-y: hidden; resize: both\">\n",
       "<iframe src=\"http://127.0.0.1:7000/static/\" style=\"width: 100%; height: 100%; border: none\"></iframe>\n",
       "</div>\n"
      ],
      "text/plain": [
       "<IPython.core.display.HTML object>"
      ]
     },
     "execution_count": 20,
     "metadata": {},
     "output_type": "execute_result"
    }
   ],
   "source": [
    "vis = meshcat.Visualizer()\n",
    "vis.jupyter_cell()"
   ]
  },
  {
   "cell_type": "code",
   "execution_count": 21,
   "metadata": {
    "collapsed": true
   },
   "outputs": [],
   "source": [
    "paddle_height = .2\n",
    "box_height = .1\n",
    "red = 0xff2222\n",
    "blue = 0x2222ff\n",
    "vis['paddle'].set_object(Box([.1, 1., paddle_height]), MeshLambertMaterial(color=red))\n",
    "vis['box'].set_object(Box([.11, .1, box_height]), MeshLambertMaterial(color=blue))"
   ]
  },
  {
   "cell_type": "code",
   "execution_count": 22,
   "metadata": {
    "collapsed": true
   },
   "outputs": [],
   "source": [
    "anim = Animation()\n",
    "for t in range(len(x)):\n",
    "    with anim.at_frame(vis, t*h*150) as frame:\n",
    "        frame['paddle'].set_transform(tf.translation_matrix([0, x[t][2], x[t][3]+m*g/k-paddle_height/2.]))\n",
    "        frame['box'].set_transform(tf.translation_matrix([0, x[t][0], x[t][1]+box_height/2.]))\n",
    "vis.set_animation(anim)"
   ]
  },
  {
   "cell_type": "code",
   "execution_count": null,
   "metadata": {
    "collapsed": true
   },
   "outputs": [],
   "source": []
  }
 ],
 "metadata": {
  "kernelspec": {
   "display_name": "Python 2",
   "language": "python",
   "name": "python2"
  },
  "language_info": {
   "codemirror_mode": {
    "name": "ipython",
    "version": 2
   },
   "file_extension": ".py",
   "mimetype": "text/x-python",
   "name": "python",
   "nbconvert_exporter": "python",
   "pygments_lexer": "ipython2",
   "version": "2.7.15"
  }
 },
 "nbformat": 4,
 "nbformat_minor": 2
}
