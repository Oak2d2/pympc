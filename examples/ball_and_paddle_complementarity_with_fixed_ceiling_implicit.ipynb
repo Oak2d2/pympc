{
 "cells": [
  {
   "cell_type": "code",
   "execution_count": 1,
   "metadata": {},
   "outputs": [],
   "source": [
    "# notebook settings\n",
    "%load_ext autoreload\n",
    "%autoreload 2\n",
    "\n",
    "# external imports\n",
    "import numpy as np\n",
    "import sympy as sp\n",
    "import matplotlib as mpl\n",
    "import matplotlib.pyplot as plt\n",
    "from copy import copy\n",
    "from math import floor\n",
    "\n",
    "# internal imports\n",
    "from pympc.geometry.polyhedron import Polyhedron\n",
    "from pympc.dynamics.discrete_time_systems import LinearSystem, AffineSystem, PieceWiseAffineSystem\n",
    "from pympc.control.hybrid_benchmark.controllers import HybridModelPredictiveController\n",
    "from pympc.plot import plot_input_sequence, plot_state_trajectory, plot_output_trajectory\n",
    "from pympc.control.hybrid_benchmark.utils import get_constraint_set, remove_redundant_inequalities_fast, convex_hull_method_fast"
   ]
  },
  {
   "cell_type": "markdown",
   "metadata": {},
   "source": [
    "# Problem set-up"
   ]
  },
  {
   "cell_type": "code",
   "execution_count": 2,
   "metadata": {
    "collapsed": true
   },
   "outputs": [],
   "source": [
    "# numeric parameters of the system\n",
    "m = 1.\n",
    "r = .1\n",
    "I = .4*m*r**2.\n",
    "d = .4\n",
    "l = .3\n",
    "mu = .2\n",
    "g = 10.\n",
    "h = .05"
   ]
  },
  {
   "cell_type": "code",
   "execution_count": 3,
   "metadata": {
    "collapsed": true
   },
   "outputs": [],
   "source": [
    "# symbolic state\n",
    "xb, yb, tb = sp.symbols('xb yb tb') # position of the ball\n",
    "xf, yf = sp.symbols('xf yf') # position of the floor\n",
    "xdb, ydb, tdb = sp.symbols('xdb ydb tdb') # velocity of the ball\n",
    "xdf, ydf = sp.symbols('xdf ydf') # velocity of the floor\n",
    "x = sp.Matrix([\n",
    "    xb, yb, tb,\n",
    "    xf, yf,\n",
    "    xdb, ydb, tdb,\n",
    "    xdf, ydf\n",
    "])\n",
    "\n",
    "# symbolic input\n",
    "xd2f, yd2f = sp.symbols('xd2f yd2f') # acceleration of the floor\n",
    "ftf, fnf = sp.symbols('ftf fnf') # floor force\n",
    "ftc, fnc = sp.symbols('ftc fnc') # ceiling force\n",
    "u = sp.Matrix([\n",
    "    xd2f, yd2f,\n",
    "    ftf, fnf,\n",
    "    ftc, fnc\n",
    "])"
   ]
  },
  {
   "cell_type": "code",
   "execution_count": 4,
   "metadata": {
    "collapsed": true
   },
   "outputs": [],
   "source": [
    "# ball velocity update\n",
    "xdb_next = xdb + h*ftf/m - h*ftc/m\n",
    "ydb_next = ydb + h*fnf/m - h*fnc/m - h*g\n",
    "tdb_next = tdb + r*h*ftf/I + r*h*ftc/I\n",
    "\n",
    "# ball position update\n",
    "xb_next = xb + h*xdb_next\n",
    "yb_next = yb + h*ydb_next\n",
    "tb_next = tb + h*tdb_next\n",
    "\n",
    "# floor velocity update\n",
    "xdf_next = xdf + h*xd2f\n",
    "ydf_next = ydf + h*yd2f\n",
    "\n",
    "# floor position update\n",
    "xf_next = xf + h*xdf_next\n",
    "yf_next = yf + h*ydf_next\n",
    "\n",
    "# state update\n",
    "x_next = sp.Matrix([\n",
    "    xb_next, yb_next, tb_next,\n",
    "    xf_next, yf_next,\n",
    "    xdb_next, ydb_next, tdb_next,\n",
    "    xdf_next, ydf_next\n",
    "])\n",
    "\n",
    "# affine system\n",
    "S0 = AffineSystem.from_symbolic(x, u, x_next)"
   ]
  },
  {
   "cell_type": "code",
   "execution_count": 5,
   "metadata": {},
   "outputs": [],
   "source": [
    "# relative tangential velocity\n",
    "sliding_velocity_floor = xdb_next + r*tdb_next - xdf_next\n",
    "sliding_velocity_ceiling = xdb_next - r*tdb_next\n",
    "\n",
    "# gap function floor and ceiling\n",
    "gap_floor = yb_next - yf_next\n",
    "gap_ceiling = d - 2.*r - yb_next\n",
    "\n",
    "# gap function floor and ceiling in case of free dynamics\n",
    "f_zero = {ftf: 0., fnf: 0., ftc: 0., fnc: 0.}\n",
    "gap_floor_zero_force = gap_floor.subs(f_zero)\n",
    "gap_ceiling_zero_force = gap_ceiling.subs(f_zero)\n",
    "\n",
    "# ball distance to boundaries\n",
    "ball_on_floor = sp.Matrix([\n",
    "    xb_next - xf_next - l,\n",
    "    xf_next - xb_next - l\n",
    "])\n",
    "ball_on_ceiling = sp.Matrix([\n",
    "    xb_next - l,\n",
    "    - xb_next - l\n",
    "])"
   ]
  },
  {
   "cell_type": "code",
   "execution_count": 6,
   "metadata": {
    "collapsed": true
   },
   "outputs": [],
   "source": [
    "# state bounds\n",
    "x_max = np.array([\n",
    "    l, d-2.*r, 1.2*np.pi, # ball config\n",
    "    l, l/2.,            # floor config\n",
    "    2., 2., 10.,     # ball vel\n",
    "    2., 2.          # floor vel\n",
    "])\n",
    "x_min = - x_max\n",
    "\n",
    "# input bounds\n",
    "u_max = np.array([\n",
    "    30., 30.,       # floor acc\n",
    "    100., 100.,       # floor force\n",
    "    100., 100.        # ceiling force\n",
    "])\n",
    "u_min = - u_max\n",
    "\n",
    "# domain bounds\n",
    "xu = x.col_join(u)\n",
    "xu_min = np.concatenate((x_min, u_min))\n",
    "xu_max = np.concatenate((x_max, u_max))"
   ]
  },
  {
   "cell_type": "code",
   "execution_count": 7,
   "metadata": {
    "collapsed": true
   },
   "outputs": [],
   "source": [
    "# discrete time dynamics in mode 1\n",
    "# (ball in the air)\n",
    "\n",
    "# build domain\n",
    "D1 = Polyhedron.from_bounds(xu_min, xu_max)\n",
    "\n",
    "# set floor and ceiling forces to zero\n",
    "for f in [ftf, fnf, ftc, fnc]:\n",
    "    D1.add_symbolic_equality(xu, sp.Matrix([f]))\n",
    "\n",
    "# - gap <= 0 with floor and ceiling\n",
    "D1.add_symbolic_inequality(xu, sp.Matrix([- gap_floor_zero_force]))\n",
    "D1.add_symbolic_inequality(xu, sp.Matrix([- gap_ceiling_zero_force]))\n",
    "\n",
    "# check domain\n",
    "assert D1.bounded\n",
    "assert not D1.empty"
   ]
  },
  {
   "cell_type": "code",
   "execution_count": 8,
   "metadata": {},
   "outputs": [],
   "source": [
    "# discrete time dynamics in mode 2\n",
    "# (ball sticking with the floor, not in contact with the ceiling)\n",
    "\n",
    "# build domain\n",
    "D2 = Polyhedron.from_bounds(xu_min, xu_max)\n",
    "\n",
    "# set ceiling forces to zero\n",
    "for f in [ftc, fnc]:\n",
    "    D2.add_symbolic_equality(xu, sp.Matrix([f]))\n",
    "\n",
    "# enforce sticking\n",
    "D2.add_symbolic_equality(xu, sp.Matrix([sliding_velocity_floor]))\n",
    "D2.add_symbolic_equality(xu, sp.Matrix([gap_floor]))\n",
    "\n",
    "# gap <= 0 with floor\n",
    "D2.add_symbolic_inequality(xu, sp.Matrix([gap_floor_zero_force]))\n",
    "\n",
    "# - gap <= 0 with ceiling\n",
    "D2.add_symbolic_inequality(xu, sp.Matrix([- gap_ceiling_zero_force]))\n",
    "\n",
    "# ball not falling down the floor\n",
    "D2.add_symbolic_inequality(xu, ball_on_floor)\n",
    "\n",
    "# friction cone\n",
    "D2.add_symbolic_inequality(xu, sp.Matrix([ftf - mu*fnf]))\n",
    "D2.add_symbolic_inequality(xu, sp.Matrix([- ftf - mu*fnf]))\n",
    "\n",
    "# check domain\n",
    "assert D2.bounded\n",
    "assert not D2.empty"
   ]
  },
  {
   "cell_type": "code",
   "execution_count": 9,
   "metadata": {
    "collapsed": true
   },
   "outputs": [],
   "source": [
    "# discrete time dynamics in mode 3\n",
    "# (ball sliding right on the floor, not in contact with the ceiling)\n",
    "\n",
    "# build domain\n",
    "D3 = Polyhedron.from_bounds(xu_min, xu_max)\n",
    "\n",
    "# set ceiling forces to zero\n",
    "for f in [ftc, fnc]:\n",
    "    D3.add_symbolic_equality(xu, sp.Matrix([f]))\n",
    "    \n",
    "# enforce sliding\n",
    "D3.add_symbolic_equality(xu, sp.Matrix([gap_floor]))\n",
    "D3.add_symbolic_equality(xu, sp.Matrix([ftf + mu*fnf]))\n",
    "\n",
    "# gap <= 0 with floor\n",
    "D3.add_symbolic_inequality(xu, sp.Matrix([gap_floor_zero_force]))\n",
    "\n",
    "# - gap <= 0 with ceiling\n",
    "D3.add_symbolic_inequality(xu, sp.Matrix([- gap_ceiling_zero_force]))\n",
    "\n",
    "# ball not falling down the floor\n",
    "D3.add_symbolic_inequality(xu, ball_on_floor)\n",
    "\n",
    "# positive relative velocity\n",
    "D3.add_symbolic_inequality(xu, sp.Matrix([- sliding_velocity_floor]))\n",
    "\n",
    "# check domain\n",
    "assert D3.bounded\n",
    "assert not D3.empty"
   ]
  },
  {
   "cell_type": "code",
   "execution_count": 10,
   "metadata": {
    "collapsed": true
   },
   "outputs": [],
   "source": [
    "# discrete time dynamics in mode 4\n",
    "# (ball sliding left on the floor, not in contact with the ceiling)\n",
    "\n",
    "# build domain\n",
    "D4 = Polyhedron.from_bounds(xu_min, xu_max)\n",
    "\n",
    "# set ceiling forces to zero\n",
    "for f in [ftc, fnc]:\n",
    "    D4.add_symbolic_equality(xu, sp.Matrix([f]))\n",
    "    \n",
    "# enforce sliding\n",
    "D4.add_symbolic_equality(xu, sp.Matrix([gap_floor]))\n",
    "D4.add_symbolic_equality(xu, sp.Matrix([ftf - mu*fnf]))\n",
    "\n",
    "# gap <= 0 with floor\n",
    "D4.add_symbolic_inequality(xu, sp.Matrix([gap_floor_zero_force]))\n",
    "\n",
    "# - gap <= 0 with ceiling\n",
    "D4.add_symbolic_inequality(xu, sp.Matrix([- gap_ceiling_zero_force]))\n",
    "\n",
    "# ball not falling down the floor\n",
    "D4.add_symbolic_inequality(xu, ball_on_floor)\n",
    "\n",
    "# negative relative velocity\n",
    "D4.add_symbolic_inequality(xu, sp.Matrix([sliding_velocity_floor]))\n",
    "\n",
    "# check domain\n",
    "assert D4.bounded\n",
    "assert not D4.empty"
   ]
  },
  {
   "cell_type": "code",
   "execution_count": 11,
   "metadata": {
    "collapsed": true
   },
   "outputs": [],
   "source": [
    "# discrete time dynamics in mode 5\n",
    "# (ball sticking on the ceiling, not in contact with the floor)\n",
    "\n",
    "# build domain\n",
    "D5 = Polyhedron.from_bounds(xu_min, xu_max)\n",
    "\n",
    "# set floor forces to zero\n",
    "for f in [ftf, fnf]:\n",
    "    D5.add_symbolic_equality(xu, sp.Matrix([f]))\n",
    "\n",
    "# enforce sticking\n",
    "D5.add_symbolic_equality(xu, sp.Matrix([sliding_velocity_ceiling]))\n",
    "D5.add_symbolic_equality(xu, sp.Matrix([gap_ceiling]))\n",
    "\n",
    "# - gap <= 0 with floor\n",
    "D5.add_symbolic_inequality(xu, sp.Matrix([- gap_floor_zero_force]))\n",
    "\n",
    "# gap <= 0 with ceiling\n",
    "D5.add_symbolic_inequality(xu, sp.Matrix([gap_ceiling_zero_force]))\n",
    "\n",
    "# ball in contact with the ceiling\n",
    "D5.add_symbolic_inequality(xu, ball_on_ceiling)\n",
    "\n",
    "# friction cone\n",
    "D5.add_symbolic_inequality(xu, sp.Matrix([ftc - mu*fnc]))\n",
    "D5.add_symbolic_inequality(xu, sp.Matrix([- ftc - mu*fnc]))\n",
    "\n",
    "# check domain\n",
    "assert D5.bounded\n",
    "assert not D5.empty"
   ]
  },
  {
   "cell_type": "code",
   "execution_count": 12,
   "metadata": {
    "collapsed": true
   },
   "outputs": [],
   "source": [
    "# discrete time dynamics in mode 6\n",
    "# (ball sliding right on the ceiling, not in contact with the floor)\n",
    "\n",
    "# build domain\n",
    "D6 = Polyhedron.from_bounds(xu_min, xu_max)\n",
    "\n",
    "# set floor forces to zero\n",
    "for f in [ftf, fnf]:\n",
    "    D6.add_symbolic_equality(xu, sp.Matrix([f]))\n",
    "\n",
    "# enforce sliding\n",
    "D6.add_symbolic_equality(xu, sp.Matrix([gap_ceiling]))\n",
    "D6.add_symbolic_equality(xu, sp.Matrix([ftc + mu*fnc]))\n",
    "\n",
    "# - gap <= 0 with floor\n",
    "D6.add_symbolic_inequality(xu, sp.Matrix([- gap_floor_zero_force]))\n",
    "\n",
    "# gap <= 0 with ceiling\n",
    "D6.add_symbolic_inequality(xu, sp.Matrix([gap_ceiling_zero_force]))\n",
    "\n",
    "# ball in contact with the ceiling\n",
    "D6.add_symbolic_inequality(xu, ball_on_ceiling)\n",
    "\n",
    "# positive relative velocity\n",
    "D6.add_symbolic_inequality(xu, sp.Matrix([- sliding_velocity_ceiling]))\n",
    "\n",
    "# check domain\n",
    "assert D6.bounded\n",
    "assert not D6.empty"
   ]
  },
  {
   "cell_type": "code",
   "execution_count": 13,
   "metadata": {
    "collapsed": true
   },
   "outputs": [],
   "source": [
    "# discrete time dynamics in mode 7\n",
    "# (ball sliding left on the ceiling, not in contact with the floor)\n",
    "\n",
    "# build domain\n",
    "D7 = Polyhedron.from_bounds(xu_min, xu_max)\n",
    "\n",
    "# set floor forces to zero\n",
    "for f in [ftf, fnf]:\n",
    "    D7.add_symbolic_equality(xu, sp.Matrix([f]))\n",
    "\n",
    "# enforce sliding\n",
    "D7.add_symbolic_equality(xu, sp.Matrix([gap_ceiling]))\n",
    "D7.add_symbolic_equality(xu, sp.Matrix([ftc - mu*fnc]))\n",
    "\n",
    "# - gap <= 0 with floor\n",
    "D7.add_symbolic_inequality(xu, sp.Matrix([- gap_floor_zero_force]))\n",
    "\n",
    "# gap <= 0 with ceiling\n",
    "D7.add_symbolic_inequality(xu, sp.Matrix([gap_ceiling_zero_force]))\n",
    "\n",
    "# ball in contact with the ceiling\n",
    "D7.add_symbolic_inequality(xu, ball_on_ceiling)\n",
    "\n",
    "# negative relative velocity\n",
    "D7.add_symbolic_inequality(xu, sp.Matrix([sliding_velocity_ceiling]))\n",
    "\n",
    "# check domain\n",
    "assert D7.bounded\n",
    "assert not D7.empty"
   ]
  },
  {
   "cell_type": "code",
   "execution_count": 14,
   "metadata": {},
   "outputs": [],
   "source": [
    "# list of dynamics\n",
    "S_list = [S0]*7\n",
    "\n",
    "# list of domains\n",
    "D_list = [D1, D2, D3, D4, D5, D6, D7]\n",
    "\n",
    "# PWA system\n",
    "S = PieceWiseAffineSystem(S_list, D_list)"
   ]
  },
  {
   "cell_type": "code",
   "execution_count": 15,
   "metadata": {},
   "outputs": [],
   "source": [
    "# controller parameters\n",
    "N = 20\n",
    "Q = np.diag([\n",
    "    1., .0, .0,\n",
    "    1., 1.,\n",
    "    1., 1., .01,\n",
    "    1., 1.\n",
    "])*h\n",
    "R = np.diag([\n",
    "    .01, .001,\n",
    "    .0, .0,\n",
    "    .0, .0\n",
    "])*h\n",
    "P = np.zeros((S.nx, S.nx))\n",
    "\n",
    "# terminal set and cost\n",
    "X_N = Polyhedron.from_bounds(*[np.zeros(S.nx)]*2)\n",
    "# X_N = Polyhedron.from_bounds(x_min, x_max)"
   ]
  },
  {
   "cell_type": "code",
   "execution_count": 16,
   "metadata": {
    "collapsed": true
   },
   "outputs": [],
   "source": [
    "controller = HybridModelPredictiveController(S, N, Q, R, P, X_N, method='Convex hull, lifted constraints')"
   ]
  },
  {
   "cell_type": "code",
   "execution_count": 17,
   "metadata": {
    "collapsed": true
   },
   "outputs": [],
   "source": [
    "# initial condition\n",
    "x0 = np.array([\n",
    "    0., 0., np.pi,\n",
    "    0., 0.,\n",
    "    0., 0., 0.,\n",
    "    0., 0.\n",
    "])\n",
    "# x0 = np.array([\n",
    "#     0., 0.2, 0.,\n",
    "#     0., 0.,\n",
    "#     0., 0., 0.,\n",
    "#     0., 0.\n",
    "# ])"
   ]
  },
  {
   "cell_type": "code",
   "execution_count": 18,
   "metadata": {},
   "outputs": [
    {
     "data": {
      "text/plain": [
       "0.10185444909674216"
      ]
     },
     "execution_count": 18,
     "metadata": {},
     "output_type": "execute_result"
    }
   ],
   "source": [
    "controller.solve_relaxation(x0, {})[1]"
   ]
  },
  {
   "cell_type": "code",
   "execution_count": 19,
   "metadata": {},
   "outputs": [
    {
     "name": "stdout",
     "output_type": "stream",
     "text": [
      "Changed value of parameter OutputFlag to 1\n",
      "   Prev: 0  Min: 0  Max: 1  Default: 1\n",
      "Optimize a model with 12070 rows, 6560 columns and 35450 nonzeros\n",
      "Model has 140 quadratic constraints\n",
      "Variable types: 6420 continuous, 140 integer (140 binary)\n",
      "Coefficient statistics:\n",
      "  Matrix range     [3e-03, 1e+02]\n",
      "  QMatrix range    [5e-01, 1e+00]\n",
      "  Objective range  [1e+00, 1e+00]\n",
      "  Bounds range     [3e+00, 3e+00]\n",
      "  RHS range        [1e+00, 1e+00]\n",
      "Presolve removed 8110 rows and 4605 columns\n",
      "Presolve time: 0.07s\n",
      "Presolved: 3960 rows, 1955 columns, 13257 nonzeros\n",
      "Variable types: 1824 continuous, 131 integer (131 binary)\n",
      "\n",
      "Root relaxation: objective 0.000000e+00, 3355 iterations, 0.22 seconds\n",
      "\n",
      "    Nodes    |    Current Node    |     Objective Bounds      |     Work\n",
      " Expl Unexpl |  Obj  Depth IntInf | Incumbent    BestBd   Gap | It/Node Time\n",
      "\n",
      "     0     0    0.00000    0    4          -    0.00000      -     -    0s\n",
      "     0     0    0.00000    0   29          -    0.00000      -     -    0s\n",
      "     0     0    0.00000    0   27          -    0.00000      -     -    0s\n",
      "     0     0    0.00000    0    6          -    0.00000      -     -    1s\n",
      "     0     0    0.00000    0    7          -    0.00000      -     -    1s\n",
      "     0     0    0.00000    0    7          -    0.00000      -     -    1s\n",
      "     0     2    0.00000    0    7          -    0.00000      -     -    1s\n",
      "   197    49 infeasible    8               -    0.00000      -   240    5s\n",
      "   484   114 infeasible   21               -    0.00000      -   256   10s\n",
      "H  530   120                       1.7233955    0.00000   100%   252   10s\n",
      "*  530   120              38       1.7233955    0.00000   100%   252   10s\n",
      "H  606   147                       1.6713959    0.00000   100%   243   11s\n",
      "*  606   147              50       1.6713959    0.00000   100%   243   11s\n",
      "   712   208    0.00000   19   27    1.67140    0.00000   100%   276   15s\n",
      "   791   242    0.01250   22   23    1.67140    0.00000   100%   329   20s\n",
      "   842   274    0.00000   22    9    1.67140    0.00000   100%   350   25s\n",
      "   851   280    0.01250    9   14    1.67140    0.00000   100%   346   30s\n",
      "   864   288    0.00000   13   43    1.67140    0.00000   100%   408   35s\n",
      "   878   293    0.00625   17   22    1.67140    0.00000   100%   422   40s\n",
      "   915   311 infeasible   26         1.67140    0.00000   100%   455   47s\n",
      "   956   326    0.00625   15   49    1.67140    0.00000   100%   469   51s\n",
      "   995   329    0.01250   21   27    1.67140    0.00000   100%   486   56s\n",
      "  1042   341    0.01250   30   32    1.67140    0.00000   100%   500   64s\n",
      "  1129   351    0.00625   32   44    1.67140    0.00000   100%   508   70s\n",
      "  1198   368    0.00625   36   38    1.67140    0.00000   100%   516   76s\n",
      "  1251   380    0.00000   30   27    1.67140    0.00000   100%   528   81s\n",
      "  1334   390    0.00000   30   31    1.67140    0.00000   100%   538   85s\n",
      "  1402   403    0.04732   33   33    1.67140    0.00000   100%   549   90s\n",
      "  1564   461    0.03720   35   35    1.67140    0.00000   100%   562   98s\n",
      "  1622   465    1.16292   54    4    1.67140    0.00000   100%   570  103s\n",
      "  1672   459 infeasible   38         1.67140    0.00000   100%   581  108s\n",
      "  1836   526    0.00000   25   34    1.67140    0.00000   100%   565  112s\n",
      "  1866   572    0.01978   23   30    1.67140    0.00000   100%   582  117s\n",
      "  1921   610    0.27680   43   22    1.67140    0.00000   100%   595  121s\n",
      "\n",
      "Cutting planes:\n",
      "  Cover: 1\n",
      "  Projected implied bound: 1\n",
      "  Flow cover: 2\n",
      "  Inf proof: 1\n",
      "\n",
      "Explored 1988 nodes (1207707 simplex iterations) in 122.01 seconds\n",
      "Thread count was 4 (of 4 available processors)\n",
      "\n",
      "Solution count 2: 1.6714 1.7234 \n",
      "\n",
      "Solve interrupted\n",
      "Warning: max constraint violation (5.3201e-05) exceeds tolerance\n",
      "Best objective 1.671395944904e+00, best bound 0.000000000000e+00, gap 100.0000%\n"
     ]
    }
   ],
   "source": [
    "# controller.prog.setParam('MIPFocus', 2)\n",
    "u_opt, x_opt, ms_opt, cost_opt = controller.feedforward(x0)"
   ]
  },
  {
   "cell_type": "markdown",
   "metadata": {},
   "source": [
    "from pympc.control.hybrid_benchmark.branch_and_bound import branch_and_bound, best_first, depth_first\n",
    "def solver(identifier, objective_cutoff):\n",
    "    return controller.solve_relaxation(x0, identifier, objective_cutoff)\n",
    "lb = {}\n",
    "ub = {}\n",
    "sol = {}\n",
    "methods = [\n",
    "    'Convex hull, lifted constraints',\n",
    "    'Convex hull',\n",
    "    'Big-M',\n",
    "    'Traditional formulation'\n",
    "]\n",
    "for method in methods:\n",
    "    print method\n",
    "    controller = HybridModelPredictiveController(S, N, Q, R, P, X_N, method)\n",
    "    sol_i, lb_i, ub_i = branch_and_bound(solver, depth_first, controller.explore_in_chronological_order)\n",
    "    lb[method] = lb_i\n",
    "    ub[method] = ub_i\n",
    "    sol[method] = sol_i"
   ]
  },
  {
   "cell_type": "code",
   "execution_count": null,
   "metadata": {
    "collapsed": true
   },
   "outputs": [],
   "source": [
    "for i in range(S.nx):\n",
    "    print 'x_'+str(i), sum(xt[i]*Q[i,i]*xt[i] for xt in x_opt)\n",
    "\n",
    "for i in range(S.nu):\n",
    "    print 'u_'+str(i), sum(ut[i]*R[i,i]*ut[i] for ut in u_opt)"
   ]
  },
  {
   "cell_type": "code",
   "execution_count": null,
   "metadata": {
    "collapsed": true
   },
   "outputs": [],
   "source": [
    "for i in range(S.nx):\n",
    "    print 'x max_'+str(i), x_max[i], max(xt[i] for xt in x_opt)\n",
    "    print 'x min_'+str(i), x_min[i], min(xt[i] for xt in x_opt)\n",
    "\n",
    "for i in range(S.nu):\n",
    "    print 'u max_'+str(i), u_max[i], max(ut[i] for ut in u_opt)\n",
    "    print 'u min_'+str(i), u_min[i], min(ut[i] for ut in u_opt)"
   ]
  },
  {
   "cell_type": "code",
   "execution_count": null,
   "metadata": {
    "collapsed": true
   },
   "outputs": [],
   "source": [
    "plot_input_sequence(u_opt, h, (u_min, u_max))"
   ]
  },
  {
   "cell_type": "code",
   "execution_count": null,
   "metadata": {
    "collapsed": true
   },
   "outputs": [],
   "source": [
    "plot_state_trajectory(x_opt, h, (x_min, x_max))"
   ]
  },
  {
   "cell_type": "markdown",
   "metadata": {},
   "source": [
    "for i in range(S.nx):\n",
    "    print i, \"min\", min(xt[i] for xt in x)\n",
    "    print i, \"max\", max(xt[i] for xt in x)\n",
    "print x_min\n",
    "print x_max"
   ]
  },
  {
   "cell_type": "markdown",
   "metadata": {},
   "source": [
    "for i in range(S.nx):\n",
    "    print sum(xt[i]*Q[i,i]*xt[i] for xt in x)\n",
    "for i in range(S.nu):\n",
    "    print sum(ut[i]*R[i,i]*ut[i] for ut in u)"
   ]
  },
  {
   "cell_type": "code",
   "execution_count": null,
   "metadata": {},
   "outputs": [],
   "source": [
    "x0 = np.array([\n",
    "    0., 0., 0.,\n",
    "    0., 0.,\n",
    "    0., 0., 0.,\n",
    "    0., 0.\n",
    "])\n",
    "u_sim = [np.zeros(S.nu)]*50\n",
    "x_sim, ms_sim = S.simulate(x0, u_sim)\n",
    "print ms_sim"
   ]
  },
  {
   "cell_type": "markdown",
   "metadata": {},
   "source": [
    "# Animation"
   ]
  },
  {
   "cell_type": "code",
   "execution_count": null,
   "metadata": {
    "collapsed": true
   },
   "outputs": [],
   "source": [
    "import meshcat\n",
    "from meshcat.geometry import Box, Sphere, Cylinder, MeshLambertMaterial\n",
    "from meshcat.animation import Animation\n",
    "import meshcat.transformations as tf"
   ]
  },
  {
   "cell_type": "code",
   "execution_count": null,
   "metadata": {},
   "outputs": [],
   "source": [
    "vis = meshcat.Visualizer()\n",
    "# vis.jupyter_cell()\n",
    "vis.open()"
   ]
  },
  {
   "cell_type": "code",
   "execution_count": null,
   "metadata": {
    "collapsed": true
   },
   "outputs": [],
   "source": [
    "tickness = .05\n",
    "depth = .3\n",
    "red = 0xff2222\n",
    "blue = 0x2222ff\n",
    "green = 0x22ff22\n",
    "vis['ball'].set_object(\n",
    "    Sphere(r),\n",
    "    MeshLambertMaterial(color=blue)\n",
    ")\n",
    "vis['floor'].set_object(\n",
    "    Box([depth, l*2., tickness]),\n",
    "    MeshLambertMaterial(color=red)\n",
    ")\n",
    "vis['ceiling'].set_object(\n",
    "    Box([depth, l*2., tickness]),\n",
    "    MeshLambertMaterial(color=red)\n",
    ")\n",
    "vis['ball_orientation'].set_object(\n",
    "    Cylinder(r/10., r),\n",
    "    MeshLambertMaterial(color=green)\n",
    ")"
   ]
  },
  {
   "cell_type": "code",
   "execution_count": null,
   "metadata": {
    "collapsed": true
   },
   "outputs": [],
   "source": [
    "anim = Animation()\n",
    "for t, xt in enumerate(x_opt):\n",
    "    with anim.at_frame(vis, t*h*300) as frame:\n",
    "        frame['ball'].set_transform(\n",
    "            tf.translation_matrix([0, xt[0], xt[1]+r])\n",
    "        )\n",
    "        frame['floor'].set_transform(\n",
    "            tf.translation_matrix([0, xt[3], xt[4]-tickness/2.])\n",
    "        )\n",
    "        frame['ceiling'].set_transform(\n",
    "            tf.translation_matrix([0, 0, d+tickness/2.])\n",
    "        )\n",
    "        frame['ball_orientation'].set_transform(\n",
    "            tf.translation_matrix([0, xt[0], xt[1]+r]).dot(\n",
    "                tf.rotation_matrix(xt[2], [1.,0.,0.])\n",
    "            )\n",
    "        )\n",
    "vis.set_animation(anim)"
   ]
  },
  {
   "cell_type": "code",
   "execution_count": null,
   "metadata": {},
   "outputs": [],
   "source": [
    "D2.contains(np.zeros(S0.nx+S0.nu))"
   ]
  },
  {
   "cell_type": "code",
   "execution_count": null,
   "metadata": {},
   "outputs": [],
   "source": [
    "x_opt[n]"
   ]
  },
  {
   "cell_type": "code",
   "execution_count": null,
   "metadata": {},
   "outputs": [],
   "source": [
    "gap_ceiling_zero_force"
   ]
  },
  {
   "cell_type": "code",
   "execution_count": null,
   "metadata": {},
   "outputs": [],
   "source": [
    "0.14670827 - 0.05*1.56583469 + 0.225"
   ]
  },
  {
   "cell_type": "code",
   "execution_count": null,
   "metadata": {},
   "outputs": [],
   "source": [
    "ms_opt"
   ]
  },
  {
   "cell_type": "code",
   "execution_count": null,
   "metadata": {
    "collapsed": true
   },
   "outputs": [],
   "source": []
  }
 ],
 "metadata": {
  "kernelspec": {
   "display_name": "Python 2",
   "language": "python",
   "name": "python2"
  },
  "language_info": {
   "codemirror_mode": {
    "name": "ipython",
    "version": 2
   },
   "file_extension": ".py",
   "mimetype": "text/x-python",
   "name": "python",
   "nbconvert_exporter": "python",
   "pygments_lexer": "ipython2",
   "version": "2.7.15"
  }
 },
 "nbformat": 4,
 "nbformat_minor": 2
}
