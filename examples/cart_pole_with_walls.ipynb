{
 "cells": [
  {
   "cell_type": "markdown",
   "metadata": {},
   "source": [
    "# Model Predictive Control of Hybrid Systems"
   ]
  },
  {
   "cell_type": "markdown",
   "metadata": {},
   "source": [
    "In this notebook we extend the example presented in $\\texttt{hybrid_mpc.ipynb}$ considering a more complex system: a cart-pole with two elastic walls."
   ]
  },
  {
   "cell_type": "markdown",
   "metadata": {},
   "source": [
    "## Demo"
   ]
  },
  {
   "cell_type": "code",
   "execution_count": 13,
   "metadata": {},
   "outputs": [
    {
     "name": "stdout",
     "output_type": "stream",
     "text": [
      "The autoreload extension is already loaded. To reload it, use:\n",
      "  %reload_ext autoreload\n"
     ]
    }
   ],
   "source": [
    "# notebook settings\n",
    "%load_ext autoreload\n",
    "%autoreload 2\n",
    "\n",
    "# external imports\n",
    "import numpy as np\n",
    "import matplotlib.pyplot as plt\n",
    "\n",
    "# internal imports\n",
    "from pympc.geometry.polyhedron import Polyhedron\n",
    "from pympc.dynamics.discrete_time_systems import LinearSystem, AffineSystem, PieceWiseAffineSystem\n",
    "from pympc.control.hybrid_benchmark.controller_branch_and_bound import HybridModelPredictiveController\n",
    "from pympc.plot import plot_input_sequence, plot_state_trajectory, plot_output_trajectory"
   ]
  },
  {
   "cell_type": "markdown",
   "metadata": {},
   "source": [
    "We stabilize a linearized cart-pole with: cart of mass $m_{\\mathrm{c}}$, pole of mass $m_{\\mathrm{p}}$, pole of length $l$, and subject to the gravity acceleration $g$; the pole is allowed to impact with two elastic walls with stiffness $k$ placed at distance $d$ from the origin"
   ]
  },
  {
   "cell_type": "code",
   "execution_count": 14,
   "metadata": {
    "collapsed": true
   },
   "outputs": [],
   "source": [
    "mc = 1.\n",
    "mp = 1.\n",
    "l = 1.\n",
    "d = 1.\n",
    "k = 100.\n",
    "g = 10.\n",
    "h = .05"
   ]
  },
  {
   "cell_type": "markdown",
   "metadata": {},
   "source": [
    "We express the linearized dynamics in PieceWise Affine (PWA) form\n",
    "\\begin{align}\n",
    "x(t+1) = A_i x(t) + B_i u(t) + c_i\n",
    "\\quad \\text{if} \\quad\n",
    "(x(t),u(t)) \\in \\mathcal D_i\n",
    ",\n",
    "\\quad i \\in \\{ 1, \\ldots, s\\}\n",
    "\\end{align}\n"
   ]
  },
  {
   "cell_type": "code",
   "execution_count": 15,
   "metadata": {
    "collapsed": true
   },
   "outputs": [],
   "source": [
    "# discretization method\n",
    "method = 'explicit_euler'\n",
    "\n",
    "# dynamics n.1 (in contact with left wall)\n",
    "A1 = np.array([\n",
    "    [0., 0., 1., 0.],\n",
    "    [0., 0., 0., 1.],\n",
    "    [0., (g*mp)/mc, 0., 0.],\n",
    "    [k/(l*mp), (g*mp**2 + g*mc*mp - k*l*mc)/(l*mc*mp), 0., 0.]\n",
    "    ])\n",
    "B1 = np.array([\n",
    "    [0.],\n",
    "    [0.],\n",
    "    [1./mc],\n",
    "    [1./(l*mc)]\n",
    "    ])\n",
    "c1 = np.array([\n",
    "    0.,\n",
    "    0.,\n",
    "    0.,\n",
    "    (d*k)/(l*mp)\n",
    "    ])\n",
    "S1 = AffineSystem.from_continuous(A1, B1, c1, h, method)\n",
    "\n",
    "# dynamics n.2 (between the two walls)\n",
    "A2 = np.array([\n",
    "    [0., 0., 1., 0.],\n",
    "    [0., 0., 0., 1.],\n",
    "    [0., (g*mp)/mc, 0., 0.],\n",
    "    [0., g*(mc+mp)/(l*mc), 0., 0.]\n",
    "    ])\n",
    "B2 = np.array([\n",
    "    [0.],\n",
    "    [0.],\n",
    "    [1./mc],\n",
    "    [1./(l*mc)]\n",
    "    ])\n",
    "S2 = LinearSystem.from_continuous(A2, B2, h, method)\n",
    "\n",
    "# dynamics n.3 (in contact with right wall)\n",
    "A3 = np.array([\n",
    "    [0., 0., 1., 0.],\n",
    "    [0., 0., 0., 1.],\n",
    "    [0., (g*mp)/mc, 0., 0.],\n",
    "    [k/(l*mp), (g*mp**2 + g*mc*mp - k*l*mc)/(l*mc*mp), 0., 0.]\n",
    "    ])\n",
    "B3 = np.array([\n",
    "    [0.],\n",
    "    [0.],\n",
    "    [1./mc],\n",
    "    [1./(l*mc)]\n",
    "    ])\n",
    "c3 = np.array([\n",
    "    0.,\n",
    "    0.,\n",
    "    0.,\n",
    "    -(d*k)/(l*mp)\n",
    "    ])\n",
    "S3 = AffineSystem.from_continuous(A3, B3, c3, h, method)\n",
    "\n",
    "# list of dynamics\n",
    "S_list = [S1, S2, S3]"
   ]
  },
  {
   "cell_type": "markdown",
   "metadata": {},
   "source": [
    "The domains of the PWA must be expressed as (bounded!) polyhedra"
   ]
  },
  {
   "cell_type": "code",
   "execution_count": 16,
   "metadata": {
    "collapsed": true
   },
   "outputs": [],
   "source": [
    "# state bounds\n",
    "x_max = np.array([1.5*d, np.pi/6., 7., 5.])\n",
    "x_min = -x_max\n",
    "\n",
    "# state domain n.1 (in contact with left wall)\n",
    "F1 = np.array([[1., -l, 0., 0.]])\n",
    "g1 = np.array([-d])\n",
    "X1 = Polyhedron.from_bounds(x_min, x_max)\n",
    "X1.add_inequality(F1, g1)\n",
    "assert X1.bounded\n",
    "\n",
    "# state domain n.2 (between the two walls)\n",
    "F2 = np.array([[-1., l, 0., 0.], [1., -l, 0., 0.]])\n",
    "g2 = np.array([d, d])\n",
    "X2 = Polyhedron.from_bounds(x_min, x_max)\n",
    "X2.add_inequality(F2, g2)\n",
    "assert X2.bounded\n",
    "\n",
    "# state domain n.3 (in contact with right wall)\n",
    "F3 = np.array([[-1., l, 0., 0.]])\n",
    "g3 = np.array([-d])\n",
    "X3 = Polyhedron.from_bounds(x_min, x_max)\n",
    "X3.add_inequality(F3, g3)\n",
    "assert X3.bounded\n",
    "\n",
    "# list of state domains\n",
    "X = [X1, X2, X3]\n",
    "\n",
    "# input domain\n",
    "u_max = np.array([20.])\n",
    "u_min = - u_max\n",
    "\n",
    "U = Polyhedron.from_bounds(u_min, u_max)\n",
    "\n",
    "# domains\n",
    "D1 = X1.cartesian_product(U)\n",
    "D2 = X2.cartesian_product(U)\n",
    "D3 = X3.cartesian_product(U)\n",
    "D_list = [D1, D2, D3]"
   ]
  },
  {
   "cell_type": "markdown",
   "metadata": {},
   "source": [
    "The overall PWA system can be defines as follows"
   ]
  },
  {
   "cell_type": "code",
   "execution_count": 17,
   "metadata": {
    "collapsed": true
   },
   "outputs": [],
   "source": [
    "S = PieceWiseAffineSystem(S_list, D_list)"
   ]
  },
  {
   "cell_type": "markdown",
   "metadata": {},
   "source": [
    "Now we have all the ingredients to build the MPC controller"
   ]
  },
  {
   "cell_type": "markdown",
   "metadata": {},
   "source": [
    "Q = np.eye(S.nx)*h\n",
    "R = np.eye(S.nu)*h\n",
    "\n",
    "P, K = S2.solve_dare(Q, R)\n",
    "X_N = S2.mcais(K, D2, verbose=True)"
   ]
  },
  {
   "cell_type": "code",
   "execution_count": 18,
   "metadata": {
    "collapsed": true
   },
   "outputs": [],
   "source": [
    "# controller parameters\n",
    "N = 50\n",
    "Q = 10.*np.eye(S.nx)*h\n",
    "R = .1*np.eye(S.nu)*h\n",
    "\n",
    "# hybrid controller\n",
    "controller = HybridModelPredictiveController(S, N, Q, R)"
   ]
  },
  {
   "cell_type": "markdown",
   "metadata": {},
   "source": [
    "We can now simulate the closed-loop dynamics starting from the initial state $x_0$."
   ]
  },
  {
   "cell_type": "code",
   "execution_count": 19,
   "metadata": {
    "collapsed": true
   },
   "outputs": [],
   "source": [
    "x0 = np.array([0., 0., 2.5, 0.])"
   ]
  },
  {
   "cell_type": "code",
   "execution_count": 20,
   "metadata": {},
   "outputs": [
    {
     "name": "stdout",
     "output_type": "stream",
     "text": [
      "Parameter OutputFlag unchanged\n",
      "   Value: 1  Min: 0  Max: 1  Default: 1\n",
      "Optimize a model with 2800 rows, 1754 columns and 7850 nonzeros\n",
      "Model has 250 quadratic objective terms\n",
      "Variable types: 1604 continuous, 150 integer (150 binary)\n",
      "Coefficient statistics:\n",
      "  Matrix range     [5e-02, 2e+01]\n",
      "  Objective range  [0e+00, 0e+00]\n",
      "  QObjective range [5e-03, 5e-01]\n",
      "  Bounds range     [1e+00, 2e+00]\n",
      "  RHS range        [1e+00, 1e+00]\n",
      "Presolve removed 891 rows and 699 columns\n",
      "Presolve time: 0.03s\n",
      "Presolved: 1909 rows, 1055 columns, 5838 nonzeros\n",
      "Presolved model has 244 quadratic objective terms\n",
      "Variable types: 921 continuous, 134 integer (134 binary)\n",
      "\n",
      "Root relaxation: objective 8.952833e+00, 2826 iterations, 0.08 seconds\n",
      "\n",
      "    Nodes    |    Current Node    |     Objective Bounds      |     Work\n",
      " Expl Unexpl |  Obj  Depth IntInf | Incumbent    BestBd   Gap | It/Node Time\n",
      "\n",
      "     0     0    8.95283    0  104          -    8.95283      -     -    0s\n",
      "     0     0    9.24745    0  105          -    9.24745      -     -    0s\n",
      "     0     2    9.24745    0  105          -    9.24745      -     -    1s\n",
      "*  122    52              74      59.8709022   41.32069  31.0%  42.0    1s\n",
      "\n",
      "Cutting planes:\n",
      "  Cover: 6\n",
      "  Implied bound: 8\n",
      "  Flow cover: 2\n",
      "\n",
      "Explored 247 nodes (10165 simplex iterations) in 2.16 seconds\n",
      "Thread count was 4 (of 4 available processors)\n",
      "\n",
      "Solution count 1: 59.8709 \n",
      "\n",
      "Optimal solution found (tolerance 1.00e-04)\n",
      "Best objective 5.987090223981e+01, best bound 5.987090223981e+01, gap 0.0000%\n"
     ]
    }
   ],
   "source": [
    "u, x, ms, cost = controller.feedforward_gurobi(x0)"
   ]
  },
  {
   "cell_type": "markdown",
   "metadata": {},
   "source": [
    "We can use the plot functions to visualize the time evolution of the system"
   ]
  },
  {
   "cell_type": "code",
   "execution_count": 21,
   "metadata": {},
   "outputs": [
    {
     "data": {
      "text/plain": [
       "59.87090223981489"
      ]
     },
     "execution_count": 21,
     "metadata": {},
     "output_type": "execute_result"
    }
   ],
   "source": [
    "cost"
   ]
  },
  {
   "cell_type": "code",
   "execution_count": 22,
   "metadata": {},
   "outputs": [
    {
     "data": {
      "image/png": "[encoded data removed]",
      "text/plain": [
       "<Figure size 432x288 with 1 Axes>"
      ]
     },
     "metadata": {},
     "output_type": "display_data"
    },
    {
     "data": {
      "image/png": "[encoded data removed]",
      "text/plain": [
       "<Figure size 432x288 with 1 Axes>"
      ]
     },
     "metadata": {},
     "output_type": "display_data"
    }
   ],
   "source": [
    "# input\n",
    "plot_input_sequence(u, h, (u_min, u_max))\n",
    "plt.show()\n",
    "\n",
    "# output (horizontal position of the tip of the pole)\n",
    "C = np.array([[1., -l, 0., 0.]])\n",
    "y_min = np.array([-d])\n",
    "y_max = np.array([d])\n",
    "plot_output_trajectory(C, x, h, (y_min, y_max))\n",
    "plt.show()"
   ]
  },
  {
   "cell_type": "markdown",
   "metadata": {},
   "source": [
    "# Solution with my branch and bound code"
   ]
  },
  {
   "cell_type": "code",
   "execution_count": 23,
   "metadata": {
    "collapsed": true
   },
   "outputs": [],
   "source": [
    "from pympc.control.hybrid_benchmark.branch_and_bound_with_warm_start import branch_and_bound, best_first, breadth_first, depth_first"
   ]
  },
  {
   "cell_type": "code",
   "execution_count": 26,
   "metadata": {},
   "outputs": [
    {
     "name": "stdout",
     "output_type": "stream",
     "text": [
      "|     Updates    |     Time (s)   |    Nodes (#)   |   Lower bound  |   Upper bound  |\n",
      " ---------------- ---------------- ---------------- ---------------- ----------------\n",
      "  Root node        0.023            1                4.507            inf             \n",
      "  New incumbent    4.122            248              59.871           69.125          \n",
      "  New incumbent    4.129            249              59.871           59.871          \n",
      "  Solution found   4.137            250              59.871           59.871          \n",
      "\n",
      "Explored 250 nodes in 4.137 seconds: optimal solution found with objective 59.871.\n"
     ]
    }
   ],
   "source": [
    "# solve with my branch and bound code\n",
    "u, x, ms, cost, ws = controller.feedforward(x0, tree_file_name='bb_tree_example')\n",
    "x1 = x[1]"
   ]
  },
  {
   "cell_type": "code",
   "execution_count": null,
   "metadata": {
    "collapsed": true
   },
   "outputs": [],
   "source": [
    "# double check the bounds\n",
    "for node in ws:\n",
    "    cost_node = controller.solve_relaxation(x1, node.identifier)[1]\n",
    "    if cost_node is not None:\n",
    "        assert cost_node > node.lower_bound"
   ]
  },
  {
   "cell_type": "code",
   "execution_count": null,
   "metadata": {
    "collapsed": true
   },
   "outputs": [],
   "source": [
    "# solve from scratch\n",
    "u, x, ms, cost, _ = controller.feedforward(x1, tree_file_name='t=1')"
   ]
  },
  {
   "cell_type": "markdown",
   "metadata": {},
   "source": [
    "x2 = x[1]\n",
    "controller.feedforward(x2, tree_file_name='t=2');"
   ]
  },
  {
   "cell_type": "code",
   "execution_count": 19,
   "metadata": {},
   "outputs": [
    {
     "name": "stdout",
     "output_type": "stream",
     "text": [
      "Warm start loaded with lower bound 57.308.\n",
      "|     Updates    |     Time (s)   |    Nodes (#)   |   Lower bound  |   Upper bound  |\n",
      " ---------------- ---------------- ---------------- ---------------- ----------------\n",
      "  Root node        0.018            1                57.375           inf             \n",
      "  New incumbent    0.025            2                57.375           66.249          \n",
      "  New incumbent    0.032            3                57.375           57.375          \n",
      "  Solution found   0.039            4                57.375           57.375          \n",
      "\n",
      "Explored 4 nodes in 0.040 seconds: optimal solution found with objective 57.375.\n"
     ]
    }
   ],
   "source": [
    "# with warm start\n",
    "cost = controller.feedforward(x1, warm_start=ws, tree_file_name='t=0, ws')[3]"
   ]
  },
  {
   "cell_type": "markdown",
   "metadata": {},
   "source": [
    "# Solve in closed loop"
   ]
  },
  {
   "cell_type": "code",
   "execution_count": null,
   "metadata": {
    "collapsed": true
   },
   "outputs": [],
   "source": [
    "N_sim = 100\n",
    "u_sim = []\n",
    "x_sim = [x0]\n",
    "ws = None\n",
    "for t in range(N_sim):\n",
    "    print('Time step ' + str(t) + '.\\r'),\n",
    "    u, x, ms, cost, ws = controller.feedforward(\n",
    "        x_sim[-1],\n",
    "        warm_start=ws,\n",
    "        printing_period=None,\n",
    "        tree_file_name=None,\n",
    "    )\n",
    "    u_sim.append(u[0])\n",
    "    x_sim.append(S.simulate(x_sim[-1],[u[0]])[0][1])"
   ]
  },
  {
   "cell_type": "code",
   "execution_count": null,
   "metadata": {
    "collapsed": true
   },
   "outputs": [],
   "source": [
    "plot_input_sequence(u_sim, h, (u_min, u_max))\n",
    "plt.show()\n",
    "plot_state_trajectory(x_sim, h, (x_min, x_max))\n",
    "plt.show()"
   ]
  },
  {
   "cell_type": "markdown",
   "metadata": {},
   "source": [
    "# Simulation with disturbance"
   ]
  },
  {
   "cell_type": "code",
   "execution_count": null,
   "metadata": {
    "collapsed": true
   },
   "outputs": [],
   "source": [
    "np.random.seed(1)\n",
    "w_max = 0.02"
   ]
  },
  {
   "cell_type": "code",
   "execution_count": null,
   "metadata": {
    "collapsed": true
   },
   "outputs": [],
   "source": [
    "x0 = np.array([0., 0., 0., 0.])\n",
    "N_sim = 100\n",
    "u_sim = []\n",
    "x_sim = [x0]\n",
    "w_sim = []\n",
    "ws = None\n",
    "for t in range(N_sim):\n",
    "    print('Time step ' + str(t) + '.\\r'),\n",
    "    u, x, ms, cost, ws = controller.feedforward(\n",
    "        x_sim[-1],\n",
    "        warm_start=ws,\n",
    "        printing_period=None,\n",
    "        tree_file_name=None,\n",
    "    )\n",
    "    w_sim.append(w_max * np.random.randn(S.nx))\n",
    "    u_sim.append(u[0])\n",
    "    x_next = S.simulate(x_sim[-1],[u[0]])[0][1] + w_sim[-1]\n",
    "    x_sim.append(x_next)"
   ]
  },
  {
   "cell_type": "code",
   "execution_count": null,
   "metadata": {
    "collapsed": true
   },
   "outputs": [],
   "source": [
    "plot_input_sequence(w_sim, h, (-w_max*np.ones(S.nx), w_max*np.ones(S.nx)))\n",
    "plt.show()\n",
    "plot_input_sequence(u_sim, h, (u_min, u_max))\n",
    "plt.show()\n",
    "plot_state_trajectory(x_sim, h, (x_min, x_max))\n",
    "plt.show()"
   ]
  },
  {
   "cell_type": "markdown",
   "metadata": {},
   "source": [
    "## Animate results with MeshCat"
   ]
  },
  {
   "cell_type": "markdown",
   "metadata": {},
   "source": [
    "Now we animate the closed-loop trajectory of the cart-pole with MeshCat (see https://github.com/rdeits/meshcat-python)"
   ]
  },
  {
   "cell_type": "code",
   "execution_count": 11,
   "metadata": {
    "collapsed": true
   },
   "outputs": [],
   "source": [
    "import time\n",
    "import meshcat\n",
    "import meshcat.geometry as g\n",
    "import meshcat.transformations as tf"
   ]
  },
  {
   "cell_type": "markdown",
   "metadata": {},
   "source": [
    "Create a new visualizer"
   ]
  },
  {
   "cell_type": "code",
   "execution_count": 12,
   "metadata": {},
   "outputs": [
    {
     "name": "stdout",
     "output_type": "stream",
     "text": [
      "You can open the visualizer by visiting the following URL:\n",
      "http://127.0.0.1:7000/static/\n"
     ]
    }
   ],
   "source": [
    "vis = meshcat.Visualizer()"
   ]
  },
  {
   "cell_type": "markdown",
   "metadata": {},
   "source": [
    "Create the cart-pole"
   ]
  },
  {
   "cell_type": "code",
   "execution_count": 13,
   "metadata": {
    "collapsed": true
   },
   "outputs": [],
   "source": [
    "# cart-pole\n",
    "cart_pole = vis[\"cart_pole\"]\n",
    "\n",
    "# cart\n",
    "cart = cart_pole[\"cart\"]\n",
    "cart.set_object(g.Box([.3*l, .3*l, .3*l]), g.MeshLambertMaterial(color=0xff2222))\n",
    "\n",
    "# pivot\n",
    "pivot = cart[\"pivot\"]\n",
    "pivot.set_transform(tf.rotation_matrix(np.pi/2, [1, 0., 0.]))\n",
    "\n",
    "# pole\n",
    "pole = pivot[\"pole\"]\n",
    "pole.set_object(g.Box([.05*l, l, .05*l]), g.MeshLambertMaterial(color=0x2222ff))\n",
    "pole.set_transform(tf.translation_matrix([0., .5, 0.]))\n",
    "\n",
    "# left wall\n",
    "left_wall = vis[\"left_wall\"]\n",
    "left_wall.set_object(g.Box([l, .05*l, l]), g.MeshLambertMaterial(color=0x22ff22))\n",
    "left_wall.set_transform(tf.translation_matrix([0., -d, l]))\n",
    "\n",
    "# right wall\n",
    "right_wall = vis[\"right_wall\"]\n",
    "right_wall.set_object(g.Box([l, .05*l, l]), g.MeshLambertMaterial(color=0x22ff22))\n",
    "right_wall.set_transform(tf.translation_matrix([0., d, l]))"
   ]
  },
  {
   "cell_type": "markdown",
   "metadata": {},
   "source": [
    "Animate the results"
   ]
  },
  {
   "cell_type": "code",
   "execution_count": 14,
   "metadata": {},
   "outputs": [
    {
     "data": {
      "text/html": [
       "\n",
       "<div style=\"height: 400px; width: 600px; overflow-x: auto; overflow-y: hidden; resize: both\">\n",
       "<iframe src=\"http://127.0.0.1:7000/static/\" style=\"width: 100%; height: 100%; border: none\"></iframe>\n",
       "</div>\n"
      ],
      "text/plain": [
       "<IPython.core.display.HTML object>"
      ]
     },
     "execution_count": 14,
     "metadata": {},
     "output_type": "execute_result"
    }
   ],
   "source": [
    "# visualization function\n",
    "def visualize_cart_pole(x):\n",
    "    cart.set_transform(tf.translation_matrix([0, x[0], 0]))\n",
    "    pivot.set_transform(tf.rotation_matrix(x[1] + np.pi/2, [1, 0, 0]))\n",
    "vis.jupyter_cell()"
   ]
  },
  {
   "cell_type": "code",
   "execution_count": 16,
   "metadata": {
    "collapsed": true
   },
   "outputs": [],
   "source": [
    "# animation\n",
    "for t in range(N):\n",
    "    visualize_cart_pole(x[t])\n",
    "    time.sleep(h)"
   ]
  },
  {
   "cell_type": "code",
   "execution_count": null,
   "metadata": {
    "collapsed": true
   },
   "outputs": [],
   "source": []
  }
 ],
 "metadata": {
  "kernelspec": {
   "display_name": "Python 2",
   "language": "python",
   "name": "python2"
  },
  "language_info": {
   "codemirror_mode": {
    "name": "ipython",
    "version": 2
   },
   "file_extension": ".py",
   "mimetype": "text/x-python",
   "name": "python",
   "nbconvert_exporter": "python",
   "pygments_lexer": "ipython2",
   "version": "2.7.15"
  }
 },
 "nbformat": 4,
 "nbformat_minor": 2
}
